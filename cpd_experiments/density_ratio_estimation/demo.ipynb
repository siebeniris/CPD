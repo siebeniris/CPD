{
 "cells": [
  {
   "cell_type": "code",
   "execution_count": 211,
   "metadata": {},
   "outputs": [
    {
     "name": "stdout",
     "output_type": "stream",
     "text": [
      "The autoreload extension is already loaded. To reload it, use:\n",
      "  %reload_ext autoreload\n"
     ]
    }
   ],
   "source": [
    "%load_ext autoreload\n",
    "%autoreload 2\n"
   ]
  },
  {
   "cell_type": "code",
   "execution_count": 2,
   "metadata": {},
   "outputs": [],
   "source": [
    "import numpy as np\n",
    "import pandas as pd\n",
    "import os\n",
    "import rootpath"
   ]
  },
  {
   "cell_type": "code",
   "execution_count": 3,
   "metadata": {},
   "outputs": [],
   "source": [
    "def get_cpd_df(file, aspect):\n",
    "    \"\"\"\n",
    "    Get the dataframe for change point detection algorithm.\n",
    "    :param file: file from \"cpd_aspects\"\n",
    "    :param aspect: aspect from topics.\n",
    "    :return: dataframe.\n",
    "    \"\"\"\n",
    "    df = pd.read_csv(file)\n",
    "    df.drop_duplicates(['sentence'], keep='first', inplace=True)  # drop duplicates based on sentence\n",
    "    df = df.sort_values('date')\n",
    "\n",
    "    df_new = df[df[aspect] == True]\n",
    "    # df_new = df_new[df_new[\"renovation\"] == True]\n",
    "\n",
    "    print('length of df :', len(df))\n",
    "    print('length of df_new', len(df_new))\n",
    "    cpd_df = df_new.groupby(['date', 'uid'])['sentiment'].mean().reset_index()\n",
    "    cpd_df = cpd_df.groupby('date')['sentiment'].mean().reset_index()\n",
    "\n",
    "    print(cpd_df.head(3))\n",
    "\n",
    "    # print(\"lenght of cpd_df:\", len(cpd_df))\n",
    "    return cpd_df, df_new"
   ]
  },
  {
   "cell_type": "code",
   "execution_count": 135,
   "metadata": {},
   "outputs": [
    {
     "name": "stdout",
     "output_type": "stream",
     "text": [
      "/home/yiyi/Documents/masterarbeit/CPD/data/cpd_aspects/164#41af2a52-407d-4c39-863f-57c6b3791920\n",
      "length of df : 29132\n",
      "length of df_new 3247\n",
      "         date  sentiment\n",
      "0  2015-01-01   0.489041\n",
      "1  2015-01-02   0.401239\n",
      "2  2015-01-03  -0.073607\n"
     ]
    }
   ],
   "source": [
    "root_dir = rootpath.detect()\n",
    "\n",
    "test_file = 'data/cpd_aspects/164#41af2a52-407d-4c39-863f-57c6b3791920'\n",
    "testpath = os.path.join(root_dir, test_file)\n",
    "print(testpath)\n",
    "\n",
    "cpd_df , _ = get_cpd_df(testpath, \"room\")"
   ]
  },
  {
   "cell_type": "code",
   "execution_count": 136,
   "metadata": {},
   "outputs": [
    {
     "data": {
      "text/html": [
       "<div>\n",
       "<style scoped>\n",
       "    .dataframe tbody tr th:only-of-type {\n",
       "        vertical-align: middle;\n",
       "    }\n",
       "\n",
       "    .dataframe tbody tr th {\n",
       "        vertical-align: top;\n",
       "    }\n",
       "\n",
       "    .dataframe thead th {\n",
       "        text-align: right;\n",
       "    }\n",
       "</style>\n",
       "<table border=\"1\" class=\"dataframe\">\n",
       "  <thead>\n",
       "    <tr style=\"text-align: right;\">\n",
       "      <th></th>\n",
       "      <th>date</th>\n",
       "      <th>sentiment</th>\n",
       "    </tr>\n",
       "  </thead>\n",
       "  <tbody>\n",
       "    <tr>\n",
       "      <th>0</th>\n",
       "      <td>2015-01-01</td>\n",
       "      <td>0.489041</td>\n",
       "    </tr>\n",
       "    <tr>\n",
       "      <th>1</th>\n",
       "      <td>2015-01-02</td>\n",
       "      <td>0.401239</td>\n",
       "    </tr>\n",
       "  </tbody>\n",
       "</table>\n",
       "</div>"
      ],
      "text/plain": [
       "         date  sentiment\n",
       "0  2015-01-01   0.489041\n",
       "1  2015-01-02   0.401239"
      ]
     },
     "execution_count": 136,
     "metadata": {},
     "output_type": "execute_result"
    }
   ],
   "source": [
    "cpd_df.head(2)"
   ]
  },
  {
   "cell_type": "markdown",
   "metadata": {},
   "source": [
    "# ewm"
   ]
  },
  {
   "cell_type": "code",
   "execution_count": 199,
   "metadata": {},
   "outputs": [],
   "source": [
    "cpd_df['ewm'] = cpd_df['sentiment'].ewm(span=100).mean()"
   ]
  },
  {
   "cell_type": "code",
   "execution_count": 200,
   "metadata": {},
   "outputs": [
    {
     "data": {
      "text/plain": [
       "0       0.489041\n",
       "1       0.444701\n",
       "2       0.268465\n",
       "3       0.199732\n",
       "4       0.219488\n",
       "          ...   \n",
       "1168   -0.031252\n",
       "1169   -0.031153\n",
       "1170   -0.020649\n",
       "1171   -0.029924\n",
       "1172   -0.033550\n",
       "Name: ewm, Length: 1173, dtype: float64"
      ]
     },
     "execution_count": 200,
     "metadata": {},
     "output_type": "execute_result"
    }
   ],
   "source": [
    "cpd_df['ewm']"
   ]
  },
  {
   "cell_type": "code",
   "execution_count": 201,
   "metadata": {},
   "outputs": [],
   "source": [
    "cpd_df['diff']= cpd_df['ewm']- cpd_df['sentiment']"
   ]
  },
  {
   "cell_type": "code",
   "execution_count": 202,
   "metadata": {},
   "outputs": [
    {
     "data": {
      "text/plain": [
       "[<matplotlib.lines.Line2D at 0x7f1ce226eed0>]"
      ]
     },
     "execution_count": 202,
     "metadata": {},
     "output_type": "execute_result"
    },
    {
     "data": {
      "image/png": "[encoded data removed]",
      "text/plain": [
       "<Figure size 432x288 with 1 Axes>"
      ]
     },
     "metadata": {
      "needs_background": "light"
     },
     "output_type": "display_data"
    }
   ],
   "source": [
    "plt.plot(cpd_df['diff'])"
   ]
  },
  {
   "cell_type": "code",
   "execution_count": 204,
   "metadata": {},
   "outputs": [
    {
     "data": {
      "text/plain": [
       "array([ 31, 302, 403, 696, 826, 960])"
      ]
     },
     "execution_count": 204,
     "metadata": {},
     "output_type": "execute_result"
    }
   ],
   "source": [
    "peak_indexes = peakutils.indexes(cpd_df['diff'], thres=0.9, min_dist=100)\n",
    "peak_indexes"
   ]
  },
  {
   "cell_type": "markdown",
   "metadata": {},
   "source": [
    "#  RULSIFITTING"
   ]
  },
  {
   "cell_type": "code",
   "execution_count": 212,
   "metadata": {},
   "outputs": [
    {
     "data": {
      "text/plain": [
       "[<matplotlib.lines.Line2D at 0x7f1ce231e150>]"
      ]
     },
     "execution_count": 212,
     "metadata": {},
     "output_type": "execute_result"
    },
    {
     "data": {
      "image/png": "[encoded data removed]",
      "text/plain": [
       "<Figure size 432x288 with 1 Axes>"
      ]
     },
     "metadata": {
      "needs_background": "light"
     },
     "output_type": "display_data"
    }
   ],
   "source": [
    "detector = DRChangeRateEstimator(sliding_window=3,\n",
    "                                                               pside_len=50,\n",
    "                                                               cside_len=50,\n",
    "                                                               mergin=-1,\n",
    "                                                               trow_offset=0,\n",
    "                                                               tcol_offset=0)\n",
    "detector.build(estimation_method=\"RuLSIFitting\",\n",
    "                          options=detector.RuLSIF_OPTION)\n",
    "\n",
    "change_rates = detector.transform(cpd_df['diff'])\n",
    "change_rates = np.nan_to_num(change_rates)\n",
    "plt.plot(change_rates)"
   ]
  },
  {
   "cell_type": "code",
   "execution_count": 213,
   "metadata": {},
   "outputs": [
    {
     "data": {
      "text/plain": [
       "<Figure size 432x288 with 0 Axes>"
      ]
     },
     "metadata": {},
     "output_type": "display_data"
    }
   ],
   "source": [
    "plt.savefig('rulsifitting.png')"
   ]
  },
  {
   "cell_type": "code",
   "execution_count": 215,
   "metadata": {},
   "outputs": [
    {
     "data": {
      "text/plain": [
       "array([ 79, 295, 499, 698, 960])"
      ]
     },
     "execution_count": 215,
     "metadata": {},
     "output_type": "execute_result"
    }
   ],
   "source": [
    "peak_indexes = peakutils.indexes(change_rates, thres=0.1, min_dist=150)\n",
    "peak_indexes"
   ]
  },
  {
   "cell_type": "code",
   "execution_count": null,
   "metadata": {},
   "outputs": [],
   "source": []
  },
  {
   "cell_type": "code",
   "execution_count": 139,
   "metadata": {},
   "outputs": [],
   "source": [
    "data_x = cpd_df.sentiment"
   ]
  },
  {
   "cell_type": "code",
   "execution_count": 140,
   "metadata": {},
   "outputs": [
    {
     "data": {
      "text/plain": [
       "[<matplotlib.lines.Line2D at 0x7f1ce24c2ed0>]"
      ]
     },
     "execution_count": 140,
     "metadata": {},
     "output_type": "execute_result"
    },
    {
     "data": {
      "image/png": "[encoded data removed]",
      "text/plain": [
       "<Figure size 432x288 with 1 Axes>"
      ]
     },
     "metadata": {
      "needs_background": "light"
     },
     "output_type": "display_data"
    }
   ],
   "source": [
    "plt.plot(data_x)"
   ]
  },
  {
   "cell_type": "code",
   "execution_count": 141,
   "metadata": {},
   "outputs": [],
   "source": [
    "import numpy as np\n",
    "from change_point_detector.density_ratio_estimator import DRChangeRateEstimator\n",
    "from change_point_detector.test_dataset import TestDataSet\n",
    "import matplotlib.pyplot as plt\n",
    "%matplotlib inline"
   ]
  },
  {
   "cell_type": "code",
   "execution_count": 192,
   "metadata": {},
   "outputs": [],
   "source": [
    "detector = DRChangeRateEstimator(sliding_window=20,\n",
    "                                                               pside_len=50,\n",
    "                                                               cside_len=50,\n",
    "                                                               mergin=-1,\n",
    "                                                               trow_offset=0,\n",
    "                                                               tcol_offset=0)\n",
    "detector.build(estimation_method=\"RuLSIFitting\",\n",
    "                          options=detector.RuLSIF_OPTION)"
   ]
  },
  {
   "cell_type": "code",
   "execution_count": 193,
   "metadata": {},
   "outputs": [],
   "source": [
    "change_rates = detector.transform(data_x)"
   ]
  },
  {
   "cell_type": "code",
   "execution_count": 194,
   "metadata": {},
   "outputs": [],
   "source": [
    "change_rates = np.nan_to_num(change_rates)"
   ]
  },
  {
   "cell_type": "code",
   "execution_count": 195,
   "metadata": {},
   "outputs": [
    {
     "data": {
      "text/plain": [
       "[<matplotlib.lines.Line2D at 0x7f1ce239f850>]"
      ]
     },
     "execution_count": 195,
     "metadata": {},
     "output_type": "execute_result"
    },
    {
     "data": {
      "image/png": "[encoded data removed]",
      "text/plain": [
       "<Figure size 432x288 with 1 Axes>"
      ]
     },
     "metadata": {
      "needs_background": "light"
     },
     "output_type": "display_data"
    }
   ],
   "source": [
    "plt.plot(change_rates)"
   ]
  },
  {
   "cell_type": "code",
   "execution_count": 196,
   "metadata": {},
   "outputs": [],
   "source": [
    "# peak_search\n",
    "import peakutils\n",
    "peak_indexes = peakutils.indexes(change_rates, thres=0.3, min_dist=100)"
   ]
  },
  {
   "cell_type": "code",
   "execution_count": 197,
   "metadata": {},
   "outputs": [
    {
     "data": {
      "text/plain": [
       "array([290, 403, 848, 956])"
      ]
     },
     "execution_count": 197,
     "metadata": {},
     "output_type": "execute_result"
    }
   ],
   "source": [
    "peak_indexes"
   ]
  },
  {
   "cell_type": "markdown",
   "metadata": {},
   "source": [
    "# VON MISER FISHER MEAN "
   ]
  },
  {
   "cell_type": "code",
   "execution_count": 184,
   "metadata": {},
   "outputs": [],
   "source": [
    "detector_mfm = DRChangeRateEstimator(sliding_window=5,\n",
    "                                 pside_len=5,\n",
    "                                 cside_len=5,\n",
    "                                 mergin=-2,\n",
    "                                 trow_offset=3,\n",
    "                                 tcol_offset=3)\n",
    "detector_mfm.build(estimation_method=\"von_mises_fisher\",\n",
    "               options=detector.MEAN_OPTION)\n",
    "change_rates_mfm = detector.transform(data_x)"
   ]
  },
  {
   "cell_type": "code",
   "execution_count": 185,
   "metadata": {},
   "outputs": [
    {
     "data": {
      "text/plain": [
       "[<matplotlib.lines.Line2D at 0x7f1ce23a5210>]"
      ]
     },
     "execution_count": 185,
     "metadata": {},
     "output_type": "execute_result"
    },
    {
     "data": {
      "image/png": "[encoded data removed]",
      "text/plain": [
       "<Figure size 432x288 with 1 Axes>"
      ]
     },
     "metadata": {
      "needs_background": "light"
     },
     "output_type": "display_data"
    }
   ],
   "source": [
    "change_rates_mfm = np.nan_to_num(change_rates_mfm)\n",
    "plt.plot(change_rates_mfm)"
   ]
  },
  {
   "cell_type": "code",
   "execution_count": 190,
   "metadata": {},
   "outputs": [],
   "source": [
    "peak_indexes = peakutils.indexes(change_rates_mfm, thres=0.1, min_dist=100)"
   ]
  },
  {
   "cell_type": "code",
   "execution_count": 191,
   "metadata": {},
   "outputs": [
    {
     "data": {
      "text/plain": [
       "array([  33,  195,  386,  874, 1047])"
      ]
     },
     "execution_count": 191,
     "metadata": {},
     "output_type": "execute_result"
    }
   ],
   "source": [
    "peak_indexes"
   ]
  },
  {
   "cell_type": "markdown",
   "metadata": {},
   "source": [
    "# VON MISER FISHER SVD"
   ]
  },
  {
   "cell_type": "code",
   "execution_count": 169,
   "metadata": {},
   "outputs": [],
   "source": [
    "detector = DRChangeRateEstimator(sliding_window=50,\n",
    "                                 pside_len=5,\n",
    "                                 cside_len=5,\n",
    "                                 mergin=-2,\n",
    "                                 trow_offset=3,\n",
    "                                 tcol_offset=3)\n",
    "detector.build(estimation_method=\"von_mises_fisher\",\n",
    "               options=detector.SVD_OPTION)\n",
    "change_rates = detector.transform(data_x)"
   ]
  },
  {
   "cell_type": "code",
   "execution_count": 170,
   "metadata": {},
   "outputs": [],
   "source": [
    "change_rates= np.nan_to_num(change_rates)"
   ]
  },
  {
   "cell_type": "code",
   "execution_count": 171,
   "metadata": {},
   "outputs": [
    {
     "data": {
      "text/plain": [
       "[<matplotlib.lines.Line2D at 0x7f1ceb6a4fd0>]"
      ]
     },
     "execution_count": 171,
     "metadata": {},
     "output_type": "execute_result"
    },
    {
     "data": {
      "image/png": "[encoded data removed]",
      "text/plain": [
       "<Figure size 432x288 with 1 Axes>"
      ]
     },
     "metadata": {
      "needs_background": "light"
     },
     "output_type": "display_data"
    }
   ],
   "source": [
    "plt.plot(change_rates)"
   ]
  },
  {
   "cell_type": "code",
   "execution_count": 182,
   "metadata": {},
   "outputs": [],
   "source": [
    "peak_indexes = peakutils.indexes(change_rates, thres=0.1, min_dist=100)"
   ]
  },
  {
   "cell_type": "code",
   "execution_count": 183,
   "metadata": {},
   "outputs": [
    {
     "data": {
      "text/plain": [
       "array([  33,  195,  386,  874, 1047])"
      ]
     },
     "execution_count": 183,
     "metadata": {},
     "output_type": "execute_result"
    }
   ],
   "source": [
    "peak_indexes"
   ]
  }
 ],
 "metadata": {
  "kernelspec": {
   "display_name": "cpd",
   "language": "python",
   "name": "cdp"
  },
  "language_info": {
   "codemirror_mode": {
    "name": "ipython",
    "version": 3
   },
   "file_extension": ".py",
   "mimetype": "text/x-python",
   "name": "python",
   "nbconvert_exporter": "python",
   "pygments_lexer": "ipython3",
   "version": "3.7.6"
  }
 },
 "nbformat": 4,
 "nbformat_minor": 4
}
