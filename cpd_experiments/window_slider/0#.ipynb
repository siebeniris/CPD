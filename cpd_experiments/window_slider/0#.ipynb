{
 "cells": [
  {
   "cell_type": "code",
   "execution_count": 29,
   "metadata": {},
   "outputs": [],
   "source": [
    "import pandas as pd\n",
    "import numpy as np\n",
    "import os\n",
    "\n",
    "from utils import *\n",
    "from joblib import Parallel, delayed\n"
   ]
  },
  {
   "cell_type": "code",
   "execution_count": null,
   "metadata": {},
   "outputs": [],
   "source": [
    "'/home/yiyi/Documents/masterthesis/CPD/data/cleand_query_output_csv/0#f116f785-8626-48f3-a390-c0c4a03b5bd6'"
   ]
  },
  {
   "cell_type": "code",
   "execution_count": 17,
   "metadata": {},
   "outputs": [],
   "source": [
    "filepath ='/home/yiyi/Documents/masterthesis/CPD/data/sentiment_analysis/results/0#f116f785-8626-48f3-a390-c0c4a03b5bd6'"
   ]
  },
  {
   "cell_type": "code",
   "execution_count": 19,
   "metadata": {},
   "outputs": [],
   "source": [
    "df = pd.read_csv(filepath)"
   ]
  },
  {
   "cell_type": "code",
   "execution_count": 20,
   "metadata": {},
   "outputs": [
    {
     "data": {
      "text/html": [
       "<div>\n",
       "<style scoped>\n",
       "    .dataframe tbody tr th:only-of-type {\n",
       "        vertical-align: middle;\n",
       "    }\n",
       "\n",
       "    .dataframe tbody tr th {\n",
       "        vertical-align: top;\n",
       "    }\n",
       "\n",
       "    .dataframe thead th {\n",
       "        text-align: right;\n",
       "    }\n",
       "</style>\n",
       "<table border=\"1\" class=\"dataframe\">\n",
       "  <thead>\n",
       "    <tr style=\"text-align: right;\">\n",
       "      <th></th>\n",
       "      <th>uid</th>\n",
       "      <th>lemma</th>\n",
       "      <th>sentence</th>\n",
       "      <th>sentiment</th>\n",
       "      <th>date</th>\n",
       "      <th>score</th>\n",
       "    </tr>\n",
       "  </thead>\n",
       "  <tbody>\n",
       "    <tr>\n",
       "      <th>41574</th>\n",
       "      <td>42ceed2e-c90f-41a0-9832-6c296f4514a8</td>\n",
       "      <td>arrived check pm room available</td>\n",
       "      <td>we arrived for check in at pm and there was no...</td>\n",
       "      <td>-0.46696650981903076</td>\n",
       "      <td>2020-01-03 00:00:00</td>\n",
       "      <td>62.0</td>\n",
       "    </tr>\n",
       "    <tr>\n",
       "      <th>41575</th>\n",
       "      <td>42ceed2e-c90f-41a0-9832-6c296f4514a8</td>\n",
       "      <td>waited till pm room</td>\n",
       "      <td>we have waited till pm and there was no room</td>\n",
       "      <td>-0.43732625246047974</td>\n",
       "      <td>2020-01-03 00:00:00</td>\n",
       "      <td>62.0</td>\n",
       "    </tr>\n",
       "    <tr>\n",
       "      <th>41576</th>\n",
       "      <td>42ceed2e-c90f-41a0-9832-6c296f4514a8</td>\n",
       "      <td>traveled baby long wait provided room</td>\n",
       "      <td>i traveled with babies and after a long wait t...</td>\n",
       "      <td>-0.3723573088645935</td>\n",
       "      <td>2020-01-03 00:00:00</td>\n",
       "      <td>62.0</td>\n",
       "    </tr>\n",
       "    <tr>\n",
       "      <th>41577</th>\n",
       "      <td>42ceed2e-c90f-41a0-9832-6c296f4514a8</td>\n",
       "      <td>breakfast ok really crowded employee friendly</td>\n",
       "      <td>the breakfast is ok but really crowded the emp...</td>\n",
       "      <td>-0.4968535006046295</td>\n",
       "      <td>2020-01-03 00:00:00</td>\n",
       "      <td>62.0</td>\n",
       "    </tr>\n",
       "    <tr>\n",
       "      <th>41578</th>\n",
       "      <td>42ceed2e-c90f-41a0-9832-6c296f4514a8</td>\n",
       "      <td>good location</td>\n",
       "      <td>good location</td>\n",
       "      <td>0.49850887060165405</td>\n",
       "      <td>2020-01-03 00:00:00</td>\n",
       "      <td>62.0</td>\n",
       "    </tr>\n",
       "  </tbody>\n",
       "</table>\n",
       "</div>"
      ],
      "text/plain": [
       "                                        uid  \\\n",
       "41574  42ceed2e-c90f-41a0-9832-6c296f4514a8   \n",
       "41575  42ceed2e-c90f-41a0-9832-6c296f4514a8   \n",
       "41576  42ceed2e-c90f-41a0-9832-6c296f4514a8   \n",
       "41577  42ceed2e-c90f-41a0-9832-6c296f4514a8   \n",
       "41578  42ceed2e-c90f-41a0-9832-6c296f4514a8   \n",
       "\n",
       "                                               lemma  \\\n",
       "41574                arrived check pm room available   \n",
       "41575                            waited till pm room   \n",
       "41576          traveled baby long wait provided room   \n",
       "41577  breakfast ok really crowded employee friendly   \n",
       "41578                                  good location   \n",
       "\n",
       "                                                sentence  \\\n",
       "41574  we arrived for check in at pm and there was no...   \n",
       "41575       we have waited till pm and there was no room   \n",
       "41576  i traveled with babies and after a long wait t...   \n",
       "41577  the breakfast is ok but really crowded the emp...   \n",
       "41578                                      good location   \n",
       "\n",
       "                  sentiment                 date  score  \n",
       "41574  -0.46696650981903076  2020-01-03 00:00:00   62.0  \n",
       "41575  -0.43732625246047974  2020-01-03 00:00:00   62.0  \n",
       "41576   -0.3723573088645935  2020-01-03 00:00:00   62.0  \n",
       "41577   -0.4968535006046295  2020-01-03 00:00:00   62.0  \n",
       "41578   0.49850887060165405  2020-01-03 00:00:00   62.0  "
      ]
     },
     "execution_count": 20,
     "metadata": {},
     "output_type": "execute_result"
    }
   ],
   "source": [
    "df.tail()"
   ]
  },
  {
   "cell_type": "code",
   "execution_count": 21,
   "metadata": {},
   "outputs": [],
   "source": [
    "df['date'] = df['date'].apply(lambda x : pd.to_datetime(x, errors='coerce')).dropna()"
   ]
  },
  {
   "cell_type": "code",
   "execution_count": 23,
   "metadata": {},
   "outputs": [],
   "source": [
    "df['sentiment'] = df['sentiment'].apply(lambda x : pd.to_numeric(x, errors='coerce')).dropna()"
   ]
  },
  {
   "cell_type": "code",
   "execution_count": 24,
   "metadata": {},
   "outputs": [],
   "source": [
    "df.loc[df['sentiment']>=0.35, 'polarity'] = 1\n",
    "df.loc[df['sentiment']<= -0.35, 'polarity'] = -1\n",
    "df.loc[(df['sentiment']> -0.35) &(df['sentiment']<0.35), 'polarity'] = 0"
   ]
  },
  {
   "cell_type": "code",
   "execution_count": 25,
   "metadata": {},
   "outputs": [
    {
     "data": {
      "text/plain": [
       "41579"
      ]
     },
     "execution_count": 25,
     "metadata": {},
     "output_type": "execute_result"
    }
   ],
   "source": [
    "len(df)"
   ]
  },
  {
   "cell_type": "code",
   "execution_count": 27,
   "metadata": {},
   "outputs": [],
   "source": [
    "reno_keywords =['revamp', 'overhaul', 'remodel', 'update', 'redone', 'redo',\n",
    "                'remodel', 'renovation', \n",
    "                'renovate', 'redecorate', \n",
    "                'refurbish', 'repair', 'refit', 'recondition',\n",
    "                'renew', 'renewal', 'reform' ]"
   ]
  },
  {
   "cell_type": "code",
   "execution_count": 30,
   "metadata": {},
   "outputs": [],
   "source": [
    "lemmas = Parallel(n_jobs=-1)(delayed(lemmatize_sent)(sent) for sent in df.sentence.to_list())\n",
    "df['lemma'] = lemmas\n",
    "df['renovation'] = df.apply(lambda x: sum([y in x.lemma for y in reno_keywords]) > 0, axis=1)"
   ]
  },
  {
   "cell_type": "code",
   "execution_count": 31,
   "metadata": {},
   "outputs": [],
   "source": [
    "df.to_csv('/home/yiyi/Documents/masterthesis/CPD/data/rolling_window/renovation/0#f116f785-8626-48f3-a390-c0c4a03b5bd6')"
   ]
  },
  {
   "cell_type": "code",
   "execution_count": 19,
   "metadata": {},
   "outputs": [
    {
     "data": {
      "text/plain": [
       "0       2008-05-01\n",
       "1       2008-05-01\n",
       "2       2008-05-01\n",
       "3       2008-05-01\n",
       "4       2008-05-01\n",
       "           ...    \n",
       "41574   2020-01-03\n",
       "41575   2020-01-03\n",
       "41576   2020-01-03\n",
       "41577   2020-01-03\n",
       "41578   2020-01-03\n",
       "Name: date, Length: 41579, dtype: datetime64[ns]"
      ]
     },
     "execution_count": 19,
     "metadata": {},
     "output_type": "execute_result"
    }
   ],
   "source": [
    "df['date']"
   ]
  }
 ],
 "metadata": {
  "kernelspec": {
   "display_name": "cpd\n",
   "language": "python",
   "name": "cpd"
  },
  "language_info": {
   "codemirror_mode": {
    "name": "ipython",
    "version": 3
   },
   "file_extension": ".py",
   "mimetype": "text/x-python",
   "name": "python",
   "nbconvert_exporter": "python",
   "pygments_lexer": "ipython3",
   "version": "3.7.6"
  }
 },
 "nbformat": 4,
 "nbformat_minor": 4
}
