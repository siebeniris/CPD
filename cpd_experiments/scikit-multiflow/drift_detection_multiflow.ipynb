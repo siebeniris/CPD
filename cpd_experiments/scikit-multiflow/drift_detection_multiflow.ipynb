{
 "cells": [
  {
   "cell_type": "code",
   "execution_count": 1,
   "metadata": {},
   "outputs": [],
   "source": [
    "import numpy as np\n",
    "import pandas as pd\n",
    "from skmultiflow.drift_detection.hddm_a import HDDM_A"
   ]
  },
  {
   "cell_type": "code",
   "execution_count": 2,
   "metadata": {},
   "outputs": [],
   "source": [
    "import itertools"
   ]
  },
  {
   "cell_type": "code",
   "execution_count": 15,
   "metadata": {},
   "outputs": [],
   "source": [
    "hddm_a = HDDM_A()\n"
   ]
  },
  {
   "cell_type": "code",
   "execution_count": 16,
   "metadata": {},
   "outputs": [],
   "source": [
    "data_stream = np.random.randint(2, size=2000)"
   ]
  },
  {
   "cell_type": "code",
   "execution_count": 17,
   "metadata": {},
   "outputs": [],
   "source": [
    "for i in range(999, 1500):\n",
    "    data_stream[i]=0"
   ]
  },
  {
   "cell_type": "code",
   "execution_count": 18,
   "metadata": {},
   "outputs": [
    {
     "data": {
      "text/plain": [
       "array([1, 0, 0, ..., 1, 1, 0])"
      ]
     },
     "execution_count": 18,
     "metadata": {},
     "output_type": "execute_result"
    }
   ],
   "source": [
    "data_stream"
   ]
  },
  {
   "cell_type": "code",
   "execution_count": 58,
   "metadata": {},
   "outputs": [
    {
     "name": "stdout",
     "output_type": "stream",
     "text": [
      "1 1516\n",
      "detected 1 1517\n"
     ]
    }
   ],
   "source": [
    "for i in range(2000):\n",
    "    hddm_a.add_element(data_stream[i])\n",
    "    if hddm_a.detected_warning_zone():\n",
    "        print(data_stream[i], i)\n",
    "    if hddm_a.detected_change():\n",
    "        print('detected',data_stream[i], i)"
   ]
  },
  {
   "cell_type": "code",
   "execution_count": 44,
   "metadata": {},
   "outputs": [
    {
     "name": "stdout",
     "output_type": "stream",
     "text": [
      "Iteration 296 -0.035365509986877416\n",
      " KSWINReject Null Hypotheses\n",
      "Iteration 361 0.49338749051094055\n",
      " KSWINReject Null Hypotheses\n",
      "Iteration 601 0.4997616410255432\n",
      " KSWINReject Null Hypotheses\n",
      "Iteration 708 -0.2594197057187557\n",
      " KSWINReject Null Hypotheses\n",
      "Iteration 973 -0.479048028588295\n",
      " KSWINReject Null Hypotheses\n",
      "Iteration 1079 0.4851940870285034\n",
      " KSWINReject Null Hypotheses\n",
      "Number of detections: 12\n"
     ]
    }
   ],
   "source": [
    "import numpy as np\n",
    "from skmultiflow.data.sea_generator import SEAGenerator\n",
    "from skmultiflow.drift_detection import KSWIN\n",
    "import numpy as np\n",
    "\n",
    "LEN = len(sentiments)\n",
    "win_size = int(LEN/20)\n",
    "\n",
    "kswin = KSWIN(alpha=0.005, window_size=win_size, stat_size=10)\n",
    "detections = []\n",
    "\n",
    "for i, score in enumerate(sentiments):\n",
    "    kswin.add_element(score)\n",
    "    if kswin.detected_change():\n",
    "        detections.append(i)\n",
    "        print(\"\\rIteration {}\".format(i), score)\n",
    "        print(\"\\r KSWINReject Null Hypotheses\")\n",
    "        detections.append(i)\n",
    "print(\"Number of detections: \"+str(len(detections)))    "
   ]
  },
  {
   "cell_type": "code",
   "execution_count": 27,
   "metadata": {},
   "outputs": [
    {
     "data": {
      "text/plain": [
       "'KSWIN(alpha=0.01, data=None, stat_size=10, window_size=100)'"
      ]
     },
     "execution_count": 27,
     "metadata": {},
     "output_type": "execute_result"
    }
   ],
   "source": [
    "kswin.get_info()"
   ]
  },
  {
   "cell_type": "code",
   "execution_count": 28,
   "metadata": {},
   "outputs": [
    {
     "data": {
      "text/plain": [
       "{'alpha': 0.01, 'data': None, 'stat_size': 10, 'window_size': 100}"
      ]
     },
     "execution_count": 28,
     "metadata": {},
     "output_type": "execute_result"
    }
   ],
   "source": [
    "kswin.get_params()"
   ]
  },
  {
   "cell_type": "code",
   "execution_count": 135,
   "metadata": {},
   "outputs": [
    {
     "name": "stdout",
     "output_type": "stream",
     "text": [
      "Iteration 89\n",
      "Iteration 161\n",
      "Iteration 250\n",
      "Iteration 590\n",
      "Iteration 959\n",
      "Iteration 1016\n",
      "Iteration 1078\n",
      "Number of detections: 7\n"
     ]
    }
   ],
   "source": [
    "import numpy as np\n",
    "from skmultiflow.drift_detection import PageHinkley\n",
    "import numpy as np\n",
    "\n",
    "LEN= len(sentiments)\n",
    "DIST= int(LEN/20)\n",
    "ph = PageHinkley(min_instances=DIST,delta=0.23, threshold=0.5)\n",
    "detections = []\n",
    "\n",
    "for i, score in enumerate(sentiments):\n",
    "    ph.add_element(score)\n",
    "    if ph.detected_change():\n",
    "        print(\"\\rIteration {}\".format(i))\n",
    "        detections.append(i)\n",
    "print(\"Number of detections: \"+str(len(detections)))    "
   ]
  },
  {
   "cell_type": "code",
   "execution_count": 146,
   "metadata": {},
   "outputs": [
    {
     "name": "stdout",
     "output_type": "stream",
     "text": [
      "Iteration 91\n",
      "Iteration 162\n",
      "Iteration 250\n",
      "Iteration 392\n",
      "Iteration 460\n",
      "Iteration 525\n",
      "Iteration 598\n",
      "Number of detections: 7\n"
     ]
    }
   ],
   "source": [
    "import numpy as np\n",
    "from skmultiflow.drift_detection import DDM\n",
    "import numpy as np\n",
    "\n",
    "LEN = len(sentiments)\n",
    "DIST = int(LEN / 20)\n",
    "ddm = DDM(min_num_instances=DIST, out_control_level=2)\n",
    "\n",
    "\n",
    "detections = []\n",
    "\n",
    "for i, score in enumerate(sentiments):\n",
    "    ddm.add_element(score)\n",
    "#     if ddm.detected_warning_zone():\n",
    "#         print(\"warning zone has been detected, \", score, i)\n",
    "    if ddm.detected_change():\n",
    "        print(\"\\rIteration {}\".format(i))\n",
    "        detections.append(i)\n",
    "print(\"Number of detections: \"+str(len(detections)))    "
   ]
  },
  {
   "cell_type": "code",
   "execution_count": 162,
   "metadata": {},
   "outputs": [
    {
     "name": "stdout",
     "output_type": "stream",
     "text": [
      "Iteration 895\n",
      "Iteration 1023\n",
      "Iteration 1055\n",
      "Iteration 1087\n",
      "Iteration 1151\n",
      "Number of detections: 5\n"
     ]
    }
   ],
   "source": [
    "import numpy as np\n",
    "from skmultiflow.drift_detection import ADWIN\n",
    "import numpy as np\n",
    "\n",
    "adwin= ADWIN(delta=0.5)\n",
    "detections = []\n",
    "\n",
    "for i, score in enumerate(sentiments):\n",
    "    adwin.add_element(score)\n",
    "    if adwin.detected_warning_zone():\n",
    "        print(\"warning zone has been detected, \", score, i)\n",
    "    if adwin.detected_change():\n",
    "        print(\"\\rIteration {}\".format(i))\n",
    "        detections.append(i)\n",
    "print(\"Number of detections: \"+str(len(detections)))    "
   ]
  },
  {
   "cell_type": "code",
   "execution_count": 71,
   "metadata": {},
   "outputs": [
    {
     "name": "stdout",
     "output_type": "stream",
     "text": [
      "Iteration 250\n",
      "Iteration 600\n",
      "Number of detections: 2\n"
     ]
    }
   ],
   "source": [
    "from skmultiflow.drift_detection import HDDM_W\n",
    "\n",
    "hddmw = HDDM_W(drift_confidence=0.4,  lambda_option=0.03, two_side_option=True)\n",
    "\n",
    "detections = []\n",
    "\n",
    "for i, score in enumerate(sentiments):\n",
    "    hddmw.add_element(score)\n",
    "    if hddmw.detected_warning_zone():\n",
    "        print(\"warning zone has been detected, \", score, i)\n",
    "    if hddmw.detected_change():\n",
    "        print(\"\\rIteration {}\".format(i))\n",
    "        detections.append(i)\n",
    "print(\"Number of detections: \"+str(len(detections)))    \n"
   ]
  },
  {
   "cell_type": "code",
   "execution_count": 16,
   "metadata": {},
   "outputs": [
    {
     "name": "stdout",
     "output_type": "stream",
     "text": [
      "Iteration 251\n",
      "Iteration 292\n",
      "Iteration 652\n",
      "Iteration 922\n",
      "Iteration 977\n",
      "Iteration 1013\n",
      "Iteration 1077\n",
      "Number of detections: 7\n"
     ]
    }
   ],
   "source": [
    "import numpy as np\n",
    "from skmultiflow.drift_detection import HDDM_A\n",
    "import numpy as np\n",
    "\n",
    "hddma= HDDM_A(drift_confidence=0.4, two_side_option=True)\n",
    "detections = []\n",
    "\n",
    "for i, score in enumerate(sentiments):\n",
    "    hddma.add_element(score)\n",
    "    if hddma.detected_warning_zone():\n",
    "        print(\"warning zone has been detected, \", score, i)\n",
    "    if hddma.detected_change():\n",
    "        print(\"\\rIteration {}\".format(i))\n",
    "        detections.append(i)\n",
    "print(\"Number of detections: \"+str(len(detections)))    "
   ]
  },
  {
   "cell_type": "code",
   "execution_count": 176,
   "metadata": {},
   "outputs": [
    {
     "name": "stdout",
     "output_type": "stream",
     "text": [
      "Number of detections: 0\n"
     ]
    }
   ],
   "source": [
    "import numpy as np\n",
    "from skmultiflow.drift_detection import HDDM_W\n",
    "import numpy as np\n",
    "\n",
    "hddmw= HDDM_W(drift_confidence=0.03, two_side_option=True)\n",
    "detections = []\n",
    "\n",
    "for i, score in enumerate(sentiments):\n",
    "    hddmw.add_element(score)\n",
    "    if hddmw.detected_warning_zone():\n",
    "        print(\"warning zone has been detected, \", score, i)\n",
    "    if hddmw.detected_change():\n",
    "        print(\"\\rIteration {}\".format(i))\n",
    "        detections.append(i)\n",
    "print(\"Number of detections: \"+str(len(detections)))    "
   ]
  },
  {
   "cell_type": "code",
   "execution_count": 7,
   "metadata": {},
   "outputs": [
    {
     "name": "stdout",
     "output_type": "stream",
     "text": [
      "Number of detections: 0\n"
     ]
    }
   ],
   "source": [
    "import numpy as np\n",
    "from skmultiflow.drift_detection import EDDM\n",
    "import numpy as np\n",
    "\n",
    "eddm= EDDM()\n",
    "detections = []\n",
    "\n",
    "for i, score in enumerate(sentiments):\n",
    "    eddm.add_element(score)\n",
    "    if eddm.detected_warning_zone():\n",
    "        print(\"warning zone has been detected, \", score, i)\n",
    "    if eddm.detected_change():\n",
    "        print(\"\\rIteration {}\".format(i))\n",
    "        detections.append(i)\n",
    "print(\"Number of detections: \"+str(len(detections)))    "
   ]
  },
  {
   "cell_type": "code",
   "execution_count": 32,
   "metadata": {},
   "outputs": [
    {
     "data": {
      "text/plain": [
       "1173"
      ]
     },
     "execution_count": 32,
     "metadata": {},
     "output_type": "execute_result"
    }
   ],
   "source": [
    "len(sentiments)"
   ]
  },
  {
   "cell_type": "code",
   "execution_count": 3,
   "metadata": {},
   "outputs": [],
   "source": [
    "import rootpath\n",
    "import os\n",
    "root_dir = rootpath.detect()\n",
    "test_file = 'data/cpd_aspects/164#41af2a52-407d-4c39-863f-57c6b3791920'\n",
    "testpath= os.path.join(root_dir, test_file)"
   ]
  },
  {
   "cell_type": "code",
   "execution_count": 4,
   "metadata": {},
   "outputs": [
    {
     "name": "stdout",
     "output_type": "stream",
     "text": [
      "length of df : 29132\n",
      "length of df_new 3247\n",
      "         date  sentiment\n",
      "0  2015-01-01   0.489041\n",
      "1  2015-01-02   0.401239\n",
      "2  2015-01-03  -0.073607\n"
     ]
    }
   ],
   "source": [
    "cpd_df, _ = get_cpd_df(testpath, \"room\")\n"
   ]
  },
  {
   "cell_type": "code",
   "execution_count": 5,
   "metadata": {},
   "outputs": [],
   "source": [
    "sentiments = cpd_df.sentiment.to_list()\n",
    "generator = iter(sentiments)"
   ]
  },
  {
   "cell_type": "code",
   "execution_count": null,
   "metadata": {},
   "outputs": [],
   "source": []
  },
  {
   "cell_type": "code",
   "execution_count": 2,
   "metadata": {},
   "outputs": [],
   "source": [
    "def get_cpd_df(file, aspect):\n",
    "    \"\"\"\n",
    "    Get the dataframe for change point detection algorithm.\n",
    "    :param file: file from \"cpd_aspects\"\n",
    "    :param aspect: aspect from topics.\n",
    "    :return: dataframe.\n",
    "    \"\"\"\n",
    "    df = pd.read_csv(file)\n",
    "    df.drop_duplicates(['sentence'], keep='first', inplace=True)  # drop duplicates based on sentence\n",
    "    df = df.sort_values('date')\n",
    "\n",
    "    df_new = df[df[aspect] == True]\n",
    "    # df_new = df_new[df_new[\"renovation\"] == True]\n",
    "\n",
    "    print('length of df :', len(df))\n",
    "    print('length of df_new', len(df_new))\n",
    "    cpd_df = df_new.groupby(['date', 'uid'])['sentiment'].mean().reset_index()\n",
    "    cpd_df = cpd_df.groupby('date')['sentiment'].mean().reset_index()\n",
    "\n",
    "    print(cpd_df.head(3))\n",
    "\n",
    "    # print(\"lenght of cpd_df:\", len(cpd_df))\n",
    "    return cpd_df, df_new"
   ]
  }
 ],
 "metadata": {
  "kernelspec": {
   "display_name": "cpd",
   "language": "python",
   "name": "cdp"
  },
  "language_info": {
   "codemirror_mode": {
    "name": "ipython",
    "version": 3
   },
   "file_extension": ".py",
   "mimetype": "text/x-python",
   "name": "python",
   "nbconvert_exporter": "python",
   "pygments_lexer": "ipython3",
   "version": "3.7.6"
  }
 },
 "nbformat": 4,
 "nbformat_minor": 4
}
