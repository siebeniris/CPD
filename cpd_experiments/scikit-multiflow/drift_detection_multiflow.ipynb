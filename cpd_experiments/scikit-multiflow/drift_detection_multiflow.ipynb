{
 "cells": [
  {
   "cell_type": "code",
   "execution_count": 16,
   "metadata": {},
   "outputs": [],
   "source": [
    "import numpy as np\n",
    "import pandas as pd\n",
    "from skmultiflow.drift_detection.hddm_a import HDDM_A"
   ]
  },
  {
   "cell_type": "code",
   "execution_count": 18,
   "metadata": {},
   "outputs": [],
   "source": [
    "import itertools"
   ]
  },
  {
   "cell_type": "code",
   "execution_count": 4,
   "metadata": {},
   "outputs": [],
   "source": [
    "hddm_a = HDDM_A()\n"
   ]
  },
  {
   "cell_type": "code",
   "execution_count": 5,
   "metadata": {},
   "outputs": [],
   "source": [
    "data_stream = np.random.randint(2, size=2000)"
   ]
  },
  {
   "cell_type": "code",
   "execution_count": 6,
   "metadata": {},
   "outputs": [],
   "source": [
    "for i in range(999, 1500):\n",
    "    data_stream[i]=0"
   ]
  },
  {
   "cell_type": "code",
   "execution_count": 7,
   "metadata": {},
   "outputs": [
    {
     "data": {
      "text/plain": [
       "array([0, 1, 0, ..., 0, 0, 0])"
      ]
     },
     "execution_count": 7,
     "metadata": {},
     "output_type": "execute_result"
    }
   ],
   "source": [
    "data_stream"
   ]
  },
  {
   "cell_type": "code",
   "execution_count": 9,
   "metadata": {},
   "outputs": [
    {
     "name": "stdout",
     "output_type": "stream",
     "text": [
      "1 1505\n",
      "1 1508\n",
      "1 1509\n"
     ]
    }
   ],
   "source": [
    "for i in range(2000):\n",
    "    hddm_a.add_element(data_stream[i])\n",
    "    if hddm_a.detected_warning_zone():\n",
    "        print(data_stream[i], i)\n",
    "    if hddm_a.detected_change():\n",
    "        print(data_stream[i], i)"
   ]
  },
  {
   "cell_type": "code",
   "execution_count": 101,
   "metadata": {},
   "outputs": [
    {
     "name": "stdout",
     "output_type": "stream",
     "text": [
      "Iteration 294\n",
      " KSWINReject Null Hypotheses\n",
      "Iteration 511\n",
      " KSWINReject Null Hypotheses\n",
      "Iteration 898\n",
      " KSWINReject Null Hypotheses\n",
      "Iteration 1053\n",
      " KSWINReject Null Hypotheses\n",
      "Number of detections: 4\n"
     ]
    }
   ],
   "source": [
    "import numpy as np\n",
    "from skmultiflow.data.sea_generator import SEAGenerator\n",
    "from skmultiflow.drift_detection import KSWIN\n",
    "import numpy as np\n",
    "\n",
    "kswin = KSWIN(alpha=0.01, window_size=100, stat_size=10)\n",
    "detections = []\n",
    "\n",
    "for i, score in enumerate(sentiments):\n",
    "    kswin.add_element(score)\n",
    "    if kswin.detected_change():\n",
    "        print(\"\\rIteration {}\".format(i))\n",
    "        print(\"\\r KSWINReject Null Hypotheses\")\n",
    "        detections.append(i)\n",
    "print(\"Number of detections: \"+str(len(detections)))    "
   ]
  },
  {
   "cell_type": "code",
   "execution_count": 69,
   "metadata": {},
   "outputs": [
    {
     "data": {
      "text/plain": [
       "'KSWIN(alpha=0.005, data=None, stat_size=10, window_size=50)'"
      ]
     },
     "execution_count": 69,
     "metadata": {},
     "output_type": "execute_result"
    }
   ],
   "source": [
    "kswin.get_info()"
   ]
  },
  {
   "cell_type": "code",
   "execution_count": 80,
   "metadata": {},
   "outputs": [
    {
     "data": {
      "text/plain": [
       "{'alpha': 0.005, 'data': None, 'stat_size': 10, 'window_size': 100}"
      ]
     },
     "execution_count": 80,
     "metadata": {},
     "output_type": "execute_result"
    }
   ],
   "source": [
    "kswin.get_params()"
   ]
  },
  {
   "cell_type": "code",
   "execution_count": 98,
   "metadata": {},
   "outputs": [
    {
     "name": "stdout",
     "output_type": "stream",
     "text": [
      "Number of detections: 0\n"
     ]
    }
   ],
   "source": [
    "import numpy as np\n",
    "from skmultiflow.drift_detection import PageHinkley\n",
    "import numpy as np\n",
    "\n",
    "ph = PageHinkley()\n",
    "detections = []\n",
    "\n",
    "for i, score in enumerate(sentiments):\n",
    "    ph.add_element(score)\n",
    "    if ph.detected_change():\n",
    "        print(\"\\rIteration {}\".format(i))\n",
    "        detections.append(i)\n",
    "print(\"Number of detections: \"+str(len(detections)))    "
   ]
  },
  {
   "cell_type": "code",
   "execution_count": 115,
   "metadata": {},
   "outputs": [
    {
     "name": "stdout",
     "output_type": "stream",
     "text": [
      "Iteration 718\n",
      "Number of detections: 1\n"
     ]
    }
   ],
   "source": [
    "import numpy as np\n",
    "from skmultiflow.drift_detection import DDM\n",
    "import numpy as np\n",
    "\n",
    "ddm = DDM()\n",
    "detections = []\n",
    "\n",
    "for i, score in enumerate(sentiments):\n",
    "    ddm.add_element(score)\n",
    "#     if ddm.detected_warning_zone():\n",
    "#         print(\"warning zone has been detected, \", score, i)\n",
    "    if ddm.detected_change():\n",
    "        print(\"\\rIteration {}\".format(i))\n",
    "        detections.append(i)\n",
    "print(\"Number of detections: \"+str(len(detections)))    "
   ]
  },
  {
   "cell_type": "code",
   "execution_count": 139,
   "metadata": {},
   "outputs": [
    {
     "name": "stdout",
     "output_type": "stream",
     "text": [
      "Iteration 895\n",
      "Iteration 1023\n",
      "Iteration 1055\n",
      "Iteration 1151\n",
      "Number of detections: 4\n"
     ]
    }
   ],
   "source": [
    "import numpy as np\n",
    "from skmultiflow.drift_detection import ADWIN\n",
    "import numpy as np\n",
    "\n",
    "adwin= ADWIN(delta=0.8)\n",
    "detections = []\n",
    "\n",
    "for i, score in enumerate(sentiments):\n",
    "    adwin.add_element(score)\n",
    "    if adwin.detected_warning_zone():\n",
    "        print(\"warning zone has been detected, \", score, i)\n",
    "    if adwin.detected_change():\n",
    "        print(\"\\rIteration {}\".format(i))\n",
    "        detections.append(i)\n",
    "print(\"Number of detections: \"+str(len(detections)))    "
   ]
  },
  {
   "cell_type": "code",
   "execution_count": 152,
   "metadata": {},
   "outputs": [
    {
     "name": "stdout",
     "output_type": "stream",
     "text": [
      "Iteration 824\n",
      "Number of detections: 1\n"
     ]
    }
   ],
   "source": [
    "import numpy as np\n",
    "from skmultiflow.drift_detection import HDDM_A\n",
    "import numpy as np\n",
    "\n",
    "hddma= HDDM_A(drift_confidence=0.01, two_side_option=False)\n",
    "detections = []\n",
    "\n",
    "for i, score in enumerate(sentiments):\n",
    "    hddma.add_element(score)\n",
    "    if hddma.detected_warning_zone():\n",
    "        print(\"warning zone has been detected, \", score, i)\n",
    "    if hddma.detected_change():\n",
    "        print(\"\\rIteration {}\".format(i))\n",
    "        detections.append(i)\n",
    "print(\"Number of detections: \"+str(len(detections)))    "
   ]
  },
  {
   "cell_type": "code",
   "execution_count": 176,
   "metadata": {},
   "outputs": [
    {
     "name": "stdout",
     "output_type": "stream",
     "text": [
      "Number of detections: 0\n"
     ]
    }
   ],
   "source": [
    "import numpy as np\n",
    "from skmultiflow.drift_detection import HDDM_W\n",
    "import numpy as np\n",
    "\n",
    "hddmw= HDDM_W(drift_confidence=0.03, two_side_option=True)\n",
    "detections = []\n",
    "\n",
    "for i, score in enumerate(sentiments):\n",
    "    hddmw.add_element(score)\n",
    "    if hddmw.detected_warning_zone():\n",
    "        print(\"warning zone has been detected, \", score, i)\n",
    "    if hddmw.detected_change():\n",
    "        print(\"\\rIteration {}\".format(i))\n",
    "        detections.append(i)\n",
    "print(\"Number of detections: \"+str(len(detections)))    "
   ]
  },
  {
   "cell_type": "code",
   "execution_count": 178,
   "metadata": {},
   "outputs": [
    {
     "name": "stdout",
     "output_type": "stream",
     "text": [
      "Number of detections: 0\n"
     ]
    }
   ],
   "source": [
    "import numpy as np\n",
    "from skmultiflow.drift_detection import EDDM\n",
    "import numpy as np\n",
    "\n",
    "eddm= EDDM()\n",
    "detections = []\n",
    "\n",
    "for i, score in enumerate(sentiments):\n",
    "    eddm.add_element(score)\n",
    "    if eddm.detected_warning_zone():\n",
    "        print(\"warning zone has been detected, \", score, i)\n",
    "    if eddm.detected_change():\n",
    "        print(\"\\rIteration {}\".format(i))\n",
    "        detections.append(i)\n",
    "print(\"Number of detections: \"+str(len(detections)))    "
   ]
  },
  {
   "cell_type": "code",
   "execution_count": 32,
   "metadata": {},
   "outputs": [
    {
     "data": {
      "text/plain": [
       "1173"
      ]
     },
     "execution_count": 32,
     "metadata": {},
     "output_type": "execute_result"
    }
   ],
   "source": [
    "len(sentiments)"
   ]
  },
  {
   "cell_type": "code",
   "execution_count": 14,
   "metadata": {},
   "outputs": [],
   "source": [
    "import rootpath\n",
    "import os\n",
    "root_dir = rootpath.detect()\n",
    "test_file = 'data/cpd_aspects/164#41af2a52-407d-4c39-863f-57c6b3791920'\n",
    "testpath= os.path.join(root_dir, test_file)"
   ]
  },
  {
   "cell_type": "code",
   "execution_count": 17,
   "metadata": {},
   "outputs": [
    {
     "name": "stdout",
     "output_type": "stream",
     "text": [
      "length of df : 29132\n",
      "length of df_new 3247\n",
      "         date  sentiment\n",
      "0  2015-01-01   0.489041\n",
      "1  2015-01-02   0.401239\n",
      "2  2015-01-03  -0.073607\n"
     ]
    }
   ],
   "source": [
    "cpd_df, _ = get_cpd_df(testpath, \"room\")\n"
   ]
  },
  {
   "cell_type": "code",
   "execution_count": 27,
   "metadata": {},
   "outputs": [],
   "source": [
    "sentiments = cpd_df.sentiment.to_list()\n",
    "generator = iter(sentiments)"
   ]
  },
  {
   "cell_type": "code",
   "execution_count": null,
   "metadata": {},
   "outputs": [],
   "source": []
  },
  {
   "cell_type": "code",
   "execution_count": 12,
   "metadata": {},
   "outputs": [],
   "source": [
    "def get_cpd_df(file, aspect):\n",
    "    \"\"\"\n",
    "    Get the dataframe for change point detection algorithm.\n",
    "    :param file: file from \"cpd_aspects\"\n",
    "    :param aspect: aspect from topics.\n",
    "    :return: dataframe.\n",
    "    \"\"\"\n",
    "    df = pd.read_csv(file)\n",
    "    df.drop_duplicates(['sentence'], keep='first', inplace=True)  # drop duplicates based on sentence\n",
    "    df = df.sort_values('date')\n",
    "\n",
    "    df_new = df[df[aspect] == True]\n",
    "    # df_new = df_new[df_new[\"renovation\"] == True]\n",
    "\n",
    "    print('length of df :', len(df))\n",
    "    print('length of df_new', len(df_new))\n",
    "    cpd_df = df_new.groupby(['date', 'uid'])['sentiment'].mean().reset_index()\n",
    "    cpd_df = cpd_df.groupby('date')['sentiment'].mean().reset_index()\n",
    "\n",
    "    print(cpd_df.head(3))\n",
    "\n",
    "    # print(\"lenght of cpd_df:\", len(cpd_df))\n",
    "    return cpd_df, df_new"
   ]
  }
 ],
 "metadata": {
  "kernelspec": {
   "display_name": "cpd",
   "language": "python",
   "name": "cdp"
  },
  "language_info": {
   "codemirror_mode": {
    "name": "ipython",
    "version": 3
   },
   "file_extension": ".py",
   "mimetype": "text/x-python",
   "name": "python",
   "nbconvert_exporter": "python",
   "pygments_lexer": "ipython3",
   "version": "3.7.6"
  }
 },
 "nbformat": 4,
 "nbformat_minor": 4
}
