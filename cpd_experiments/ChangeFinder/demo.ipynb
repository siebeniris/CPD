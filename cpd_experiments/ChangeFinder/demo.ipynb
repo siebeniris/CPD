{
 "cells": [
  {
   "cell_type": "code",
   "execution_count": 5,
   "metadata": {},
   "outputs": [],
   "source": [
    "%load_ext autoreload\n",
    "%autoreload 2\n",
    "%matplotlib inline"
   ]
  },
  {
   "cell_type": "code",
   "execution_count": 3,
   "metadata": {},
   "outputs": [],
   "source": [
    "import numpy as np\n",
    "import pandas as pd\n",
    "import os\n",
    "import rootpath"
   ]
  },
  {
   "cell_type": "code",
   "execution_count": 2,
   "metadata": {},
   "outputs": [],
   "source": [
    "def get_cpd_df(file, aspect):\n",
    "    \"\"\"\n",
    "    Get the dataframe for change point detection algorithm.\n",
    "    :param file: file from \"cpd_aspects\"\n",
    "    :param aspect: aspect from topics.\n",
    "    :return: dataframe.\n",
    "    \"\"\"\n",
    "    df = pd.read_csv(file)\n",
    "    df.drop_duplicates(['sentence'], keep='first', inplace=True)  # drop duplicates based on sentence\n",
    "    df = df.sort_values('date')\n",
    "\n",
    "    df_new = df[df[aspect] == True]\n",
    "    # df_new = df_new[df_new[\"renovation\"] == True]\n",
    "\n",
    "    print('length of df :', len(df))\n",
    "    print('length of df_new', len(df_new))\n",
    "    cpd_df = df_new.groupby(['date', 'uid'])['sentiment'].mean().reset_index()\n",
    "    cpd_df = cpd_df.groupby('date')['sentiment'].mean().reset_index()\n",
    "\n",
    "    print(cpd_df.head(3))\n",
    "\n",
    "    # print(\"lenght of cpd_df:\", len(cpd_df))\n",
    "    return cpd_df, df_new"
   ]
  },
  {
   "cell_type": "code",
   "execution_count": 4,
   "metadata": {},
   "outputs": [
    {
     "name": "stdout",
     "output_type": "stream",
     "text": [
      "/home/yiyi/Documents/masterarbeit/CPD/data/cpd_aspects/164#41af2a52-407d-4c39-863f-57c6b3791920\n"
     ]
    }
   ],
   "source": [
    "root_dir = rootpath.detect()\n",
    "\n",
    "test_file = 'data/cpd_aspects/164#41af2a52-407d-4c39-863f-57c6b3791920'\n",
    "testpath = os.path.join(root_dir, test_file)\n",
    "print(testpath)"
   ]
  },
  {
   "cell_type": "code",
   "execution_count": 10,
   "metadata": {},
   "outputs": [
    {
     "name": "stdout",
     "output_type": "stream",
     "text": [
      "length of df : 29132\n",
      "length of df_new 3247\n",
      "         date  sentiment\n",
      "0  2015-01-01   0.489041\n",
      "1  2015-01-02   0.401239\n",
      "2  2015-01-03  -0.073607\n"
     ]
    }
   ],
   "source": [
    "cpd_df , _ = get_cpd_df(testpath, \"room\")"
   ]
  },
  {
   "cell_type": "code",
   "execution_count": 14,
   "metadata": {},
   "outputs": [],
   "source": [
    "sentiments = np.exp(cpd_df.sentiment)"
   ]
  },
  {
   "cell_type": "code",
   "execution_count": 17,
   "metadata": {},
   "outputs": [
    {
     "data": {
      "text/plain": [
       "0       1.630752\n",
       "1       1.493674\n",
       "2       0.929037\n",
       "3       1.001594\n",
       "4       1.342694\n",
       "          ...   \n",
       "1168    1.646207\n",
       "1169    0.974067\n",
       "1170    1.647564\n",
       "1171    0.613216\n",
       "1172    0.808155\n",
       "Name: sentiment, Length: 1173, dtype: float64"
      ]
     },
     "execution_count": 17,
     "metadata": {},
     "output_type": "execute_result"
    }
   ],
   "source": [
    "sentiments"
   ]
  },
  {
   "cell_type": "code",
   "execution_count": 21,
   "metadata": {},
   "outputs": [],
   "source": [
    "sentiments = cpd_df.sentiment.ewm(span=50, adjust=False).mean()*100"
   ]
  },
  {
   "cell_type": "code",
   "execution_count": 22,
   "metadata": {},
   "outputs": [
    {
     "data": {
      "text/plain": [
       "0       48.904139\n",
       "1       48.559815\n",
       "2       46.366853\n",
       "3       44.554792\n",
       "4       43.963147\n",
       "          ...    \n",
       "1168    -3.300917\n",
       "1169    -3.274511\n",
       "1170    -1.188067\n",
       "1171    -3.059270\n",
       "1172    -3.774597\n",
       "Name: sentiment, Length: 1173, dtype: float64"
      ]
     },
     "execution_count": 22,
     "metadata": {},
     "output_type": "execute_result"
    }
   ],
   "source": [
    "sentiments"
   ]
  },
  {
   "cell_type": "code",
   "execution_count": 26,
   "metadata": {},
   "outputs": [
    {
     "data": {
      "image/png": "[encoded data removed]",
      "text/plain": [
       "<Figure size 432x288 with 2 Axes>"
      ]
     },
     "metadata": {
      "needs_background": "light"
     },
     "output_type": "display_data"
    }
   ],
   "source": [
    "from change_finder import ChangeFinder, SDAR\n",
    "\n",
    "import numpy as np\n",
    "import matplotlib.pyplot as plt\n",
    "\n",
    "np.random.seed(0)\n",
    "f, (ax1, ax2) = plt.subplots(2, 1)\n",
    "f.subplots_adjust(hspace=0.4)\n",
    "points = np.concatenate([\n",
    "    np.random.normal(1, 0.1, 100),\n",
    "    np.random.normal(-1, 0.1, 100),\n",
    "])\n",
    "ax1.plot(sentiments)\n",
    "ax1.set_title(\"data point\")\n",
    "\n",
    "cf = ChangeFinder()\n",
    "scores = [cf.update(p) for p in sentiments]\n",
    "ax2.plot(scores)\n",
    "ax2.set_title(\"anomaly score\")\n",
    "plt.show()"
   ]
  },
  {
   "cell_type": "code",
   "execution_count": null,
   "metadata": {},
   "outputs": [],
   "source": [
    "scores"
   ]
  }
 ],
 "metadata": {
  "kernelspec": {
   "display_name": "cpd",
   "language": "python",
   "name": "cdp"
  },
  "language_info": {
   "codemirror_mode": {
    "name": "ipython",
    "version": 3
   },
   "file_extension": ".py",
   "mimetype": "text/x-python",
   "name": "python",
   "nbconvert_exporter": "python",
   "pygments_lexer": "ipython3",
   "version": "3.7.6"
  }
 },
 "nbformat": 4,
 "nbformat_minor": 4
}
