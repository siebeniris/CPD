{
 "cells": [
  {
   "cell_type": "code",
   "execution_count": 21,
   "metadata": {},
   "outputs": [],
   "source": [
    "import json\n",
    "import pandas as pd\n",
    "import numpy as np\n",
    "import glob\n",
    "import seaborn as sns\n",
    "import matplotlib\n",
    "import matplotlib.pyplot as plt\n",
    "from scipy import stats\n",
    "from collections import defaultdict, Counter\n",
    "%matplotlib inline"
   ]
  },
  {
   "cell_type": "code",
   "execution_count": 2,
   "metadata": {},
   "outputs": [],
   "source": [
    "with open('prepare_dataset/gold_sent_list.json') as reader:\n",
    "    gold_sent_list = json.load(reader)"
   ]
  },
  {
   "cell_type": "code",
   "execution_count": 31,
   "metadata": {},
   "outputs": [],
   "source": [
    "cat_file_dict=defaultdict(list)\n",
    "cpt_dict= {}\n",
    "cat_sent_dict = defaultdict(list)\n",
    "for anno in gold_sent_list:\n",
    "    fileId=anno['fileId']\n",
    "    \n",
    "    sent_list = anno['sent_list']\n",
    "    for a in sent_list:\n",
    "        cpt_dict[a['cpt_id']]= (a['cpt_label'], a['category'])\n",
    "        cat_file_dict[a['category']].append(a['fileId'])\n",
    "    \n",
    "    cat = sent_list[0]['category']\n",
    "    cat_sent_dict[cat].append(len(sent_list))\n",
    "    "
   ]
  },
  {
   "cell_type": "code",
   "execution_count": 35,
   "metadata": {},
   "outputs": [
    {
     "name": "stdout",
     "output_type": "stream",
     "text": [
      "facility 848\n",
      "pool 869\n",
      "renovation_room 880\n",
      "restaurant 1100\n",
      "room 1526\n",
      "reception 928\n"
     ]
    }
   ],
   "source": [
    "sents=0\n",
    "for cat, l in cat_sent_dict.items():\n",
    "    print(cat, sum(l))\n",
    "    sents+=sum(l)"
   ]
  },
  {
   "cell_type": "code",
   "execution_count": 36,
   "metadata": {},
   "outputs": [
    {
     "data": {
      "text/plain": [
       "6151"
      ]
     },
     "execution_count": 36,
     "metadata": {},
     "output_type": "execute_result"
    }
   ],
   "source": [
    "sents"
   ]
  },
  {
   "cell_type": "code",
   "execution_count": 25,
   "metadata": {},
   "outputs": [],
   "source": [
    "cat_file_dedup ={x: len(list(set(y))) for x,y in cat_file_dict.items()}"
   ]
  },
  {
   "cell_type": "code",
   "execution_count": 34,
   "metadata": {},
   "outputs": [
    {
     "data": {
      "text/plain": [
       "381"
      ]
     },
     "execution_count": 34,
     "metadata": {},
     "output_type": "execute_result"
    }
   ],
   "source": [
    "sum(cat_file_dedup.values())"
   ]
  },
  {
   "cell_type": "code",
   "execution_count": 29,
   "metadata": {},
   "outputs": [],
   "source": [
    "cat_cpt_dict = defaultdict(list)\n",
    "for idx, d in cpt_dict.items():\n",
    "    x,y= d\n",
    "    cat_cpt_dict[y].append(x)"
   ]
  },
  {
   "cell_type": "code",
   "execution_count": 30,
   "metadata": {},
   "outputs": [
    {
     "name": "stdout",
     "output_type": "stream",
     "text": [
      "facility Counter({'d': 63, 'a': 37, 'b': 33, 'c': 13})\n",
      "pool Counter({'d': 51, 'a': 31, 'b': 19, 'c': 12})\n",
      "renovation_room Counter({'d': 50, 'a': 43, 'b': 7, 'c': 5})\n",
      "restaurant Counter({'d': 69, 'b': 43, 'a': 40, 'c': 32})\n",
      "room Counter({'d': 84, 'b': 62, 'a': 54, 'c': 31})\n",
      "reception Counter({'d': 63, 'a': 39, 'c': 36, 'b': 34})\n"
     ]
    }
   ],
   "source": [
    "for cat, l in cat_cpt_dict.items():\n",
    "    print(cat, Counter(l))"
   ]
  },
  {
   "cell_type": "code",
   "execution_count": 22,
   "metadata": {},
   "outputs": [
    {
     "data": {
      "text/plain": [
       "Counter({'a': 244, 'd': 380, 'c': 129, 'b': 198})"
      ]
     },
     "execution_count": 22,
     "metadata": {},
     "output_type": "execute_result"
    }
   ],
   "source": [
    "Counter(cpt_dict.values())"
   ]
  },
  {
   "cell_type": "code",
   "execution_count": null,
   "metadata": {},
   "outputs": [],
   "source": []
  },
  {
   "cell_type": "code",
   "execution_count": 37,
   "metadata": {},
   "outputs": [],
   "source": [
    "df = pd.read_csv('preprocessed_data/sents_df.csv', index_col = 0)"
   ]
  },
  {
   "cell_type": "code",
   "execution_count": 39,
   "metadata": {},
   "outputs": [],
   "source": [
    "cat_len_dict = defaultdict(list)\n",
    "\n",
    "for key, group in df.groupby('fileId'):\n",
    "    cat = group['category'].to_list()[0]\n",
    "    cat_len_dict[cat].append(len(group))\n",
    "    "
   ]
  },
  {
   "cell_type": "code",
   "execution_count": 42,
   "metadata": {},
   "outputs": [
    {
     "name": "stdout",
     "output_type": "stream",
     "text": [
      "facility 21.057971014492754\n",
      "facility 1453\n",
      "pool 18.651515151515152\n",
      "pool 1231\n",
      "renovation_room 17.370967741935484\n",
      "renovation_room 1077\n",
      "restaurant 24.458333333333332\n",
      "restaurant 1761\n",
      "room 25.767441860465116\n",
      "room 2216\n",
      "reception 25.50769230769231\n",
      "reception 1658\n"
     ]
    }
   ],
   "source": [
    "avgs = []\n",
    "sums =0\n",
    "for cat , l in cat_len_dict.items():\n",
    "    print(cat, np.mean(l))\n",
    "    print(cat, sum(l))\n",
    "    sums += sum(l)\n",
    "    avgs.append(np.mean(l))"
   ]
  },
  {
   "cell_type": "code",
   "execution_count": 43,
   "metadata": {},
   "outputs": [
    {
     "data": {
      "text/plain": [
       "22.135653568239025"
      ]
     },
     "execution_count": 43,
     "metadata": {},
     "output_type": "execute_result"
    }
   ],
   "source": [
    "np.mean(avgs)"
   ]
  },
  {
   "cell_type": "code",
   "execution_count": 44,
   "metadata": {},
   "outputs": [
    {
     "data": {
      "text/plain": [
       "9396"
      ]
     },
     "execution_count": 44,
     "metadata": {},
     "output_type": "execute_result"
    }
   ],
   "source": [
    "sums"
   ]
  },
  {
   "cell_type": "code",
   "execution_count": 54,
   "metadata": {},
   "outputs": [],
   "source": [
    "df['cpt_label'].fillna('d', inplace=True)"
   ]
  },
  {
   "cell_type": "code",
   "execution_count": 56,
   "metadata": {},
   "outputs": [
    {
     "data": {
      "text/html": [
       "<div>\n",
       "<style scoped>\n",
       "    .dataframe tbody tr th:only-of-type {\n",
       "        vertical-align: middle;\n",
       "    }\n",
       "\n",
       "    .dataframe tbody tr th {\n",
       "        vertical-align: top;\n",
       "    }\n",
       "\n",
       "    .dataframe thead th {\n",
       "        text-align: right;\n",
       "    }\n",
       "</style>\n",
       "<table border=\"1\" class=\"dataframe\">\n",
       "  <thead>\n",
       "    <tr style=\"text-align: right;\">\n",
       "      <th></th>\n",
       "      <th>yes-sentiment</th>\n",
       "      <th>yes-aspect</th>\n",
       "      <th>no-sentiment</th>\n",
       "      <th>no-aspect</th>\n",
       "      <th>category</th>\n",
       "      <th>hotel_id</th>\n",
       "      <th>cpt</th>\n",
       "      <th>Total</th>\n",
       "      <th>fileId</th>\n",
       "      <th>iId</th>\n",
       "      <th>gold-aspect</th>\n",
       "      <th>gold-sentiment</th>\n",
       "      <th>text</th>\n",
       "      <th>date</th>\n",
       "      <th>sentiment</th>\n",
       "      <th>cpts</th>\n",
       "      <th>sentiment_mean</th>\n",
       "      <th>date_period</th>\n",
       "      <th>cpt_id</th>\n",
       "      <th>cpt_label</th>\n",
       "    </tr>\n",
       "  </thead>\n",
       "  <tbody>\n",
       "    <tr>\n",
       "      <th>0_0</th>\n",
       "      <td>2</td>\n",
       "      <td>2</td>\n",
       "      <td>0</td>\n",
       "      <td>0</td>\n",
       "      <td>facility</td>\n",
       "      <td>260</td>\n",
       "      <td>0</td>\n",
       "      <td>4</td>\n",
       "      <td>0</td>\n",
       "      <td>0</td>\n",
       "      <td>True</td>\n",
       "      <td>True</td>\n",
       "      <td>The lobby bar always had a solo performer pian...</td>\n",
       "      <td>2015-02-09</td>\n",
       "      <td>-0.407074</td>\n",
       "      <td>[0, 485, 912]</td>\n",
       "      <td>0.180685</td>\n",
       "      <td>['2015-01-01', '2017-06-25']</td>\n",
       "      <td>0_0</td>\n",
       "      <td>a</td>\n",
       "    </tr>\n",
       "    <tr>\n",
       "      <th>0_2</th>\n",
       "      <td>2</td>\n",
       "      <td>2</td>\n",
       "      <td>0</td>\n",
       "      <td>0</td>\n",
       "      <td>facility</td>\n",
       "      <td>260</td>\n",
       "      <td>0</td>\n",
       "      <td>4</td>\n",
       "      <td>0</td>\n",
       "      <td>2</td>\n",
       "      <td>True</td>\n",
       "      <td>True</td>\n",
       "      <td>We were then escorted to one of the lobby chec...</td>\n",
       "      <td>2015-04-21</td>\n",
       "      <td>-0.405840</td>\n",
       "      <td>[0, 485, 912]</td>\n",
       "      <td>0.180685</td>\n",
       "      <td>['2015-01-01', '2017-06-25']</td>\n",
       "      <td>0_0</td>\n",
       "      <td>a</td>\n",
       "    </tr>\n",
       "    <tr>\n",
       "      <th>0_3</th>\n",
       "      <td>2</td>\n",
       "      <td>2</td>\n",
       "      <td>0</td>\n",
       "      <td>0</td>\n",
       "      <td>facility</td>\n",
       "      <td>260</td>\n",
       "      <td>0</td>\n",
       "      <td>4</td>\n",
       "      <td>0</td>\n",
       "      <td>3</td>\n",
       "      <td>True</td>\n",
       "      <td>True</td>\n",
       "      <td>I went to the gym most mornings but I did the ...</td>\n",
       "      <td>2015-04-30</td>\n",
       "      <td>-0.490811</td>\n",
       "      <td>[0, 485, 912]</td>\n",
       "      <td>0.180685</td>\n",
       "      <td>['2015-01-01', '2017-06-25']</td>\n",
       "      <td>0_0</td>\n",
       "      <td>a</td>\n",
       "    </tr>\n",
       "    <tr>\n",
       "      <th>0_4</th>\n",
       "      <td>0</td>\n",
       "      <td>2</td>\n",
       "      <td>2</td>\n",
       "      <td>0</td>\n",
       "      <td>facility</td>\n",
       "      <td>260</td>\n",
       "      <td>0</td>\n",
       "      <td>4</td>\n",
       "      <td>0</td>\n",
       "      <td>4</td>\n",
       "      <td>True</td>\n",
       "      <td>False</td>\n",
       "      <td>I suggest a room away from the elevators for t...</td>\n",
       "      <td>2015-07-14</td>\n",
       "      <td>-0.439716</td>\n",
       "      <td>[0, 485, 912]</td>\n",
       "      <td>0.180685</td>\n",
       "      <td>['2015-01-01', '2017-06-25']</td>\n",
       "      <td>0_0</td>\n",
       "      <td>a</td>\n",
       "    </tr>\n",
       "    <tr>\n",
       "      <th>0_5</th>\n",
       "      <td>2</td>\n",
       "      <td>2</td>\n",
       "      <td>0</td>\n",
       "      <td>0</td>\n",
       "      <td>facility</td>\n",
       "      <td>260</td>\n",
       "      <td>0</td>\n",
       "      <td>4</td>\n",
       "      <td>0</td>\n",
       "      <td>5</td>\n",
       "      <td>True</td>\n",
       "      <td>True</td>\n",
       "      <td>But Lorena sure did a good job and was so swee...</td>\n",
       "      <td>2015-08-13</td>\n",
       "      <td>-0.105745</td>\n",
       "      <td>[0, 485, 912]</td>\n",
       "      <td>0.180685</td>\n",
       "      <td>['2015-01-01', '2017-06-25']</td>\n",
       "      <td>0_0</td>\n",
       "      <td>a</td>\n",
       "    </tr>\n",
       "  </tbody>\n",
       "</table>\n",
       "</div>"
      ],
      "text/plain": [
       "     yes-sentiment  yes-aspect  no-sentiment  no-aspect  category  hotel_id  \\\n",
       "0_0              2           2             0          0  facility       260   \n",
       "0_2              2           2             0          0  facility       260   \n",
       "0_3              2           2             0          0  facility       260   \n",
       "0_4              0           2             2          0  facility       260   \n",
       "0_5              2           2             0          0  facility       260   \n",
       "\n",
       "     cpt  Total  fileId  iId  gold-aspect  gold-sentiment  \\\n",
       "0_0    0      4       0    0         True            True   \n",
       "0_2    0      4       0    2         True            True   \n",
       "0_3    0      4       0    3         True            True   \n",
       "0_4    0      4       0    4         True           False   \n",
       "0_5    0      4       0    5         True            True   \n",
       "\n",
       "                                                  text        date  sentiment  \\\n",
       "0_0  The lobby bar always had a solo performer pian...  2015-02-09  -0.407074   \n",
       "0_2  We were then escorted to one of the lobby chec...  2015-04-21  -0.405840   \n",
       "0_3  I went to the gym most mornings but I did the ...  2015-04-30  -0.490811   \n",
       "0_4  I suggest a room away from the elevators for t...  2015-07-14  -0.439716   \n",
       "0_5  But Lorena sure did a good job and was so swee...  2015-08-13  -0.105745   \n",
       "\n",
       "              cpts  sentiment_mean                   date_period cpt_id  \\\n",
       "0_0  [0, 485, 912]        0.180685  ['2015-01-01', '2017-06-25']    0_0   \n",
       "0_2  [0, 485, 912]        0.180685  ['2015-01-01', '2017-06-25']    0_0   \n",
       "0_3  [0, 485, 912]        0.180685  ['2015-01-01', '2017-06-25']    0_0   \n",
       "0_4  [0, 485, 912]        0.180685  ['2015-01-01', '2017-06-25']    0_0   \n",
       "0_5  [0, 485, 912]        0.180685  ['2015-01-01', '2017-06-25']    0_0   \n",
       "\n",
       "    cpt_label  \n",
       "0_0         a  \n",
       "0_2         a  \n",
       "0_3         a  \n",
       "0_4         a  \n",
       "0_5         a  "
      ]
     },
     "execution_count": 56,
     "metadata": {},
     "output_type": "execute_result"
    }
   ],
   "source": [
    "df.head()"
   ]
  },
  {
   "cell_type": "code",
   "execution_count": 65,
   "metadata": {},
   "outputs": [
    {
     "data": {
      "text/plain": [
       "9396"
      ]
     },
     "execution_count": 65,
     "metadata": {},
     "output_type": "execute_result"
    }
   ],
   "source": [
    "len(df)"
   ]
  },
  {
   "cell_type": "code",
   "execution_count": 66,
   "metadata": {},
   "outputs": [],
   "source": [
    "gold_df = pd.read_csv('prepare_dataset/gold_df.csv', index_col=0)"
   ]
  },
  {
   "cell_type": "code",
   "execution_count": 86,
   "metadata": {},
   "outputs": [
    {
     "data": {
      "text/html": [
       "<div>\n",
       "<style scoped>\n",
       "    .dataframe tbody tr th:only-of-type {\n",
       "        vertical-align: middle;\n",
       "    }\n",
       "\n",
       "    .dataframe tbody tr th {\n",
       "        vertical-align: top;\n",
       "    }\n",
       "\n",
       "    .dataframe thead th {\n",
       "        text-align: right;\n",
       "    }\n",
       "</style>\n",
       "<table border=\"1\" class=\"dataframe\">\n",
       "  <thead>\n",
       "    <tr style=\"text-align: right;\">\n",
       "      <th></th>\n",
       "      <th>yes-sentiment</th>\n",
       "      <th>yes-aspect</th>\n",
       "      <th>no-sentiment</th>\n",
       "      <th>no-aspect</th>\n",
       "      <th>category</th>\n",
       "      <th>hotel_id</th>\n",
       "      <th>cpt</th>\n",
       "      <th>Total</th>\n",
       "      <th>fileId</th>\n",
       "      <th>iId</th>\n",
       "      <th>...</th>\n",
       "      <th>text</th>\n",
       "      <th>date</th>\n",
       "      <th>sentiment</th>\n",
       "      <th>cpts</th>\n",
       "      <th>sentiment_mean</th>\n",
       "      <th>date_period</th>\n",
       "      <th>cpt_id</th>\n",
       "      <th>cpt_label</th>\n",
       "      <th>TS_LEN</th>\n",
       "      <th>argmin_max</th>\n",
       "    </tr>\n",
       "  </thead>\n",
       "  <tbody>\n",
       "    <tr>\n",
       "      <th>0_0</th>\n",
       "      <td>2</td>\n",
       "      <td>2</td>\n",
       "      <td>0</td>\n",
       "      <td>0</td>\n",
       "      <td>facility</td>\n",
       "      <td>260</td>\n",
       "      <td>0</td>\n",
       "      <td>4</td>\n",
       "      <td>0</td>\n",
       "      <td>0</td>\n",
       "      <td>...</td>\n",
       "      <td>The lobby bar always had a solo performer pian...</td>\n",
       "      <td>2015-02-09</td>\n",
       "      <td>-0.407074</td>\n",
       "      <td>[0, 485, 912]</td>\n",
       "      <td>0.180685</td>\n",
       "      <td>['2015-01-01', '2017-06-25']</td>\n",
       "      <td>0_0</td>\n",
       "      <td>a</td>\n",
       "      <td>8</td>\n",
       "      <td>NaN</td>\n",
       "    </tr>\n",
       "    <tr>\n",
       "      <th>0_2</th>\n",
       "      <td>2</td>\n",
       "      <td>2</td>\n",
       "      <td>0</td>\n",
       "      <td>0</td>\n",
       "      <td>facility</td>\n",
       "      <td>260</td>\n",
       "      <td>0</td>\n",
       "      <td>4</td>\n",
       "      <td>0</td>\n",
       "      <td>2</td>\n",
       "      <td>...</td>\n",
       "      <td>We were then escorted to one of the lobby chec...</td>\n",
       "      <td>2015-04-21</td>\n",
       "      <td>-0.405840</td>\n",
       "      <td>[0, 485, 912]</td>\n",
       "      <td>0.180685</td>\n",
       "      <td>['2015-01-01', '2017-06-25']</td>\n",
       "      <td>0_0</td>\n",
       "      <td>a</td>\n",
       "      <td>8</td>\n",
       "      <td>NaN</td>\n",
       "    </tr>\n",
       "    <tr>\n",
       "      <th>0_3</th>\n",
       "      <td>2</td>\n",
       "      <td>2</td>\n",
       "      <td>0</td>\n",
       "      <td>0</td>\n",
       "      <td>facility</td>\n",
       "      <td>260</td>\n",
       "      <td>0</td>\n",
       "      <td>4</td>\n",
       "      <td>0</td>\n",
       "      <td>3</td>\n",
       "      <td>...</td>\n",
       "      <td>I went to the gym most mornings but I did the ...</td>\n",
       "      <td>2015-04-30</td>\n",
       "      <td>-0.490811</td>\n",
       "      <td>[0, 485, 912]</td>\n",
       "      <td>0.180685</td>\n",
       "      <td>['2015-01-01', '2017-06-25']</td>\n",
       "      <td>0_0</td>\n",
       "      <td>a</td>\n",
       "      <td>8</td>\n",
       "      <td>NaN</td>\n",
       "    </tr>\n",
       "    <tr>\n",
       "      <th>0_4</th>\n",
       "      <td>0</td>\n",
       "      <td>2</td>\n",
       "      <td>2</td>\n",
       "      <td>0</td>\n",
       "      <td>facility</td>\n",
       "      <td>260</td>\n",
       "      <td>0</td>\n",
       "      <td>4</td>\n",
       "      <td>0</td>\n",
       "      <td>4</td>\n",
       "      <td>...</td>\n",
       "      <td>I suggest a room away from the elevators for t...</td>\n",
       "      <td>2015-07-14</td>\n",
       "      <td>-0.439716</td>\n",
       "      <td>[0, 485, 912]</td>\n",
       "      <td>0.180685</td>\n",
       "      <td>['2015-01-01', '2017-06-25']</td>\n",
       "      <td>0_0</td>\n",
       "      <td>a</td>\n",
       "      <td>8</td>\n",
       "      <td>NaN</td>\n",
       "    </tr>\n",
       "    <tr>\n",
       "      <th>0_5</th>\n",
       "      <td>2</td>\n",
       "      <td>2</td>\n",
       "      <td>0</td>\n",
       "      <td>0</td>\n",
       "      <td>facility</td>\n",
       "      <td>260</td>\n",
       "      <td>0</td>\n",
       "      <td>4</td>\n",
       "      <td>0</td>\n",
       "      <td>5</td>\n",
       "      <td>...</td>\n",
       "      <td>But Lorena sure did a good job and was so swee...</td>\n",
       "      <td>2015-08-13</td>\n",
       "      <td>-0.105745</td>\n",
       "      <td>[0, 485, 912]</td>\n",
       "      <td>0.180685</td>\n",
       "      <td>['2015-01-01', '2017-06-25']</td>\n",
       "      <td>0_0</td>\n",
       "      <td>a</td>\n",
       "      <td>8</td>\n",
       "      <td>NaN</td>\n",
       "    </tr>\n",
       "  </tbody>\n",
       "</table>\n",
       "<p>5 rows × 22 columns</p>\n",
       "</div>"
      ],
      "text/plain": [
       "     yes-sentiment  yes-aspect  no-sentiment  no-aspect  category  hotel_id  \\\n",
       "0_0              2           2             0          0  facility       260   \n",
       "0_2              2           2             0          0  facility       260   \n",
       "0_3              2           2             0          0  facility       260   \n",
       "0_4              0           2             2          0  facility       260   \n",
       "0_5              2           2             0          0  facility       260   \n",
       "\n",
       "     cpt  Total  fileId  iId  ...  \\\n",
       "0_0    0      4       0    0  ...   \n",
       "0_2    0      4       0    2  ...   \n",
       "0_3    0      4       0    3  ...   \n",
       "0_4    0      4       0    4  ...   \n",
       "0_5    0      4       0    5  ...   \n",
       "\n",
       "                                                  text        date sentiment  \\\n",
       "0_0  The lobby bar always had a solo performer pian...  2015-02-09 -0.407074   \n",
       "0_2  We were then escorted to one of the lobby chec...  2015-04-21 -0.405840   \n",
       "0_3  I went to the gym most mornings but I did the ...  2015-04-30 -0.490811   \n",
       "0_4  I suggest a room away from the elevators for t...  2015-07-14 -0.439716   \n",
       "0_5  But Lorena sure did a good job and was so swee...  2015-08-13 -0.105745   \n",
       "\n",
       "              cpts  sentiment_mean                   date_period  cpt_id  \\\n",
       "0_0  [0, 485, 912]        0.180685  ['2015-01-01', '2017-06-25']     0_0   \n",
       "0_2  [0, 485, 912]        0.180685  ['2015-01-01', '2017-06-25']     0_0   \n",
       "0_3  [0, 485, 912]        0.180685  ['2015-01-01', '2017-06-25']     0_0   \n",
       "0_4  [0, 485, 912]        0.180685  ['2015-01-01', '2017-06-25']     0_0   \n",
       "0_5  [0, 485, 912]        0.180685  ['2015-01-01', '2017-06-25']     0_0   \n",
       "\n",
       "    cpt_label TS_LEN argmin_max  \n",
       "0_0         a      8        NaN  \n",
       "0_2         a      8        NaN  \n",
       "0_3         a      8        NaN  \n",
       "0_4         a      8        NaN  \n",
       "0_5         a      8        NaN  \n",
       "\n",
       "[5 rows x 22 columns]"
      ]
     },
     "execution_count": 86,
     "metadata": {},
     "output_type": "execute_result"
    }
   ],
   "source": [
    "gold_df.head()"
   ]
  },
  {
   "cell_type": "code",
   "execution_count": 68,
   "metadata": {},
   "outputs": [
    {
     "data": {
      "text/plain": [
       "6151"
      ]
     },
     "execution_count": 68,
     "metadata": {},
     "output_type": "execute_result"
    }
   ],
   "source": [
    "len(gold_df)"
   ]
  },
  {
   "cell_type": "code",
   "execution_count": 73,
   "metadata": {},
   "outputs": [
    {
     "data": {
      "text/plain": [
       "381"
      ]
     },
     "execution_count": 73,
     "metadata": {},
     "output_type": "execute_result"
    }
   ],
   "source": [
    "len(list(set(gold_df['fileId'].to_list())))"
   ]
  },
  {
   "cell_type": "code",
   "execution_count": 92,
   "metadata": {},
   "outputs": [],
   "source": [
    "import ast"
   ]
  },
  {
   "cell_type": "code",
   "execution_count": 93,
   "metadata": {
    "scrolled": true
   },
   "outputs": [
    {
     "name": "stdout",
     "output_type": "stream",
     "text": [
      "{0: 'a', 1: 'd'}\n",
      "[(0, 485), (485, 912)]\n",
      "[0, 1]\n",
      "['2015-01-01', '2017-06-25']\n",
      "['2015-01-01', '2017-06-25']\n",
      "[(0, 485), (485, 912)]\n",
      "[0, 485, 912]\n",
      "['a']\n",
      "********************\n",
      "{0: 'c', 1: 'd'}\n",
      "[(0, 800), (800, 1201)]\n",
      "[1]\n",
      "['2015-01-01', '2018-02-26']\n",
      "['2015-01-01', '2018-02-26']\n",
      "[(800, 1201)]\n",
      "[0, 1201]\n",
      "[]\n",
      "********************\n",
      "{0: 'a', 1: 'd'}\n",
      "[(0, 45), (45, 86)]\n",
      "[0, 1]\n",
      "['2015-01-03', '2018-07-17']\n",
      "['2015-01-03', '2018-07-17']\n",
      "[(0, 45), (45, 86)]\n",
      "[0, 45, 86]\n",
      "['a']\n",
      "********************\n",
      "{0: 'a', 1: 'a', 2: 'c', 3: 'c', 4: 'c'}\n",
      "[(0, 75), (75, 885), (885, 990), (990, 1085), (1085, 1105), (1105, 1373)]\n",
      "[0, 1]\n",
      "['2015-01-01', '2015-04-03']\n",
      "['2015-01-01', '2015-04-03']\n",
      "[(0, 75), (75, 885)]\n",
      "[0, 75, 885, 1373]\n",
      "['a', 'a']\n",
      "********************\n",
      "{0: 'c', 1: 'c', 2: 'b', 3: 'd'}\n",
      "[(0, 135), (135, 780), (780, 1040), (1040, 1272)]\n",
      "[2, 3]\n",
      "['2015-01-01', '2015-06-26']\n",
      "['2015-01-01', '2015-06-26']\n"
     ]
    },
    {
     "ename": "IndexError",
     "evalue": "list index out of range",
     "output_type": "error",
     "traceback": [
      "\u001b[0;31m---------------------------------------------------------------------------\u001b[0m",
      "\u001b[0;31mIndexError\u001b[0m                                Traceback (most recent call last)",
      "\u001b[0;32m<ipython-input-93-40fdd9e8558e>\u001b[0m in \u001b[0;36m<module>\u001b[0;34m\u001b[0m\n\u001b[1;32m     18\u001b[0m     \u001b[0mdate_periods\u001b[0m \u001b[0;34m=\u001b[0m \u001b[0mast\u001b[0m\u001b[0;34m.\u001b[0m\u001b[0mliteral_eval\u001b[0m\u001b[0;34m(\u001b[0m\u001b[0mgroup\u001b[0m\u001b[0;34m[\u001b[0m\u001b[0;34m'date_period'\u001b[0m\u001b[0;34m]\u001b[0m\u001b[0;34m.\u001b[0m\u001b[0mto_list\u001b[0m\u001b[0;34m(\u001b[0m\u001b[0;34m)\u001b[0m\u001b[0;34m[\u001b[0m\u001b[0;36m0\u001b[0m\u001b[0;34m]\u001b[0m\u001b[0;34m)\u001b[0m\u001b[0;34m\u001b[0m\u001b[0;34m\u001b[0m\u001b[0m\n\u001b[1;32m     19\u001b[0m     \u001b[0mprint\u001b[0m\u001b[0;34m(\u001b[0m\u001b[0mdate_periods\u001b[0m\u001b[0;34m)\u001b[0m\u001b[0;34m\u001b[0m\u001b[0;34m\u001b[0m\u001b[0m\n\u001b[0;32m---> 20\u001b[0;31m     \u001b[0mvalid_dates\u001b[0m \u001b[0;34m=\u001b[0m \u001b[0;34m[\u001b[0m\u001b[0mdate_periods\u001b[0m\u001b[0;34m[\u001b[0m\u001b[0mx\u001b[0m\u001b[0;34m]\u001b[0m \u001b[0;32mfor\u001b[0m \u001b[0mx\u001b[0m \u001b[0;32min\u001b[0m \u001b[0mcpts_\u001b[0m\u001b[0;34m]\u001b[0m\u001b[0;34m\u001b[0m\u001b[0;34m\u001b[0m\u001b[0m\n\u001b[0m\u001b[1;32m     21\u001b[0m     \u001b[0mvalid_periods\u001b[0m \u001b[0;34m=\u001b[0m \u001b[0;34m[\u001b[0m\u001b[0mperiods_cands\u001b[0m\u001b[0;34m[\u001b[0m\u001b[0mx\u001b[0m\u001b[0;34m]\u001b[0m \u001b[0;32mfor\u001b[0m \u001b[0mx\u001b[0m \u001b[0;32min\u001b[0m \u001b[0mcpts_\u001b[0m\u001b[0;34m]\u001b[0m\u001b[0;34m\u001b[0m\u001b[0;34m\u001b[0m\u001b[0m\n\u001b[1;32m     22\u001b[0m     \u001b[0mperiods\u001b[0m\u001b[0;34m=\u001b[0m \u001b[0;34m[\u001b[0m\u001b[0;36m0\u001b[0m\u001b[0;34m]\u001b[0m \u001b[0;34m+\u001b[0m \u001b[0;34m[\u001b[0m\u001b[0my\u001b[0m \u001b[0;32mfor\u001b[0m \u001b[0mx\u001b[0m\u001b[0;34m,\u001b[0m\u001b[0my\u001b[0m \u001b[0;32min\u001b[0m \u001b[0mvalid_periods\u001b[0m\u001b[0;34m]\u001b[0m\u001b[0;34m\u001b[0m\u001b[0;34m\u001b[0m\u001b[0m\n",
      "\u001b[0;32m<ipython-input-93-40fdd9e8558e>\u001b[0m in \u001b[0;36m<listcomp>\u001b[0;34m(.0)\u001b[0m\n\u001b[1;32m     18\u001b[0m     \u001b[0mdate_periods\u001b[0m \u001b[0;34m=\u001b[0m \u001b[0mast\u001b[0m\u001b[0;34m.\u001b[0m\u001b[0mliteral_eval\u001b[0m\u001b[0;34m(\u001b[0m\u001b[0mgroup\u001b[0m\u001b[0;34m[\u001b[0m\u001b[0;34m'date_period'\u001b[0m\u001b[0;34m]\u001b[0m\u001b[0;34m.\u001b[0m\u001b[0mto_list\u001b[0m\u001b[0;34m(\u001b[0m\u001b[0;34m)\u001b[0m\u001b[0;34m[\u001b[0m\u001b[0;36m0\u001b[0m\u001b[0;34m]\u001b[0m\u001b[0;34m)\u001b[0m\u001b[0;34m\u001b[0m\u001b[0;34m\u001b[0m\u001b[0m\n\u001b[1;32m     19\u001b[0m     \u001b[0mprint\u001b[0m\u001b[0;34m(\u001b[0m\u001b[0mdate_periods\u001b[0m\u001b[0;34m)\u001b[0m\u001b[0;34m\u001b[0m\u001b[0;34m\u001b[0m\u001b[0m\n\u001b[0;32m---> 20\u001b[0;31m     \u001b[0mvalid_dates\u001b[0m \u001b[0;34m=\u001b[0m \u001b[0;34m[\u001b[0m\u001b[0mdate_periods\u001b[0m\u001b[0;34m[\u001b[0m\u001b[0mx\u001b[0m\u001b[0;34m]\u001b[0m \u001b[0;32mfor\u001b[0m \u001b[0mx\u001b[0m \u001b[0;32min\u001b[0m \u001b[0mcpts_\u001b[0m\u001b[0;34m]\u001b[0m\u001b[0;34m\u001b[0m\u001b[0;34m\u001b[0m\u001b[0m\n\u001b[0m\u001b[1;32m     21\u001b[0m     \u001b[0mvalid_periods\u001b[0m \u001b[0;34m=\u001b[0m \u001b[0;34m[\u001b[0m\u001b[0mperiods_cands\u001b[0m\u001b[0;34m[\u001b[0m\u001b[0mx\u001b[0m\u001b[0;34m]\u001b[0m \u001b[0;32mfor\u001b[0m \u001b[0mx\u001b[0m \u001b[0;32min\u001b[0m \u001b[0mcpts_\u001b[0m\u001b[0;34m]\u001b[0m\u001b[0;34m\u001b[0m\u001b[0;34m\u001b[0m\u001b[0m\n\u001b[1;32m     22\u001b[0m     \u001b[0mperiods\u001b[0m\u001b[0;34m=\u001b[0m \u001b[0;34m[\u001b[0m\u001b[0;36m0\u001b[0m\u001b[0;34m]\u001b[0m \u001b[0;34m+\u001b[0m \u001b[0;34m[\u001b[0m\u001b[0my\u001b[0m \u001b[0;32mfor\u001b[0m \u001b[0mx\u001b[0m\u001b[0;34m,\u001b[0m\u001b[0my\u001b[0m \u001b[0;32min\u001b[0m \u001b[0mvalid_periods\u001b[0m\u001b[0;34m]\u001b[0m\u001b[0;34m\u001b[0m\u001b[0;34m\u001b[0m\u001b[0m\n",
      "\u001b[0;31mIndexError\u001b[0m: list index out of range"
     ]
    }
   ],
   "source": [
    "cpts_d = defaultdict(dict)\n",
    "\n",
    "labels_list =[]\n",
    "for fileId, group in gold_df.groupby('fileId'):\n",
    "    cpts = json.loads(group['cpts'].to_list()[0]) # [0, 485, 912]\n",
    "    cpt_dict = dict(zip(group.cpt_id, group.cpt_label)) # {0:'a',1:'d'}\n",
    "    cpt_dict_sorted= {int(x.split('_')[-1]): y for x,y in cpt_dict.items()}\n",
    "    \n",
    "    category = group['category'].to_list()[0]\n",
    "    \n",
    "    periods_cands = list(zip(cpts[:-1], cpts[1:]))\n",
    "    print(cpt_dict_sorted)\n",
    "    print(periods_cands)\n",
    "    cpts_ = [x for x,y in cpt_dict_sorted.items() if y!='c'] # flip out 'c'\n",
    "    labels = [y for x,y in cpt_dict_sorted.items() if y!='c']\n",
    "    print(cpts_)\n",
    "    print(group['date_period'].to_list()[0])\n",
    "    date_periods = ast.literal_eval(group['date_period'].to_list()[0])\n",
    "    print(date_periods)\n",
    "    valid_dates = [date_periods[x] for x in cpts_]\n",
    "    valid_periods = [periods_cands[x] for x in cpts_]\n",
    "    periods= [0] + [y for x,y in valid_periods]\n",
    "    \n",
    "    if periods[-1]!= cpts[-1]:\n",
    "        periods += [cpts[-1]]\n",
    "    print(valid_periods)\n",
    "    print(periods)\n",
    "    if labels[-1]=='d':\n",
    "        labels = labels[:-1]\n",
    "    if len(labels)>0:\n",
    "        cpts_d[fileId]['cpts'] = cpts\n",
    "        cpts_d[fileId]['hotel_id'] = group['hotel_id'].to_list()[0]\n",
    "        cpts_d[fileId]['valid_cpts']= periods\n",
    "        cpts_d[fileId]['valid_dates'] = valid_dates\n",
    "        cpts_d[fileId]['valid_labels'] = labels\n",
    "        cpts_d[fileId]['category'] = category\n",
    "        \n",
    "        labels_list.append(labels)\n",
    "    print(labels)\n",
    "    print('*'*20)"
   ]
  },
  {
   "cell_type": "code",
   "execution_count": 94,
   "metadata": {},
   "outputs": [
    {
     "data": {
      "text/plain": [
       "{'cpts': [0, 485, 912],\n",
       " 'hotel_id': 260,\n",
       " 'valid_cpts': [0, 485, 912],\n",
       " 'valid_dates': ['2015-01-01', '2017-06-25'],\n",
       " 'valid_labels': ['a'],\n",
       " 'category': 'facility'}"
      ]
     },
     "execution_count": 94,
     "metadata": {},
     "output_type": "execute_result"
    }
   ],
   "source": [
    "cpts_d[0]"
   ]
  },
  {
   "cell_type": "code",
   "execution_count": 76,
   "metadata": {},
   "outputs": [],
   "source": [
    "from itertools import chain"
   ]
  },
  {
   "cell_type": "code",
   "execution_count": 78,
   "metadata": {},
   "outputs": [],
   "source": [
    "labels = list(chain.from_iterable(labels_list))"
   ]
  },
  {
   "cell_type": "code",
   "execution_count": 79,
   "metadata": {},
   "outputs": [],
   "source": [
    "from collections import Counter"
   ]
  },
  {
   "cell_type": "code",
   "execution_count": 80,
   "metadata": {},
   "outputs": [
    {
     "data": {
      "text/plain": [
       "Counter({'a': 244, 'b': 198, 'd': 1})"
      ]
     },
     "execution_count": 80,
     "metadata": {},
     "output_type": "execute_result"
    }
   ],
   "source": [
    "Counter(labels)"
   ]
  },
  {
   "cell_type": "code",
   "execution_count": 81,
   "metadata": {},
   "outputs": [
    {
     "data": {
      "text/plain": [
       "443"
      ]
     },
     "execution_count": 81,
     "metadata": {},
     "output_type": "execute_result"
    }
   ],
   "source": [
    "sum(Counter(labels).values())"
   ]
  },
  {
   "cell_type": "code",
   "execution_count": 74,
   "metadata": {},
   "outputs": [
    {
     "data": {
      "text/plain": [
       "356"
      ]
     },
     "execution_count": 74,
     "metadata": {},
     "output_type": "execute_result"
    }
   ],
   "source": [
    "len(cpts_d)"
   ]
  },
  {
   "cell_type": "code",
   "execution_count": 95,
   "metadata": {},
   "outputs": [],
   "source": [
    "with open('prepare_dataset/gold_cpt_dict.json', 'w') as writer:\n",
    "    json.dump(cpts_d, writer)"
   ]
  }
 ],
 "metadata": {
  "kernelspec": {
   "display_name": "cpd",
   "language": "python",
   "name": "cdp"
  },
  "language_info": {
   "codemirror_mode": {
    "name": "ipython",
    "version": 3
   },
   "file_extension": ".py",
   "mimetype": "text/x-python",
   "name": "python",
   "nbconvert_exporter": "python",
   "pygments_lexer": "ipython3",
   "version": "3.7.6"
  }
 },
 "nbformat": 4,
 "nbformat_minor": 4
}
