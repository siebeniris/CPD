{
 "cells": [
  {
   "cell_type": "code",
   "execution_count": 2,
   "metadata": {},
   "outputs": [],
   "source": [
    "import pandas as pd\n",
    "import numpy as np\n",
    "import glob\n",
    "import seaborn as sns\n",
    "import matplotlib\n",
    "import matplotlib.pyplot as plt\n",
    "from scipy import stats\n",
    "from collections import defaultdict\n",
    "%matplotlib inline"
   ]
  },
  {
   "cell_type": "code",
   "execution_count": 2,
   "metadata": {},
   "outputs": [],
   "source": [
    "# load sentiment scores in \"data/sbs_bic_20-06-29\""
   ]
  },
  {
   "cell_type": "code",
   "execution_count": null,
   "metadata": {},
   "outputs": [],
   "source": []
  },
  {
   "cell_type": "code",
   "execution_count": 27,
   "metadata": {},
   "outputs": [],
   "source": [
    "import json\n",
    "with open('db.json') as reader:\n",
    "    data= json.load(reader)"
   ]
  },
  {
   "cell_type": "code",
   "execution_count": 28,
   "metadata": {},
   "outputs": [],
   "source": [
    "with open('db_yiyi.json') as reader:\n",
    "    data_yiyi = json.load(reader)"
   ]
  },
  {
   "cell_type": "code",
   "execution_count": 29,
   "metadata": {},
   "outputs": [],
   "source": [
    "annotations_yiyi = data_yiyi['annotations']"
   ]
  },
  {
   "cell_type": "code",
   "execution_count": 30,
   "metadata": {},
   "outputs": [
    {
     "data": {
      "text/plain": [
       "{'id': 'lZqrFrJub',\n",
       " 'date': '2020-06-30T10:59:09.303Z',\n",
       " 'filename': 'renovation_room_147',\n",
       " 'fileId': '252',\n",
       " 'username': 'Edita',\n",
       " 'annotation': [{'id': 0, 'yes_aspect': True, 'yes_sentiment': True},\n",
       "  {'id': 1, 'yes_aspect': True, 'yes_sentiment': True},\n",
       "  {'id': 2, 'yes_aspect': True, 'yes_sentiment': True},\n",
       "  {'id': 3, 'yes_sentiment': True},\n",
       "  {'id': 4, 'yes_aspect': True, 'yes_sentiment': True},\n",
       "  {'id': 5, 'yes_aspect': True, 'yes_sentiment': True},\n",
       "  {'id': 6, 'yes_aspect': True, 'yes_sentiment': True},\n",
       "  {'id': 7, 'yes_aspect': True, 'yes_sentiment': True},\n",
       "  {'id': 8, 'yes_aspect': True, 'yes_sentiment': True},\n",
       "  {'id': 9, 'yes_aspect': False, 'yes_sentiment': True}],\n",
       " 'cptAnswer': {}}"
      ]
     },
     "execution_count": 30,
     "metadata": {},
     "output_type": "execute_result"
    }
   ],
   "source": [
    "annotations_yiyi[0]"
   ]
  },
  {
   "cell_type": "code",
   "execution_count": 31,
   "metadata": {},
   "outputs": [],
   "source": [
    "yiyi_annotations=[]\n",
    "for i in annotations_yiyi:\n",
    "    if i['username']=='yiyi':\n",
    "        yiyi_annotations.append(i)\n",
    "    "
   ]
  },
  {
   "cell_type": "code",
   "execution_count": 32,
   "metadata": {},
   "outputs": [
    {
     "data": {
      "text/plain": [
       "207"
      ]
     },
     "execution_count": 32,
     "metadata": {},
     "output_type": "execute_result"
    }
   ],
   "source": [
    "len(yiyi_annotations)"
   ]
  },
  {
   "cell_type": "code",
   "execution_count": 33,
   "metadata": {},
   "outputs": [],
   "source": [
    "annotations=data['annotations']"
   ]
  },
  {
   "cell_type": "code",
   "execution_count": 34,
   "metadata": {},
   "outputs": [
    {
     "data": {
      "text/plain": [
       "859"
      ]
     },
     "execution_count": 34,
     "metadata": {},
     "output_type": "execute_result"
    }
   ],
   "source": [
    "len(annotations)"
   ]
  },
  {
   "cell_type": "code",
   "execution_count": 35,
   "metadata": {},
   "outputs": [],
   "source": [
    "merged_annotations= annotations+yiyi_annotations"
   ]
  },
  {
   "cell_type": "code",
   "execution_count": 36,
   "metadata": {},
   "outputs": [
    {
     "data": {
      "text/plain": [
       "1066"
      ]
     },
     "execution_count": 36,
     "metadata": {},
     "output_type": "execute_result"
    }
   ],
   "source": [
    "len(merged_annotations)"
   ]
  },
  {
   "cell_type": "code",
   "execution_count": 37,
   "metadata": {},
   "outputs": [],
   "source": [
    "reviews= data['reviews']"
   ]
  },
  {
   "cell_type": "code",
   "execution_count": 38,
   "metadata": {},
   "outputs": [],
   "source": [
    "with open('data_processed/annotations.json','w') as writer:\n",
    "    json.dump(merged_annotations, writer)"
   ]
  },
  {
   "cell_type": "code",
   "execution_count": 39,
   "metadata": {},
   "outputs": [],
   "source": [
    "with open('data_processed/reviews.json', 'w') as writer:\n",
    "    json.dump(reviews, writer)"
   ]
  },
  {
   "cell_type": "code",
   "execution_count": 69,
   "metadata": {},
   "outputs": [
    {
     "data": {
      "text/plain": [
       "420"
      ]
     },
     "execution_count": 69,
     "metadata": {},
     "output_type": "execute_result"
    }
   ],
   "source": [
    "len(reviews)"
   ]
  },
  {
   "cell_type": "code",
   "execution_count": 70,
   "metadata": {},
   "outputs": [
    {
     "name": "stdout",
     "output_type": "stream",
     "text": [
      "{'id': 'bZ-w_D4qh', 'date': '2020-07-08T14:18:05.561Z', 'filename': 'room_368', 'fileId': '84', 'username': 'Oana', 'annotation': [{'id': 0, 'yes_aspect': True}, {'id': 1, 'yes_aspect': True, 'yes_sentiment': True}, {'id': 2, 'yes_aspect': True}, {'id': 3, 'yes_aspect': True, 'yes_sentiment': True}, {'id': 4, 'yes_aspect': True, 'yes_sentiment': False}, {'id': 5}, {'id': 6, 'yes_aspect': True, 'yes_sentiment': True}, {'id': 7}, {'id': 8, 'yes_aspect': True, 'yes_sentiment': True}, {'id': 9, 'yes_aspect': True, 'yes_sentiment': True}, {'id': 10, 'yes_aspect': True, 'yes_sentiment': True}, {'id': 11, 'yes_aspect': True, 'yes_sentiment': True}, {'id': 12, 'yes_aspect': True, 'yes_sentiment': True}, {'id': 13, 'yes_aspect': True, 'yes_sentiment': True}, {'id': 14, 'yes_aspect': True, 'yes_sentiment': True}, {'id': 15, 'yes_aspect': True, 'yes_sentiment': True}, {'id': 16, 'yes_aspect': True, 'yes_sentiment': True}, {'id': 17, 'yes_aspect': True, 'yes_sentiment': True}, {'id': 18, 'yes_aspect': True, 'yes_sentiment': True}, {'id': 19, 'yes_aspect': True, 'yes_sentiment': True}], 'cptAnswer': {'0': 'a'}}\n",
      "{'id': 'vaD7FUj-C', 'date': '2020-07-08T14:21:44.789Z', 'filename': 'room_368', 'fileId': '84', 'username': 'Alina', 'annotation': [{'id': 0, 'yes_aspect': True, 'yes_sentiment': True}, {'id': 1, 'yes_aspect': True, 'yes_sentiment': True}, {'id': 2, 'yes_aspect': True, 'yes_sentiment': True}, {'id': 3, 'yes_aspect': True, 'yes_sentiment': True}, {'id': 4, 'yes_aspect': True, 'yes_sentiment': True}, {'id': 5, 'yes_sentiment': True}, {'id': 6, 'yes_sentiment': True}, {'id': 7, 'yes_aspect': True, 'yes_sentiment': True}, {'id': 8, 'yes_sentiment': True}, {'id': 9, 'yes_aspect': True, 'yes_sentiment': True}, {'id': 10, 'yes_aspect': True, 'yes_sentiment': True}, {'id': 11, 'yes_aspect': True, 'yes_sentiment': True}, {'id': 12, 'yes_aspect': True, 'yes_sentiment': True}, {'id': 13, 'yes_aspect': True, 'yes_sentiment': True}, {'id': 14, 'yes_aspect': True, 'yes_sentiment': True}, {'id': 15, 'yes_aspect': True, 'yes_sentiment': True}, {'id': 16, 'yes_aspect': True, 'yes_sentiment': True}, {'id': 17, 'yes_aspect': True, 'yes_sentiment': True}, {'id': 18, 'yes_aspect': True, 'yes_sentiment': True}, {'id': 19, 'yes_aspect': False, 'yes_sentiment': True}], 'cptAnswer': {'0': 'a'}}\n"
     ]
    }
   ],
   "source": [
    "for i in merged_annotations:\n",
    "    if i['fileId']=='84':\n",
    "        print(i)"
   ]
  },
  {
   "cell_type": "code",
   "execution_count": null,
   "metadata": {},
   "outputs": [],
   "source": []
  },
  {
   "cell_type": "code",
   "execution_count": 44,
   "metadata": {},
   "outputs": [
    {
     "data": {
      "text/html": [
       "<div>\n",
       "<style scoped>\n",
       "    .dataframe tbody tr th:only-of-type {\n",
       "        vertical-align: middle;\n",
       "    }\n",
       "\n",
       "    .dataframe tbody tr th {\n",
       "        vertical-align: top;\n",
       "    }\n",
       "\n",
       "    .dataframe thead th {\n",
       "        text-align: right;\n",
       "    }\n",
       "</style>\n",
       "<table border=\"1\" class=\"dataframe\">\n",
       "  <thead>\n",
       "    <tr style=\"text-align: right;\">\n",
       "      <th></th>\n",
       "      <th>a</th>\n",
       "      <th>b</th>\n",
       "      <th>c</th>\n",
       "      <th>Total</th>\n",
       "      <th>category</th>\n",
       "      <th>hotel_id</th>\n",
       "      <th>fileId</th>\n",
       "      <th>iId</th>\n",
       "    </tr>\n",
       "  </thead>\n",
       "  <tbody>\n",
       "    <tr>\n",
       "      <th>0_0</th>\n",
       "      <td>2</td>\n",
       "      <td>0</td>\n",
       "      <td>1</td>\n",
       "      <td>3</td>\n",
       "      <td>facility</td>\n",
       "      <td>260</td>\n",
       "      <td>0</td>\n",
       "      <td>0</td>\n",
       "    </tr>\n",
       "    <tr>\n",
       "      <th>1_0</th>\n",
       "      <td>0</td>\n",
       "      <td>0</td>\n",
       "      <td>2</td>\n",
       "      <td>2</td>\n",
       "      <td>pool</td>\n",
       "      <td>260</td>\n",
       "      <td>1</td>\n",
       "      <td>0</td>\n",
       "    </tr>\n",
       "    <tr>\n",
       "      <th>2_0</th>\n",
       "      <td>2</td>\n",
       "      <td>0</td>\n",
       "      <td>1</td>\n",
       "      <td>3</td>\n",
       "      <td>renovation_room</td>\n",
       "      <td>260</td>\n",
       "      <td>2</td>\n",
       "      <td>0</td>\n",
       "    </tr>\n",
       "    <tr>\n",
       "      <th>3_0</th>\n",
       "      <td>2</td>\n",
       "      <td>0</td>\n",
       "      <td>1</td>\n",
       "      <td>3</td>\n",
       "      <td>restaurant</td>\n",
       "      <td>260</td>\n",
       "      <td>3</td>\n",
       "      <td>0</td>\n",
       "    </tr>\n",
       "    <tr>\n",
       "      <th>3_1</th>\n",
       "      <td>2</td>\n",
       "      <td>0</td>\n",
       "      <td>1</td>\n",
       "      <td>3</td>\n",
       "      <td>restaurant</td>\n",
       "      <td>260</td>\n",
       "      <td>3</td>\n",
       "      <td>1</td>\n",
       "    </tr>\n",
       "  </tbody>\n",
       "</table>\n",
       "</div>"
      ],
      "text/plain": [
       "     a  b  c  Total         category  hotel_id  fileId  iId\n",
       "0_0  2  0  1      3         facility       260       0    0\n",
       "1_0  0  0  2      2             pool       260       1    0\n",
       "2_0  2  0  1      3  renovation_room       260       2    0\n",
       "3_0  2  0  1      3       restaurant       260       3    0\n",
       "3_1  2  0  1      3       restaurant       260       3    1"
      ]
     },
     "execution_count": 44,
     "metadata": {},
     "output_type": "execute_result"
    }
   ],
   "source": [
    "cpts_df = pd.read_csv('preprocessed_data/annotated_cpts_df.csv', index_col=0)\n",
    "cpts_df.head()"
   ]
  },
  {
   "cell_type": "code",
   "execution_count": 72,
   "metadata": {},
   "outputs": [
    {
     "data": {
      "text/html": [
       "<div>\n",
       "<style scoped>\n",
       "    .dataframe tbody tr th:only-of-type {\n",
       "        vertical-align: middle;\n",
       "    }\n",
       "\n",
       "    .dataframe tbody tr th {\n",
       "        vertical-align: top;\n",
       "    }\n",
       "\n",
       "    .dataframe thead th {\n",
       "        text-align: right;\n",
       "    }\n",
       "</style>\n",
       "<table border=\"1\" class=\"dataframe\">\n",
       "  <thead>\n",
       "    <tr style=\"text-align: right;\">\n",
       "      <th></th>\n",
       "      <th>yes-sentiment</th>\n",
       "      <th>yes-aspect</th>\n",
       "      <th>no-sentiment</th>\n",
       "      <th>no-aspect</th>\n",
       "      <th>category</th>\n",
       "      <th>hotel_id</th>\n",
       "      <th>cpt</th>\n",
       "      <th>Total</th>\n",
       "      <th>fileId</th>\n",
       "      <th>iId</th>\n",
       "    </tr>\n",
       "  </thead>\n",
       "  <tbody>\n",
       "    <tr>\n",
       "      <th>0_0</th>\n",
       "      <td>2</td>\n",
       "      <td>2</td>\n",
       "      <td>0</td>\n",
       "      <td>0</td>\n",
       "      <td>facility</td>\n",
       "      <td>260</td>\n",
       "      <td>0</td>\n",
       "      <td>4</td>\n",
       "      <td>0</td>\n",
       "      <td>0</td>\n",
       "    </tr>\n",
       "    <tr>\n",
       "      <th>0_2</th>\n",
       "      <td>2</td>\n",
       "      <td>2</td>\n",
       "      <td>0</td>\n",
       "      <td>0</td>\n",
       "      <td>facility</td>\n",
       "      <td>260</td>\n",
       "      <td>0</td>\n",
       "      <td>4</td>\n",
       "      <td>0</td>\n",
       "      <td>2</td>\n",
       "    </tr>\n",
       "    <tr>\n",
       "      <th>0_3</th>\n",
       "      <td>2</td>\n",
       "      <td>2</td>\n",
       "      <td>0</td>\n",
       "      <td>0</td>\n",
       "      <td>facility</td>\n",
       "      <td>260</td>\n",
       "      <td>0</td>\n",
       "      <td>4</td>\n",
       "      <td>0</td>\n",
       "      <td>3</td>\n",
       "    </tr>\n",
       "    <tr>\n",
       "      <th>0_4</th>\n",
       "      <td>0</td>\n",
       "      <td>2</td>\n",
       "      <td>2</td>\n",
       "      <td>0</td>\n",
       "      <td>facility</td>\n",
       "      <td>260</td>\n",
       "      <td>0</td>\n",
       "      <td>4</td>\n",
       "      <td>0</td>\n",
       "      <td>4</td>\n",
       "    </tr>\n",
       "    <tr>\n",
       "      <th>0_5</th>\n",
       "      <td>2</td>\n",
       "      <td>2</td>\n",
       "      <td>0</td>\n",
       "      <td>0</td>\n",
       "      <td>facility</td>\n",
       "      <td>260</td>\n",
       "      <td>0</td>\n",
       "      <td>4</td>\n",
       "      <td>0</td>\n",
       "      <td>5</td>\n",
       "    </tr>\n",
       "  </tbody>\n",
       "</table>\n",
       "</div>"
      ],
      "text/plain": [
       "     yes-sentiment  yes-aspect  no-sentiment  no-aspect  category  hotel_id  \\\n",
       "0_0              2           2             0          0  facility       260   \n",
       "0_2              2           2             0          0  facility       260   \n",
       "0_3              2           2             0          0  facility       260   \n",
       "0_4              0           2             2          0  facility       260   \n",
       "0_5              2           2             0          0  facility       260   \n",
       "\n",
       "     cpt  Total  fileId  iId  \n",
       "0_0    0      4       0    0  \n",
       "0_2    0      4       0    2  \n",
       "0_3    0      4       0    3  \n",
       "0_4    0      4       0    4  \n",
       "0_5    0      4       0    5  "
      ]
     },
     "execution_count": 72,
     "metadata": {},
     "output_type": "execute_result"
    }
   ],
   "source": [
    "sents_df = pd.read_csv('preprocessed_data/annotated_sentences_df.csv', index_col=0)\n",
    "sents_df.head()"
   ]
  },
  {
   "cell_type": "markdown",
   "metadata": {},
   "source": [
    "#  Change points"
   ]
  },
  {
   "cell_type": "code",
   "execution_count": 46,
   "metadata": {},
   "outputs": [],
   "source": [
    "cpts_df['gold']= cpts_df[['a','b','c']].idxmax(axis=1)"
   ]
  },
  {
   "cell_type": "code",
   "execution_count": 47,
   "metadata": {},
   "outputs": [
    {
     "data": {
      "text/html": [
       "<div>\n",
       "<style scoped>\n",
       "    .dataframe tbody tr th:only-of-type {\n",
       "        vertical-align: middle;\n",
       "    }\n",
       "\n",
       "    .dataframe tbody tr th {\n",
       "        vertical-align: top;\n",
       "    }\n",
       "\n",
       "    .dataframe thead th {\n",
       "        text-align: right;\n",
       "    }\n",
       "</style>\n",
       "<table border=\"1\" class=\"dataframe\">\n",
       "  <thead>\n",
       "    <tr style=\"text-align: right;\">\n",
       "      <th></th>\n",
       "      <th>a</th>\n",
       "      <th>b</th>\n",
       "      <th>c</th>\n",
       "      <th>Total</th>\n",
       "      <th>category</th>\n",
       "      <th>hotel_id</th>\n",
       "      <th>fileId</th>\n",
       "      <th>iId</th>\n",
       "      <th>gold</th>\n",
       "    </tr>\n",
       "  </thead>\n",
       "  <tbody>\n",
       "    <tr>\n",
       "      <th>0_0</th>\n",
       "      <td>2</td>\n",
       "      <td>0</td>\n",
       "      <td>1</td>\n",
       "      <td>3</td>\n",
       "      <td>facility</td>\n",
       "      <td>260</td>\n",
       "      <td>0</td>\n",
       "      <td>0</td>\n",
       "      <td>a</td>\n",
       "    </tr>\n",
       "    <tr>\n",
       "      <th>1_0</th>\n",
       "      <td>0</td>\n",
       "      <td>0</td>\n",
       "      <td>2</td>\n",
       "      <td>2</td>\n",
       "      <td>pool</td>\n",
       "      <td>260</td>\n",
       "      <td>1</td>\n",
       "      <td>0</td>\n",
       "      <td>c</td>\n",
       "    </tr>\n",
       "    <tr>\n",
       "      <th>2_0</th>\n",
       "      <td>2</td>\n",
       "      <td>0</td>\n",
       "      <td>1</td>\n",
       "      <td>3</td>\n",
       "      <td>renovation_room</td>\n",
       "      <td>260</td>\n",
       "      <td>2</td>\n",
       "      <td>0</td>\n",
       "      <td>a</td>\n",
       "    </tr>\n",
       "    <tr>\n",
       "      <th>3_0</th>\n",
       "      <td>2</td>\n",
       "      <td>0</td>\n",
       "      <td>1</td>\n",
       "      <td>3</td>\n",
       "      <td>restaurant</td>\n",
       "      <td>260</td>\n",
       "      <td>3</td>\n",
       "      <td>0</td>\n",
       "      <td>a</td>\n",
       "    </tr>\n",
       "    <tr>\n",
       "      <th>3_1</th>\n",
       "      <td>2</td>\n",
       "      <td>0</td>\n",
       "      <td>1</td>\n",
       "      <td>3</td>\n",
       "      <td>restaurant</td>\n",
       "      <td>260</td>\n",
       "      <td>3</td>\n",
       "      <td>1</td>\n",
       "      <td>a</td>\n",
       "    </tr>\n",
       "  </tbody>\n",
       "</table>\n",
       "</div>"
      ],
      "text/plain": [
       "     a  b  c  Total         category  hotel_id  fileId  iId gold\n",
       "0_0  2  0  1      3         facility       260       0    0    a\n",
       "1_0  0  0  2      2             pool       260       1    0    c\n",
       "2_0  2  0  1      3  renovation_room       260       2    0    a\n",
       "3_0  2  0  1      3       restaurant       260       3    0    a\n",
       "3_1  2  0  1      3       restaurant       260       3    1    a"
      ]
     },
     "execution_count": 47,
     "metadata": {},
     "output_type": "execute_result"
    }
   ],
   "source": [
    "cpts_df.head()"
   ]
  },
  {
   "cell_type": "code",
   "execution_count": 48,
   "metadata": {},
   "outputs": [
    {
     "data": {
      "text/plain": [
       "585"
      ]
     },
     "execution_count": 48,
     "metadata": {},
     "output_type": "execute_result"
    }
   ],
   "source": [
    "len(cpts_df)"
   ]
  },
  {
   "cell_type": "code",
   "execution_count": 49,
   "metadata": {},
   "outputs": [],
   "source": [
    "gold_labels = cpts_df['gold']"
   ]
  },
  {
   "cell_type": "code",
   "execution_count": 50,
   "metadata": {},
   "outputs": [],
   "source": [
    "from collections import Counter"
   ]
  },
  {
   "cell_type": "code",
   "execution_count": 51,
   "metadata": {},
   "outputs": [
    {
     "data": {
      "text/plain": [
       "Counter({'a': 251, 'c': 134, 'b': 200})"
      ]
     },
     "execution_count": 51,
     "metadata": {},
     "output_type": "execute_result"
    }
   ],
   "source": [
    "Counter(gold_labels)"
   ]
  },
  {
   "cell_type": "markdown",
   "metadata": {},
   "source": [
    "### At least one annotator said aspect doesn't align, exclude those sentences.\n",
    "- then there are only two clusters for reviews in each time period:\n",
    "    - sentiment aligns with the majority,\n",
    "    - sentiment doesn't align"
   ]
  },
  {
   "cell_type": "markdown",
   "metadata": {},
   "source": [
    "**how many times annotators agree with each other**\n",
    "    - any entry is a two, 14064, 18752, 0.75"
   ]
  },
  {
   "cell_type": "markdown",
   "metadata": {},
   "source": [
    "## get the sentences no annotators said no."
   ]
  },
  {
   "cell_type": "code",
   "execution_count": 73,
   "metadata": {},
   "outputs": [],
   "source": [
    "def gold_aspect(row):\n",
    "    if row['no-aspect']!=0:\n",
    "        return False\n",
    "    else:\n",
    "        return True\n",
    "\n",
    "def gold_sentiment(row):\n",
    "    if row['no-sentiment']!=0:\n",
    "        return False\n",
    "    else:\n",
    "        return True"
   ]
  },
  {
   "cell_type": "code",
   "execution_count": 75,
   "metadata": {},
   "outputs": [
    {
     "data": {
      "text/plain": [
       "9396"
      ]
     },
     "execution_count": 75,
     "metadata": {},
     "output_type": "execute_result"
    }
   ],
   "source": [
    "len(sents_df)"
   ]
  },
  {
   "cell_type": "code",
   "execution_count": 76,
   "metadata": {},
   "outputs": [],
   "source": [
    "sents_df['gold-aspect']= sents_df.apply(gold_aspect, axis=1)\n",
    "sents_df['gold-sentiment']= sents_df.apply(gold_sentiment, axis=1)"
   ]
  },
  {
   "cell_type": "code",
   "execution_count": 78,
   "metadata": {},
   "outputs": [],
   "source": [
    "sents_df_true_sent = sents_df[sents_df['gold-sentiment']==True]"
   ]
  },
  {
   "cell_type": "code",
   "execution_count": 79,
   "metadata": {},
   "outputs": [
    {
     "data": {
      "text/plain": [
       "(6043, 3353)"
      ]
     },
     "execution_count": 79,
     "metadata": {},
     "output_type": "execute_result"
    }
   ],
   "source": [
    "len(sents_df_true_sent), len(sents_df)- len(sents_df_true_sent)"
   ]
  },
  {
   "cell_type": "code",
   "execution_count": 80,
   "metadata": {},
   "outputs": [
    {
     "data": {
      "text/plain": [
       "(6391, 3005)"
      ]
     },
     "execution_count": 80,
     "metadata": {},
     "output_type": "execute_result"
    }
   ],
   "source": [
    "sents_df_true_aspect= sents_df[sents_df['gold-aspect']==True]\n",
    "len(sents_df_true_aspect), len(sents_df)- len(sents_df_true_aspect)"
   ]
  },
  {
   "cell_type": "code",
   "execution_count": 24,
   "metadata": {},
   "outputs": [],
   "source": [
    "# hello"
   ]
  },
  {
   "cell_type": "code",
   "execution_count": 81,
   "metadata": {},
   "outputs": [],
   "source": [
    "json_paths = 'data/sbs_bic_20-06-29'"
   ]
  },
  {
   "cell_type": "code",
   "execution_count": 82,
   "metadata": {},
   "outputs": [],
   "source": [
    "import rootpath,os,json\n",
    "root= rootpath.detect()"
   ]
  },
  {
   "cell_type": "code",
   "execution_count": 83,
   "metadata": {},
   "outputs": [],
   "source": [
    "data_dir = os.path.join(root, json_paths)"
   ]
  },
  {
   "cell_type": "code",
   "execution_count": 84,
   "metadata": {},
   "outputs": [
    {
     "data": {
      "text/plain": [
       "'/home/yiyi/Documents/masterarbeit/CPD/data/sbs_bic_20-06-29'"
      ]
     },
     "execution_count": 84,
     "metadata": {},
     "output_type": "execute_result"
    }
   ],
   "source": [
    "data_dir"
   ]
  },
  {
   "cell_type": "code",
   "execution_count": 85,
   "metadata": {},
   "outputs": [
    {
     "data": {
      "text/plain": [
       "9396"
      ]
     },
     "execution_count": 85,
     "metadata": {},
     "output_type": "execute_result"
    }
   ],
   "source": [
    "len(sents_df)"
   ]
  },
  {
   "cell_type": "code",
   "execution_count": 86,
   "metadata": {},
   "outputs": [
    {
     "data": {
      "text/plain": [
       "140"
      ]
     },
     "execution_count": 86,
     "metadata": {},
     "output_type": "execute_result"
    }
   ],
   "source": [
    "len(list(set(sents_df['hotel_id'])))"
   ]
  },
  {
   "cell_type": "code",
   "execution_count": 87,
   "metadata": {},
   "outputs": [
    {
     "data": {
      "text/plain": [
       "420"
      ]
     },
     "execution_count": 87,
     "metadata": {},
     "output_type": "execute_result"
    }
   ],
   "source": [
    "len(list(set(sents_df['fileId'])))"
   ]
  },
  {
   "cell_type": "code",
   "execution_count": 88,
   "metadata": {},
   "outputs": [],
   "source": [
    "category_hotel_id = list(set(list(zip(sents_df['category'], sents_df['hotel_id']))))"
   ]
  },
  {
   "cell_type": "code",
   "execution_count": 89,
   "metadata": {},
   "outputs": [
    {
     "data": {
      "text/plain": [
       "[('room', 401), ('pool', 132), ('room', 163)]"
      ]
     },
     "execution_count": 89,
     "metadata": {},
     "output_type": "execute_result"
    }
   ],
   "source": [
    "category_hotel_id[:3]"
   ]
  },
  {
   "cell_type": "code",
   "execution_count": 90,
   "metadata": {},
   "outputs": [
    {
     "data": {
      "text/plain": [
       "420"
      ]
     },
     "execution_count": 90,
     "metadata": {},
     "output_type": "execute_result"
    }
   ],
   "source": [
    "len(category_hotel_id)"
   ]
  },
  {
   "cell_type": "code",
   "execution_count": 91,
   "metadata": {},
   "outputs": [],
   "source": [
    "cat_id_dict = {}\n",
    "for cat, hotel_id in category_hotel_id:\n",
    "    name = cat+'_'+str(hotel_id)\n",
    "    if cat=='renovation_room':\n",
    "        folder= 'renovation-related/room'\n",
    "    else:\n",
    "        folder = cat\n",
    "    for filepath in glob.glob('/home/yiyi/Documents/masterarbeit/CPD/data/sbs_bic_20-06-29/'+folder+'/json_file/**.json'):\n",
    "        filename = os.path.basename(filepath)\n",
    "        with open(filepath) as reader:\n",
    "            dat = json.load(reader)\n",
    "        hotel_idx= int(filename.split('#')[0])\n",
    "        if hotel_id==hotel_idx:\n",
    "            cat_id_dict[name]= dat"
   ]
  },
  {
   "cell_type": "code",
   "execution_count": 92,
   "metadata": {},
   "outputs": [
    {
     "data": {
      "text/plain": [
       "420"
      ]
     },
     "execution_count": 92,
     "metadata": {},
     "output_type": "execute_result"
    }
   ],
   "source": [
    "len(cat_id_dict)"
   ]
  },
  {
   "cell_type": "code",
   "execution_count": 93,
   "metadata": {
    "scrolled": true
   },
   "outputs": [
    {
     "data": {
      "text/plain": [
       "{'sentences': {'0': [['2015-01-04',\n",
       "    '5d46a7ee-97b0-4762-8c7e-4b3873f2e912',\n",
       "    \"['go', 'throw', 'trash', 'tv', 'notice', 'dirty', 'wire']\",\n",
       "    'When I went to throw away something in trash next to TV I noticed how dirty the wires were',\n",
       "    -0.4926149249076843],\n",
       "   ['2015-02-02',\n",
       "    '31062927-2339-493b-81d3-4762a61a43e5',\n",
       "    \"['complaint', 'free', 'breakfast', 'price', 'pay', 'room', 'sleep', 'number', 'bed', 'assumption', 'bed', 'call', 'morning', 'check', 'early', 'check', 'lady', 'phone', 'nice', 'helpful', 'explain', 'hour', 'drive', 'want', 'check', 'needless', 'leave', 'check', 'lady', 'check', 'counter', 'little', 'crabby', 'family', 'member', 'check', 'assume', 'lady', 'sure', 'have', 'bad', 'day', 'rest', 'staff', 'deal', 'fantastic']\",\n",
       "    'My only complaints were that there was not free breakfast for the price that we paid for the room and that we did not get a sleep number bed I was under the assumption all the beds were and when I called the morning of check in to see if I could get an early check in the lady on the phone was not very nice or helpful as I explained we had an hour drive and did nt want to show up early if we could not check in early so needless to say we left later to make check in at 3 and one of the ladies at the check in counter was a little crabby with one of my family members upon checking in also I can only assume it was the same lady I am sure she was just having a bad day other than her all of the rest of the staff that I had to deal with was fantastic',\n",
       "    -0.4945716857910156],\n",
       "   ['2016-01-23',\n",
       "    'f7dbda94-e3aa-45ca-bb75-4234aa2dc787',\n",
       "    \"['work', 'room', 'close', 'floor', 'renovation', 'find', 'walk', 'workout', 'clothe', 'am', 'disappointing', 'cold', 'run']\",\n",
       "    'The work out room was closed for floor renovation and I did not find out until I walked down in my workout clothes at 7 am Very disappointing as it was too cold to run outside',\n",
       "    -0.4958015978336334],\n",
       "   ['2016-04-16',\n",
       "    'b9f4b6d5-bfa1-4368-87f2-ee032ea82222',\n",
       "    \"['share', 'double', 'room']\",\n",
       "    'shared a double room',\n",
       "    -0.17181041836738584],\n",
       "   ['2016-08-09',\n",
       "    '7006c264-3233-46ff-9f99-f0158cba6e26',\n",
       "    \"['room', 'clean', 'survey', 'site', 'capture', 'score', 'select']\",\n",
       "    'Our room was not cleaned until 230 PMThis survey site is not capturing the scores I have selected',\n",
       "    -0.4905880093574524],\n",
       "   ['2016-09-06',\n",
       "    'a52d078b-b13d-4a6b-a39b-b19371e3b9b3',\n",
       "    \"['room', 'date', 'carpeting', 'need', 'cleaning', 'replacement']\",\n",
       "    'Rooms were dated carpeting needed cleaning or replacement',\n",
       "    -0.4876674711704254],\n",
       "   ['2016-11-18',\n",
       "    '10eb76b0-ac14-458e-895e-56cdb95a7aa5',\n",
       "    \"['room', 'small', 'elevator']\",\n",
       "    'Room was very small next to an elevator',\n",
       "    -0.498402863740921],\n",
       "   ['2016-11-25',\n",
       "    'aae4f926-c76e-479f-8109-318e4e70eb36',\n",
       "    \"['carpet', 'wear', 'stain', 'old', 'room']\",\n",
       "    'Carpets worn and stained in the old rooms',\n",
       "    -0.4992333054542542],\n",
       "   ['2017-01-03',\n",
       "    '5fa21677-0abd-4448-8eb0-139e898787df',\n",
       "    \"['pool', 'deck', 'little', 'clean']\",\n",
       "    'The pool deck could have been a little cleaner',\n",
       "    -0.4955366253852844],\n",
       "   ['2017-01-28',\n",
       "    'fb40eae7-c76b-43b0-9ef0-3f746a460225',\n",
       "    \"['problem', 'hot', 'tub', 'work', 'lukewarm', 'biggie']\",\n",
       "    'The only problem is the hot tub was not working and was lukewarm no bigie',\n",
       "    -0.4754093587398529]],\n",
       "  '1': [['2017-02-19',\n",
       "    'debd805e-8e04-4be8-b6b9-e39256af415d',\n",
       "    \"['room', 'update', 'spacious']\",\n",
       "    'The room was updated and spacious',\n",
       "    0.48219418525695795],\n",
       "   ['2017-10-06',\n",
       "    '73700ba5-64cb-4fe7-9105-d3f0f8a0b454',\n",
       "    \"['room', 'hotel', 'staff', 'notch']\",\n",
       "    'The room and hotel staff were top notch',\n",
       "    0.4988183379173279],\n",
       "   ['2017-10-09',\n",
       "    '61d4d379-3477-4196-ad12-97098ea825c4',\n",
       "    \"['walk', 'shower', 'fantastic']\",\n",
       "    'Walk in shower was fantastic',\n",
       "    0.4909029603004456],\n",
       "   ['2018-03-24',\n",
       "    'd28c618d-90ac-4ca3-b6d4-c7e56391273b',\n",
       "    \"['room', 'generous', 'space']\",\n",
       "    'The room is very generous in space',\n",
       "    0.4924827218055725],\n",
       "   ['2018-09-09',\n",
       "    '98b567ac-f324-4b99-8db0-f52c9f9d8664',\n",
       "    \"['room', 'comfortable', 'appoint', 'need', 'meet', 'stay', 'ask']\",\n",
       "    'The room was comfortable and well appointed and all of our needs were met during our stay so we really could not have asked for more',\n",
       "    0.4893089532852173],\n",
       "   ['2018-09-29',\n",
       "    'de59873e-348e-4954-874e-2cef25a7691b',\n",
       "    \"['room', 'lovely', 'clean']\",\n",
       "    'Room was lovely and very clean',\n",
       "    0.4995138645172119],\n",
       "   ['2018-12-06',\n",
       "    '26ad8685-05d4-4711-a142-06954fcdb99c',\n",
       "    \"['room', 'nice', 'clean']\",\n",
       "    'The room was very nice and clean',\n",
       "    0.4992189407348633],\n",
       "   ['2019-01-20',\n",
       "    '729909e9-7814-4456-af8c-966849df26ba',\n",
       "    \"['shower', 'king', 'bedroom', 'unbelievable']\",\n",
       "    'Shower in the king 1 bedroom is unbelievable',\n",
       "    0.4817293286323547],\n",
       "   ['2019-02-03',\n",
       "    '318494c5-84ef-45e9-919b-1f3cdda4a0c1',\n",
       "    \"['lovely', 'room', 'comfortable', 'bed']\",\n",
       "    'Lovely rooms comfortable bed',\n",
       "    0.499075174331665],\n",
       "   ['2019-02-09',\n",
       "    'c2704861-f7e8-4a6b-8076-fda3f14d7d23',\n",
       "    \"['room', 'perfect', 'clean']\",\n",
       "    'The room was perfect and clean',\n",
       "    0.4983919262886048]]},\n",
       " 'cpt': [0, 80, 148],\n",
       " 'dates_periods': [['2015-01-01', '2017-01-30'], ['2017-02-10', '2020-02-02']],\n",
       " 'sentiment_mean': [-0.1335264919139445, 0.17396151358444314]}"
      ]
     },
     "execution_count": 93,
     "metadata": {},
     "output_type": "execute_result"
    }
   ],
   "source": [
    "cat_id_dict['room_473']"
   ]
  },
  {
   "cell_type": "code",
   "execution_count": 94,
   "metadata": {},
   "outputs": [
    {
     "data": {
      "text/html": [
       "<div>\n",
       "<style scoped>\n",
       "    .dataframe tbody tr th:only-of-type {\n",
       "        vertical-align: middle;\n",
       "    }\n",
       "\n",
       "    .dataframe tbody tr th {\n",
       "        vertical-align: top;\n",
       "    }\n",
       "\n",
       "    .dataframe thead th {\n",
       "        text-align: right;\n",
       "    }\n",
       "</style>\n",
       "<table border=\"1\" class=\"dataframe\">\n",
       "  <thead>\n",
       "    <tr style=\"text-align: right;\">\n",
       "      <th></th>\n",
       "      <th>yes-sentiment</th>\n",
       "      <th>yes-aspect</th>\n",
       "      <th>no-sentiment</th>\n",
       "      <th>no-aspect</th>\n",
       "      <th>category</th>\n",
       "      <th>hotel_id</th>\n",
       "      <th>cpt</th>\n",
       "      <th>Total</th>\n",
       "      <th>fileId</th>\n",
       "      <th>iId</th>\n",
       "      <th>gold-aspect</th>\n",
       "      <th>gold-sentiment</th>\n",
       "    </tr>\n",
       "  </thead>\n",
       "  <tbody>\n",
       "    <tr>\n",
       "      <th>0_0</th>\n",
       "      <td>2</td>\n",
       "      <td>2</td>\n",
       "      <td>0</td>\n",
       "      <td>0</td>\n",
       "      <td>facility</td>\n",
       "      <td>260</td>\n",
       "      <td>0</td>\n",
       "      <td>4</td>\n",
       "      <td>0</td>\n",
       "      <td>0</td>\n",
       "      <td>True</td>\n",
       "      <td>True</td>\n",
       "    </tr>\n",
       "    <tr>\n",
       "      <th>0_2</th>\n",
       "      <td>2</td>\n",
       "      <td>2</td>\n",
       "      <td>0</td>\n",
       "      <td>0</td>\n",
       "      <td>facility</td>\n",
       "      <td>260</td>\n",
       "      <td>0</td>\n",
       "      <td>4</td>\n",
       "      <td>0</td>\n",
       "      <td>2</td>\n",
       "      <td>True</td>\n",
       "      <td>True</td>\n",
       "    </tr>\n",
       "    <tr>\n",
       "      <th>0_3</th>\n",
       "      <td>2</td>\n",
       "      <td>2</td>\n",
       "      <td>0</td>\n",
       "      <td>0</td>\n",
       "      <td>facility</td>\n",
       "      <td>260</td>\n",
       "      <td>0</td>\n",
       "      <td>4</td>\n",
       "      <td>0</td>\n",
       "      <td>3</td>\n",
       "      <td>True</td>\n",
       "      <td>True</td>\n",
       "    </tr>\n",
       "    <tr>\n",
       "      <th>0_4</th>\n",
       "      <td>0</td>\n",
       "      <td>2</td>\n",
       "      <td>2</td>\n",
       "      <td>0</td>\n",
       "      <td>facility</td>\n",
       "      <td>260</td>\n",
       "      <td>0</td>\n",
       "      <td>4</td>\n",
       "      <td>0</td>\n",
       "      <td>4</td>\n",
       "      <td>True</td>\n",
       "      <td>False</td>\n",
       "    </tr>\n",
       "    <tr>\n",
       "      <th>0_5</th>\n",
       "      <td>2</td>\n",
       "      <td>2</td>\n",
       "      <td>0</td>\n",
       "      <td>0</td>\n",
       "      <td>facility</td>\n",
       "      <td>260</td>\n",
       "      <td>0</td>\n",
       "      <td>4</td>\n",
       "      <td>0</td>\n",
       "      <td>5</td>\n",
       "      <td>True</td>\n",
       "      <td>True</td>\n",
       "    </tr>\n",
       "  </tbody>\n",
       "</table>\n",
       "</div>"
      ],
      "text/plain": [
       "     yes-sentiment  yes-aspect  no-sentiment  no-aspect  category  hotel_id  \\\n",
       "0_0              2           2             0          0  facility       260   \n",
       "0_2              2           2             0          0  facility       260   \n",
       "0_3              2           2             0          0  facility       260   \n",
       "0_4              0           2             2          0  facility       260   \n",
       "0_5              2           2             0          0  facility       260   \n",
       "\n",
       "     cpt  Total  fileId  iId  gold-aspect  gold-sentiment  \n",
       "0_0    0      4       0    0         True            True  \n",
       "0_2    0      4       0    2         True            True  \n",
       "0_3    0      4       0    3         True            True  \n",
       "0_4    0      4       0    4         True           False  \n",
       "0_5    0      4       0    5         True            True  "
      ]
     },
     "execution_count": 94,
     "metadata": {},
     "output_type": "execute_result"
    }
   ],
   "source": [
    "sents_df.head()"
   ]
  },
  {
   "cell_type": "code",
   "execution_count": 95,
   "metadata": {},
   "outputs": [],
   "source": [
    "from itertools import chain\n",
    "def entry_sentiment(row):\n",
    "    cat = row['category']\n",
    "    hotel_id = row['hotel_id']\n",
    "    iId = row['iId']\n",
    "    name = cat+'_'+str(hotel_id)\n",
    "    cpt = row['cpt']\n",
    "    sentence = list(chain.from_iterable(cat_id_dict[name]['sentences'].values()))\n",
    "    sentiment = sentence[iId][-1]\n",
    "    return sentiment"
   ]
  },
  {
   "cell_type": "code",
   "execution_count": 96,
   "metadata": {},
   "outputs": [],
   "source": [
    "def entry_text(row):\n",
    "    cat = row['category']\n",
    "    hotel_id = row['hotel_id']\n",
    "    iId = row['iId']\n",
    "    name = cat+'_'+str(hotel_id)\n",
    "    cpt = row['cpt']\n",
    "    sentence = list(chain.from_iterable(cat_id_dict[name]['sentences'].values()))\n",
    "    text = sentence[iId][3]\n",
    "    return text"
   ]
  },
  {
   "cell_type": "code",
   "execution_count": 97,
   "metadata": {},
   "outputs": [],
   "source": [
    "def entry_date(row):\n",
    "    cat = row['category']\n",
    "    hotel_id = row['hotel_id']\n",
    "    iId = row['iId']\n",
    "    name = cat+'_'+str(hotel_id)\n",
    "    cpt = row['cpt']\n",
    "    sentence = list(chain.from_iterable(cat_id_dict[name]['sentences'].values()))\n",
    "    date = sentence[iId][0]\n",
    "    return date"
   ]
  },
  {
   "cell_type": "code",
   "execution_count": 98,
   "metadata": {},
   "outputs": [],
   "source": [
    "sents_df['text']= sents_df.apply(entry_text, axis=1)\n",
    "sents_df['date']= sents_df.apply(entry_date, axis=1)\n",
    "sents_df['sentiment'] = sents_df.apply(entry_sentiment, axis=1)"
   ]
  },
  {
   "cell_type": "code",
   "execution_count": 99,
   "metadata": {},
   "outputs": [
    {
     "data": {
      "text/plain": [
       "9396"
      ]
     },
     "execution_count": 99,
     "metadata": {},
     "output_type": "execute_result"
    }
   ],
   "source": [
    "len(sents_df)"
   ]
  },
  {
   "cell_type": "code",
   "execution_count": 100,
   "metadata": {},
   "outputs": [],
   "source": [
    "def entry_cpt(row):\n",
    "    cat = row['category']\n",
    "    hotel_id = row['hotel_id']\n",
    "    iId = row['iId']\n",
    "    name = cat+'_'+str(hotel_id)\n",
    "    cpt = row['cpt']\n",
    "    cpts = cat_id_dict[name]['cpt']\n",
    "    return cpts"
   ]
  },
  {
   "cell_type": "code",
   "execution_count": 101,
   "metadata": {},
   "outputs": [],
   "source": [
    "def entry_sentiment_mean(row):\n",
    "    cat = row['category']\n",
    "    hotel_id = row['hotel_id']\n",
    "    iId = row['iId']\n",
    "    name = cat+'_'+str(hotel_id)\n",
    "    cpt = row['cpt']\n",
    "    sentiment_mean = cat_id_dict[name]['sentiment_mean'][cpt]\n",
    "    return sentiment_mean"
   ]
  },
  {
   "cell_type": "code",
   "execution_count": 102,
   "metadata": {},
   "outputs": [],
   "source": [
    "def entry_dates_periods(row):\n",
    "    cat = row['category']\n",
    "    hotel_id = row['hotel_id']\n",
    "    iId = row['iId']\n",
    "    name = cat+'_'+str(hotel_id)\n",
    "    cpt = row['cpt']\n",
    "    date_period = cat_id_dict[name]['dates_periods'][cpt]\n",
    "    return date_period"
   ]
  },
  {
   "cell_type": "code",
   "execution_count": 103,
   "metadata": {},
   "outputs": [],
   "source": [
    "sents_df['cpts'] = sents_df.apply(entry_cpt, axis=1)\n",
    "sents_df['sentiment_mean'] = sents_df.apply(entry_sentiment_mean, axis=1)\n",
    "sents_df['date_period']= sents_df.apply(entry_dates_periods, axis=1)"
   ]
  },
  {
   "cell_type": "code",
   "execution_count": 46,
   "metadata": {},
   "outputs": [],
   "source": [
    "# get the sentiment for each sentence."
   ]
  },
  {
   "cell_type": "code",
   "execution_count": 105,
   "metadata": {},
   "outputs": [
    {
     "name": "stderr",
     "output_type": "stream",
     "text": [
      "/home/yiyi/anaconda3/envs/cdp/lib/python3.7/site-packages/pandas/core/strings.py:2254: FutureWarning: Columnar iteration over characters will be deprecated in future releases.\n",
      "  others = list(others)  # ensure iterators do not get read twice etc\n"
     ]
    }
   ],
   "source": [
    "sents_df['cpt_id']= sents_df['fileId'].astype(str).str.cat(sents_df['cpt'].astype(str).str, sep='_')"
   ]
  },
  {
   "cell_type": "code",
   "execution_count": 118,
   "metadata": {},
   "outputs": [
    {
     "data": {
      "text/html": [
       "<div>\n",
       "<style scoped>\n",
       "    .dataframe tbody tr th:only-of-type {\n",
       "        vertical-align: middle;\n",
       "    }\n",
       "\n",
       "    .dataframe tbody tr th {\n",
       "        vertical-align: top;\n",
       "    }\n",
       "\n",
       "    .dataframe thead th {\n",
       "        text-align: right;\n",
       "    }\n",
       "</style>\n",
       "<table border=\"1\" class=\"dataframe\">\n",
       "  <thead>\n",
       "    <tr style=\"text-align: right;\">\n",
       "      <th></th>\n",
       "      <th>yes-sentiment</th>\n",
       "      <th>yes-aspect</th>\n",
       "      <th>no-sentiment</th>\n",
       "      <th>no-aspect</th>\n",
       "      <th>category</th>\n",
       "      <th>hotel_id</th>\n",
       "      <th>cpt</th>\n",
       "      <th>Total</th>\n",
       "      <th>fileId</th>\n",
       "      <th>iId</th>\n",
       "      <th>gold-aspect</th>\n",
       "      <th>gold-sentiment</th>\n",
       "      <th>text</th>\n",
       "      <th>date</th>\n",
       "      <th>sentiment</th>\n",
       "      <th>cpts</th>\n",
       "      <th>sentiment_mean</th>\n",
       "      <th>date_period</th>\n",
       "      <th>cpt_id</th>\n",
       "      <th>cpt_label</th>\n",
       "    </tr>\n",
       "  </thead>\n",
       "  <tbody>\n",
       "    <tr>\n",
       "      <th>0_0</th>\n",
       "      <td>2</td>\n",
       "      <td>2</td>\n",
       "      <td>0</td>\n",
       "      <td>0</td>\n",
       "      <td>facility</td>\n",
       "      <td>260</td>\n",
       "      <td>0</td>\n",
       "      <td>4</td>\n",
       "      <td>0</td>\n",
       "      <td>0</td>\n",
       "      <td>True</td>\n",
       "      <td>True</td>\n",
       "      <td>The lobby bar always had a solo performer pian...</td>\n",
       "      <td>2015-02-09</td>\n",
       "      <td>-0.407074</td>\n",
       "      <td>[0, 485, 912]</td>\n",
       "      <td>0.180685</td>\n",
       "      <td>[2015-01-01, 2017-06-25]</td>\n",
       "      <td>0_0</td>\n",
       "      <td>a</td>\n",
       "    </tr>\n",
       "    <tr>\n",
       "      <th>0_2</th>\n",
       "      <td>2</td>\n",
       "      <td>2</td>\n",
       "      <td>0</td>\n",
       "      <td>0</td>\n",
       "      <td>facility</td>\n",
       "      <td>260</td>\n",
       "      <td>0</td>\n",
       "      <td>4</td>\n",
       "      <td>0</td>\n",
       "      <td>2</td>\n",
       "      <td>True</td>\n",
       "      <td>True</td>\n",
       "      <td>We were then escorted to one of the lobby chec...</td>\n",
       "      <td>2015-04-21</td>\n",
       "      <td>-0.405840</td>\n",
       "      <td>[0, 485, 912]</td>\n",
       "      <td>0.180685</td>\n",
       "      <td>[2015-01-01, 2017-06-25]</td>\n",
       "      <td>0_0</td>\n",
       "      <td>a</td>\n",
       "    </tr>\n",
       "    <tr>\n",
       "      <th>0_3</th>\n",
       "      <td>2</td>\n",
       "      <td>2</td>\n",
       "      <td>0</td>\n",
       "      <td>0</td>\n",
       "      <td>facility</td>\n",
       "      <td>260</td>\n",
       "      <td>0</td>\n",
       "      <td>4</td>\n",
       "      <td>0</td>\n",
       "      <td>3</td>\n",
       "      <td>True</td>\n",
       "      <td>True</td>\n",
       "      <td>I went to the gym most mornings but I did the ...</td>\n",
       "      <td>2015-04-30</td>\n",
       "      <td>-0.490811</td>\n",
       "      <td>[0, 485, 912]</td>\n",
       "      <td>0.180685</td>\n",
       "      <td>[2015-01-01, 2017-06-25]</td>\n",
       "      <td>0_0</td>\n",
       "      <td>a</td>\n",
       "    </tr>\n",
       "    <tr>\n",
       "      <th>0_4</th>\n",
       "      <td>0</td>\n",
       "      <td>2</td>\n",
       "      <td>2</td>\n",
       "      <td>0</td>\n",
       "      <td>facility</td>\n",
       "      <td>260</td>\n",
       "      <td>0</td>\n",
       "      <td>4</td>\n",
       "      <td>0</td>\n",
       "      <td>4</td>\n",
       "      <td>True</td>\n",
       "      <td>False</td>\n",
       "      <td>I suggest a room away from the elevators for t...</td>\n",
       "      <td>2015-07-14</td>\n",
       "      <td>-0.439716</td>\n",
       "      <td>[0, 485, 912]</td>\n",
       "      <td>0.180685</td>\n",
       "      <td>[2015-01-01, 2017-06-25]</td>\n",
       "      <td>0_0</td>\n",
       "      <td>a</td>\n",
       "    </tr>\n",
       "    <tr>\n",
       "      <th>0_5</th>\n",
       "      <td>2</td>\n",
       "      <td>2</td>\n",
       "      <td>0</td>\n",
       "      <td>0</td>\n",
       "      <td>facility</td>\n",
       "      <td>260</td>\n",
       "      <td>0</td>\n",
       "      <td>4</td>\n",
       "      <td>0</td>\n",
       "      <td>5</td>\n",
       "      <td>True</td>\n",
       "      <td>True</td>\n",
       "      <td>But Lorena sure did a good job and was so swee...</td>\n",
       "      <td>2015-08-13</td>\n",
       "      <td>-0.105745</td>\n",
       "      <td>[0, 485, 912]</td>\n",
       "      <td>0.180685</td>\n",
       "      <td>[2015-01-01, 2017-06-25]</td>\n",
       "      <td>0_0</td>\n",
       "      <td>a</td>\n",
       "    </tr>\n",
       "  </tbody>\n",
       "</table>\n",
       "</div>"
      ],
      "text/plain": [
       "     yes-sentiment  yes-aspect  no-sentiment  no-aspect  category  hotel_id  \\\n",
       "0_0              2           2             0          0  facility       260   \n",
       "0_2              2           2             0          0  facility       260   \n",
       "0_3              2           2             0          0  facility       260   \n",
       "0_4              0           2             2          0  facility       260   \n",
       "0_5              2           2             0          0  facility       260   \n",
       "\n",
       "     cpt  Total  fileId  iId  gold-aspect  gold-sentiment  \\\n",
       "0_0    0      4       0    0         True            True   \n",
       "0_2    0      4       0    2         True            True   \n",
       "0_3    0      4       0    3         True            True   \n",
       "0_4    0      4       0    4         True           False   \n",
       "0_5    0      4       0    5         True            True   \n",
       "\n",
       "                                                  text        date  sentiment  \\\n",
       "0_0  The lobby bar always had a solo performer pian...  2015-02-09  -0.407074   \n",
       "0_2  We were then escorted to one of the lobby chec...  2015-04-21  -0.405840   \n",
       "0_3  I went to the gym most mornings but I did the ...  2015-04-30  -0.490811   \n",
       "0_4  I suggest a room away from the elevators for t...  2015-07-14  -0.439716   \n",
       "0_5  But Lorena sure did a good job and was so swee...  2015-08-13  -0.105745   \n",
       "\n",
       "              cpts  sentiment_mean               date_period cpt_id cpt_label  \n",
       "0_0  [0, 485, 912]        0.180685  [2015-01-01, 2017-06-25]    0_0         a  \n",
       "0_2  [0, 485, 912]        0.180685  [2015-01-01, 2017-06-25]    0_0         a  \n",
       "0_3  [0, 485, 912]        0.180685  [2015-01-01, 2017-06-25]    0_0         a  \n",
       "0_4  [0, 485, 912]        0.180685  [2015-01-01, 2017-06-25]    0_0         a  \n",
       "0_5  [0, 485, 912]        0.180685  [2015-01-01, 2017-06-25]    0_0         a  "
      ]
     },
     "execution_count": 118,
     "metadata": {},
     "output_type": "execute_result"
    }
   ],
   "source": [
    "sents_df.head()"
   ]
  },
  {
   "cell_type": "code",
   "execution_count": 49,
   "metadata": {},
   "outputs": [],
   "source": [
    "# cpts df with gold"
   ]
  },
  {
   "cell_type": "code",
   "execution_count": 107,
   "metadata": {},
   "outputs": [
    {
     "data": {
      "text/html": [
       "<div>\n",
       "<style scoped>\n",
       "    .dataframe tbody tr th:only-of-type {\n",
       "        vertical-align: middle;\n",
       "    }\n",
       "\n",
       "    .dataframe tbody tr th {\n",
       "        vertical-align: top;\n",
       "    }\n",
       "\n",
       "    .dataframe thead th {\n",
       "        text-align: right;\n",
       "    }\n",
       "</style>\n",
       "<table border=\"1\" class=\"dataframe\">\n",
       "  <thead>\n",
       "    <tr style=\"text-align: right;\">\n",
       "      <th></th>\n",
       "      <th>a</th>\n",
       "      <th>b</th>\n",
       "      <th>c</th>\n",
       "      <th>Total</th>\n",
       "      <th>category</th>\n",
       "      <th>hotel_id</th>\n",
       "      <th>fileId</th>\n",
       "      <th>iId</th>\n",
       "      <th>gold</th>\n",
       "    </tr>\n",
       "  </thead>\n",
       "  <tbody>\n",
       "    <tr>\n",
       "      <th>0_0</th>\n",
       "      <td>2</td>\n",
       "      <td>0</td>\n",
       "      <td>1</td>\n",
       "      <td>3</td>\n",
       "      <td>facility</td>\n",
       "      <td>260</td>\n",
       "      <td>0</td>\n",
       "      <td>0</td>\n",
       "      <td>a</td>\n",
       "    </tr>\n",
       "    <tr>\n",
       "      <th>1_0</th>\n",
       "      <td>0</td>\n",
       "      <td>0</td>\n",
       "      <td>2</td>\n",
       "      <td>2</td>\n",
       "      <td>pool</td>\n",
       "      <td>260</td>\n",
       "      <td>1</td>\n",
       "      <td>0</td>\n",
       "      <td>c</td>\n",
       "    </tr>\n",
       "    <tr>\n",
       "      <th>2_0</th>\n",
       "      <td>2</td>\n",
       "      <td>0</td>\n",
       "      <td>1</td>\n",
       "      <td>3</td>\n",
       "      <td>renovation_room</td>\n",
       "      <td>260</td>\n",
       "      <td>2</td>\n",
       "      <td>0</td>\n",
       "      <td>a</td>\n",
       "    </tr>\n",
       "  </tbody>\n",
       "</table>\n",
       "</div>"
      ],
      "text/plain": [
       "     a  b  c  Total         category  hotel_id  fileId  iId gold\n",
       "0_0  2  0  1      3         facility       260       0    0    a\n",
       "1_0  0  0  2      2             pool       260       1    0    c\n",
       "2_0  2  0  1      3  renovation_room       260       2    0    a"
      ]
     },
     "execution_count": 107,
     "metadata": {},
     "output_type": "execute_result"
    }
   ],
   "source": [
    "cpts_df.head(3)"
   ]
  },
  {
   "cell_type": "code",
   "execution_count": 108,
   "metadata": {},
   "outputs": [],
   "source": [
    "cpts_dict = {x:y for x,y in zip(cpts_df.index, cpts_df['gold'])}"
   ]
  },
  {
   "cell_type": "code",
   "execution_count": 109,
   "metadata": {},
   "outputs": [],
   "source": [
    "def cpt_entry(row):\n",
    "    cpt_id = row['cpt_id']\n",
    "    return cpts_dict.get(cpt_id, None)"
   ]
  },
  {
   "cell_type": "code",
   "execution_count": 53,
   "metadata": {},
   "outputs": [],
   "source": [
    "# get the cpt_label for ssents_df"
   ]
  },
  {
   "cell_type": "code",
   "execution_count": 110,
   "metadata": {},
   "outputs": [],
   "source": [
    "sents_df['cpt_label']=  sents_df.apply(cpt_entry, axis=1)"
   ]
  },
  {
   "cell_type": "code",
   "execution_count": 115,
   "metadata": {},
   "outputs": [],
   "source": [
    "sents_df.to_csv('preprocessed_data/sents_df.csv')   ###### get all data which aspects are aligned."
   ]
  },
  {
   "cell_type": "code",
   "execution_count": 113,
   "metadata": {},
   "outputs": [
    {
     "data": {
      "text/plain": [
       "9396"
      ]
     },
     "execution_count": 113,
     "metadata": {},
     "output_type": "execute_result"
    }
   ],
   "source": [
    "len(sents_df)"
   ]
  },
  {
   "cell_type": "code",
   "execution_count": 119,
   "metadata": {},
   "outputs": [],
   "source": [
    "gold_aspect_df = sents_df[sents_df['gold-aspect']==True]"
   ]
  },
  {
   "cell_type": "code",
   "execution_count": 120,
   "metadata": {},
   "outputs": [
    {
     "data": {
      "text/html": [
       "<div>\n",
       "<style scoped>\n",
       "    .dataframe tbody tr th:only-of-type {\n",
       "        vertical-align: middle;\n",
       "    }\n",
       "\n",
       "    .dataframe tbody tr th {\n",
       "        vertical-align: top;\n",
       "    }\n",
       "\n",
       "    .dataframe thead th {\n",
       "        text-align: right;\n",
       "    }\n",
       "</style>\n",
       "<table border=\"1\" class=\"dataframe\">\n",
       "  <thead>\n",
       "    <tr style=\"text-align: right;\">\n",
       "      <th></th>\n",
       "      <th>yes-sentiment</th>\n",
       "      <th>yes-aspect</th>\n",
       "      <th>no-sentiment</th>\n",
       "      <th>no-aspect</th>\n",
       "      <th>category</th>\n",
       "      <th>hotel_id</th>\n",
       "      <th>cpt</th>\n",
       "      <th>Total</th>\n",
       "      <th>fileId</th>\n",
       "      <th>iId</th>\n",
       "      <th>gold-aspect</th>\n",
       "      <th>gold-sentiment</th>\n",
       "      <th>text</th>\n",
       "      <th>date</th>\n",
       "      <th>sentiment</th>\n",
       "      <th>cpts</th>\n",
       "      <th>sentiment_mean</th>\n",
       "      <th>date_period</th>\n",
       "      <th>cpt_id</th>\n",
       "      <th>cpt_label</th>\n",
       "    </tr>\n",
       "  </thead>\n",
       "  <tbody>\n",
       "    <tr>\n",
       "      <th>0_0</th>\n",
       "      <td>2</td>\n",
       "      <td>2</td>\n",
       "      <td>0</td>\n",
       "      <td>0</td>\n",
       "      <td>facility</td>\n",
       "      <td>260</td>\n",
       "      <td>0</td>\n",
       "      <td>4</td>\n",
       "      <td>0</td>\n",
       "      <td>0</td>\n",
       "      <td>True</td>\n",
       "      <td>True</td>\n",
       "      <td>The lobby bar always had a solo performer pian...</td>\n",
       "      <td>2015-02-09</td>\n",
       "      <td>-0.407074</td>\n",
       "      <td>[0, 485, 912]</td>\n",
       "      <td>0.180685</td>\n",
       "      <td>[2015-01-01, 2017-06-25]</td>\n",
       "      <td>0_0</td>\n",
       "      <td>a</td>\n",
       "    </tr>\n",
       "    <tr>\n",
       "      <th>0_2</th>\n",
       "      <td>2</td>\n",
       "      <td>2</td>\n",
       "      <td>0</td>\n",
       "      <td>0</td>\n",
       "      <td>facility</td>\n",
       "      <td>260</td>\n",
       "      <td>0</td>\n",
       "      <td>4</td>\n",
       "      <td>0</td>\n",
       "      <td>2</td>\n",
       "      <td>True</td>\n",
       "      <td>True</td>\n",
       "      <td>We were then escorted to one of the lobby chec...</td>\n",
       "      <td>2015-04-21</td>\n",
       "      <td>-0.405840</td>\n",
       "      <td>[0, 485, 912]</td>\n",
       "      <td>0.180685</td>\n",
       "      <td>[2015-01-01, 2017-06-25]</td>\n",
       "      <td>0_0</td>\n",
       "      <td>a</td>\n",
       "    </tr>\n",
       "    <tr>\n",
       "      <th>0_3</th>\n",
       "      <td>2</td>\n",
       "      <td>2</td>\n",
       "      <td>0</td>\n",
       "      <td>0</td>\n",
       "      <td>facility</td>\n",
       "      <td>260</td>\n",
       "      <td>0</td>\n",
       "      <td>4</td>\n",
       "      <td>0</td>\n",
       "      <td>3</td>\n",
       "      <td>True</td>\n",
       "      <td>True</td>\n",
       "      <td>I went to the gym most mornings but I did the ...</td>\n",
       "      <td>2015-04-30</td>\n",
       "      <td>-0.490811</td>\n",
       "      <td>[0, 485, 912]</td>\n",
       "      <td>0.180685</td>\n",
       "      <td>[2015-01-01, 2017-06-25]</td>\n",
       "      <td>0_0</td>\n",
       "      <td>a</td>\n",
       "    </tr>\n",
       "    <tr>\n",
       "      <th>0_4</th>\n",
       "      <td>0</td>\n",
       "      <td>2</td>\n",
       "      <td>2</td>\n",
       "      <td>0</td>\n",
       "      <td>facility</td>\n",
       "      <td>260</td>\n",
       "      <td>0</td>\n",
       "      <td>4</td>\n",
       "      <td>0</td>\n",
       "      <td>4</td>\n",
       "      <td>True</td>\n",
       "      <td>False</td>\n",
       "      <td>I suggest a room away from the elevators for t...</td>\n",
       "      <td>2015-07-14</td>\n",
       "      <td>-0.439716</td>\n",
       "      <td>[0, 485, 912]</td>\n",
       "      <td>0.180685</td>\n",
       "      <td>[2015-01-01, 2017-06-25]</td>\n",
       "      <td>0_0</td>\n",
       "      <td>a</td>\n",
       "    </tr>\n",
       "    <tr>\n",
       "      <th>0_5</th>\n",
       "      <td>2</td>\n",
       "      <td>2</td>\n",
       "      <td>0</td>\n",
       "      <td>0</td>\n",
       "      <td>facility</td>\n",
       "      <td>260</td>\n",
       "      <td>0</td>\n",
       "      <td>4</td>\n",
       "      <td>0</td>\n",
       "      <td>5</td>\n",
       "      <td>True</td>\n",
       "      <td>True</td>\n",
       "      <td>But Lorena sure did a good job and was so swee...</td>\n",
       "      <td>2015-08-13</td>\n",
       "      <td>-0.105745</td>\n",
       "      <td>[0, 485, 912]</td>\n",
       "      <td>0.180685</td>\n",
       "      <td>[2015-01-01, 2017-06-25]</td>\n",
       "      <td>0_0</td>\n",
       "      <td>a</td>\n",
       "    </tr>\n",
       "    <tr>\n",
       "      <th>...</th>\n",
       "      <td>...</td>\n",
       "      <td>...</td>\n",
       "      <td>...</td>\n",
       "      <td>...</td>\n",
       "      <td>...</td>\n",
       "      <td>...</td>\n",
       "      <td>...</td>\n",
       "      <td>...</td>\n",
       "      <td>...</td>\n",
       "      <td>...</td>\n",
       "      <td>...</td>\n",
       "      <td>...</td>\n",
       "      <td>...</td>\n",
       "      <td>...</td>\n",
       "      <td>...</td>\n",
       "      <td>...</td>\n",
       "      <td>...</td>\n",
       "      <td>...</td>\n",
       "      <td>...</td>\n",
       "      <td>...</td>\n",
       "    </tr>\n",
       "    <tr>\n",
       "      <th>419_20</th>\n",
       "      <td>2</td>\n",
       "      <td>2</td>\n",
       "      <td>0</td>\n",
       "      <td>0</td>\n",
       "      <td>room</td>\n",
       "      <td>389</td>\n",
       "      <td>2</td>\n",
       "      <td>4</td>\n",
       "      <td>419</td>\n",
       "      <td>20</td>\n",
       "      <td>True</td>\n",
       "      <td>True</td>\n",
       "      <td>The rooms are nice not extremelyImpresive</td>\n",
       "      <td>2018-07-02</td>\n",
       "      <td>0.384938</td>\n",
       "      <td>[0, 155, 230, 781]</td>\n",
       "      <td>0.065789</td>\n",
       "      <td>[2017-05-20, 2020-03-17]</td>\n",
       "      <td>419_2</td>\n",
       "      <td>None</td>\n",
       "    </tr>\n",
       "    <tr>\n",
       "      <th>419_21</th>\n",
       "      <td>2</td>\n",
       "      <td>2</td>\n",
       "      <td>0</td>\n",
       "      <td>0</td>\n",
       "      <td>room</td>\n",
       "      <td>389</td>\n",
       "      <td>2</td>\n",
       "      <td>4</td>\n",
       "      <td>419</td>\n",
       "      <td>21</td>\n",
       "      <td>True</td>\n",
       "      <td>True</td>\n",
       "      <td>Very spacious great bedding a huge TV comforta...</td>\n",
       "      <td>2018-08-01</td>\n",
       "      <td>0.499862</td>\n",
       "      <td>[0, 155, 230, 781]</td>\n",
       "      <td>0.065789</td>\n",
       "      <td>[2017-05-20, 2020-03-17]</td>\n",
       "      <td>419_2</td>\n",
       "      <td>None</td>\n",
       "    </tr>\n",
       "    <tr>\n",
       "      <th>419_22</th>\n",
       "      <td>2</td>\n",
       "      <td>2</td>\n",
       "      <td>0</td>\n",
       "      <td>0</td>\n",
       "      <td>room</td>\n",
       "      <td>389</td>\n",
       "      <td>2</td>\n",
       "      <td>4</td>\n",
       "      <td>419</td>\n",
       "      <td>22</td>\n",
       "      <td>True</td>\n",
       "      <td>True</td>\n",
       "      <td>Quiet comfortable room comfy bed good pillows</td>\n",
       "      <td>2018-10-12</td>\n",
       "      <td>0.499618</td>\n",
       "      <td>[0, 155, 230, 781]</td>\n",
       "      <td>0.065789</td>\n",
       "      <td>[2017-05-20, 2020-03-17]</td>\n",
       "      <td>419_2</td>\n",
       "      <td>None</td>\n",
       "    </tr>\n",
       "    <tr>\n",
       "      <th>419_24</th>\n",
       "      <td>2</td>\n",
       "      <td>2</td>\n",
       "      <td>0</td>\n",
       "      <td>0</td>\n",
       "      <td>room</td>\n",
       "      <td>389</td>\n",
       "      <td>2</td>\n",
       "      <td>4</td>\n",
       "      <td>419</td>\n",
       "      <td>24</td>\n",
       "      <td>True</td>\n",
       "      <td>True</td>\n",
       "      <td>The bathtub looked luxurious and the separate ...</td>\n",
       "      <td>2019-12-09</td>\n",
       "      <td>0.499170</td>\n",
       "      <td>[0, 155, 230, 781]</td>\n",
       "      <td>0.065789</td>\n",
       "      <td>[2017-05-20, 2020-03-17]</td>\n",
       "      <td>419_2</td>\n",
       "      <td>None</td>\n",
       "    </tr>\n",
       "    <tr>\n",
       "      <th>419_25</th>\n",
       "      <td>2</td>\n",
       "      <td>2</td>\n",
       "      <td>0</td>\n",
       "      <td>0</td>\n",
       "      <td>room</td>\n",
       "      <td>389</td>\n",
       "      <td>2</td>\n",
       "      <td>4</td>\n",
       "      <td>419</td>\n",
       "      <td>25</td>\n",
       "      <td>True</td>\n",
       "      <td>True</td>\n",
       "      <td>The RomI booked us a King Bed Guest Room with ...</td>\n",
       "      <td>2019-12-09</td>\n",
       "      <td>0.498069</td>\n",
       "      <td>[0, 155, 230, 781]</td>\n",
       "      <td>0.065789</td>\n",
       "      <td>[2017-05-20, 2020-03-17]</td>\n",
       "      <td>419_2</td>\n",
       "      <td>None</td>\n",
       "    </tr>\n",
       "  </tbody>\n",
       "</table>\n",
       "<p>6391 rows × 20 columns</p>\n",
       "</div>"
      ],
      "text/plain": [
       "        yes-sentiment  yes-aspect  no-sentiment  no-aspect  category  \\\n",
       "0_0                 2           2             0          0  facility   \n",
       "0_2                 2           2             0          0  facility   \n",
       "0_3                 2           2             0          0  facility   \n",
       "0_4                 0           2             2          0  facility   \n",
       "0_5                 2           2             0          0  facility   \n",
       "...               ...         ...           ...        ...       ...   \n",
       "419_20              2           2             0          0      room   \n",
       "419_21              2           2             0          0      room   \n",
       "419_22              2           2             0          0      room   \n",
       "419_24              2           2             0          0      room   \n",
       "419_25              2           2             0          0      room   \n",
       "\n",
       "        hotel_id  cpt  Total  fileId  iId  gold-aspect  gold-sentiment  \\\n",
       "0_0          260    0      4       0    0         True            True   \n",
       "0_2          260    0      4       0    2         True            True   \n",
       "0_3          260    0      4       0    3         True            True   \n",
       "0_4          260    0      4       0    4         True           False   \n",
       "0_5          260    0      4       0    5         True            True   \n",
       "...          ...  ...    ...     ...  ...          ...             ...   \n",
       "419_20       389    2      4     419   20         True            True   \n",
       "419_21       389    2      4     419   21         True            True   \n",
       "419_22       389    2      4     419   22         True            True   \n",
       "419_24       389    2      4     419   24         True            True   \n",
       "419_25       389    2      4     419   25         True            True   \n",
       "\n",
       "                                                     text        date  \\\n",
       "0_0     The lobby bar always had a solo performer pian...  2015-02-09   \n",
       "0_2     We were then escorted to one of the lobby chec...  2015-04-21   \n",
       "0_3     I went to the gym most mornings but I did the ...  2015-04-30   \n",
       "0_4     I suggest a room away from the elevators for t...  2015-07-14   \n",
       "0_5     But Lorena sure did a good job and was so swee...  2015-08-13   \n",
       "...                                                   ...         ...   \n",
       "419_20          The rooms are nice not extremelyImpresive  2018-07-02   \n",
       "419_21  Very spacious great bedding a huge TV comforta...  2018-08-01   \n",
       "419_22      Quiet comfortable room comfy bed good pillows  2018-10-12   \n",
       "419_24  The bathtub looked luxurious and the separate ...  2019-12-09   \n",
       "419_25  The RomI booked us a King Bed Guest Room with ...  2019-12-09   \n",
       "\n",
       "        sentiment                cpts  sentiment_mean  \\\n",
       "0_0     -0.407074       [0, 485, 912]        0.180685   \n",
       "0_2     -0.405840       [0, 485, 912]        0.180685   \n",
       "0_3     -0.490811       [0, 485, 912]        0.180685   \n",
       "0_4     -0.439716       [0, 485, 912]        0.180685   \n",
       "0_5     -0.105745       [0, 485, 912]        0.180685   \n",
       "...           ...                 ...             ...   \n",
       "419_20   0.384938  [0, 155, 230, 781]        0.065789   \n",
       "419_21   0.499862  [0, 155, 230, 781]        0.065789   \n",
       "419_22   0.499618  [0, 155, 230, 781]        0.065789   \n",
       "419_24   0.499170  [0, 155, 230, 781]        0.065789   \n",
       "419_25   0.498069  [0, 155, 230, 781]        0.065789   \n",
       "\n",
       "                     date_period cpt_id cpt_label  \n",
       "0_0     [2015-01-01, 2017-06-25]    0_0         a  \n",
       "0_2     [2015-01-01, 2017-06-25]    0_0         a  \n",
       "0_3     [2015-01-01, 2017-06-25]    0_0         a  \n",
       "0_4     [2015-01-01, 2017-06-25]    0_0         a  \n",
       "0_5     [2015-01-01, 2017-06-25]    0_0         a  \n",
       "...                          ...    ...       ...  \n",
       "419_20  [2017-05-20, 2020-03-17]  419_2      None  \n",
       "419_21  [2017-05-20, 2020-03-17]  419_2      None  \n",
       "419_22  [2017-05-20, 2020-03-17]  419_2      None  \n",
       "419_24  [2017-05-20, 2020-03-17]  419_2      None  \n",
       "419_25  [2017-05-20, 2020-03-17]  419_2      None  \n",
       "\n",
       "[6391 rows x 20 columns]"
      ]
     },
     "execution_count": 120,
     "metadata": {},
     "output_type": "execute_result"
    }
   ],
   "source": [
    "gold_aspect_df"
   ]
  },
  {
   "cell_type": "code",
   "execution_count": 121,
   "metadata": {},
   "outputs": [
    {
     "name": "stderr",
     "output_type": "stream",
     "text": [
      "/home/yiyi/anaconda3/envs/cdp/lib/python3.7/site-packages/ipykernel_launcher.py:2: SettingWithCopyWarning: \n",
      "A value is trying to be set on a copy of a slice from a DataFrame.\n",
      "Try using .loc[row_indexer,col_indexer] = value instead\n",
      "\n",
      "See the caveats in the documentation: https://pandas.pydata.org/pandas-docs/stable/user_guide/indexing.html#returning-a-view-versus-a-copy\n",
      "  \n"
     ]
    }
   ],
   "source": [
    "# fill NONE cpt_label 'd'\n",
    "gold_aspect_df['cpt_label'] = gold_aspect_df['cpt_label'].fillna('d')"
   ]
  },
  {
   "cell_type": "code",
   "execution_count": 123,
   "metadata": {},
   "outputs": [],
   "source": [
    "time_series_len = {}\n",
    "for key, group in gold_aspect_df.groupby('cpt_id'):\n",
    "    time_series_len[key]= (len(group), group['cpt_label'].to_list()[0])"
   ]
  },
  {
   "cell_type": "code",
   "execution_count": 125,
   "metadata": {},
   "outputs": [
    {
     "data": {
      "text/plain": [
       "985"
      ]
     },
     "execution_count": 125,
     "metadata": {},
     "output_type": "execute_result"
    }
   ],
   "source": [
    "len(time_series_len)"
   ]
  },
  {
   "cell_type": "code",
   "execution_count": 126,
   "metadata": {},
   "outputs": [
    {
     "name": "stderr",
     "output_type": "stream",
     "text": [
      "/home/yiyi/anaconda3/envs/cdp/lib/python3.7/site-packages/ipykernel_launcher.py:5: SettingWithCopyWarning: \n",
      "A value is trying to be set on a copy of a slice from a DataFrame.\n",
      "Try using .loc[row_indexer,col_indexer] = value instead\n",
      "\n",
      "See the caveats in the documentation: https://pandas.pydata.org/pandas-docs/stable/user_guide/indexing.html#returning-a-view-versus-a-copy\n",
      "  \"\"\"\n"
     ]
    }
   ],
   "source": [
    "def ts_Len(row):\n",
    "    cpt_id = row['cpt_id']\n",
    "    return time_series_len[cpt_id][0]\n",
    "\n",
    "gold_aspect_df['TS_LEN']= gold_aspect_df.apply(ts_Len, axis=1)"
   ]
  },
  {
   "cell_type": "code",
   "execution_count": 128,
   "metadata": {},
   "outputs": [
    {
     "data": {
      "text/plain": [
       "6391"
      ]
     },
     "execution_count": 128,
     "metadata": {},
     "output_type": "execute_result"
    }
   ],
   "source": [
    "len(gold_aspect_df)"
   ]
  },
  {
   "cell_type": "code",
   "execution_count": 133,
   "metadata": {},
   "outputs": [],
   "source": [
    "# should there be a/b/c in one time series. then record it.\n",
    "ls_dfs = []\n",
    "cpts_nr = 0\n",
    "cpts_dict =defaultdict(dict)\n",
    "for key, group in gold_aspect_df.groupby('fileId'):\n",
    "    cpcs = list(set(group['cpt_id'].to_list()))\n",
    "    cpc_nr = len(cpcs)\n",
    "\n",
    "    if key not in cpts_dict:\n",
    "        cpts_dict[key] = {}\n",
    "    \n",
    "    for cpt_id, cpt_label in zip(group['cpt'], group['cpt_label']):\n",
    "        if cpt_id not in cpts_dict[key]:\n",
    "            cpts_dict[key][cpt_id] = cpt_label\n",
    "            \n",
    "    cpts_nr += cpc_nr-1\n",
    "    if cpc_nr>1:\n",
    "        ls_dfs.append(group)"
   ]
  },
  {
   "cell_type": "code",
   "execution_count": 134,
   "metadata": {},
   "outputs": [
    {
     "data": {
      "text/plain": [
       "(570, {1: 'a', 2: 'd'})"
      ]
     },
     "execution_count": 134,
     "metadata": {},
     "output_type": "execute_result"
    }
   ],
   "source": [
    "cpts_nr, cpts_dict[68]"
   ]
  },
  {
   "cell_type": "code",
   "execution_count": 145,
   "metadata": {
    "scrolled": true
   },
   "outputs": [
    {
     "name": "stdout",
     "output_type": "stream",
     "text": [
      "12 {0: 'd'}\n",
      "53 {0: 'd'}\n",
      "77 {1: 'd'}\n",
      "85 {1: 'd'}\n",
      "106 {0: 'd'}\n",
      "112 {0: 'd'}\n",
      "133 {1: 'd'}\n",
      "143 {0: 'd'}\n",
      "163 {0: 'd'}\n",
      "183 {0: 'd'}\n",
      "185 {0: 'd'}\n",
      "192 {1: 'd'}\n",
      "193 {0: 'd'}\n",
      "216 {1: 'd'}\n",
      "240 {1: 'd'}\n",
      "252 {1: 'd'}\n",
      "256 {0: 'a'}\n",
      "260 {0: 'd'}\n",
      "265 {0: 'd'}\n",
      "280 {1: 'd'}\n",
      "287 {1: 'd'}\n",
      "296 {0: 'd'}\n",
      "303 {1: 'd'}\n",
      "312 {0: 'd'}\n",
      "341 {1: 'd'}\n",
      "349 {0: 'd'}\n",
      "350 {1: 'd'}\n",
      "353 {0: 'd'}\n",
      "355 {1: 'd'}\n",
      "368 {1: 'd'}\n",
      "374 {0: 'd'}\n",
      "380 {0: 'd'}\n",
      "402 {0: 'd'}\n",
      "405 {0: 'd'}\n"
     ]
    }
   ],
   "source": [
    "valid_cpts = {}\n",
    "for fileId, cpt_dict in cpts_dict.items():\n",
    "    if len(cpt_dict)>1:\n",
    "        if fileId not in valid_cpts:\n",
    "            valid_cpts[fileId]= {}\n",
    "        LEN = len(cpt_dict)\n",
    "        if LEN >1:\n",
    "            d = dict(list(cpt_dict.items())[:-1])\n",
    "            for cpt_id, cpt_label in d.items():\n",
    "                valid_cpts[fileId][cpt_id]= cpt_label\n",
    "    else:\n",
    "        print(fileId, cpt_dict)"
   ]
  },
  {
   "cell_type": "code",
   "execution_count": 137,
   "metadata": {},
   "outputs": [
    {
     "data": {
      "text/plain": [
       "381"
      ]
     },
     "execution_count": 137,
     "metadata": {},
     "output_type": "execute_result"
    }
   ],
   "source": [
    "len(valid_cpts)"
   ]
  },
  {
   "cell_type": "code",
   "execution_count": 138,
   "metadata": {},
   "outputs": [],
   "source": [
    "from itertools import chain\n",
    "from collections import Counter"
   ]
  },
  {
   "cell_type": "code",
   "execution_count": 139,
   "metadata": {},
   "outputs": [],
   "source": [
    "cpts_list =[]\n",
    "for fileId, cpt_dict in valid_cpts.items():\n",
    "    for cpt_id, label in cpt_dict.items():\n",
    "        cpts_list.append(label)"
   ]
  },
  {
   "cell_type": "code",
   "execution_count": 142,
   "metadata": {},
   "outputs": [
    {
     "data": {
      "text/plain": [
       "570"
      ]
     },
     "execution_count": 142,
     "metadata": {},
     "output_type": "execute_result"
    }
   ],
   "source": [
    "len(cpts_list)"
   ]
  },
  {
   "cell_type": "code",
   "execution_count": 141,
   "metadata": {},
   "outputs": [
    {
     "data": {
      "text/plain": [
       "Counter({'a': 244, 'c': 128, 'b': 197, 'd': 1})"
      ]
     },
     "execution_count": 141,
     "metadata": {},
     "output_type": "execute_result"
    }
   ],
   "source": [
    "Counter(cpts_list)"
   ]
  },
  {
   "cell_type": "code",
   "execution_count": 143,
   "metadata": {},
   "outputs": [],
   "source": [
    "gold_df = pd.concat(ls_dfs)"
   ]
  },
  {
   "cell_type": "code",
   "execution_count": 147,
   "metadata": {},
   "outputs": [
    {
     "data": {
      "text/plain": [
       "381"
      ]
     },
     "execution_count": 147,
     "metadata": {},
     "output_type": "execute_result"
    }
   ],
   "source": [
    "len(list(set(gold_df.fileId.to_list())))"
   ]
  },
  {
   "cell_type": "code",
   "execution_count": 144,
   "metadata": {},
   "outputs": [
    {
     "data": {
      "text/plain": [
       "6151"
      ]
     },
     "execution_count": 144,
     "metadata": {},
     "output_type": "execute_result"
    }
   ],
   "source": [
    "len(gold_df)"
   ]
  },
  {
   "cell_type": "code",
   "execution_count": 148,
   "metadata": {},
   "outputs": [],
   "source": [
    "import numpy as np\n",
    "\n",
    "def max_dist_idx(number, ls):\n",
    "    distances = [abs(number-x) for x in ls]\n",
    "    return np.argmax(distances)"
   ]
  },
  {
   "cell_type": "code",
   "execution_count": 149,
   "metadata": {},
   "outputs": [],
   "source": [
    "gold_df['argmin_max']=\"\""
   ]
  },
  {
   "cell_type": "code",
   "execution_count": 150,
   "metadata": {},
   "outputs": [],
   "source": [
    "for key, group in gold_df.groupby('cpt_id'):\n",
    "    label = group['cpt_label'][0]\n",
    "    mean_sentiment = group['sentiment_mean'][0]\n",
    "    if label=='a':\n",
    "        \n",
    "        idx_min = group['sentiment'].idxmin(1)\n",
    "        gold_df.at[idx_min, 'argmin_max'] = True\n",
    "    if label=='b':\n",
    "        idx_max = group['sentiment'].idxmax(1)\n",
    "        gold_df.at[idx_max, 'argmin_max']= True\n",
    "    \n",
    "    if label=='c' or label=='d':\n",
    "        max_id = max_dist_idx(mean_sentiment, group['sentiment'].to_list())\n",
    "        row = group.iloc[max_id]\n",
    "        fileid = int(row.fileId)\n",
    "        iid = int(row.iId)\n",
    "        idx = str(fileid)+'_'+str(iid)\n",
    "        gold_df.at[idx, 'argmin_max']=True"
   ]
  },
  {
   "cell_type": "code",
   "execution_count": 153,
   "metadata": {},
   "outputs": [],
   "source": [
    "gold_df.to_csv('prepare_dataset/gold_df.csv')"
   ]
  },
  {
   "cell_type": "code",
   "execution_count": 154,
   "metadata": {},
   "outputs": [],
   "source": [
    "gold_sent_list=[]\n",
    "count =0 \n",
    "for key, group in gold_df.groupby('fileId'):\n",
    "    gold_sent_list.append({\n",
    "        'id':count,\n",
    "        'fileId': key,\n",
    "        'sent_list': group.to_dict('records')\n",
    "    })\n",
    "    count+=1"
   ]
  },
  {
   "cell_type": "code",
   "execution_count": 155,
   "metadata": {},
   "outputs": [
    {
     "data": {
      "text/plain": [
       "381"
      ]
     },
     "execution_count": 155,
     "metadata": {},
     "output_type": "execute_result"
    }
   ],
   "source": [
    "len(gold_sent_list)"
   ]
  },
  {
   "cell_type": "code",
   "execution_count": 156,
   "metadata": {},
   "outputs": [],
   "source": [
    "import json\n",
    "with open('prepare_dataset/gold_sent_list.json', 'w') as writer:\n",
    "    json.dump(gold_sent_list, writer)"
   ]
  },
  {
   "cell_type": "code",
   "execution_count": 157,
   "metadata": {},
   "outputs": [],
   "source": [
    "with open('data_processed/reviews.json') as reader:\n",
    "    reviews = json.load(reader)\n",
    "\n",
    "with open('data_processed/annotations.json') as reader:\n",
    "    annotations= json.load(reader)"
   ]
  },
  {
   "cell_type": "code",
   "execution_count": 158,
   "metadata": {},
   "outputs": [],
   "source": [
    "db ={'reviews':reviews, 'annotations':annotations, 'dataset':gold_sent_list}"
   ]
  },
  {
   "cell_type": "code",
   "execution_count": 159,
   "metadata": {},
   "outputs": [],
   "source": [
    "with open('prepare_dataset/db.json', 'w') as writer:\n",
    "    json.dump(db, writer)"
   ]
  },
  {
   "cell_type": "markdown",
   "metadata": {},
   "source": [
    "# statistics\n"
   ]
  },
  {
   "cell_type": "code",
   "execution_count": 3,
   "metadata": {},
   "outputs": [],
   "source": [
    "gold_df = pd.read_csv('prepare_dataset/gold_df.csv', index_col=0)"
   ]
  },
  {
   "cell_type": "code",
   "execution_count": 6,
   "metadata": {},
   "outputs": [],
   "source": [
    "gold_pos = gold_df[gold_df['gold-sentiment']==True]"
   ]
  },
  {
   "cell_type": "code",
   "execution_count": 7,
   "metadata": {},
   "outputs": [
    {
     "data": {
      "text/plain": [
       "1644"
      ]
     },
     "execution_count": 7,
     "metadata": {},
     "output_type": "execute_result"
    }
   ],
   "source": [
    "len(gold_df)-len(gold_pos)"
   ]
  },
  {
   "cell_type": "code",
   "execution_count": 161,
   "metadata": {},
   "outputs": [
    {
     "data": {
      "text/plain": [
       "{'id': 0,\n",
       " 'fileId': 0,\n",
       " 'sent_list': [{'yes-sentiment': 2,\n",
       "   'yes-aspect': 2,\n",
       "   'no-sentiment': 0,\n",
       "   'no-aspect': 0,\n",
       "   'category': 'facility',\n",
       "   'hotel_id': 260,\n",
       "   'cpt': 0,\n",
       "   'Total': 4,\n",
       "   'fileId': 0,\n",
       "   'iId': 0,\n",
       "   'gold-aspect': True,\n",
       "   'gold-sentiment': True,\n",
       "   'text': 'The lobby bar always had a solo performer piano violin cello etc',\n",
       "   'date': '2015-02-09',\n",
       "   'sentiment': -0.4070737361907959,\n",
       "   'cpts': [0, 485, 912],\n",
       "   'sentiment_mean': 0.18068505920990363,\n",
       "   'date_period': ['2015-01-01', '2017-06-25'],\n",
       "   'cpt_id': '0_0',\n",
       "   'cpt_label': 'a',\n",
       "   'TS_LEN': 8,\n",
       "   'argmin_max': ''},\n",
       "  {'yes-sentiment': 2,\n",
       "   'yes-aspect': 2,\n",
       "   'no-sentiment': 0,\n",
       "   'no-aspect': 0,\n",
       "   'category': 'facility',\n",
       "   'hotel_id': 260,\n",
       "   'cpt': 0,\n",
       "   'Total': 4,\n",
       "   'fileId': 0,\n",
       "   'iId': 2,\n",
       "   'gold-aspect': True,\n",
       "   'gold-sentiment': True,\n",
       "   'text': 'We were then escorted to one of the lobby check in desks where we were given warm neck pillows to relax us even more',\n",
       "   'date': '2015-04-21',\n",
       "   'sentiment': -0.4058395028114319,\n",
       "   'cpts': [0, 485, 912],\n",
       "   'sentiment_mean': 0.18068505920990363,\n",
       "   'date_period': ['2015-01-01', '2017-06-25'],\n",
       "   'cpt_id': '0_0',\n",
       "   'cpt_label': 'a',\n",
       "   'TS_LEN': 8,\n",
       "   'argmin_max': ''},\n",
       "  {'yes-sentiment': 2,\n",
       "   'yes-aspect': 2,\n",
       "   'no-sentiment': 0,\n",
       "   'no-aspect': 0,\n",
       "   'category': 'facility',\n",
       "   'hotel_id': 260,\n",
       "   'cpt': 0,\n",
       "   'Total': 4,\n",
       "   'fileId': 0,\n",
       "   'iId': 3,\n",
       "   'gold-aspect': True,\n",
       "   'gold-sentiment': True,\n",
       "   'text': 'I went to the gym most mornings but I did the hydro EVERY morning',\n",
       "   'date': '2015-04-30',\n",
       "   'sentiment': -0.4908112287521362,\n",
       "   'cpts': [0, 485, 912],\n",
       "   'sentiment_mean': 0.18068505920990363,\n",
       "   'date_period': ['2015-01-01', '2017-06-25'],\n",
       "   'cpt_id': '0_0',\n",
       "   'cpt_label': 'a',\n",
       "   'TS_LEN': 8,\n",
       "   'argmin_max': ''},\n",
       "  {'yes-sentiment': 0,\n",
       "   'yes-aspect': 2,\n",
       "   'no-sentiment': 2,\n",
       "   'no-aspect': 0,\n",
       "   'category': 'facility',\n",
       "   'hotel_id': 260,\n",
       "   'cpt': 0,\n",
       "   'Total': 4,\n",
       "   'fileId': 0,\n",
       "   'iId': 4,\n",
       "   'gold-aspect': True,\n",
       "   'gold-sentiment': False,\n",
       "   'text': 'I suggest a room away from the elevators for this reason',\n",
       "   'date': '2015-07-14',\n",
       "   'sentiment': -0.4397155940532684,\n",
       "   'cpts': [0, 485, 912],\n",
       "   'sentiment_mean': 0.18068505920990363,\n",
       "   'date_period': ['2015-01-01', '2017-06-25'],\n",
       "   'cpt_id': '0_0',\n",
       "   'cpt_label': 'a',\n",
       "   'TS_LEN': 8,\n",
       "   'argmin_max': ''},\n",
       "  {'yes-sentiment': 2,\n",
       "   'yes-aspect': 2,\n",
       "   'no-sentiment': 0,\n",
       "   'no-aspect': 0,\n",
       "   'category': 'facility',\n",
       "   'hotel_id': 260,\n",
       "   'cpt': 0,\n",
       "   'Total': 4,\n",
       "   'fileId': 0,\n",
       "   'iId': 5,\n",
       "   'gold-aspect': True,\n",
       "   'gold-sentiment': True,\n",
       "   'text': 'But Lorena sure did a good job and was so sweet when she was at Le Blanc Stage or in the Lobby Bar to make sure we were settled for drinks',\n",
       "   'date': '2015-08-13',\n",
       "   'sentiment': -0.10574498772621156,\n",
       "   'cpts': [0, 485, 912],\n",
       "   'sentiment_mean': 0.18068505920990363,\n",
       "   'date_period': ['2015-01-01', '2017-06-25'],\n",
       "   'cpt_id': '0_0',\n",
       "   'cpt_label': 'a',\n",
       "   'TS_LEN': 8,\n",
       "   'argmin_max': ''},\n",
       "  {'yes-sentiment': 2,\n",
       "   'yes-aspect': 2,\n",
       "   'no-sentiment': 0,\n",
       "   'no-aspect': 0,\n",
       "   'category': 'facility',\n",
       "   'hotel_id': 260,\n",
       "   'cpt': 0,\n",
       "   'Total': 4,\n",
       "   'fileId': 0,\n",
       "   'iId': 6,\n",
       "   'gold-aspect': True,\n",
       "   'gold-sentiment': True,\n",
       "   'text': 'Just waiting for the elevator never a long wait afforded framed views of the shoreline or the lagoon',\n",
       "   'date': '2015-08-22',\n",
       "   'sentiment': -0.4956362545490265,\n",
       "   'cpts': [0, 485, 912],\n",
       "   'sentiment_mean': 0.18068505920990363,\n",
       "   'date_period': ['2015-01-01', '2017-06-25'],\n",
       "   'cpt_id': '0_0',\n",
       "   'cpt_label': 'a',\n",
       "   'TS_LEN': 8,\n",
       "   'argmin_max': True},\n",
       "  {'yes-sentiment': 2,\n",
       "   'yes-aspect': 2,\n",
       "   'no-sentiment': 0,\n",
       "   'no-aspect': 0,\n",
       "   'category': 'facility',\n",
       "   'hotel_id': 260,\n",
       "   'cpt': 0,\n",
       "   'Total': 4,\n",
       "   'fileId': 0,\n",
       "   'iId': 7,\n",
       "   'gold-aspect': True,\n",
       "   'gold-sentiment': True,\n",
       "   'text': 'And Elias at the Lobby Bar not only made our drinks perfectly he actually came out from behind the bar to hug me as we were leaving after making us our pina coladas to go for the ride to the airport',\n",
       "   'date': '2016-04-12',\n",
       "   'sentiment': -0.3210616111755371,\n",
       "   'cpts': [0, 485, 912],\n",
       "   'sentiment_mean': 0.18068505920990363,\n",
       "   'date_period': ['2015-01-01', '2017-06-25'],\n",
       "   'cpt_id': '0_0',\n",
       "   'cpt_label': 'a',\n",
       "   'TS_LEN': 8,\n",
       "   'argmin_max': ''},\n",
       "  {'yes-sentiment': 0,\n",
       "   'yes-aspect': 2,\n",
       "   'no-sentiment': 2,\n",
       "   'no-aspect': 0,\n",
       "   'category': 'facility',\n",
       "   'hotel_id': 260,\n",
       "   'cpt': 0,\n",
       "   'Total': 4,\n",
       "   'fileId': 0,\n",
       "   'iId': 9,\n",
       "   'gold-aspect': True,\n",
       "   'gold-sentiment': False,\n",
       "   'text': 'We had a lot better service and amenities at The Secrets Vine Aqua Live and Excellence',\n",
       "   'date': '2017-03-19',\n",
       "   'sentiment': -0.3980551064014435,\n",
       "   'cpts': [0, 485, 912],\n",
       "   'sentiment_mean': 0.18068505920990363,\n",
       "   'date_period': ['2015-01-01', '2017-06-25'],\n",
       "   'cpt_id': '0_0',\n",
       "   'cpt_label': 'a',\n",
       "   'TS_LEN': 8,\n",
       "   'argmin_max': ''},\n",
       "  {'yes-sentiment': 2,\n",
       "   'yes-aspect': 2,\n",
       "   'no-sentiment': 0,\n",
       "   'no-aspect': 0,\n",
       "   'category': 'facility',\n",
       "   'hotel_id': 260,\n",
       "   'cpt': 1,\n",
       "   'Total': 4,\n",
       "   'fileId': 0,\n",
       "   'iId': 10,\n",
       "   'gold-aspect': True,\n",
       "   'gold-sentiment': True,\n",
       "   'text': 'The gym was spacious and clean with several treadmills stationary bikes and elipticaly',\n",
       "   'date': '2017-07-03',\n",
       "   'sentiment': 0.4981830716133118,\n",
       "   'cpts': [0, 485, 912],\n",
       "   'sentiment_mean': 0.2742823594336024,\n",
       "   'date_period': ['2017-06-28', '2020-04-04'],\n",
       "   'cpt_id': '0_1',\n",
       "   'cpt_label': 'd',\n",
       "   'TS_LEN': 8,\n",
       "   'argmin_max': ''},\n",
       "  {'yes-sentiment': 2,\n",
       "   'yes-aspect': 2,\n",
       "   'no-sentiment': 0,\n",
       "   'no-aspect': 0,\n",
       "   'category': 'facility',\n",
       "   'hotel_id': 260,\n",
       "   'cpt': 1,\n",
       "   'Total': 4,\n",
       "   'fileId': 0,\n",
       "   'iId': 11,\n",
       "   'gold-aspect': True,\n",
       "   'gold-sentiment': True,\n",
       "   'text': 'The resort itself is incredible and the amenities spa especially are just completely over the top',\n",
       "   'date': '2018-01-04',\n",
       "   'sentiment': 0.4845783114433289,\n",
       "   'cpts': [0, 485, 912],\n",
       "   'sentiment_mean': 0.2742823594336024,\n",
       "   'date_period': ['2017-06-28', '2020-04-04'],\n",
       "   'cpt_id': '0_1',\n",
       "   'cpt_label': 'd',\n",
       "   'TS_LEN': 8,\n",
       "   'argmin_max': ''},\n",
       "  {'yes-sentiment': 2,\n",
       "   'yes-aspect': 2,\n",
       "   'no-sentiment': 0,\n",
       "   'no-aspect': 0,\n",
       "   'category': 'facility',\n",
       "   'hotel_id': 260,\n",
       "   'cpt': 1,\n",
       "   'Total': 4,\n",
       "   'fileId': 0,\n",
       "   'iId': 12,\n",
       "   'gold-aspect': True,\n",
       "   'gold-sentiment': True,\n",
       "   'text': 'They offered a nice selection of classes at the gym and we signed up for several of those during our week',\n",
       "   'date': '2018-02-12',\n",
       "   'sentiment': 0.4881290793418884,\n",
       "   'cpts': [0, 485, 912],\n",
       "   'sentiment_mean': 0.2742823594336024,\n",
       "   'date_period': ['2017-06-28', '2020-04-04'],\n",
       "   'cpt_id': '0_1',\n",
       "   'cpt_label': 'd',\n",
       "   'TS_LEN': 8,\n",
       "   'argmin_max': ''},\n",
       "  {'yes-sentiment': 2,\n",
       "   'yes-aspect': 2,\n",
       "   'no-sentiment': 0,\n",
       "   'no-aspect': 0,\n",
       "   'category': 'facility',\n",
       "   'hotel_id': 260,\n",
       "   'cpt': 1,\n",
       "   'Total': 4,\n",
       "   'fileId': 0,\n",
       "   'iId': 13,\n",
       "   'gold-aspect': True,\n",
       "   'gold-sentiment': True,\n",
       "   'text': 'The staff accommodations food and spa were absolutely 5 stars',\n",
       "   'date': '2018-05-30',\n",
       "   'sentiment': 0.4608194231987,\n",
       "   'cpts': [0, 485, 912],\n",
       "   'sentiment_mean': 0.2742823594336024,\n",
       "   'date_period': ['2017-06-28', '2020-04-04'],\n",
       "   'cpt_id': '0_1',\n",
       "   'cpt_label': 'd',\n",
       "   'TS_LEN': 8,\n",
       "   'argmin_max': ''},\n",
       "  {'yes-sentiment': 2,\n",
       "   'yes-aspect': 2,\n",
       "   'no-sentiment': 0,\n",
       "   'no-aspect': 0,\n",
       "   'category': 'facility',\n",
       "   'hotel_id': 260,\n",
       "   'cpt': 1,\n",
       "   'Total': 4,\n",
       "   'fileId': 0,\n",
       "   'iId': 14,\n",
       "   'gold-aspect': True,\n",
       "   'gold-sentiment': True,\n",
       "   'text': 'The facility is newly renovated and it is beautiful',\n",
       "   'date': '2019-01-10',\n",
       "   'sentiment': 0.4911012053489685,\n",
       "   'cpts': [0, 485, 912],\n",
       "   'sentiment_mean': 0.2742823594336024,\n",
       "   'date_period': ['2017-06-28', '2020-04-04'],\n",
       "   'cpt_id': '0_1',\n",
       "   'cpt_label': 'd',\n",
       "   'TS_LEN': 8,\n",
       "   'argmin_max': ''},\n",
       "  {'yes-sentiment': 2,\n",
       "   'yes-aspect': 2,\n",
       "   'no-sentiment': 0,\n",
       "   'no-aspect': 0,\n",
       "   'category': 'facility',\n",
       "   'hotel_id': 260,\n",
       "   'cpt': 1,\n",
       "   'Total': 4,\n",
       "   'fileId': 0,\n",
       "   'iId': 17,\n",
       "   'gold-aspect': True,\n",
       "   'gold-sentiment': True,\n",
       "   'text': 'We were blown away with the state of the art facilities it had to offer',\n",
       "   'date': '2019-12-27',\n",
       "   'sentiment': 0.450715959072113,\n",
       "   'cpts': [0, 485, 912],\n",
       "   'sentiment_mean': 0.2742823594336024,\n",
       "   'date_period': ['2017-06-28', '2020-04-04'],\n",
       "   'cpt_id': '0_1',\n",
       "   'cpt_label': 'd',\n",
       "   'TS_LEN': 8,\n",
       "   'argmin_max': ''},\n",
       "  {'yes-sentiment': 2,\n",
       "   'yes-aspect': 2,\n",
       "   'no-sentiment': 0,\n",
       "   'no-aspect': 0,\n",
       "   'category': 'facility',\n",
       "   'hotel_id': 260,\n",
       "   'cpt': 1,\n",
       "   'Total': 4,\n",
       "   'fileId': 0,\n",
       "   'iId': 18,\n",
       "   'gold-aspect': True,\n",
       "   'gold-sentiment': True,\n",
       "   'text': 'Excellent service facilities and staff',\n",
       "   'date': '2020-01-02',\n",
       "   'sentiment': 0.4989339709281922,\n",
       "   'cpts': [0, 485, 912],\n",
       "   'sentiment_mean': 0.2742823594336024,\n",
       "   'date_period': ['2017-06-28', '2020-04-04'],\n",
       "   'cpt_id': '0_1',\n",
       "   'cpt_label': 'd',\n",
       "   'TS_LEN': 8,\n",
       "   'argmin_max': True},\n",
       "  {'yes-sentiment': 2,\n",
       "   'yes-aspect': 2,\n",
       "   'no-sentiment': 0,\n",
       "   'no-aspect': 0,\n",
       "   'category': 'facility',\n",
       "   'hotel_id': 260,\n",
       "   'cpt': 1,\n",
       "   'Total': 4,\n",
       "   'fileId': 0,\n",
       "   'iId': 19,\n",
       "   'gold-aspect': True,\n",
       "   'gold-sentiment': True,\n",
       "   'text': 'The service the spa the gym and pools were incredible',\n",
       "   'date': '2020-01-05',\n",
       "   'sentiment': 0.4985228180885315,\n",
       "   'cpts': [0, 485, 912],\n",
       "   'sentiment_mean': 0.2742823594336024,\n",
       "   'date_period': ['2017-06-28', '2020-04-04'],\n",
       "   'cpt_id': '0_1',\n",
       "   'cpt_label': 'd',\n",
       "   'TS_LEN': 8,\n",
       "   'argmin_max': ''}]}"
      ]
     },
     "execution_count": 161,
     "metadata": {},
     "output_type": "execute_result"
    }
   ],
   "source": [
    "gold_sent_list[0]"
   ]
  },
  {
   "cell_type": "markdown",
   "metadata": {},
   "source": [
    "# gold sents_df. sentiments also align."
   ]
  },
  {
   "cell_type": "code",
   "execution_count": null,
   "metadata": {},
   "outputs": [],
   "source": []
  },
  {
   "cell_type": "code",
   "execution_count": 57,
   "metadata": {},
   "outputs": [],
   "source": [
    "ssents_df_gold = ssents_df[ssents_df['gold']==True] # sentiment also align."
   ]
  },
  {
   "cell_type": "code",
   "execution_count": 58,
   "metadata": {},
   "outputs": [
    {
     "data": {
      "text/plain": [
       "4623"
      ]
     },
     "execution_count": 58,
     "metadata": {},
     "output_type": "execute_result"
    }
   ],
   "source": [
    "len(ssents_df_gold)"
   ]
  },
  {
   "cell_type": "code",
   "execution_count": 59,
   "metadata": {},
   "outputs": [
    {
     "data": {
      "text/html": [
       "<div>\n",
       "<style scoped>\n",
       "    .dataframe tbody tr th:only-of-type {\n",
       "        vertical-align: middle;\n",
       "    }\n",
       "\n",
       "    .dataframe tbody tr th {\n",
       "        vertical-align: top;\n",
       "    }\n",
       "\n",
       "    .dataframe thead th {\n",
       "        text-align: right;\n",
       "    }\n",
       "</style>\n",
       "<table border=\"1\" class=\"dataframe\">\n",
       "  <thead>\n",
       "    <tr style=\"text-align: right;\">\n",
       "      <th></th>\n",
       "      <th>yes-sentiment</th>\n",
       "      <th>category</th>\n",
       "      <th>hotel_id</th>\n",
       "      <th>cpt</th>\n",
       "      <th>fileId</th>\n",
       "      <th>iId</th>\n",
       "      <th>gold</th>\n",
       "      <th>text</th>\n",
       "      <th>date</th>\n",
       "      <th>sentiment</th>\n",
       "      <th>cpts</th>\n",
       "      <th>sentiment_mean</th>\n",
       "      <th>date_period</th>\n",
       "      <th>cpt_id</th>\n",
       "      <th>cpt_label</th>\n",
       "    </tr>\n",
       "  </thead>\n",
       "  <tbody>\n",
       "    <tr>\n",
       "      <th>0_0</th>\n",
       "      <td>2</td>\n",
       "      <td>facility</td>\n",
       "      <td>260</td>\n",
       "      <td>0</td>\n",
       "      <td>0</td>\n",
       "      <td>0</td>\n",
       "      <td>True</td>\n",
       "      <td>The lobby bar always had a solo performer pian...</td>\n",
       "      <td>2015-02-09</td>\n",
       "      <td>-0.407074</td>\n",
       "      <td>[0, 485, 912]</td>\n",
       "      <td>0.180685</td>\n",
       "      <td>[2015-01-01, 2017-06-25]</td>\n",
       "      <td>0_0</td>\n",
       "      <td>a</td>\n",
       "    </tr>\n",
       "    <tr>\n",
       "      <th>0_2</th>\n",
       "      <td>2</td>\n",
       "      <td>facility</td>\n",
       "      <td>260</td>\n",
       "      <td>0</td>\n",
       "      <td>0</td>\n",
       "      <td>2</td>\n",
       "      <td>True</td>\n",
       "      <td>We were then escorted to one of the lobby chec...</td>\n",
       "      <td>2015-04-21</td>\n",
       "      <td>-0.405840</td>\n",
       "      <td>[0, 485, 912]</td>\n",
       "      <td>0.180685</td>\n",
       "      <td>[2015-01-01, 2017-06-25]</td>\n",
       "      <td>0_0</td>\n",
       "      <td>a</td>\n",
       "    </tr>\n",
       "    <tr>\n",
       "      <th>0_3</th>\n",
       "      <td>2</td>\n",
       "      <td>facility</td>\n",
       "      <td>260</td>\n",
       "      <td>0</td>\n",
       "      <td>0</td>\n",
       "      <td>3</td>\n",
       "      <td>True</td>\n",
       "      <td>I went to the gym most mornings but I did the ...</td>\n",
       "      <td>2015-04-30</td>\n",
       "      <td>-0.490811</td>\n",
       "      <td>[0, 485, 912]</td>\n",
       "      <td>0.180685</td>\n",
       "      <td>[2015-01-01, 2017-06-25]</td>\n",
       "      <td>0_0</td>\n",
       "      <td>a</td>\n",
       "    </tr>\n",
       "    <tr>\n",
       "      <th>0_5</th>\n",
       "      <td>2</td>\n",
       "      <td>facility</td>\n",
       "      <td>260</td>\n",
       "      <td>0</td>\n",
       "      <td>0</td>\n",
       "      <td>5</td>\n",
       "      <td>True</td>\n",
       "      <td>But Lorena sure did a good job and was so swee...</td>\n",
       "      <td>2015-08-13</td>\n",
       "      <td>-0.105745</td>\n",
       "      <td>[0, 485, 912]</td>\n",
       "      <td>0.180685</td>\n",
       "      <td>[2015-01-01, 2017-06-25]</td>\n",
       "      <td>0_0</td>\n",
       "      <td>a</td>\n",
       "    </tr>\n",
       "    <tr>\n",
       "      <th>0_6</th>\n",
       "      <td>2</td>\n",
       "      <td>facility</td>\n",
       "      <td>260</td>\n",
       "      <td>0</td>\n",
       "      <td>0</td>\n",
       "      <td>6</td>\n",
       "      <td>True</td>\n",
       "      <td>Just waiting for the elevator never a long wai...</td>\n",
       "      <td>2015-08-22</td>\n",
       "      <td>-0.495636</td>\n",
       "      <td>[0, 485, 912]</td>\n",
       "      <td>0.180685</td>\n",
       "      <td>[2015-01-01, 2017-06-25]</td>\n",
       "      <td>0_0</td>\n",
       "      <td>a</td>\n",
       "    </tr>\n",
       "  </tbody>\n",
       "</table>\n",
       "</div>"
      ],
      "text/plain": [
       "     yes-sentiment  category  hotel_id  cpt  fileId  iId  gold  \\\n",
       "0_0              2  facility       260    0       0    0  True   \n",
       "0_2              2  facility       260    0       0    2  True   \n",
       "0_3              2  facility       260    0       0    3  True   \n",
       "0_5              2  facility       260    0       0    5  True   \n",
       "0_6              2  facility       260    0       0    6  True   \n",
       "\n",
       "                                                  text        date  sentiment  \\\n",
       "0_0  The lobby bar always had a solo performer pian...  2015-02-09  -0.407074   \n",
       "0_2  We were then escorted to one of the lobby chec...  2015-04-21  -0.405840   \n",
       "0_3  I went to the gym most mornings but I did the ...  2015-04-30  -0.490811   \n",
       "0_5  But Lorena sure did a good job and was so swee...  2015-08-13  -0.105745   \n",
       "0_6  Just waiting for the elevator never a long wai...  2015-08-22  -0.495636   \n",
       "\n",
       "              cpts  sentiment_mean               date_period cpt_id cpt_label  \n",
       "0_0  [0, 485, 912]        0.180685  [2015-01-01, 2017-06-25]    0_0         a  \n",
       "0_2  [0, 485, 912]        0.180685  [2015-01-01, 2017-06-25]    0_0         a  \n",
       "0_3  [0, 485, 912]        0.180685  [2015-01-01, 2017-06-25]    0_0         a  \n",
       "0_5  [0, 485, 912]        0.180685  [2015-01-01, 2017-06-25]    0_0         a  \n",
       "0_6  [0, 485, 912]        0.180685  [2015-01-01, 2017-06-25]    0_0         a  "
      ]
     },
     "execution_count": 59,
     "metadata": {},
     "output_type": "execute_result"
    }
   ],
   "source": [
    "ssents_df_gold.head()"
   ]
  },
  {
   "cell_type": "code",
   "execution_count": 64,
   "metadata": {},
   "outputs": [
    {
     "name": "stderr",
     "output_type": "stream",
     "text": [
      "/home/yiyi/anaconda3/envs/cdp/lib/python3.7/site-packages/ipykernel_launcher.py:11: SettingWithCopyWarning: \n",
      "A value is trying to be set on a copy of a slice from a DataFrame.\n",
      "Try using .loc[row_indexer,col_indexer] = value instead\n",
      "\n",
      "See the caveats in the documentation: https://pandas.pydata.org/pandas-docs/stable/user_guide/indexing.html#returning-a-view-versus-a-copy\n",
      "  # This is added back by InteractiveShellApp.init_path()\n"
     ]
    }
   ],
   "source": [
    "# every ts should have more than 3 sentences.\n",
    "\n",
    "time_series_len = {}\n",
    "for key, group in ssents_df_gold.groupby('cpt_id'):\n",
    "    time_series_len[key]= (len(group), group['cpt_label'][0])\n",
    "    \n",
    "def ts_Len(row):\n",
    "    cpt_id = row['cpt_id']\n",
    "    return time_series_len[cpt_id][0]\n",
    "\n",
    "ssents_df_gold['TS_LEN']= ssents_df_gold.apply(ts_Len, axis=1)"
   ]
  },
  {
   "cell_type": "code",
   "execution_count": 65,
   "metadata": {},
   "outputs": [
    {
     "data": {
      "text/html": [
       "<div>\n",
       "<style scoped>\n",
       "    .dataframe tbody tr th:only-of-type {\n",
       "        vertical-align: middle;\n",
       "    }\n",
       "\n",
       "    .dataframe tbody tr th {\n",
       "        vertical-align: top;\n",
       "    }\n",
       "\n",
       "    .dataframe thead th {\n",
       "        text-align: right;\n",
       "    }\n",
       "</style>\n",
       "<table border=\"1\" class=\"dataframe\">\n",
       "  <thead>\n",
       "    <tr style=\"text-align: right;\">\n",
       "      <th></th>\n",
       "      <th>yes-sentiment</th>\n",
       "      <th>category</th>\n",
       "      <th>hotel_id</th>\n",
       "      <th>cpt</th>\n",
       "      <th>fileId</th>\n",
       "      <th>iId</th>\n",
       "      <th>gold</th>\n",
       "      <th>text</th>\n",
       "      <th>date</th>\n",
       "      <th>sentiment</th>\n",
       "      <th>cpts</th>\n",
       "      <th>sentiment_mean</th>\n",
       "      <th>date_period</th>\n",
       "      <th>cpt_id</th>\n",
       "      <th>cpt_label</th>\n",
       "      <th>TS_LEN</th>\n",
       "    </tr>\n",
       "  </thead>\n",
       "  <tbody>\n",
       "    <tr>\n",
       "      <th>0_0</th>\n",
       "      <td>2</td>\n",
       "      <td>facility</td>\n",
       "      <td>260</td>\n",
       "      <td>0</td>\n",
       "      <td>0</td>\n",
       "      <td>0</td>\n",
       "      <td>True</td>\n",
       "      <td>The lobby bar always had a solo performer pian...</td>\n",
       "      <td>2015-02-09</td>\n",
       "      <td>-0.407074</td>\n",
       "      <td>[0, 485, 912]</td>\n",
       "      <td>0.180685</td>\n",
       "      <td>[2015-01-01, 2017-06-25]</td>\n",
       "      <td>0_0</td>\n",
       "      <td>a</td>\n",
       "      <td>6</td>\n",
       "    </tr>\n",
       "    <tr>\n",
       "      <th>0_2</th>\n",
       "      <td>2</td>\n",
       "      <td>facility</td>\n",
       "      <td>260</td>\n",
       "      <td>0</td>\n",
       "      <td>0</td>\n",
       "      <td>2</td>\n",
       "      <td>True</td>\n",
       "      <td>We were then escorted to one of the lobby chec...</td>\n",
       "      <td>2015-04-21</td>\n",
       "      <td>-0.405840</td>\n",
       "      <td>[0, 485, 912]</td>\n",
       "      <td>0.180685</td>\n",
       "      <td>[2015-01-01, 2017-06-25]</td>\n",
       "      <td>0_0</td>\n",
       "      <td>a</td>\n",
       "      <td>6</td>\n",
       "    </tr>\n",
       "    <tr>\n",
       "      <th>0_3</th>\n",
       "      <td>2</td>\n",
       "      <td>facility</td>\n",
       "      <td>260</td>\n",
       "      <td>0</td>\n",
       "      <td>0</td>\n",
       "      <td>3</td>\n",
       "      <td>True</td>\n",
       "      <td>I went to the gym most mornings but I did the ...</td>\n",
       "      <td>2015-04-30</td>\n",
       "      <td>-0.490811</td>\n",
       "      <td>[0, 485, 912]</td>\n",
       "      <td>0.180685</td>\n",
       "      <td>[2015-01-01, 2017-06-25]</td>\n",
       "      <td>0_0</td>\n",
       "      <td>a</td>\n",
       "      <td>6</td>\n",
       "    </tr>\n",
       "    <tr>\n",
       "      <th>0_5</th>\n",
       "      <td>2</td>\n",
       "      <td>facility</td>\n",
       "      <td>260</td>\n",
       "      <td>0</td>\n",
       "      <td>0</td>\n",
       "      <td>5</td>\n",
       "      <td>True</td>\n",
       "      <td>But Lorena sure did a good job and was so swee...</td>\n",
       "      <td>2015-08-13</td>\n",
       "      <td>-0.105745</td>\n",
       "      <td>[0, 485, 912]</td>\n",
       "      <td>0.180685</td>\n",
       "      <td>[2015-01-01, 2017-06-25]</td>\n",
       "      <td>0_0</td>\n",
       "      <td>a</td>\n",
       "      <td>6</td>\n",
       "    </tr>\n",
       "    <tr>\n",
       "      <th>0_6</th>\n",
       "      <td>2</td>\n",
       "      <td>facility</td>\n",
       "      <td>260</td>\n",
       "      <td>0</td>\n",
       "      <td>0</td>\n",
       "      <td>6</td>\n",
       "      <td>True</td>\n",
       "      <td>Just waiting for the elevator never a long wai...</td>\n",
       "      <td>2015-08-22</td>\n",
       "      <td>-0.495636</td>\n",
       "      <td>[0, 485, 912]</td>\n",
       "      <td>0.180685</td>\n",
       "      <td>[2015-01-01, 2017-06-25]</td>\n",
       "      <td>0_0</td>\n",
       "      <td>a</td>\n",
       "      <td>6</td>\n",
       "    </tr>\n",
       "  </tbody>\n",
       "</table>\n",
       "</div>"
      ],
      "text/plain": [
       "     yes-sentiment  category  hotel_id  cpt  fileId  iId  gold  \\\n",
       "0_0              2  facility       260    0       0    0  True   \n",
       "0_2              2  facility       260    0       0    2  True   \n",
       "0_3              2  facility       260    0       0    3  True   \n",
       "0_5              2  facility       260    0       0    5  True   \n",
       "0_6              2  facility       260    0       0    6  True   \n",
       "\n",
       "                                                  text        date  sentiment  \\\n",
       "0_0  The lobby bar always had a solo performer pian...  2015-02-09  -0.407074   \n",
       "0_2  We were then escorted to one of the lobby chec...  2015-04-21  -0.405840   \n",
       "0_3  I went to the gym most mornings but I did the ...  2015-04-30  -0.490811   \n",
       "0_5  But Lorena sure did a good job and was so swee...  2015-08-13  -0.105745   \n",
       "0_6  Just waiting for the elevator never a long wai...  2015-08-22  -0.495636   \n",
       "\n",
       "              cpts  sentiment_mean               date_period cpt_id cpt_label  \\\n",
       "0_0  [0, 485, 912]        0.180685  [2015-01-01, 2017-06-25]    0_0         a   \n",
       "0_2  [0, 485, 912]        0.180685  [2015-01-01, 2017-06-25]    0_0         a   \n",
       "0_3  [0, 485, 912]        0.180685  [2015-01-01, 2017-06-25]    0_0         a   \n",
       "0_5  [0, 485, 912]        0.180685  [2015-01-01, 2017-06-25]    0_0         a   \n",
       "0_6  [0, 485, 912]        0.180685  [2015-01-01, 2017-06-25]    0_0         a   \n",
       "\n",
       "     TS_LEN  \n",
       "0_0       6  \n",
       "0_2       6  \n",
       "0_3       6  \n",
       "0_5       6  \n",
       "0_6       6  "
      ]
     },
     "execution_count": 65,
     "metadata": {},
     "output_type": "execute_result"
    }
   ],
   "source": [
    "ssents_df_gold.head()"
   ]
  },
  {
   "cell_type": "code",
   "execution_count": 66,
   "metadata": {},
   "outputs": [],
   "source": [
    "sents_gold_df = ssents_df_gold[ssents_df_gold['TS_LEN']>2]"
   ]
  },
  {
   "cell_type": "code",
   "execution_count": 67,
   "metadata": {},
   "outputs": [
    {
     "data": {
      "text/plain": [
       "4351"
      ]
     },
     "execution_count": 67,
     "metadata": {},
     "output_type": "execute_result"
    }
   ],
   "source": [
    "len(sents_gold_df)"
   ]
  },
  {
   "cell_type": "code",
   "execution_count": 68,
   "metadata": {},
   "outputs": [],
   "source": [
    "# should there be a/b/c in one time series. then record it.\n",
    "ls_dfs = []\n",
    "for key, group in sents_gold_df.groupby('fileId'):\n",
    "    if any(group['cpt_label']):\n",
    "        ls_dfs.append(group)"
   ]
  },
  {
   "cell_type": "code",
   "execution_count": 69,
   "metadata": {},
   "outputs": [],
   "source": [
    "gold_df = pd.concat(ls_dfs)"
   ]
  },
  {
   "cell_type": "code",
   "execution_count": 70,
   "metadata": {},
   "outputs": [
    {
     "data": {
      "text/html": [
       "<div>\n",
       "<style scoped>\n",
       "    .dataframe tbody tr th:only-of-type {\n",
       "        vertical-align: middle;\n",
       "    }\n",
       "\n",
       "    .dataframe tbody tr th {\n",
       "        vertical-align: top;\n",
       "    }\n",
       "\n",
       "    .dataframe thead th {\n",
       "        text-align: right;\n",
       "    }\n",
       "</style>\n",
       "<table border=\"1\" class=\"dataframe\">\n",
       "  <thead>\n",
       "    <tr style=\"text-align: right;\">\n",
       "      <th></th>\n",
       "      <th>yes-sentiment</th>\n",
       "      <th>category</th>\n",
       "      <th>hotel_id</th>\n",
       "      <th>cpt</th>\n",
       "      <th>fileId</th>\n",
       "      <th>iId</th>\n",
       "      <th>gold</th>\n",
       "      <th>text</th>\n",
       "      <th>date</th>\n",
       "      <th>sentiment</th>\n",
       "      <th>cpts</th>\n",
       "      <th>sentiment_mean</th>\n",
       "      <th>date_period</th>\n",
       "      <th>cpt_id</th>\n",
       "      <th>cpt_label</th>\n",
       "      <th>TS_LEN</th>\n",
       "    </tr>\n",
       "  </thead>\n",
       "  <tbody>\n",
       "    <tr>\n",
       "      <th>0_0</th>\n",
       "      <td>2</td>\n",
       "      <td>facility</td>\n",
       "      <td>260</td>\n",
       "      <td>0</td>\n",
       "      <td>0</td>\n",
       "      <td>0</td>\n",
       "      <td>True</td>\n",
       "      <td>The lobby bar always had a solo performer pian...</td>\n",
       "      <td>2015-02-09</td>\n",
       "      <td>-0.407074</td>\n",
       "      <td>[0, 485, 912]</td>\n",
       "      <td>0.180685</td>\n",
       "      <td>[2015-01-01, 2017-06-25]</td>\n",
       "      <td>0_0</td>\n",
       "      <td>a</td>\n",
       "      <td>6</td>\n",
       "    </tr>\n",
       "    <tr>\n",
       "      <th>0_2</th>\n",
       "      <td>2</td>\n",
       "      <td>facility</td>\n",
       "      <td>260</td>\n",
       "      <td>0</td>\n",
       "      <td>0</td>\n",
       "      <td>2</td>\n",
       "      <td>True</td>\n",
       "      <td>We were then escorted to one of the lobby chec...</td>\n",
       "      <td>2015-04-21</td>\n",
       "      <td>-0.405840</td>\n",
       "      <td>[0, 485, 912]</td>\n",
       "      <td>0.180685</td>\n",
       "      <td>[2015-01-01, 2017-06-25]</td>\n",
       "      <td>0_0</td>\n",
       "      <td>a</td>\n",
       "      <td>6</td>\n",
       "    </tr>\n",
       "    <tr>\n",
       "      <th>0_3</th>\n",
       "      <td>2</td>\n",
       "      <td>facility</td>\n",
       "      <td>260</td>\n",
       "      <td>0</td>\n",
       "      <td>0</td>\n",
       "      <td>3</td>\n",
       "      <td>True</td>\n",
       "      <td>I went to the gym most mornings but I did the ...</td>\n",
       "      <td>2015-04-30</td>\n",
       "      <td>-0.490811</td>\n",
       "      <td>[0, 485, 912]</td>\n",
       "      <td>0.180685</td>\n",
       "      <td>[2015-01-01, 2017-06-25]</td>\n",
       "      <td>0_0</td>\n",
       "      <td>a</td>\n",
       "      <td>6</td>\n",
       "    </tr>\n",
       "    <tr>\n",
       "      <th>0_5</th>\n",
       "      <td>2</td>\n",
       "      <td>facility</td>\n",
       "      <td>260</td>\n",
       "      <td>0</td>\n",
       "      <td>0</td>\n",
       "      <td>5</td>\n",
       "      <td>True</td>\n",
       "      <td>But Lorena sure did a good job and was so swee...</td>\n",
       "      <td>2015-08-13</td>\n",
       "      <td>-0.105745</td>\n",
       "      <td>[0, 485, 912]</td>\n",
       "      <td>0.180685</td>\n",
       "      <td>[2015-01-01, 2017-06-25]</td>\n",
       "      <td>0_0</td>\n",
       "      <td>a</td>\n",
       "      <td>6</td>\n",
       "    </tr>\n",
       "    <tr>\n",
       "      <th>0_6</th>\n",
       "      <td>2</td>\n",
       "      <td>facility</td>\n",
       "      <td>260</td>\n",
       "      <td>0</td>\n",
       "      <td>0</td>\n",
       "      <td>6</td>\n",
       "      <td>True</td>\n",
       "      <td>Just waiting for the elevator never a long wai...</td>\n",
       "      <td>2015-08-22</td>\n",
       "      <td>-0.495636</td>\n",
       "      <td>[0, 485, 912]</td>\n",
       "      <td>0.180685</td>\n",
       "      <td>[2015-01-01, 2017-06-25]</td>\n",
       "      <td>0_0</td>\n",
       "      <td>a</td>\n",
       "      <td>6</td>\n",
       "    </tr>\n",
       "    <tr>\n",
       "      <th>...</th>\n",
       "      <td>...</td>\n",
       "      <td>...</td>\n",
       "      <td>...</td>\n",
       "      <td>...</td>\n",
       "      <td>...</td>\n",
       "      <td>...</td>\n",
       "      <td>...</td>\n",
       "      <td>...</td>\n",
       "      <td>...</td>\n",
       "      <td>...</td>\n",
       "      <td>...</td>\n",
       "      <td>...</td>\n",
       "      <td>...</td>\n",
       "      <td>...</td>\n",
       "      <td>...</td>\n",
       "      <td>...</td>\n",
       "    </tr>\n",
       "    <tr>\n",
       "      <th>419_20</th>\n",
       "      <td>2</td>\n",
       "      <td>room</td>\n",
       "      <td>389</td>\n",
       "      <td>2</td>\n",
       "      <td>419</td>\n",
       "      <td>20</td>\n",
       "      <td>True</td>\n",
       "      <td>The rooms are nice not extremelyImpresive</td>\n",
       "      <td>2018-07-02</td>\n",
       "      <td>0.384938</td>\n",
       "      <td>[0, 155, 230, 781]</td>\n",
       "      <td>0.065789</td>\n",
       "      <td>[2017-05-20, 2020-03-17]</td>\n",
       "      <td>419_2</td>\n",
       "      <td>None</td>\n",
       "      <td>8</td>\n",
       "    </tr>\n",
       "    <tr>\n",
       "      <th>419_21</th>\n",
       "      <td>2</td>\n",
       "      <td>room</td>\n",
       "      <td>389</td>\n",
       "      <td>2</td>\n",
       "      <td>419</td>\n",
       "      <td>21</td>\n",
       "      <td>True</td>\n",
       "      <td>Very spacious great bedding a huge TV comforta...</td>\n",
       "      <td>2018-08-01</td>\n",
       "      <td>0.499862</td>\n",
       "      <td>[0, 155, 230, 781]</td>\n",
       "      <td>0.065789</td>\n",
       "      <td>[2017-05-20, 2020-03-17]</td>\n",
       "      <td>419_2</td>\n",
       "      <td>None</td>\n",
       "      <td>8</td>\n",
       "    </tr>\n",
       "    <tr>\n",
       "      <th>419_22</th>\n",
       "      <td>2</td>\n",
       "      <td>room</td>\n",
       "      <td>389</td>\n",
       "      <td>2</td>\n",
       "      <td>419</td>\n",
       "      <td>22</td>\n",
       "      <td>True</td>\n",
       "      <td>Quiet comfortable room comfy bed good pillows</td>\n",
       "      <td>2018-10-12</td>\n",
       "      <td>0.499618</td>\n",
       "      <td>[0, 155, 230, 781]</td>\n",
       "      <td>0.065789</td>\n",
       "      <td>[2017-05-20, 2020-03-17]</td>\n",
       "      <td>419_2</td>\n",
       "      <td>None</td>\n",
       "      <td>8</td>\n",
       "    </tr>\n",
       "    <tr>\n",
       "      <th>419_24</th>\n",
       "      <td>2</td>\n",
       "      <td>room</td>\n",
       "      <td>389</td>\n",
       "      <td>2</td>\n",
       "      <td>419</td>\n",
       "      <td>24</td>\n",
       "      <td>True</td>\n",
       "      <td>The bathtub looked luxurious and the separate ...</td>\n",
       "      <td>2019-12-09</td>\n",
       "      <td>0.499170</td>\n",
       "      <td>[0, 155, 230, 781]</td>\n",
       "      <td>0.065789</td>\n",
       "      <td>[2017-05-20, 2020-03-17]</td>\n",
       "      <td>419_2</td>\n",
       "      <td>None</td>\n",
       "      <td>8</td>\n",
       "    </tr>\n",
       "    <tr>\n",
       "      <th>419_25</th>\n",
       "      <td>2</td>\n",
       "      <td>room</td>\n",
       "      <td>389</td>\n",
       "      <td>2</td>\n",
       "      <td>419</td>\n",
       "      <td>25</td>\n",
       "      <td>True</td>\n",
       "      <td>The RomI booked us a King Bed Guest Room with ...</td>\n",
       "      <td>2019-12-09</td>\n",
       "      <td>0.498069</td>\n",
       "      <td>[0, 155, 230, 781]</td>\n",
       "      <td>0.065789</td>\n",
       "      <td>[2017-05-20, 2020-03-17]</td>\n",
       "      <td>419_2</td>\n",
       "      <td>None</td>\n",
       "      <td>8</td>\n",
       "    </tr>\n",
       "  </tbody>\n",
       "</table>\n",
       "<p>3883 rows × 16 columns</p>\n",
       "</div>"
      ],
      "text/plain": [
       "        yes-sentiment  category  hotel_id  cpt  fileId  iId  gold  \\\n",
       "0_0                 2  facility       260    0       0    0  True   \n",
       "0_2                 2  facility       260    0       0    2  True   \n",
       "0_3                 2  facility       260    0       0    3  True   \n",
       "0_5                 2  facility       260    0       0    5  True   \n",
       "0_6                 2  facility       260    0       0    6  True   \n",
       "...               ...       ...       ...  ...     ...  ...   ...   \n",
       "419_20              2      room       389    2     419   20  True   \n",
       "419_21              2      room       389    2     419   21  True   \n",
       "419_22              2      room       389    2     419   22  True   \n",
       "419_24              2      room       389    2     419   24  True   \n",
       "419_25              2      room       389    2     419   25  True   \n",
       "\n",
       "                                                     text        date  \\\n",
       "0_0     The lobby bar always had a solo performer pian...  2015-02-09   \n",
       "0_2     We were then escorted to one of the lobby chec...  2015-04-21   \n",
       "0_3     I went to the gym most mornings but I did the ...  2015-04-30   \n",
       "0_5     But Lorena sure did a good job and was so swee...  2015-08-13   \n",
       "0_6     Just waiting for the elevator never a long wai...  2015-08-22   \n",
       "...                                                   ...         ...   \n",
       "419_20          The rooms are nice not extremelyImpresive  2018-07-02   \n",
       "419_21  Very spacious great bedding a huge TV comforta...  2018-08-01   \n",
       "419_22      Quiet comfortable room comfy bed good pillows  2018-10-12   \n",
       "419_24  The bathtub looked luxurious and the separate ...  2019-12-09   \n",
       "419_25  The RomI booked us a King Bed Guest Room with ...  2019-12-09   \n",
       "\n",
       "        sentiment                cpts  sentiment_mean  \\\n",
       "0_0     -0.407074       [0, 485, 912]        0.180685   \n",
       "0_2     -0.405840       [0, 485, 912]        0.180685   \n",
       "0_3     -0.490811       [0, 485, 912]        0.180685   \n",
       "0_5     -0.105745       [0, 485, 912]        0.180685   \n",
       "0_6     -0.495636       [0, 485, 912]        0.180685   \n",
       "...           ...                 ...             ...   \n",
       "419_20   0.384938  [0, 155, 230, 781]        0.065789   \n",
       "419_21   0.499862  [0, 155, 230, 781]        0.065789   \n",
       "419_22   0.499618  [0, 155, 230, 781]        0.065789   \n",
       "419_24   0.499170  [0, 155, 230, 781]        0.065789   \n",
       "419_25   0.498069  [0, 155, 230, 781]        0.065789   \n",
       "\n",
       "                     date_period cpt_id cpt_label  TS_LEN  \n",
       "0_0     [2015-01-01, 2017-06-25]    0_0         a       6  \n",
       "0_2     [2015-01-01, 2017-06-25]    0_0         a       6  \n",
       "0_3     [2015-01-01, 2017-06-25]    0_0         a       6  \n",
       "0_5     [2015-01-01, 2017-06-25]    0_0         a       6  \n",
       "0_6     [2015-01-01, 2017-06-25]    0_0         a       6  \n",
       "...                          ...    ...       ...     ...  \n",
       "419_20  [2017-05-20, 2020-03-17]  419_2      None       8  \n",
       "419_21  [2017-05-20, 2020-03-17]  419_2      None       8  \n",
       "419_22  [2017-05-20, 2020-03-17]  419_2      None       8  \n",
       "419_24  [2017-05-20, 2020-03-17]  419_2      None       8  \n",
       "419_25  [2017-05-20, 2020-03-17]  419_2      None       8  \n",
       "\n",
       "[3883 rows x 16 columns]"
      ]
     },
     "execution_count": 70,
     "metadata": {},
     "output_type": "execute_result"
    }
   ],
   "source": [
    "gold_df"
   ]
  },
  {
   "cell_type": "code",
   "execution_count": 71,
   "metadata": {},
   "outputs": [],
   "source": [
    "gold_sent_list=[]\n",
    "for key, group in gold_df.groupby('fileId'):\n",
    "    \n",
    "    \n",
    "    gold_sent_list.append({\n",
    "        'id':key, \n",
    "        'sent_list': group.to_dict('records')\n",
    "    })\n",
    "    \n",
    "#     gold_sent_dict[key]= group.to_dict('records')"
   ]
  },
  {
   "cell_type": "code",
   "execution_count": 72,
   "metadata": {},
   "outputs": [
    {
     "data": {
      "text/plain": [
       "319"
      ]
     },
     "execution_count": 72,
     "metadata": {},
     "output_type": "execute_result"
    }
   ],
   "source": [
    "len(gold_sent_list)"
   ]
  },
  {
   "cell_type": "code",
   "execution_count": 73,
   "metadata": {},
   "outputs": [],
   "source": [
    "for idx, sent in enumerate(gold_sent_list):\n",
    "    if len(sent['sent_list'])<3:\n",
    "        print(idx, sent)"
   ]
  },
  {
   "cell_type": "code",
   "execution_count": 82,
   "metadata": {},
   "outputs": [],
   "source": [
    "with open('gold_sent_list.json', 'w') as writer:\n",
    "    json.dump(gold_sent_list, writer)"
   ]
  },
  {
   "cell_type": "code",
   "execution_count": 83,
   "metadata": {},
   "outputs": [],
   "source": [
    "with open('data_processed/reviews.json') as reader:\n",
    "    reviews = json.load(reader)"
   ]
  },
  {
   "cell_type": "code",
   "execution_count": 84,
   "metadata": {},
   "outputs": [],
   "source": [
    "with open('data_processed/annotations.json') as reader:\n",
    "    annotations= json.load(reader)"
   ]
  },
  {
   "cell_type": "code",
   "execution_count": 85,
   "metadata": {},
   "outputs": [
    {
     "data": {
      "text/plain": [
       "{'id': 'lZqrFrJub',\n",
       " 'date': '2020-06-30T10:59:09.303Z',\n",
       " 'filename': 'renovation_room_147',\n",
       " 'fileId': '252',\n",
       " 'username': 'Edita',\n",
       " 'annotation': [{'id': 0, 'yes_aspect': True, 'yes_sentiment': True},\n",
       "  {'id': 1, 'yes_aspect': True, 'yes_sentiment': True},\n",
       "  {'id': 2, 'yes_aspect': True, 'yes_sentiment': True},\n",
       "  {'id': 3, 'yes_sentiment': True},\n",
       "  {'id': 4, 'yes_aspect': True, 'yes_sentiment': True},\n",
       "  {'id': 5, 'yes_aspect': True, 'yes_sentiment': True},\n",
       "  {'id': 6, 'yes_aspect': True, 'yes_sentiment': True},\n",
       "  {'id': 7, 'yes_aspect': True, 'yes_sentiment': True},\n",
       "  {'id': 8, 'yes_aspect': True, 'yes_sentiment': True},\n",
       "  {'id': 9, 'yes_aspect': False, 'yes_sentiment': True}],\n",
       " 'cptAnswer': {}}"
      ]
     },
     "execution_count": 85,
     "metadata": {},
     "output_type": "execute_result"
    }
   ],
   "source": [
    "annotations[0]"
   ]
  },
  {
   "cell_type": "code",
   "execution_count": 86,
   "metadata": {},
   "outputs": [],
   "source": [
    "db ={'reviews':reviews, 'annotations':annotations, 'dataset':gold_sent_list}"
   ]
  },
  {
   "cell_type": "code",
   "execution_count": 87,
   "metadata": {},
   "outputs": [],
   "source": [
    "with open('data_processed/db.json', 'w') as writer:\n",
    "    json.dump(db, writer)\n",
    "    "
   ]
  },
  {
   "cell_type": "code",
   "execution_count": 88,
   "metadata": {},
   "outputs": [],
   "source": [
    "gold_df.to_csv('sents_gold_3883.csv')   "
   ]
  },
  {
   "cell_type": "code",
   "execution_count": null,
   "metadata": {},
   "outputs": [],
   "source": []
  },
  {
   "cell_type": "code",
   "execution_count": 89,
   "metadata": {},
   "outputs": [
    {
     "data": {
      "text/html": [
       "<div>\n",
       "<style scoped>\n",
       "    .dataframe tbody tr th:only-of-type {\n",
       "        vertical-align: middle;\n",
       "    }\n",
       "\n",
       "    .dataframe tbody tr th {\n",
       "        vertical-align: top;\n",
       "    }\n",
       "\n",
       "    .dataframe thead th {\n",
       "        text-align: right;\n",
       "    }\n",
       "</style>\n",
       "<table border=\"1\" class=\"dataframe\">\n",
       "  <thead>\n",
       "    <tr style=\"text-align: right;\">\n",
       "      <th></th>\n",
       "      <th>yes-sentiment</th>\n",
       "      <th>category</th>\n",
       "      <th>hotel_id</th>\n",
       "      <th>cpt</th>\n",
       "      <th>fileId</th>\n",
       "      <th>iId</th>\n",
       "      <th>gold</th>\n",
       "      <th>text</th>\n",
       "      <th>date</th>\n",
       "      <th>sentiment</th>\n",
       "      <th>cpts</th>\n",
       "      <th>sentiment_mean</th>\n",
       "      <th>date_period</th>\n",
       "      <th>cpt_id</th>\n",
       "      <th>cpt_label</th>\n",
       "      <th>TS_LEN</th>\n",
       "    </tr>\n",
       "  </thead>\n",
       "  <tbody>\n",
       "    <tr>\n",
       "      <th>0_0</th>\n",
       "      <td>2</td>\n",
       "      <td>facility</td>\n",
       "      <td>260</td>\n",
       "      <td>0</td>\n",
       "      <td>0</td>\n",
       "      <td>0</td>\n",
       "      <td>True</td>\n",
       "      <td>The lobby bar always had a solo performer pian...</td>\n",
       "      <td>2015-02-09</td>\n",
       "      <td>-0.407074</td>\n",
       "      <td>[0, 485, 912]</td>\n",
       "      <td>0.180685</td>\n",
       "      <td>[2015-01-01, 2017-06-25]</td>\n",
       "      <td>0_0</td>\n",
       "      <td>a</td>\n",
       "      <td>6</td>\n",
       "    </tr>\n",
       "    <tr>\n",
       "      <th>0_2</th>\n",
       "      <td>2</td>\n",
       "      <td>facility</td>\n",
       "      <td>260</td>\n",
       "      <td>0</td>\n",
       "      <td>0</td>\n",
       "      <td>2</td>\n",
       "      <td>True</td>\n",
       "      <td>We were then escorted to one of the lobby chec...</td>\n",
       "      <td>2015-04-21</td>\n",
       "      <td>-0.405840</td>\n",
       "      <td>[0, 485, 912]</td>\n",
       "      <td>0.180685</td>\n",
       "      <td>[2015-01-01, 2017-06-25]</td>\n",
       "      <td>0_0</td>\n",
       "      <td>a</td>\n",
       "      <td>6</td>\n",
       "    </tr>\n",
       "    <tr>\n",
       "      <th>0_3</th>\n",
       "      <td>2</td>\n",
       "      <td>facility</td>\n",
       "      <td>260</td>\n",
       "      <td>0</td>\n",
       "      <td>0</td>\n",
       "      <td>3</td>\n",
       "      <td>True</td>\n",
       "      <td>I went to the gym most mornings but I did the ...</td>\n",
       "      <td>2015-04-30</td>\n",
       "      <td>-0.490811</td>\n",
       "      <td>[0, 485, 912]</td>\n",
       "      <td>0.180685</td>\n",
       "      <td>[2015-01-01, 2017-06-25]</td>\n",
       "      <td>0_0</td>\n",
       "      <td>a</td>\n",
       "      <td>6</td>\n",
       "    </tr>\n",
       "    <tr>\n",
       "      <th>0_5</th>\n",
       "      <td>2</td>\n",
       "      <td>facility</td>\n",
       "      <td>260</td>\n",
       "      <td>0</td>\n",
       "      <td>0</td>\n",
       "      <td>5</td>\n",
       "      <td>True</td>\n",
       "      <td>But Lorena sure did a good job and was so swee...</td>\n",
       "      <td>2015-08-13</td>\n",
       "      <td>-0.105745</td>\n",
       "      <td>[0, 485, 912]</td>\n",
       "      <td>0.180685</td>\n",
       "      <td>[2015-01-01, 2017-06-25]</td>\n",
       "      <td>0_0</td>\n",
       "      <td>a</td>\n",
       "      <td>6</td>\n",
       "    </tr>\n",
       "    <tr>\n",
       "      <th>0_6</th>\n",
       "      <td>2</td>\n",
       "      <td>facility</td>\n",
       "      <td>260</td>\n",
       "      <td>0</td>\n",
       "      <td>0</td>\n",
       "      <td>6</td>\n",
       "      <td>True</td>\n",
       "      <td>Just waiting for the elevator never a long wai...</td>\n",
       "      <td>2015-08-22</td>\n",
       "      <td>-0.495636</td>\n",
       "      <td>[0, 485, 912]</td>\n",
       "      <td>0.180685</td>\n",
       "      <td>[2015-01-01, 2017-06-25]</td>\n",
       "      <td>0_0</td>\n",
       "      <td>a</td>\n",
       "      <td>6</td>\n",
       "    </tr>\n",
       "    <tr>\n",
       "      <th>...</th>\n",
       "      <td>...</td>\n",
       "      <td>...</td>\n",
       "      <td>...</td>\n",
       "      <td>...</td>\n",
       "      <td>...</td>\n",
       "      <td>...</td>\n",
       "      <td>...</td>\n",
       "      <td>...</td>\n",
       "      <td>...</td>\n",
       "      <td>...</td>\n",
       "      <td>...</td>\n",
       "      <td>...</td>\n",
       "      <td>...</td>\n",
       "      <td>...</td>\n",
       "      <td>...</td>\n",
       "      <td>...</td>\n",
       "    </tr>\n",
       "    <tr>\n",
       "      <th>416_8</th>\n",
       "      <td>2</td>\n",
       "      <td>pool</td>\n",
       "      <td>389</td>\n",
       "      <td>0</td>\n",
       "      <td>416</td>\n",
       "      <td>8</td>\n",
       "      <td>True</td>\n",
       "      <td>Loved the pools and views</td>\n",
       "      <td>2016-07-28</td>\n",
       "      <td>0.495594</td>\n",
       "      <td>[0, 185, 275, 605]</td>\n",
       "      <td>0.166994</td>\n",
       "      <td>[2015-01-01, 2017-04-22]</td>\n",
       "      <td>416_0</td>\n",
       "      <td>c</td>\n",
       "      <td>9</td>\n",
       "    </tr>\n",
       "    <tr>\n",
       "      <th>416_9</th>\n",
       "      <td>2</td>\n",
       "      <td>pool</td>\n",
       "      <td>389</td>\n",
       "      <td>0</td>\n",
       "      <td>416</td>\n",
       "      <td>9</td>\n",
       "      <td>True</td>\n",
       "      <td>The spa was wonderful and the spa pool was far...</td>\n",
       "      <td>2016-07-30</td>\n",
       "      <td>0.427795</td>\n",
       "      <td>[0, 185, 275, 605]</td>\n",
       "      <td>0.166994</td>\n",
       "      <td>[2015-01-01, 2017-04-22]</td>\n",
       "      <td>416_0</td>\n",
       "      <td>c</td>\n",
       "      <td>9</td>\n",
       "    </tr>\n",
       "    <tr>\n",
       "      <th>419_1</th>\n",
       "      <td>2</td>\n",
       "      <td>room</td>\n",
       "      <td>389</td>\n",
       "      <td>0</td>\n",
       "      <td>419</td>\n",
       "      <td>1</td>\n",
       "      <td>True</td>\n",
       "      <td>The only thing that could have made this room ...</td>\n",
       "      <td>2015-01-10</td>\n",
       "      <td>-0.492216</td>\n",
       "      <td>[0, 155, 230, 781]</td>\n",
       "      <td>0.043332</td>\n",
       "      <td>[2015-01-01, 2016-10-13]</td>\n",
       "      <td>419_0</td>\n",
       "      <td>a</td>\n",
       "      <td>3</td>\n",
       "    </tr>\n",
       "    <tr>\n",
       "      <th>419_7</th>\n",
       "      <td>2</td>\n",
       "      <td>room</td>\n",
       "      <td>389</td>\n",
       "      <td>0</td>\n",
       "      <td>419</td>\n",
       "      <td>7</td>\n",
       "      <td>True</td>\n",
       "      <td>It may have just been our room but I expect be...</td>\n",
       "      <td>2016-06-25</td>\n",
       "      <td>-0.463034</td>\n",
       "      <td>[0, 155, 230, 781]</td>\n",
       "      <td>0.043332</td>\n",
       "      <td>[2015-01-01, 2016-10-13]</td>\n",
       "      <td>419_0</td>\n",
       "      <td>a</td>\n",
       "      <td>3</td>\n",
       "    </tr>\n",
       "    <tr>\n",
       "      <th>419_8</th>\n",
       "      <td>2</td>\n",
       "      <td>room</td>\n",
       "      <td>389</td>\n",
       "      <td>0</td>\n",
       "      <td>419</td>\n",
       "      <td>8</td>\n",
       "      <td>True</td>\n",
       "      <td>My ONLY complaint was the size of the beds in ...</td>\n",
       "      <td>2016-07-08</td>\n",
       "      <td>-0.488203</td>\n",
       "      <td>[0, 155, 230, 781]</td>\n",
       "      <td>0.043332</td>\n",
       "      <td>[2015-01-01, 2016-10-13]</td>\n",
       "      <td>419_0</td>\n",
       "      <td>a</td>\n",
       "      <td>3</td>\n",
       "    </tr>\n",
       "  </tbody>\n",
       "</table>\n",
       "<p>2349 rows × 16 columns</p>\n",
       "</div>"
      ],
      "text/plain": [
       "       yes-sentiment  category  hotel_id  cpt  fileId  iId  gold  \\\n",
       "0_0                2  facility       260    0       0    0  True   \n",
       "0_2                2  facility       260    0       0    2  True   \n",
       "0_3                2  facility       260    0       0    3  True   \n",
       "0_5                2  facility       260    0       0    5  True   \n",
       "0_6                2  facility       260    0       0    6  True   \n",
       "...              ...       ...       ...  ...     ...  ...   ...   \n",
       "416_8              2      pool       389    0     416    8  True   \n",
       "416_9              2      pool       389    0     416    9  True   \n",
       "419_1              2      room       389    0     419    1  True   \n",
       "419_7              2      room       389    0     419    7  True   \n",
       "419_8              2      room       389    0     419    8  True   \n",
       "\n",
       "                                                    text        date  \\\n",
       "0_0    The lobby bar always had a solo performer pian...  2015-02-09   \n",
       "0_2    We were then escorted to one of the lobby chec...  2015-04-21   \n",
       "0_3    I went to the gym most mornings but I did the ...  2015-04-30   \n",
       "0_5    But Lorena sure did a good job and was so swee...  2015-08-13   \n",
       "0_6    Just waiting for the elevator never a long wai...  2015-08-22   \n",
       "...                                                  ...         ...   \n",
       "416_8                          Loved the pools and views  2016-07-28   \n",
       "416_9  The spa was wonderful and the spa pool was far...  2016-07-30   \n",
       "419_1  The only thing that could have made this room ...  2015-01-10   \n",
       "419_7  It may have just been our room but I expect be...  2016-06-25   \n",
       "419_8  My ONLY complaint was the size of the beds in ...  2016-07-08   \n",
       "\n",
       "       sentiment                cpts  sentiment_mean  \\\n",
       "0_0    -0.407074       [0, 485, 912]        0.180685   \n",
       "0_2    -0.405840       [0, 485, 912]        0.180685   \n",
       "0_3    -0.490811       [0, 485, 912]        0.180685   \n",
       "0_5    -0.105745       [0, 485, 912]        0.180685   \n",
       "0_6    -0.495636       [0, 485, 912]        0.180685   \n",
       "...          ...                 ...             ...   \n",
       "416_8   0.495594  [0, 185, 275, 605]        0.166994   \n",
       "416_9   0.427795  [0, 185, 275, 605]        0.166994   \n",
       "419_1  -0.492216  [0, 155, 230, 781]        0.043332   \n",
       "419_7  -0.463034  [0, 155, 230, 781]        0.043332   \n",
       "419_8  -0.488203  [0, 155, 230, 781]        0.043332   \n",
       "\n",
       "                    date_period cpt_id cpt_label  TS_LEN  \n",
       "0_0    [2015-01-01, 2017-06-25]    0_0         a       6  \n",
       "0_2    [2015-01-01, 2017-06-25]    0_0         a       6  \n",
       "0_3    [2015-01-01, 2017-06-25]    0_0         a       6  \n",
       "0_5    [2015-01-01, 2017-06-25]    0_0         a       6  \n",
       "0_6    [2015-01-01, 2017-06-25]    0_0         a       6  \n",
       "...                         ...    ...       ...     ...  \n",
       "416_8  [2015-01-01, 2017-04-22]  416_0         c       9  \n",
       "416_9  [2015-01-01, 2017-04-22]  416_0         c       9  \n",
       "419_1  [2015-01-01, 2016-10-13]  419_0         a       3  \n",
       "419_7  [2015-01-01, 2016-10-13]  419_0         a       3  \n",
       "419_8  [2015-01-01, 2016-10-13]  419_0         a       3  \n",
       "\n",
       "[2349 rows x 16 columns]"
      ]
     },
     "execution_count": 89,
     "metadata": {},
     "output_type": "execute_result"
    }
   ],
   "source": [
    "gold_df[(gold_df['cpt_label'].isin(['a','b','c']))]"
   ]
  },
  {
   "cell_type": "code",
   "execution_count": 74,
   "metadata": {},
   "outputs": [],
   "source": [
    "cpt_nr_df = gold_df[(gold_df['cpt_label'].isin(['a','b','c']))]"
   ]
  },
  {
   "cell_type": "code",
   "execution_count": 75,
   "metadata": {},
   "outputs": [
    {
     "data": {
      "text/html": [
       "<div>\n",
       "<style scoped>\n",
       "    .dataframe tbody tr th:only-of-type {\n",
       "        vertical-align: middle;\n",
       "    }\n",
       "\n",
       "    .dataframe tbody tr th {\n",
       "        vertical-align: top;\n",
       "    }\n",
       "\n",
       "    .dataframe thead th {\n",
       "        text-align: right;\n",
       "    }\n",
       "</style>\n",
       "<table border=\"1\" class=\"dataframe\">\n",
       "  <thead>\n",
       "    <tr style=\"text-align: right;\">\n",
       "      <th></th>\n",
       "      <th>yes-sentiment</th>\n",
       "      <th>category</th>\n",
       "      <th>hotel_id</th>\n",
       "      <th>cpt</th>\n",
       "      <th>fileId</th>\n",
       "      <th>iId</th>\n",
       "      <th>gold</th>\n",
       "      <th>text</th>\n",
       "      <th>date</th>\n",
       "      <th>sentiment</th>\n",
       "      <th>cpts</th>\n",
       "      <th>sentiment_mean</th>\n",
       "      <th>date_period</th>\n",
       "      <th>cpt_id</th>\n",
       "      <th>cpt_label</th>\n",
       "      <th>TS_LEN</th>\n",
       "    </tr>\n",
       "  </thead>\n",
       "  <tbody>\n",
       "    <tr>\n",
       "      <th>0_0</th>\n",
       "      <td>2</td>\n",
       "      <td>facility</td>\n",
       "      <td>260</td>\n",
       "      <td>0</td>\n",
       "      <td>0</td>\n",
       "      <td>0</td>\n",
       "      <td>True</td>\n",
       "      <td>The lobby bar always had a solo performer pian...</td>\n",
       "      <td>2015-02-09</td>\n",
       "      <td>-0.407074</td>\n",
       "      <td>[0, 485, 912]</td>\n",
       "      <td>0.180685</td>\n",
       "      <td>[2015-01-01, 2017-06-25]</td>\n",
       "      <td>0_0</td>\n",
       "      <td>a</td>\n",
       "      <td>6</td>\n",
       "    </tr>\n",
       "    <tr>\n",
       "      <th>0_2</th>\n",
       "      <td>2</td>\n",
       "      <td>facility</td>\n",
       "      <td>260</td>\n",
       "      <td>0</td>\n",
       "      <td>0</td>\n",
       "      <td>2</td>\n",
       "      <td>True</td>\n",
       "      <td>We were then escorted to one of the lobby chec...</td>\n",
       "      <td>2015-04-21</td>\n",
       "      <td>-0.405840</td>\n",
       "      <td>[0, 485, 912]</td>\n",
       "      <td>0.180685</td>\n",
       "      <td>[2015-01-01, 2017-06-25]</td>\n",
       "      <td>0_0</td>\n",
       "      <td>a</td>\n",
       "      <td>6</td>\n",
       "    </tr>\n",
       "    <tr>\n",
       "      <th>0_3</th>\n",
       "      <td>2</td>\n",
       "      <td>facility</td>\n",
       "      <td>260</td>\n",
       "      <td>0</td>\n",
       "      <td>0</td>\n",
       "      <td>3</td>\n",
       "      <td>True</td>\n",
       "      <td>I went to the gym most mornings but I did the ...</td>\n",
       "      <td>2015-04-30</td>\n",
       "      <td>-0.490811</td>\n",
       "      <td>[0, 485, 912]</td>\n",
       "      <td>0.180685</td>\n",
       "      <td>[2015-01-01, 2017-06-25]</td>\n",
       "      <td>0_0</td>\n",
       "      <td>a</td>\n",
       "      <td>6</td>\n",
       "    </tr>\n",
       "    <tr>\n",
       "      <th>0_5</th>\n",
       "      <td>2</td>\n",
       "      <td>facility</td>\n",
       "      <td>260</td>\n",
       "      <td>0</td>\n",
       "      <td>0</td>\n",
       "      <td>5</td>\n",
       "      <td>True</td>\n",
       "      <td>But Lorena sure did a good job and was so swee...</td>\n",
       "      <td>2015-08-13</td>\n",
       "      <td>-0.105745</td>\n",
       "      <td>[0, 485, 912]</td>\n",
       "      <td>0.180685</td>\n",
       "      <td>[2015-01-01, 2017-06-25]</td>\n",
       "      <td>0_0</td>\n",
       "      <td>a</td>\n",
       "      <td>6</td>\n",
       "    </tr>\n",
       "    <tr>\n",
       "      <th>0_6</th>\n",
       "      <td>2</td>\n",
       "      <td>facility</td>\n",
       "      <td>260</td>\n",
       "      <td>0</td>\n",
       "      <td>0</td>\n",
       "      <td>6</td>\n",
       "      <td>True</td>\n",
       "      <td>Just waiting for the elevator never a long wai...</td>\n",
       "      <td>2015-08-22</td>\n",
       "      <td>-0.495636</td>\n",
       "      <td>[0, 485, 912]</td>\n",
       "      <td>0.180685</td>\n",
       "      <td>[2015-01-01, 2017-06-25]</td>\n",
       "      <td>0_0</td>\n",
       "      <td>a</td>\n",
       "      <td>6</td>\n",
       "    </tr>\n",
       "    <tr>\n",
       "      <th>...</th>\n",
       "      <td>...</td>\n",
       "      <td>...</td>\n",
       "      <td>...</td>\n",
       "      <td>...</td>\n",
       "      <td>...</td>\n",
       "      <td>...</td>\n",
       "      <td>...</td>\n",
       "      <td>...</td>\n",
       "      <td>...</td>\n",
       "      <td>...</td>\n",
       "      <td>...</td>\n",
       "      <td>...</td>\n",
       "      <td>...</td>\n",
       "      <td>...</td>\n",
       "      <td>...</td>\n",
       "      <td>...</td>\n",
       "    </tr>\n",
       "    <tr>\n",
       "      <th>416_8</th>\n",
       "      <td>2</td>\n",
       "      <td>pool</td>\n",
       "      <td>389</td>\n",
       "      <td>0</td>\n",
       "      <td>416</td>\n",
       "      <td>8</td>\n",
       "      <td>True</td>\n",
       "      <td>Loved the pools and views</td>\n",
       "      <td>2016-07-28</td>\n",
       "      <td>0.495594</td>\n",
       "      <td>[0, 185, 275, 605]</td>\n",
       "      <td>0.166994</td>\n",
       "      <td>[2015-01-01, 2017-04-22]</td>\n",
       "      <td>416_0</td>\n",
       "      <td>c</td>\n",
       "      <td>9</td>\n",
       "    </tr>\n",
       "    <tr>\n",
       "      <th>416_9</th>\n",
       "      <td>2</td>\n",
       "      <td>pool</td>\n",
       "      <td>389</td>\n",
       "      <td>0</td>\n",
       "      <td>416</td>\n",
       "      <td>9</td>\n",
       "      <td>True</td>\n",
       "      <td>The spa was wonderful and the spa pool was far...</td>\n",
       "      <td>2016-07-30</td>\n",
       "      <td>0.427795</td>\n",
       "      <td>[0, 185, 275, 605]</td>\n",
       "      <td>0.166994</td>\n",
       "      <td>[2015-01-01, 2017-04-22]</td>\n",
       "      <td>416_0</td>\n",
       "      <td>c</td>\n",
       "      <td>9</td>\n",
       "    </tr>\n",
       "    <tr>\n",
       "      <th>419_1</th>\n",
       "      <td>2</td>\n",
       "      <td>room</td>\n",
       "      <td>389</td>\n",
       "      <td>0</td>\n",
       "      <td>419</td>\n",
       "      <td>1</td>\n",
       "      <td>True</td>\n",
       "      <td>The only thing that could have made this room ...</td>\n",
       "      <td>2015-01-10</td>\n",
       "      <td>-0.492216</td>\n",
       "      <td>[0, 155, 230, 781]</td>\n",
       "      <td>0.043332</td>\n",
       "      <td>[2015-01-01, 2016-10-13]</td>\n",
       "      <td>419_0</td>\n",
       "      <td>a</td>\n",
       "      <td>3</td>\n",
       "    </tr>\n",
       "    <tr>\n",
       "      <th>419_7</th>\n",
       "      <td>2</td>\n",
       "      <td>room</td>\n",
       "      <td>389</td>\n",
       "      <td>0</td>\n",
       "      <td>419</td>\n",
       "      <td>7</td>\n",
       "      <td>True</td>\n",
       "      <td>It may have just been our room but I expect be...</td>\n",
       "      <td>2016-06-25</td>\n",
       "      <td>-0.463034</td>\n",
       "      <td>[0, 155, 230, 781]</td>\n",
       "      <td>0.043332</td>\n",
       "      <td>[2015-01-01, 2016-10-13]</td>\n",
       "      <td>419_0</td>\n",
       "      <td>a</td>\n",
       "      <td>3</td>\n",
       "    </tr>\n",
       "    <tr>\n",
       "      <th>419_8</th>\n",
       "      <td>2</td>\n",
       "      <td>room</td>\n",
       "      <td>389</td>\n",
       "      <td>0</td>\n",
       "      <td>419</td>\n",
       "      <td>8</td>\n",
       "      <td>True</td>\n",
       "      <td>My ONLY complaint was the size of the beds in ...</td>\n",
       "      <td>2016-07-08</td>\n",
       "      <td>-0.488203</td>\n",
       "      <td>[0, 155, 230, 781]</td>\n",
       "      <td>0.043332</td>\n",
       "      <td>[2015-01-01, 2016-10-13]</td>\n",
       "      <td>419_0</td>\n",
       "      <td>a</td>\n",
       "      <td>3</td>\n",
       "    </tr>\n",
       "  </tbody>\n",
       "</table>\n",
       "<p>2349 rows × 16 columns</p>\n",
       "</div>"
      ],
      "text/plain": [
       "       yes-sentiment  category  hotel_id  cpt  fileId  iId  gold  \\\n",
       "0_0                2  facility       260    0       0    0  True   \n",
       "0_2                2  facility       260    0       0    2  True   \n",
       "0_3                2  facility       260    0       0    3  True   \n",
       "0_5                2  facility       260    0       0    5  True   \n",
       "0_6                2  facility       260    0       0    6  True   \n",
       "...              ...       ...       ...  ...     ...  ...   ...   \n",
       "416_8              2      pool       389    0     416    8  True   \n",
       "416_9              2      pool       389    0     416    9  True   \n",
       "419_1              2      room       389    0     419    1  True   \n",
       "419_7              2      room       389    0     419    7  True   \n",
       "419_8              2      room       389    0     419    8  True   \n",
       "\n",
       "                                                    text        date  \\\n",
       "0_0    The lobby bar always had a solo performer pian...  2015-02-09   \n",
       "0_2    We were then escorted to one of the lobby chec...  2015-04-21   \n",
       "0_3    I went to the gym most mornings but I did the ...  2015-04-30   \n",
       "0_5    But Lorena sure did a good job and was so swee...  2015-08-13   \n",
       "0_6    Just waiting for the elevator never a long wai...  2015-08-22   \n",
       "...                                                  ...         ...   \n",
       "416_8                          Loved the pools and views  2016-07-28   \n",
       "416_9  The spa was wonderful and the spa pool was far...  2016-07-30   \n",
       "419_1  The only thing that could have made this room ...  2015-01-10   \n",
       "419_7  It may have just been our room but I expect be...  2016-06-25   \n",
       "419_8  My ONLY complaint was the size of the beds in ...  2016-07-08   \n",
       "\n",
       "       sentiment                cpts  sentiment_mean  \\\n",
       "0_0    -0.407074       [0, 485, 912]        0.180685   \n",
       "0_2    -0.405840       [0, 485, 912]        0.180685   \n",
       "0_3    -0.490811       [0, 485, 912]        0.180685   \n",
       "0_5    -0.105745       [0, 485, 912]        0.180685   \n",
       "0_6    -0.495636       [0, 485, 912]        0.180685   \n",
       "...          ...                 ...             ...   \n",
       "416_8   0.495594  [0, 185, 275, 605]        0.166994   \n",
       "416_9   0.427795  [0, 185, 275, 605]        0.166994   \n",
       "419_1  -0.492216  [0, 155, 230, 781]        0.043332   \n",
       "419_7  -0.463034  [0, 155, 230, 781]        0.043332   \n",
       "419_8  -0.488203  [0, 155, 230, 781]        0.043332   \n",
       "\n",
       "                    date_period cpt_id cpt_label  TS_LEN  \n",
       "0_0    [2015-01-01, 2017-06-25]    0_0         a       6  \n",
       "0_2    [2015-01-01, 2017-06-25]    0_0         a       6  \n",
       "0_3    [2015-01-01, 2017-06-25]    0_0         a       6  \n",
       "0_5    [2015-01-01, 2017-06-25]    0_0         a       6  \n",
       "0_6    [2015-01-01, 2017-06-25]    0_0         a       6  \n",
       "...                         ...    ...       ...     ...  \n",
       "416_8  [2015-01-01, 2017-04-22]  416_0         c       9  \n",
       "416_9  [2015-01-01, 2017-04-22]  416_0         c       9  \n",
       "419_1  [2015-01-01, 2016-10-13]  419_0         a       3  \n",
       "419_7  [2015-01-01, 2016-10-13]  419_0         a       3  \n",
       "419_8  [2015-01-01, 2016-10-13]  419_0         a       3  \n",
       "\n",
       "[2349 rows x 16 columns]"
      ]
     },
     "execution_count": 75,
     "metadata": {},
     "output_type": "execute_result"
    }
   ],
   "source": [
    "cpt_nr_df"
   ]
  },
  {
   "cell_type": "code",
   "execution_count": 76,
   "metadata": {},
   "outputs": [],
   "source": [
    "cates = gold_df['category'].to_list()\n",
    "hotel_ids = gold_df['hotel_id'].to_list()\n",
    "cpts = gold_df['cpts'].to_list()\n",
    "cpt_idx = gold_df['cpt_id'].to_list()\n",
    "cpt_labelx = gold_df['cpt_label'].to_list()\n",
    "mean_sentiments = gold_df['sentiment_mean'].to_list()\n",
    "ts_lens  = gold_df['TS_LEN'].to_list()"
   ]
  },
  {
   "cell_type": "code",
   "execution_count": 77,
   "metadata": {},
   "outputs": [],
   "source": [
    "from collections import defaultdict"
   ]
  },
  {
   "cell_type": "code",
   "execution_count": 78,
   "metadata": {},
   "outputs": [],
   "source": [
    "cpts_dict ={}\n",
    "cpt_abc ={}\n",
    "for cat, hotel_id, cpt, idx, label, sentiment_mean,LEN in zip(cates, hotel_ids, cpts, cpt_idx, cpt_labelx, mean_sentiments, ts_lens):\n",
    "    name = cat+'_'+str(hotel_id)\n",
    "    if name not in cpts_dict:\n",
    "        cpts_dict[name]=defaultdict(dict)\n",
    "    cpts_dict[name][idx]= {\n",
    "            'cpts':cpt, \n",
    "            'cpt_label':label,\n",
    "            'sentiment_mean': sentiment_mean,\n",
    "            'ts_len':LEN\n",
    "        }\n",
    "    cpt_abc[idx]= label\n",
    "    "
   ]
  },
  {
   "cell_type": "code",
   "execution_count": 79,
   "metadata": {},
   "outputs": [],
   "source": [
    "with open('gold_cpt_dict.json', 'w')as writer:\n",
    "    json.dump(cpts_dict, writer)"
   ]
  },
  {
   "cell_type": "code",
   "execution_count": 80,
   "metadata": {},
   "outputs": [
    {
     "data": {
      "text/plain": [
       "319"
      ]
     },
     "execution_count": 80,
     "metadata": {},
     "output_type": "execute_result"
    }
   ],
   "source": [
    "len(cpts_dict)"
   ]
  },
  {
   "cell_type": "code",
   "execution_count": 82,
   "metadata": {},
   "outputs": [],
   "source": [
    "cpts= list(set(cpt_nr_df.cpt_id))"
   ]
  },
  {
   "cell_type": "code",
   "execution_count": 83,
   "metadata": {},
   "outputs": [
    {
     "data": {
      "text/plain": [
       "412"
      ]
     },
     "execution_count": 83,
     "metadata": {},
     "output_type": "execute_result"
    }
   ],
   "source": [
    "len(cpts)"
   ]
  },
  {
   "cell_type": "code",
   "execution_count": 84,
   "metadata": {},
   "outputs": [
    {
     "data": {
      "text/plain": [
       "Counter({'a': 157, None: 248, 'c': 103, 'b': 152})"
      ]
     },
     "execution_count": 84,
     "metadata": {},
     "output_type": "execute_result"
    }
   ],
   "source": [
    "Counter(cpt_abc.values())"
   ]
  },
  {
   "cell_type": "code",
   "execution_count": null,
   "metadata": {},
   "outputs": [],
   "source": []
  },
  {
   "cell_type": "markdown",
   "metadata": {},
   "source": [
    "# Krippendorff's alpha\n",
    "(usual threshold:0.667)\n",
    "\n",
    "## sentences:\n",
    "### 18610 comparable pairs, 9396 sentences.0,243 recat (two-yes, two-no, ys, ya)\n",
    "### comparable 37402, 9396 sentences, -0,117 (yes-sentiment, yes-aspect, no-sentiment, no-aspect)\n",
    "\n",
    "## change points:\n",
    "### 0.667, 1298 comparable pairs, 582 change points."
   ]
  },
  {
   "cell_type": "markdown",
   "metadata": {},
   "source": [
    "# Histograms over categories \n"
   ]
  },
  {
   "cell_type": "code",
   "execution_count": 4,
   "metadata": {},
   "outputs": [],
   "source": [
    "categories = list(set(cpts_df['category']))"
   ]
  },
  {
   "cell_type": "code",
   "execution_count": 5,
   "metadata": {},
   "outputs": [
    {
     "data": {
      "text/plain": [
       "['restaurant', 'room', 'facility', 'reception', 'pool', 'renovation_room']"
      ]
     },
     "execution_count": 5,
     "metadata": {},
     "output_type": "execute_result"
    }
   ],
   "source": [
    "categories"
   ]
  },
  {
   "cell_type": "code",
   "execution_count": 6,
   "metadata": {},
   "outputs": [
    {
     "data": {
      "text/html": [
       "<div>\n",
       "<style scoped>\n",
       "    .dataframe tbody tr th:only-of-type {\n",
       "        vertical-align: middle;\n",
       "    }\n",
       "\n",
       "    .dataframe tbody tr th {\n",
       "        vertical-align: top;\n",
       "    }\n",
       "\n",
       "    .dataframe thead th {\n",
       "        text-align: right;\n",
       "    }\n",
       "</style>\n",
       "<table border=\"1\" class=\"dataframe\">\n",
       "  <thead>\n",
       "    <tr style=\"text-align: right;\">\n",
       "      <th></th>\n",
       "      <th>yes-sentiment</th>\n",
       "      <th>yes-aspect</th>\n",
       "      <th>no-sentiment</th>\n",
       "      <th>no-aspect</th>\n",
       "      <th>category</th>\n",
       "      <th>hotel_id</th>\n",
       "      <th>cpt</th>\n",
       "      <th>Total</th>\n",
       "      <th>fileId</th>\n",
       "      <th>iId</th>\n",
       "    </tr>\n",
       "  </thead>\n",
       "  <tbody>\n",
       "    <tr>\n",
       "      <th>0_0</th>\n",
       "      <td>2</td>\n",
       "      <td>2</td>\n",
       "      <td>0</td>\n",
       "      <td>0</td>\n",
       "      <td>facility</td>\n",
       "      <td>260</td>\n",
       "      <td>0</td>\n",
       "      <td>4</td>\n",
       "      <td>0</td>\n",
       "      <td>0</td>\n",
       "    </tr>\n",
       "    <tr>\n",
       "      <th>0_2</th>\n",
       "      <td>2</td>\n",
       "      <td>2</td>\n",
       "      <td>0</td>\n",
       "      <td>0</td>\n",
       "      <td>facility</td>\n",
       "      <td>260</td>\n",
       "      <td>0</td>\n",
       "      <td>4</td>\n",
       "      <td>0</td>\n",
       "      <td>2</td>\n",
       "    </tr>\n",
       "  </tbody>\n",
       "</table>\n",
       "</div>"
      ],
      "text/plain": [
       "     yes-sentiment  yes-aspect  no-sentiment  no-aspect  category  hotel_id  \\\n",
       "0_0              2           2             0          0  facility       260   \n",
       "0_2              2           2             0          0  facility       260   \n",
       "\n",
       "     cpt  Total  fileId  iId  \n",
       "0_0    0      4       0    0  \n",
       "0_2    0      4       0    2  "
      ]
     },
     "execution_count": 6,
     "metadata": {},
     "output_type": "execute_result"
    }
   ],
   "source": [
    "sents_df.head(2)"
   ]
  },
  {
   "cell_type": "code",
   "execution_count": 7,
   "metadata": {},
   "outputs": [],
   "source": [
    "lendict={}\n",
    "for cat in categories:\n",
    "    df = sents_df.groupby('category')\n",
    "    lendict[cat]=len(df)"
   ]
  },
  {
   "cell_type": "code",
   "execution_count": 8,
   "metadata": {},
   "outputs": [],
   "source": [
    "sent_cat_dict={}\n",
    "sent_cat_dict_two_yes ={}\n",
    "for k, values in sents_df.groupby(['category']):\n",
    "    agreed = values[(values['yes-sentiment']==2) | (values['yes-aspect']==2)| (values['no-aspect']==2) | (values['no-sentiment']==2)]\n",
    "    two_yes = values[(values['yes-sentiment']==2) & (values['yes-aspect']==2)]\n",
    "    sent_cat_dict_two_yes[k] = (len(values)- len(agreed), len(agreed)-len(two_yes), len(two_yes))\n",
    "    sent_cat_dict[k] = (len(values)- len(agreed), len(agreed))"
   ]
  },
  {
   "cell_type": "code",
   "execution_count": 9,
   "metadata": {},
   "outputs": [
    {
     "data": {
      "text/plain": [
       "{'facility': (147, 661, 645),\n",
       " 'pool': (96, 436, 699),\n",
       " 'reception': (228, 779, 651),\n",
       " 'renovation_room': (28, 317, 732),\n",
       " 'restaurant': (166, 803, 792),\n",
       " 'room': (177, 915, 1104)}"
      ]
     },
     "execution_count": 9,
     "metadata": {},
     "output_type": "execute_result"
    }
   ],
   "source": [
    "sent_cat_dict_two_yes"
   ]
  },
  {
   "cell_type": "code",
   "execution_count": 10,
   "metadata": {},
   "outputs": [
    {
     "data": {
      "text/plain": [
       "{'facility': (147, 1306),\n",
       " 'pool': (96, 1135),\n",
       " 'reception': (228, 1430),\n",
       " 'renovation_room': (28, 1049),\n",
       " 'restaurant': (166, 1595),\n",
       " 'room': (177, 2019)}"
      ]
     },
     "execution_count": 10,
     "metadata": {},
     "output_type": "execute_result"
    }
   ],
   "source": [
    "sent_cat_dict"
   ]
  },
  {
   "cell_type": "code",
   "execution_count": 11,
   "metadata": {},
   "outputs": [
    {
     "data": {
      "text/plain": [
       "8534"
      ]
     },
     "execution_count": 11,
     "metadata": {},
     "output_type": "execute_result"
    }
   ],
   "source": [
    "sum([x for y,x in sent_cat_dict.values()])"
   ]
  },
  {
   "cell_type": "code",
   "execution_count": 18,
   "metadata": {},
   "outputs": [],
   "source": [
    "def plot(d,title, ylabel):\n",
    "    agreed_values = [y for x,y in d.values()]\n",
    "    disagreed_values = [x for x,y in d.values()]\n",
    "    labels = list(d.keys())\n",
    "    width =0.35\n",
    "    plt.figure(figsize=(10,5))\n",
    "    p1= plt.bar(labels, disagreed_values, width )\n",
    "    p2 = plt.bar(labels, agreed_values, width, bottom= disagreed_values)\n",
    "    \n",
    "    plt.ylabel(ylabel)\n",
    "    plt.title(title)\n",
    "#     plt.xticks(x)\n",
    "    plt.xlabel('categories')\n",
    "    plt.legend((p1[0], p2[0]), ('Disagreed', 'Agreed'))"
   ]
  },
  {
   "cell_type": "code",
   "execution_count": 19,
   "metadata": {},
   "outputs": [
    {
     "data": {
      "image/png": "[encoded data removed]",
      "text/plain": [
       "<Figure size 720x360 with 1 Axes>"
      ]
     },
     "metadata": {
      "needs_background": "light"
     },
     "output_type": "display_data"
    }
   ],
   "source": [
    "plot(sent_cat_dict, 'Number of Sentences per category', 'num of sentences')  # one of the category agreed."
   ]
  },
  {
   "cell_type": "code",
   "execution_count": null,
   "metadata": {},
   "outputs": [],
   "source": []
  },
  {
   "cell_type": "code",
   "execution_count": 20,
   "metadata": {},
   "outputs": [
    {
     "data": {
      "text/html": [
       "<div>\n",
       "<style scoped>\n",
       "    .dataframe tbody tr th:only-of-type {\n",
       "        vertical-align: middle;\n",
       "    }\n",
       "\n",
       "    .dataframe tbody tr th {\n",
       "        vertical-align: top;\n",
       "    }\n",
       "\n",
       "    .dataframe thead th {\n",
       "        text-align: right;\n",
       "    }\n",
       "</style>\n",
       "<table border=\"1\" class=\"dataframe\">\n",
       "  <thead>\n",
       "    <tr style=\"text-align: right;\">\n",
       "      <th></th>\n",
       "      <th>a</th>\n",
       "      <th>b</th>\n",
       "      <th>c</th>\n",
       "      <th>Total</th>\n",
       "      <th>category</th>\n",
       "      <th>hotel_id</th>\n",
       "      <th>fileId</th>\n",
       "      <th>iId</th>\n",
       "    </tr>\n",
       "  </thead>\n",
       "  <tbody>\n",
       "    <tr>\n",
       "      <th>0_0</th>\n",
       "      <td>2</td>\n",
       "      <td>0</td>\n",
       "      <td>1</td>\n",
       "      <td>3</td>\n",
       "      <td>facility</td>\n",
       "      <td>260</td>\n",
       "      <td>0</td>\n",
       "      <td>0</td>\n",
       "    </tr>\n",
       "    <tr>\n",
       "      <th>1_0</th>\n",
       "      <td>0</td>\n",
       "      <td>0</td>\n",
       "      <td>2</td>\n",
       "      <td>2</td>\n",
       "      <td>pool</td>\n",
       "      <td>260</td>\n",
       "      <td>1</td>\n",
       "      <td>0</td>\n",
       "    </tr>\n",
       "    <tr>\n",
       "      <th>2_0</th>\n",
       "      <td>2</td>\n",
       "      <td>0</td>\n",
       "      <td>1</td>\n",
       "      <td>3</td>\n",
       "      <td>renovation_room</td>\n",
       "      <td>260</td>\n",
       "      <td>2</td>\n",
       "      <td>0</td>\n",
       "    </tr>\n",
       "    <tr>\n",
       "      <th>3_0</th>\n",
       "      <td>2</td>\n",
       "      <td>0</td>\n",
       "      <td>1</td>\n",
       "      <td>3</td>\n",
       "      <td>restaurant</td>\n",
       "      <td>260</td>\n",
       "      <td>3</td>\n",
       "      <td>0</td>\n",
       "    </tr>\n",
       "    <tr>\n",
       "      <th>3_1</th>\n",
       "      <td>2</td>\n",
       "      <td>0</td>\n",
       "      <td>1</td>\n",
       "      <td>3</td>\n",
       "      <td>restaurant</td>\n",
       "      <td>260</td>\n",
       "      <td>3</td>\n",
       "      <td>1</td>\n",
       "    </tr>\n",
       "  </tbody>\n",
       "</table>\n",
       "</div>"
      ],
      "text/plain": [
       "     a  b  c  Total         category  hotel_id  fileId  iId\n",
       "0_0  2  0  1      3         facility       260       0    0\n",
       "1_0  0  0  2      2             pool       260       1    0\n",
       "2_0  2  0  1      3  renovation_room       260       2    0\n",
       "3_0  2  0  1      3       restaurant       260       3    0\n",
       "3_1  2  0  1      3       restaurant       260       3    1"
      ]
     },
     "execution_count": 20,
     "metadata": {},
     "output_type": "execute_result"
    }
   ],
   "source": [
    "cpts_df.head()"
   ]
  },
  {
   "cell_type": "code",
   "execution_count": 21,
   "metadata": {},
   "outputs": [
    {
     "name": "stdout",
     "output_type": "stream",
     "text": [
      "13 69\n",
      "15 48\n",
      "35 72\n",
      "5 50\n",
      "31 84\n",
      "31 112\n"
     ]
    }
   ],
   "source": [
    "lendict_cpt={}\n",
    "for cat in categories:\n",
    "    cat_df = cpts_df.groupby('category')\n",
    "    lendict_cpt[cat]=len(cat_df)\n",
    "    \n",
    "cpt_cat_dict={}\n",
    "for k, values in cpts_df.groupby(['category']):\n",
    "    \n",
    "    agreed = values[(values['a']==2)| (values['b']==2)]\n",
    "    disagreed = values[values['c']==2]\n",
    "    print(len(disagreed), len(agreed))\n",
    "\n",
    "    cpt_cat_dict[k] =(len(disagreed), len(agreed))"
   ]
  },
  {
   "cell_type": "code",
   "execution_count": 22,
   "metadata": {},
   "outputs": [
    {
     "data": {
      "text/plain": [
       "{'facility': (13, 69),\n",
       " 'pool': (15, 48),\n",
       " 'reception': (35, 72),\n",
       " 'renovation_room': (5, 50),\n",
       " 'restaurant': (31, 84),\n",
       " 'room': (31, 112)}"
      ]
     },
     "execution_count": 22,
     "metadata": {},
     "output_type": "execute_result"
    }
   ],
   "source": [
    "cpt_cat_dict"
   ]
  },
  {
   "cell_type": "code",
   "execution_count": 23,
   "metadata": {},
   "outputs": [
    {
     "data": {
      "image/png": "[encoded data removed]",
      "text/plain": [
       "<Figure size 720x360 with 1 Axes>"
      ]
     },
     "metadata": {
      "needs_background": "light"
     },
     "output_type": "display_data"
    }
   ],
   "source": [
    "plot(cpt_cat_dict, \"Number of Change Points per Category\", \"num of change points\")"
   ]
  },
  {
   "cell_type": "markdown",
   "metadata": {},
   "source": [
    "# Agreed sentences/ change points histograms per category\n"
   ]
  },
  {
   "cell_type": "code",
   "execution_count": 24,
   "metadata": {},
   "outputs": [
    {
     "name": "stdout",
     "output_type": "stream",
     "text": [
      "13 36 33\n",
      "15 31 17\n",
      "35 36 36\n",
      "5 43 7\n",
      "31 42 42\n",
      "31 50 62\n"
     ]
    }
   ],
   "source": [
    "agreed_cpts_dict={}\n",
    "for k, values in cpts_df.groupby(['category']):\n",
    "    agreed_a = values[(values['a']==2)]\n",
    "    agreed_b = values[values['b']==2]\n",
    "    disagreed = values[values['c']==2]\n",
    "    print(len(disagreed), len(agreed_a), len(agreed_b))\n",
    "    agreed_cpts_dict[k] =(len(disagreed), len(agreed_a), len(agreed_b))"
   ]
  },
  {
   "cell_type": "code",
   "execution_count": 27,
   "metadata": {},
   "outputs": [],
   "source": [
    "def plot2(d,title, ylabel, legend):\n",
    "    agreed_a = [y for x,y,z in d.values()]\n",
    "    disagreed_values = [x for x,y,z in d.values()]\n",
    "    agreed_b = [z for x,y,z in d.values()]\n",
    "    \n",
    "    stacked_a_c = [x+y for x,y in zip(disagreed_values, agreed_a)]\n",
    "    \n",
    "    labels = list(d.keys())\n",
    "    width =0.35\n",
    "    plt.figure(figsize=(10,5))\n",
    "    p1= plt.bar(labels, disagreed_values, width )\n",
    "    p2 = plt.bar(labels, agreed_a, width, bottom= disagreed_values)\n",
    "    p3 = plt.bar(labels, agreed_b, width, bottom = stacked_a_c)\n",
    "    \n",
    "    plt.ylabel(ylabel)\n",
    "    plt.title(title)\n",
    "#     plt.xticks(x)\n",
    "    plt.xlabel('categories')\n",
    "    plt.legend((p1[0], p2[0], p3[0]), legend)"
   ]
  },
  {
   "cell_type": "code",
   "execution_count": 28,
   "metadata": {},
   "outputs": [
    {
     "data": {
      "image/png": "[encoded data removed]",
      "text/plain": [
       "<Figure size 720x360 with 1 Axes>"
      ]
     },
     "metadata": {
      "needs_background": "light"
     },
     "output_type": "display_data"
    }
   ],
   "source": [
    "plot2(agreed_cpts_dict, 'Change Points per Category', 'Number of Change Points', ('No Difference', 'More Positive', 'More Negative'))"
   ]
  },
  {
   "cell_type": "code",
   "execution_count": 29,
   "metadata": {},
   "outputs": [
    {
     "data": {
      "image/png": "[encoded data removed]",
      "text/plain": [
       "<Figure size 720x360 with 1 Axes>"
      ]
     },
     "metadata": {
      "needs_background": "light"
     },
     "output_type": "display_data"
    }
   ],
   "source": [
    "plot2(sent_cat_dict_two_yes, 'Number of sentences per Category', 'Number of Sentences', ('Disagreed', 'Agreed 1', 'Agreed A & S'))"
   ]
  },
  {
   "cell_type": "markdown",
   "metadata": {},
   "source": [
    "# Potential Change Points\n",
    "\n",
    "- continous three sentences, where aspect aligns, sentiment the opposite.\n"
   ]
  },
  {
   "cell_type": "code",
   "execution_count": 30,
   "metadata": {},
   "outputs": [],
   "source": [
    "from more_itertools import consecutive_groups"
   ]
  },
  {
   "cell_type": "code",
   "execution_count": 31,
   "metadata": {
    "collapsed": false,
    "jupyter": {
     "outputs_hidden": false
    },
    "pycharm": {
     "name": "#%%\n"
    }
   },
   "outputs": [],
   "source": [
    "# yes-aspect, no-sentiment\n",
    "potential_cpts = {}\n",
    "for fileid, values in sents_df.groupby('fileId'):\n",
    "    sents = values[(values['yes-aspect']==2)& (values['no-sentiment']==2)]\n",
    "    # only values['no-sentimet']==2\n",
    "    \n",
    "    if len(sents)>2:\n",
    "        for cpt_id, cpt_values in sents.groupby('cpt'):\n",
    "            if len(cpt_values)>2:\n",
    "                sent_ids = cpt_values['iId'].to_list()\n",
    "                \n",
    "                for group in consecutive_groups(sent_ids):\n",
    "                    group = list(group)\n",
    "                    if len(group)>2:\n",
    "                        idx = '_'.join((str(fileid), str(cpt_id)))\n",
    "                        potential_cpts[idx] = group"
   ]
  },
  {
   "cell_type": "code",
   "execution_count": 32,
   "metadata": {
    "collapsed": false,
    "jupyter": {
     "outputs_hidden": false
    },
    "pycharm": {
     "name": "#%%\n"
    }
   },
   "outputs": [
    {
     "data": {
      "text/plain": [
       "({'6_2': [27, 28, 29],\n",
       "  '10_1': [14, 15, 16],\n",
       "  '129_1': [17, 18, 19],\n",
       "  '163_0': [0, 1, 2, 3, 4, 5, 6, 7],\n",
       "  '169_0': [4, 5, 6, 7],\n",
       "  '171_1': [17, 18, 19],\n",
       "  '229_0': [1, 2, 3],\n",
       "  '240_1': [1, 2, 3]},\n",
       " 8)"
      ]
     },
     "execution_count": 32,
     "metadata": {},
     "output_type": "execute_result"
    }
   ],
   "source": [
    "potential_cpts, len(potential_cpts)"
   ]
  },
  {
   "cell_type": "markdown",
   "metadata": {
    "pycharm": {
     "name": "#%% md\n"
    }
   },
   "source": [
    "# Compare room and renovation_room"
   ]
  },
  {
   "cell_type": "code",
   "execution_count": 33,
   "metadata": {
    "collapsed": false,
    "jupyter": {
     "outputs_hidden": false
    },
    "pycharm": {
     "name": "#%%\n"
    }
   },
   "outputs": [
    {
     "data": {
      "text/plain": [
       "['restaurant', 'room', 'facility', 'reception', 'pool', 'renovation_room']"
      ]
     },
     "execution_count": 33,
     "metadata": {},
     "output_type": "execute_result"
    }
   ],
   "source": [
    "categories"
   ]
  },
  {
   "cell_type": "code",
   "execution_count": 34,
   "metadata": {
    "pycharm": {
     "name": "#%%\n"
    }
   },
   "outputs": [],
   "source": [
    "new_sent_df = sents_df[(sents_df['category']=='room') | (sents_df['category']=='renovation_room')]"
   ]
  },
  {
   "cell_type": "code",
   "execution_count": 35,
   "metadata": {},
   "outputs": [
    {
     "data": {
      "text/html": [
       "<div>\n",
       "<style scoped>\n",
       "    .dataframe tbody tr th:only-of-type {\n",
       "        vertical-align: middle;\n",
       "    }\n",
       "\n",
       "    .dataframe tbody tr th {\n",
       "        vertical-align: top;\n",
       "    }\n",
       "\n",
       "    .dataframe thead th {\n",
       "        text-align: right;\n",
       "    }\n",
       "</style>\n",
       "<table border=\"1\" class=\"dataframe\">\n",
       "  <thead>\n",
       "    <tr style=\"text-align: right;\">\n",
       "      <th></th>\n",
       "      <th>yes-sentiment</th>\n",
       "      <th>yes-aspect</th>\n",
       "      <th>no-sentiment</th>\n",
       "      <th>no-aspect</th>\n",
       "      <th>category</th>\n",
       "      <th>hotel_id</th>\n",
       "      <th>cpt</th>\n",
       "      <th>Total</th>\n",
       "      <th>fileId</th>\n",
       "      <th>iId</th>\n",
       "    </tr>\n",
       "  </thead>\n",
       "  <tbody>\n",
       "    <tr>\n",
       "      <th>2_0</th>\n",
       "      <td>1</td>\n",
       "      <td>0</td>\n",
       "      <td>1</td>\n",
       "      <td>2</td>\n",
       "      <td>renovation_room</td>\n",
       "      <td>260</td>\n",
       "      <td>0</td>\n",
       "      <td>4</td>\n",
       "      <td>2</td>\n",
       "      <td>0</td>\n",
       "    </tr>\n",
       "    <tr>\n",
       "      <th>2_1</th>\n",
       "      <td>1</td>\n",
       "      <td>1</td>\n",
       "      <td>1</td>\n",
       "      <td>1</td>\n",
       "      <td>renovation_room</td>\n",
       "      <td>260</td>\n",
       "      <td>0</td>\n",
       "      <td>4</td>\n",
       "      <td>2</td>\n",
       "      <td>1</td>\n",
       "    </tr>\n",
       "    <tr>\n",
       "      <th>2_2</th>\n",
       "      <td>1</td>\n",
       "      <td>2</td>\n",
       "      <td>1</td>\n",
       "      <td>0</td>\n",
       "      <td>renovation_room</td>\n",
       "      <td>260</td>\n",
       "      <td>0</td>\n",
       "      <td>4</td>\n",
       "      <td>2</td>\n",
       "      <td>2</td>\n",
       "    </tr>\n",
       "    <tr>\n",
       "      <th>2_3</th>\n",
       "      <td>1</td>\n",
       "      <td>2</td>\n",
       "      <td>1</td>\n",
       "      <td>0</td>\n",
       "      <td>renovation_room</td>\n",
       "      <td>260</td>\n",
       "      <td>0</td>\n",
       "      <td>4</td>\n",
       "      <td>2</td>\n",
       "      <td>3</td>\n",
       "    </tr>\n",
       "    <tr>\n",
       "      <th>2_5</th>\n",
       "      <td>2</td>\n",
       "      <td>2</td>\n",
       "      <td>0</td>\n",
       "      <td>0</td>\n",
       "      <td>renovation_room</td>\n",
       "      <td>260</td>\n",
       "      <td>0</td>\n",
       "      <td>4</td>\n",
       "      <td>2</td>\n",
       "      <td>5</td>\n",
       "    </tr>\n",
       "  </tbody>\n",
       "</table>\n",
       "</div>"
      ],
      "text/plain": [
       "     yes-sentiment  yes-aspect  no-sentiment  no-aspect         category  \\\n",
       "2_0              1           0             1          2  renovation_room   \n",
       "2_1              1           1             1          1  renovation_room   \n",
       "2_2              1           2             1          0  renovation_room   \n",
       "2_3              1           2             1          0  renovation_room   \n",
       "2_5              2           2             0          0  renovation_room   \n",
       "\n",
       "     hotel_id  cpt  Total  fileId  iId  \n",
       "2_0       260    0      4       2    0  \n",
       "2_1       260    0      4       2    1  \n",
       "2_2       260    0      4       2    2  \n",
       "2_3       260    0      4       2    3  \n",
       "2_5       260    0      4       2    5  "
      ]
     },
     "execution_count": 35,
     "metadata": {},
     "output_type": "execute_result"
    }
   ],
   "source": [
    "new_sent_df.head()"
   ]
  },
  {
   "cell_type": "code",
   "execution_count": 36,
   "metadata": {},
   "outputs": [],
   "source": [
    "reno_room_ids = set(new_sent_df[new_sent_df['category']=='renovation_room']['hotel_id'].to_list())\n",
    "room_ids = set(new_sent_df[new_sent_df['category']=='room']['hotel_id'].to_list())\n"
   ]
  },
  {
   "cell_type": "code",
   "execution_count": 37,
   "metadata": {},
   "outputs": [],
   "source": [
    "intersect = list(reno_room_ids.intersection(room_ids))"
   ]
  },
  {
   "cell_type": "code",
   "execution_count": 38,
   "metadata": {},
   "outputs": [
    {
     "data": {
      "text/plain": [
       "44"
      ]
     },
     "execution_count": 38,
     "metadata": {},
     "output_type": "execute_result"
    }
   ],
   "source": [
    "len(intersect)"
   ]
  },
  {
   "cell_type": "code",
   "execution_count": 40,
   "metadata": {},
   "outputs": [],
   "source": [
    "new_sent_df_inter = new_sent_df[new_sent_df['hotel_id'].isin(intersect)]"
   ]
  },
  {
   "cell_type": "code",
   "execution_count": 41,
   "metadata": {
    "collapsed": false,
    "jupyter": {
     "outputs_hidden": false
    },
    "pycharm": {
     "name": "#%%\n"
    }
   },
   "outputs": [
    {
     "name": "stdout",
     "output_type": "stream",
     "text": [
      "files: 92 94\n",
      "16 renovation_room 20\n",
      "16 room 39\n",
      "files: 287 289\n",
      "32 renovation_room 5\n",
      "32 room 20\n",
      "files: 411 413\n",
      "64 renovation_room 22\n",
      "64 room 30\n",
      "files: 57 59\n",
      "113 renovation_room 20\n",
      "113 room 30\n",
      "files: 381 383\n",
      "122 renovation_room 19\n",
      "122 room 29\n",
      "files: 32 34\n",
      "129 renovation_room 20\n",
      "129 room 44\n",
      "files: 28 29\n",
      "132 renovation_room 20\n",
      "132 room 20\n",
      "files: 185 186\n",
      "135 renovation_room 10\n",
      "135 room 28\n",
      "files: 42 44\n",
      "136 renovation_room 20\n",
      "136 room 30\n",
      "files: 405 407\n",
      "139 renovation_room 10\n",
      "139 room 19\n",
      "files: 252 253\n",
      "147 renovation_room 10\n",
      "147 room 18\n",
      "files: 271 273\n",
      "149 renovation_room 20\n",
      "149 room 30\n",
      "files: 87 89\n",
      "174 renovation_room 30\n",
      "174 room 18\n",
      "files: 260 261\n",
      "180 renovation_room 10\n",
      "180 room 20\n",
      "files: 130 132\n",
      "205 renovation_room 13\n",
      "205 room 17\n",
      "files: 279 281\n",
      "214 renovation_room 20\n",
      "214 room 20\n",
      "files: 375 377\n",
      "221 renovation_room 20\n",
      "221 room 30\n",
      "files: 319 321\n",
      "224 renovation_room 19\n",
      "224 room 28\n",
      "files: 292 293\n",
      "226 renovation_room 14\n",
      "226 room 30\n",
      "files: 312 313\n",
      "242 renovation_room 10\n",
      "242 room 20\n",
      "files: 47 49\n",
      "243 renovation_room 20\n",
      "243 room 50\n",
      "files: 2 4\n",
      "260 renovation_room 19\n",
      "260 room 33\n",
      "files: 399 401\n",
      "288 renovation_room 19\n",
      "288 room 20\n",
      "files: 284 285\n",
      "292 renovation_room 15\n",
      "292 room 20\n",
      "files: 97 99\n",
      "305 renovation_room 20\n",
      "305 room 30\n",
      "files: 22 24\n",
      "319 renovation_room 20\n",
      "319 room 19\n",
      "files: 255 257\n",
      "325 renovation_room 17\n",
      "325 room 30\n",
      "files: 12 14\n",
      "327 renovation_room 10\n",
      "327 room 25\n",
      "files: 72 74\n",
      "350 renovation_room 20\n",
      "350 room 29\n",
      "files: 62 64\n",
      "356 renovation_room 14\n",
      "356 room 30\n",
      "files: 148 150\n",
      "373 renovation_room 15\n",
      "373 room 34\n",
      "files: 393 395\n",
      "386 renovation_room 24\n",
      "386 room 30\n",
      "files: 417 419\n",
      "389 renovation_room 19\n",
      "389 room 25\n",
      "files: 143 144\n",
      "393 renovation_room 10\n",
      "393 room 20\n",
      "files: 369 371\n",
      "399 renovation_room 19\n",
      "399 room 39\n",
      "files: 18 19\n",
      "401 renovation_room 20\n",
      "401 room 20\n",
      "files: 387 389\n",
      "409 renovation_room 17\n",
      "409 room 20\n",
      "files: 198 199\n",
      "411 renovation_room 20\n",
      "411 room 25\n",
      "files: 206 207\n",
      "420 renovation_room 20\n",
      "420 room 20\n",
      "files: 163 165\n",
      "423 renovation_room 10\n",
      "423 room 33\n",
      "files: 37 39\n",
      "445 renovation_room 20\n",
      "445 room 20\n",
      "files: 137 138\n",
      "479 renovation_room 20\n",
      "479 room 24\n",
      "files: 363 365\n",
      "486 renovation_room 20\n",
      "486 room 40\n",
      "files: 166 168\n",
      "489 renovation_room 19\n",
      "489 room 18\n"
     ]
    }
   ],
   "source": [
    "# TODO: find if their change points align\n",
    "for hotelid, values in new_sent_df_inter.groupby('hotel_id'):\n",
    "    print('files:',  values['fileId'][0], values['fileId'][-1])\n",
    "\n",
    "    for k, cat_values in values.groupby('category'):\n",
    "        \n",
    "        print(hotelid, k, len(cat_values))"
   ]
  },
  {
   "cell_type": "code",
   "execution_count": null,
   "metadata": {},
   "outputs": [],
   "source": []
  },
  {
   "cell_type": "markdown",
   "metadata": {},
   "source": [
    "# How Many Sentences in One Time Period?\n"
   ]
  },
  {
   "cell_type": "code",
   "execution_count": 28,
   "metadata": {
    "scrolled": true
   },
   "outputs": [],
   "source": [
    "sents_per_cpt=defaultdict(list)\n",
    "for k, values in sents_df.groupby('category'):\n",
    "    num_sents = values.groupby(['fileId', 'cpt']).agg({'iId':'count'})\n",
    "    sents_per_cpt[k].append(num_sents)"
   ]
  },
  {
   "cell_type": "code",
   "execution_count": 29,
   "metadata": {},
   "outputs": [
    {
     "data": {
      "text/plain": [
       "defaultdict(list,\n",
       "            {'facility': [            iId\n",
       "              fileId cpt     \n",
       "              0      0      9\n",
       "                     1      9\n",
       "              5      0     10\n",
       "                     1     10\n",
       "              15     0     10\n",
       "              ...         ...\n",
       "              402    0     10\n",
       "              408    0      9\n",
       "                     1     10\n",
       "              414    0     10\n",
       "                     1     10\n",
       "              \n",
       "              [154 rows x 1 columns]],\n",
       "             'pool': [            iId\n",
       "              fileId cpt     \n",
       "              1      0      9\n",
       "                     1      7\n",
       "              7      0     10\n",
       "                     1     10\n",
       "              11     0     10\n",
       "              ...         ...\n",
       "              410    0     10\n",
       "                     1      9\n",
       "              416    0     10\n",
       "                     1      6\n",
       "                     2     10\n",
       "              \n",
       "              [133 rows x 1 columns]],\n",
       "             'reception': [            iId\n",
       "              fileId cpt     \n",
       "              6      0     10\n",
       "                     1      9\n",
       "                     2     10\n",
       "              10     0     10\n",
       "                     1     10\n",
       "              ...         ...\n",
       "              415    0     10\n",
       "                     1      9\n",
       "                     2      7\n",
       "                     3      4\n",
       "                     4     10\n",
       "              \n",
       "              [177 rows x 1 columns]],\n",
       "             'renovation_room': [            iId\n",
       "              fileId cpt     \n",
       "              2      0      9\n",
       "                     1     10\n",
       "              12     0     10\n",
       "              18     0     10\n",
       "                     1     10\n",
       "              ...         ...\n",
       "              411    0      5\n",
       "                     1      7\n",
       "                     2     10\n",
       "              417    0      9\n",
       "                     1     10\n",
       "              \n",
       "              [117 rows x 1 columns]],\n",
       "             'restaurant': [            iId\n",
       "              fileId cpt     \n",
       "              3      0      9\n",
       "                     1     10\n",
       "                     2     10\n",
       "                     3      9\n",
       "                     4      4\n",
       "              ...         ...\n",
       "              412    2     10\n",
       "                     3     10\n",
       "              418    0     10\n",
       "                     1      7\n",
       "                     2      5\n",
       "              \n",
       "              [190 rows x 1 columns]],\n",
       "             'room': [            iId\n",
       "              fileId cpt     \n",
       "              4      0      9\n",
       "                     1      9\n",
       "                     2      6\n",
       "                     3      9\n",
       "              9      0     10\n",
       "              ...         ...\n",
       "              413    1     10\n",
       "                     2     10\n",
       "              419    0     10\n",
       "                     1      6\n",
       "                     2      9\n",
       "              \n",
       "              [234 rows x 1 columns]]})"
      ]
     },
     "execution_count": 29,
     "metadata": {},
     "output_type": "execute_result"
    }
   ],
   "source": [
    "sents_per_cpt"
   ]
  }
 ],
 "metadata": {
  "kernelspec": {
   "display_name": "cpd",
   "language": "python",
   "name": "cdp"
  },
  "language_info": {
   "codemirror_mode": {
    "name": "ipython",
    "version": 3
   },
   "file_extension": ".py",
   "mimetype": "text/x-python",
   "name": "python",
   "nbconvert_exporter": "python",
   "pygments_lexer": "ipython3",
   "version": "3.7.6"
  }
 },
 "nbformat": 4,
 "nbformat_minor": 4
}
