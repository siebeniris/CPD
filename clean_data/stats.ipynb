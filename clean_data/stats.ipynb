{
 "cells": [
  {
   "cell_type": "code",
   "execution_count": 1,
   "metadata": {},
   "outputs": [],
   "source": [
    "import os\n",
    "import json\n",
    "import rootpath\n",
    "import random\n",
    "from collections import defaultdict\n",
    "from itertools import chain"
   ]
  },
  {
   "cell_type": "code",
   "execution_count": 2,
   "metadata": {},
   "outputs": [
    {
     "data": {
      "text/plain": [
       "'/home/yiyi/Documents/masterarbeit/CPD'"
      ]
     },
     "execution_count": 2,
     "metadata": {},
     "output_type": "execute_result"
    }
   ],
   "source": [
    "root_dir = rootpath.detect()\n",
    "root_dir"
   ]
  },
  {
   "cell_type": "code",
   "execution_count": 7,
   "metadata": {},
   "outputs": [],
   "source": [
    "filename = \"data/jsonfiles_db/0615_db.json\"\n",
    "filepath = os.path.join(root_dir, filename)"
   ]
  },
  {
   "cell_type": "code",
   "execution_count": 8,
   "metadata": {},
   "outputs": [],
   "source": [
    "with open(filepath) as reader:\n",
    "    data = json.load(reader)\n",
    "    "
   ]
  },
  {
   "cell_type": "code",
   "execution_count": 9,
   "metadata": {},
   "outputs": [],
   "source": [
    "reviews = data[\"reviews\"]"
   ]
  },
  {
   "cell_type": "code",
   "execution_count": 63,
   "metadata": {},
   "outputs": [
    {
     "data": {
      "text/plain": [
       "712"
      ]
     },
     "execution_count": 63,
     "metadata": {},
     "output_type": "execute_result"
    }
   ],
   "source": [
    "len(reviews)"
   ]
  },
  {
   "cell_type": "code",
   "execution_count": 54,
   "metadata": {},
   "outputs": [],
   "source": [
    "stats = defaultdict(int)\n",
    "reviews_dict = defaultdict(list)\n",
    "companies0 = defaultdict(list)\n",
    "\n",
    "for review in reviews:\n",
    "    name = review[\"name\"]\n",
    "    category, idx = name.rsplit(\"_\",1)\n",
    "    stats[category] += 1\n",
    "    companies0[idx].append(category)\n",
    "    reviews_dict[category].append(review) "
   ]
  },
  {
   "cell_type": "code",
   "execution_count": 71,
   "metadata": {},
   "outputs": [],
   "source": [
    "freq_dict = defaultdict(list)\n",
    "for key, items in companies0.items():\n",
    "    freq_dict[len(items)].append(key)"
   ]
  },
  {
   "cell_type": "code",
   "execution_count": 105,
   "metadata": {},
   "outputs": [
    {
     "name": "stdout",
     "output_type": "stream",
     "text": [
      "6\n",
      "5\n",
      "4\n"
     ]
    }
   ],
   "source": [
    "companies = []\n",
    "for freq, company_list in sorted(freq_dict.items(), reverse=True):\n",
    "    if freq>3:\n",
    "        print(freq)\n",
    "        companies.append(company_list)\n",
    "    if freq ==3:\n",
    "        companies.append(random.sample(company_list, 30))\n",
    "    if freq==2:\n",
    "        companies.append(random.sample(company_list, 11))\n",
    "    if freq==1:\n",
    "        companies.append(random.sample(company_list, 20))\n",
    "        "
   ]
  },
  {
   "cell_type": "code",
   "execution_count": null,
   "metadata": {},
   "outputs": [],
   "source": []
  },
  {
   "cell_type": "code",
   "execution_count": 106,
   "metadata": {},
   "outputs": [],
   "source": [
    "companies_ = list(chain.from_iterable(companies)) # the company names for the various "
   ]
  },
  {
   "cell_type": "code",
   "execution_count": 9,
   "metadata": {},
   "outputs": [
    {
     "ename": "NameError",
     "evalue": "name 'companies_' is not defined",
     "output_type": "error",
     "traceback": [
      "\u001b[0;31m---------------------------------------------------------------------------\u001b[0m",
      "\u001b[0;31mNameError\u001b[0m                                 Traceback (most recent call last)",
      "\u001b[0;32m<ipython-input-9-1bed9ac6f93b>\u001b[0m in \u001b[0;36m<module>\u001b[0;34m\u001b[0m\n\u001b[0;32m----> 1\u001b[0;31m \u001b[0mcompanies_\u001b[0m\u001b[0;34m\u001b[0m\u001b[0;34m\u001b[0m\u001b[0m\n\u001b[0m",
      "\u001b[0;31mNameError\u001b[0m: name 'companies_' is not defined"
     ]
    }
   ],
   "source": [
    "companies_"
   ]
  },
  {
   "cell_type": "code",
   "execution_count": 107,
   "metadata": {},
   "outputs": [],
   "source": [
    "new_reviews= []\n",
    "\n",
    "for review in reviews:\n",
    "    name= review[\"name\"]\n",
    "    idx = name.rsplit(\"_\", 1)[-1]\n",
    "    if idx in companies_:\n",
    "        new_reviews.append(review)"
   ]
  },
  {
   "cell_type": "code",
   "execution_count": 108,
   "metadata": {},
   "outputs": [
    {
     "data": {
      "text/plain": [
       "421"
      ]
     },
     "execution_count": 108,
     "metadata": {},
     "output_type": "execute_result"
    }
   ],
   "source": [
    "len(new_reviews)"
   ]
  },
  {
   "cell_type": "code",
   "execution_count": 112,
   "metadata": {},
   "outputs": [],
   "source": [
    "new_stats = defaultdict(int)\n",
    "new_reviews_dict = defaultdict(list)\n",
    "cpts_dict=defaultdict(int) \n",
    "for review in new_reviews:\n",
    "    name = review[\"name\"]\n",
    "    cpts = len(review[\"dates_periods\"])-1\n",
    "    category, idx = name.rsplit(\"_\",1)\n",
    "    new_stats[category] += 1\n",
    "    new_reviews_dict[category].append(review) \n",
    "    cpts_dict[category]+=cpts\n",
    "    "
   ]
  },
  {
   "cell_type": "code",
   "execution_count": 110,
   "metadata": {},
   "outputs": [
    {
     "data": {
      "text/plain": [
       "defaultdict(int,\n",
       "            {'facility': 69,\n",
       "             'reception': 76,\n",
       "             'restaurant': 70,\n",
       "             'renovation_related-room': 61,\n",
       "             'room': 91,\n",
       "             'pool': 54})"
      ]
     },
     "execution_count": 110,
     "metadata": {},
     "output_type": "execute_result"
    }
   ],
   "source": [
    "new_stats"
   ]
  },
  {
   "cell_type": "code",
   "execution_count": 114,
   "metadata": {},
   "outputs": [
    {
     "data": {
      "text/plain": [
       "defaultdict(int,\n",
       "            {'facility': 94,\n",
       "             'reception': 120,\n",
       "             'restaurant': 90,\n",
       "             'renovation_related-room': 76,\n",
       "             'room': 141,\n",
       "             'pool': 84})"
      ]
     },
     "execution_count": 114,
     "metadata": {},
     "output_type": "execute_result"
    }
   ],
   "source": [
    "cpts_dict"
   ]
  },
  {
   "cell_type": "code",
   "execution_count": 113,
   "metadata": {},
   "outputs": [
    {
     "data": {
      "text/plain": [
       "605"
      ]
     },
     "execution_count": 113,
     "metadata": {},
     "output_type": "execute_result"
    }
   ],
   "source": [
    "cpts_num"
   ]
  },
  {
   "cell_type": "code",
   "execution_count": 118,
   "metadata": {},
   "outputs": [],
   "source": [
    "filename_ = \"data/jsonfiles_db/0616_db.json\"\n",
    "filepath_ = os.path.join(root_dir, filename_)\n",
    "with open(filepath_, \"w\") as writer:\n",
    "    json.dump({\"annotations\": [], \"reviews\": new_reviews}, writer)\n"
   ]
  },
  {
   "cell_type": "code",
   "execution_count": 3,
   "metadata": {},
   "outputs": [],
   "source": [
    "filename_ = \"data/jsonfiles_db/0616_db.json\"\n",
    "filepath_ = os.path.join(root_dir, filename_)\n",
    "with open(filepath_) as reader:\n",
    "    data = json.load(reader)"
   ]
  },
  {
   "cell_type": "code",
   "execution_count": null,
   "metadata": {},
   "outputs": [],
   "source": [
    "reviews = []\n",
    "count = 0\n",
    "for review in data[\"reviews\"]:\n",
    "    review[\"id\"]= count\n",
    "    reviews.\n"
   ]
  },
  {
   "cell_type": "code",
   "execution_count": 67,
   "metadata": {},
   "outputs": [],
   "source": [
    "freq_dict0 = defaultdict(list)\n",
    "for key, value in companies0.items():\n",
    "    freq_dict0[key]= len(value)"
   ]
  },
  {
   "cell_type": "code",
   "execution_count": null,
   "metadata": {},
   "outputs": [],
   "source": [
    "freq_dict0"
   ]
  },
  {
   "cell_type": "code",
   "execution_count": 61,
   "metadata": {},
   "outputs": [],
   "source": [
    "freqs = dict()\n",
    "for freq, freq_list in freq_dict0.items():\n",
    "    freqs[freq]= len(freq_list)\n"
   ]
  },
  {
   "cell_type": "code",
   "execution_count": 62,
   "metadata": {},
   "outputs": [
    {
     "data": {
      "text/plain": [
       "{4: 47, 3: 56, 1: 113, 2: 71, 5: 13, 6: 6}"
      ]
     },
     "execution_count": 62,
     "metadata": {},
     "output_type": "execute_result"
    }
   ],
   "source": [
    "freqs"
   ]
  },
  {
   "cell_type": "code",
   "execution_count": 15,
   "metadata": {},
   "outputs": [
    {
     "data": {
      "text/plain": [
       "defaultdict(int,\n",
       "            {'facility': 108,\n",
       "             'reception': 126,\n",
       "             'restaurant': 119,\n",
       "             'pool': 86,\n",
       "             'room': 179,\n",
       "             'renovation_related-room': 94})"
      ]
     },
     "execution_count": 15,
     "metadata": {},
     "output_type": "execute_result"
    }
   ],
   "source": [
    "stats"
   ]
  },
  {
   "cell_type": "code",
   "execution_count": 18,
   "metadata": {},
   "outputs": [],
   "source": [
    "sampled = defaultdict(list)\n",
    "\n",
    "for key, elems in reviews_dict.items():\n",
    "    sampled[key] = random.sample(elems, 70)\n",
    "    "
   ]
  },
  {
   "cell_type": "code",
   "execution_count": 47,
   "metadata": {},
   "outputs": [
    {
     "data": {
      "text/plain": [
       "(70, 70, 70)"
      ]
     },
     "execution_count": 47,
     "metadata": {},
     "output_type": "execute_result"
    }
   ],
   "source": [
    "len(sampled[\"facility\"]), len(sampled[\"reception\"]), len(sampled[\"pool\"])"
   ]
  },
  {
   "cell_type": "code",
   "execution_count": 20,
   "metadata": {},
   "outputs": [
    {
     "data": {
      "text/plain": [
       "dict_keys(['facility', 'reception', 'restaurant', 'pool', 'room', 'renovation_related-room'])"
      ]
     },
     "execution_count": 20,
     "metadata": {},
     "output_type": "execute_result"
    }
   ],
   "source": [
    "sampled.keys()"
   ]
  },
  {
   "cell_type": "code",
   "execution_count": null,
   "metadata": {},
   "outputs": [],
   "source": [
    "sampled[\"facility\"][0]"
   ]
  },
  {
   "cell_type": "code",
   "execution_count": 27,
   "metadata": {},
   "outputs": [],
   "source": [
    "companies = defaultdict(list)"
   ]
  },
  {
   "cell_type": "code",
   "execution_count": 49,
   "metadata": {},
   "outputs": [],
   "source": [
    "count =0\n",
    "for review in chain.from_iterable(sampled.values()):\n",
    "    name = review[\"name\"]\n",
    "    category, idx = name.rsplit(\"_\",1)\n",
    "    companies[idx].append(category)\n",
    "    count+=1"
   ]
  },
  {
   "cell_type": "code",
   "execution_count": 50,
   "metadata": {},
   "outputs": [
    {
     "data": {
      "text/plain": [
       "420"
      ]
     },
     "execution_count": 50,
     "metadata": {},
     "output_type": "execute_result"
    }
   ],
   "source": [
    "count"
   ]
  },
  {
   "cell_type": "code",
   "execution_count": null,
   "metadata": {},
   "outputs": [],
   "source": []
  },
  {
   "cell_type": "code",
   "execution_count": 39,
   "metadata": {},
   "outputs": [
    {
     "data": {
      "text/plain": [
       "247"
      ]
     },
     "execution_count": 39,
     "metadata": {},
     "output_type": "execute_result"
    }
   ],
   "source": [
    "len(companies)"
   ]
  },
  {
   "cell_type": "code",
   "execution_count": 42,
   "metadata": {},
   "outputs": [],
   "source": [
    "num_dict = dict()\n",
    "# frequency of companies in terms of the num of categories\n",
    "freq_dict = defaultdict(int)\n",
    "for idx, categories in companies.items():\n",
    "    num_dict[idx] = len(categories)\n",
    "    freq_dict[len(categories)]+=1\n",
    "    "
   ]
  },
  {
   "cell_type": "code",
   "execution_count": 43,
   "metadata": {},
   "outputs": [
    {
     "data": {
      "text/plain": [
       "defaultdict(int, {2: 72, 1: 129, 4: 8, 3: 35, 5: 2, 0: 1})"
      ]
     },
     "execution_count": 43,
     "metadata": {},
     "output_type": "execute_result"
    }
   ],
   "source": [
    "freq_dict"
   ]
  },
  {
   "cell_type": "code",
   "execution_count": 40,
   "metadata": {},
   "outputs": [
    {
     "data": {
      "text/plain": [
       "247"
      ]
     },
     "execution_count": 40,
     "metadata": {},
     "output_type": "execute_result"
    }
   ],
   "source": [
    "len(num_dict)"
   ]
  },
  {
   "cell_type": "code",
   "execution_count": 2,
   "metadata": {},
   "outputs": [],
   "source": [
    "l = [x for x in range(421)]\n"
   ]
  },
  {
   "cell_type": "code",
   "execution_count": 3,
   "metadata": {},
   "outputs": [],
   "source": [
    "for i in range(10):\n",
    "    filename='annotation_links{}.txt'.format(i)\n",
    "    with open(filename, \"w\") as writer:\n",
    "        for x in l[i*42: (i+1)*42]:\n",
    "            writer.write(\"https://cp-detection.trustyou.com/reviews/\"+str(x)+'\\n')\n",
    "    "
   ]
  }
 ],
 "metadata": {
  "kernelspec": {
   "display_name": "cpd",
   "language": "python",
   "name": "cdp"
  },
  "language_info": {
   "codemirror_mode": {
    "name": "ipython",
    "version": 3
   },
   "file_extension": ".py",
   "mimetype": "text/x-python",
   "name": "python",
   "nbconvert_exporter": "python",
   "pygments_lexer": "ipython3",
   "version": "3.7.6"
  }
 },
 "nbformat": 4,
 "nbformat_minor": 4
}
