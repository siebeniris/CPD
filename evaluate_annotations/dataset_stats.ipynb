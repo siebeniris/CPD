{
 "cells": [
  {
   "cell_type": "code",
   "execution_count": 1,
   "metadata": {},
   "outputs": [],
   "source": [
    "import json\n",
    "import pandas as pd\n",
    "import numpy as np\n",
    "import glob\n",
    "import seaborn as sns\n",
    "import matplotlib\n",
    "import matplotlib.pyplot as plt\n",
    "from scipy import stats\n",
    "from collections import defaultdict, Counter\n",
    "%matplotlib inline"
   ]
  },
  {
   "cell_type": "code",
   "execution_count": 2,
   "metadata": {},
   "outputs": [],
   "source": [
    "with open('prepare_dataset/gold_sent_list.json') as reader:\n",
    "    gold_sent_list = json.load(reader)"
   ]
  },
  {
   "cell_type": "code",
   "execution_count": 3,
   "metadata": {},
   "outputs": [],
   "source": [
    "cat_file_dict=defaultdict(list)\n",
    "cpt_dict= {}\n",
    "cat_sent_dict = defaultdict(list)\n",
    "for anno in gold_sent_list:\n",
    "    fileId=anno['fileId']\n",
    "    \n",
    "    sent_list = anno['sent_list']\n",
    "    for a in sent_list:\n",
    "        cpt_dict[a['cpt_id']]= (a['cpt_label'], a['category'])\n",
    "        cat_file_dict[a['category']].append(a['fileId'])\n",
    "    \n",
    "    cat = sent_list[0]['category']\n",
    "    cat_sent_dict[cat].append(len(sent_list))\n",
    "    "
   ]
  },
  {
   "cell_type": "code",
   "execution_count": 4,
   "metadata": {},
   "outputs": [
    {
     "name": "stdout",
     "output_type": "stream",
     "text": [
      "facility 848\n",
      "pool 869\n",
      "renovation_room 880\n",
      "restaurant 1100\n",
      "room 1526\n",
      "reception 928\n"
     ]
    }
   ],
   "source": [
    "sents=0\n",
    "for cat, l in cat_sent_dict.items():\n",
    "    print(cat, sum(l))\n",
    "    sents+=sum(l)"
   ]
  },
  {
   "cell_type": "code",
   "execution_count": 5,
   "metadata": {},
   "outputs": [
    {
     "data": {
      "text/plain": [
       "6151"
      ]
     },
     "execution_count": 5,
     "metadata": {},
     "output_type": "execute_result"
    }
   ],
   "source": [
    "sents"
   ]
  },
  {
   "cell_type": "code",
   "execution_count": 6,
   "metadata": {},
   "outputs": [],
   "source": [
    "cat_file_dedup ={x: len(list(set(y))) for x,y in cat_file_dict.items()}"
   ]
  },
  {
   "cell_type": "code",
   "execution_count": 7,
   "metadata": {},
   "outputs": [
    {
     "data": {
      "text/plain": [
       "381"
      ]
     },
     "execution_count": 7,
     "metadata": {},
     "output_type": "execute_result"
    }
   ],
   "source": [
    "sum(cat_file_dedup.values())"
   ]
  },
  {
   "cell_type": "code",
   "execution_count": 8,
   "metadata": {},
   "outputs": [],
   "source": [
    "cat_cpt_dict = defaultdict(list)\n",
    "for idx, d in cpt_dict.items():\n",
    "    x,y= d\n",
    "    cat_cpt_dict[y].append(x)"
   ]
  },
  {
   "cell_type": "code",
   "execution_count": 9,
   "metadata": {},
   "outputs": [
    {
     "name": "stdout",
     "output_type": "stream",
     "text": [
      "facility Counter({'d': 63, 'a': 37, 'b': 33, 'c': 13})\n",
      "pool Counter({'d': 51, 'a': 31, 'b': 19, 'c': 12})\n",
      "renovation_room Counter({'d': 50, 'a': 43, 'b': 7, 'c': 5})\n",
      "restaurant Counter({'d': 69, 'b': 43, 'a': 40, 'c': 32})\n",
      "room Counter({'d': 84, 'b': 62, 'a': 54, 'c': 31})\n",
      "reception Counter({'d': 62, 'a': 39, 'c': 36, 'b': 35})\n"
     ]
    }
   ],
   "source": [
    "for cat, l in cat_cpt_dict.items():\n",
    "    print(cat, Counter(l))"
   ]
  },
  {
   "cell_type": "code",
   "execution_count": 10,
   "metadata": {},
   "outputs": [
    {
     "data": {
      "text/plain": [
       "Counter({('a', 'facility'): 37,\n",
       "         ('d', 'facility'): 63,\n",
       "         ('c', 'pool'): 12,\n",
       "         ('d', 'pool'): 51,\n",
       "         ('a', 'renovation_room'): 43,\n",
       "         ('d', 'renovation_room'): 50,\n",
       "         ('a', 'restaurant'): 40,\n",
       "         ('c', 'restaurant'): 32,\n",
       "         ('c', 'room'): 31,\n",
       "         ('b', 'room'): 62,\n",
       "         ('d', 'room'): 84,\n",
       "         ('b', 'reception'): 35,\n",
       "         ('d', 'reception'): 62,\n",
       "         ('a', 'pool'): 31,\n",
       "         ('b', 'restaurant'): 43,\n",
       "         ('d', 'restaurant'): 69,\n",
       "         ('a', 'room'): 54,\n",
       "         ('c', 'reception'): 36,\n",
       "         ('b', 'pool'): 19,\n",
       "         ('a', 'reception'): 39,\n",
       "         ('b', 'renovation_room'): 7,\n",
       "         ('b', 'facility'): 33,\n",
       "         ('c', 'facility'): 13,\n",
       "         ('c', 'renovation_room'): 5})"
      ]
     },
     "execution_count": 10,
     "metadata": {},
     "output_type": "execute_result"
    }
   ],
   "source": [
    "Counter(cpt_dict.values())"
   ]
  },
  {
   "cell_type": "code",
   "execution_count": null,
   "metadata": {},
   "outputs": [],
   "source": []
  },
  {
   "cell_type": "code",
   "execution_count": 11,
   "metadata": {},
   "outputs": [],
   "source": [
    "df = pd.read_csv('preprocessed_data/sents_df.csv', index_col = 0)"
   ]
  },
  {
   "cell_type": "code",
   "execution_count": 12,
   "metadata": {},
   "outputs": [],
   "source": [
    "cat_len_dict = defaultdict(list)\n",
    "\n",
    "for key, group in df.groupby('fileId'):\n",
    "    cat = group['category'].to_list()[0]\n",
    "    cat_len_dict[cat].append(len(group))\n",
    "    "
   ]
  },
  {
   "cell_type": "code",
   "execution_count": 13,
   "metadata": {},
   "outputs": [
    {
     "name": "stdout",
     "output_type": "stream",
     "text": [
      "facility 21.057971014492754\n",
      "facility 1453\n",
      "pool 18.651515151515152\n",
      "pool 1231\n",
      "renovation_room 17.370967741935484\n",
      "renovation_room 1077\n",
      "restaurant 24.458333333333332\n",
      "restaurant 1761\n",
      "room 25.767441860465116\n",
      "room 2216\n",
      "reception 25.50769230769231\n",
      "reception 1658\n"
     ]
    }
   ],
   "source": [
    "avgs = []\n",
    "sums =0\n",
    "for cat , l in cat_len_dict.items():\n",
    "    print(cat, np.mean(l))\n",
    "    print(cat, sum(l))\n",
    "    sums += sum(l)\n",
    "    avgs.append(np.mean(l))"
   ]
  },
  {
   "cell_type": "code",
   "execution_count": 14,
   "metadata": {},
   "outputs": [
    {
     "data": {
      "text/plain": [
       "22.135653568239025"
      ]
     },
     "execution_count": 14,
     "metadata": {},
     "output_type": "execute_result"
    }
   ],
   "source": [
    "np.mean(avgs)"
   ]
  },
  {
   "cell_type": "code",
   "execution_count": 15,
   "metadata": {},
   "outputs": [
    {
     "data": {
      "text/plain": [
       "9396"
      ]
     },
     "execution_count": 15,
     "metadata": {},
     "output_type": "execute_result"
    }
   ],
   "source": [
    "sums"
   ]
  },
  {
   "cell_type": "code",
   "execution_count": 7,
   "metadata": {},
   "outputs": [],
   "source": [
    "df['cpt_label'].fillna('d', inplace=True)"
   ]
  },
  {
   "cell_type": "code",
   "execution_count": 8,
   "metadata": {},
   "outputs": [
    {
     "data": {
      "text/html": [
       "<div>\n",
       "<style scoped>\n",
       "    .dataframe tbody tr th:only-of-type {\n",
       "        vertical-align: middle;\n",
       "    }\n",
       "\n",
       "    .dataframe tbody tr th {\n",
       "        vertical-align: top;\n",
       "    }\n",
       "\n",
       "    .dataframe thead th {\n",
       "        text-align: right;\n",
       "    }\n",
       "</style>\n",
       "<table border=\"1\" class=\"dataframe\">\n",
       "  <thead>\n",
       "    <tr style=\"text-align: right;\">\n",
       "      <th></th>\n",
       "      <th>yes-sentiment</th>\n",
       "      <th>yes-aspect</th>\n",
       "      <th>no-sentiment</th>\n",
       "      <th>no-aspect</th>\n",
       "      <th>category</th>\n",
       "      <th>hotel_id</th>\n",
       "      <th>cpt</th>\n",
       "      <th>Total</th>\n",
       "      <th>fileId</th>\n",
       "      <th>iId</th>\n",
       "      <th>gold-aspect</th>\n",
       "      <th>gold-sentiment</th>\n",
       "      <th>text</th>\n",
       "      <th>date</th>\n",
       "      <th>sentiment</th>\n",
       "      <th>cpts</th>\n",
       "      <th>sentiment_mean</th>\n",
       "      <th>date_period</th>\n",
       "      <th>cpt_id</th>\n",
       "      <th>cpt_label</th>\n",
       "    </tr>\n",
       "  </thead>\n",
       "  <tbody>\n",
       "    <tr>\n",
       "      <th>0_0</th>\n",
       "      <td>2</td>\n",
       "      <td>2</td>\n",
       "      <td>0</td>\n",
       "      <td>0</td>\n",
       "      <td>facility</td>\n",
       "      <td>260</td>\n",
       "      <td>0</td>\n",
       "      <td>4</td>\n",
       "      <td>0</td>\n",
       "      <td>0</td>\n",
       "      <td>True</td>\n",
       "      <td>True</td>\n",
       "      <td>The lobby bar always had a solo performer pian...</td>\n",
       "      <td>2015-02-09</td>\n",
       "      <td>-0.407074</td>\n",
       "      <td>[0, 485, 912]</td>\n",
       "      <td>0.180685</td>\n",
       "      <td>['2015-01-01', '2017-06-25']</td>\n",
       "      <td>0_0</td>\n",
       "      <td>a</td>\n",
       "    </tr>\n",
       "    <tr>\n",
       "      <th>0_2</th>\n",
       "      <td>2</td>\n",
       "      <td>2</td>\n",
       "      <td>0</td>\n",
       "      <td>0</td>\n",
       "      <td>facility</td>\n",
       "      <td>260</td>\n",
       "      <td>0</td>\n",
       "      <td>4</td>\n",
       "      <td>0</td>\n",
       "      <td>2</td>\n",
       "      <td>True</td>\n",
       "      <td>True</td>\n",
       "      <td>We were then escorted to one of the lobby chec...</td>\n",
       "      <td>2015-04-21</td>\n",
       "      <td>-0.405840</td>\n",
       "      <td>[0, 485, 912]</td>\n",
       "      <td>0.180685</td>\n",
       "      <td>['2015-01-01', '2017-06-25']</td>\n",
       "      <td>0_0</td>\n",
       "      <td>a</td>\n",
       "    </tr>\n",
       "    <tr>\n",
       "      <th>0_3</th>\n",
       "      <td>2</td>\n",
       "      <td>2</td>\n",
       "      <td>0</td>\n",
       "      <td>0</td>\n",
       "      <td>facility</td>\n",
       "      <td>260</td>\n",
       "      <td>0</td>\n",
       "      <td>4</td>\n",
       "      <td>0</td>\n",
       "      <td>3</td>\n",
       "      <td>True</td>\n",
       "      <td>True</td>\n",
       "      <td>I went to the gym most mornings but I did the ...</td>\n",
       "      <td>2015-04-30</td>\n",
       "      <td>-0.490811</td>\n",
       "      <td>[0, 485, 912]</td>\n",
       "      <td>0.180685</td>\n",
       "      <td>['2015-01-01', '2017-06-25']</td>\n",
       "      <td>0_0</td>\n",
       "      <td>a</td>\n",
       "    </tr>\n",
       "    <tr>\n",
       "      <th>0_4</th>\n",
       "      <td>0</td>\n",
       "      <td>2</td>\n",
       "      <td>2</td>\n",
       "      <td>0</td>\n",
       "      <td>facility</td>\n",
       "      <td>260</td>\n",
       "      <td>0</td>\n",
       "      <td>4</td>\n",
       "      <td>0</td>\n",
       "      <td>4</td>\n",
       "      <td>True</td>\n",
       "      <td>False</td>\n",
       "      <td>I suggest a room away from the elevators for t...</td>\n",
       "      <td>2015-07-14</td>\n",
       "      <td>-0.439716</td>\n",
       "      <td>[0, 485, 912]</td>\n",
       "      <td>0.180685</td>\n",
       "      <td>['2015-01-01', '2017-06-25']</td>\n",
       "      <td>0_0</td>\n",
       "      <td>a</td>\n",
       "    </tr>\n",
       "    <tr>\n",
       "      <th>0_5</th>\n",
       "      <td>2</td>\n",
       "      <td>2</td>\n",
       "      <td>0</td>\n",
       "      <td>0</td>\n",
       "      <td>facility</td>\n",
       "      <td>260</td>\n",
       "      <td>0</td>\n",
       "      <td>4</td>\n",
       "      <td>0</td>\n",
       "      <td>5</td>\n",
       "      <td>True</td>\n",
       "      <td>True</td>\n",
       "      <td>But Lorena sure did a good job and was so swee...</td>\n",
       "      <td>2015-08-13</td>\n",
       "      <td>-0.105745</td>\n",
       "      <td>[0, 485, 912]</td>\n",
       "      <td>0.180685</td>\n",
       "      <td>['2015-01-01', '2017-06-25']</td>\n",
       "      <td>0_0</td>\n",
       "      <td>a</td>\n",
       "    </tr>\n",
       "  </tbody>\n",
       "</table>\n",
       "</div>"
      ],
      "text/plain": [
       "     yes-sentiment  yes-aspect  no-sentiment  no-aspect  category  hotel_id  \\\n",
       "0_0              2           2             0          0  facility       260   \n",
       "0_2              2           2             0          0  facility       260   \n",
       "0_3              2           2             0          0  facility       260   \n",
       "0_4              0           2             2          0  facility       260   \n",
       "0_5              2           2             0          0  facility       260   \n",
       "\n",
       "     cpt  Total  fileId  iId  gold-aspect  gold-sentiment  \\\n",
       "0_0    0      4       0    0         True            True   \n",
       "0_2    0      4       0    2         True            True   \n",
       "0_3    0      4       0    3         True            True   \n",
       "0_4    0      4       0    4         True           False   \n",
       "0_5    0      4       0    5         True            True   \n",
       "\n",
       "                                                  text        date  sentiment  \\\n",
       "0_0  The lobby bar always had a solo performer pian...  2015-02-09  -0.407074   \n",
       "0_2  We were then escorted to one of the lobby chec...  2015-04-21  -0.405840   \n",
       "0_3  I went to the gym most mornings but I did the ...  2015-04-30  -0.490811   \n",
       "0_4  I suggest a room away from the elevators for t...  2015-07-14  -0.439716   \n",
       "0_5  But Lorena sure did a good job and was so swee...  2015-08-13  -0.105745   \n",
       "\n",
       "              cpts  sentiment_mean                   date_period cpt_id  \\\n",
       "0_0  [0, 485, 912]        0.180685  ['2015-01-01', '2017-06-25']    0_0   \n",
       "0_2  [0, 485, 912]        0.180685  ['2015-01-01', '2017-06-25']    0_0   \n",
       "0_3  [0, 485, 912]        0.180685  ['2015-01-01', '2017-06-25']    0_0   \n",
       "0_4  [0, 485, 912]        0.180685  ['2015-01-01', '2017-06-25']    0_0   \n",
       "0_5  [0, 485, 912]        0.180685  ['2015-01-01', '2017-06-25']    0_0   \n",
       "\n",
       "    cpt_label  \n",
       "0_0         a  \n",
       "0_2         a  \n",
       "0_3         a  \n",
       "0_4         a  \n",
       "0_5         a  "
      ]
     },
     "execution_count": 8,
     "metadata": {},
     "output_type": "execute_result"
    }
   ],
   "source": [
    "df.head()"
   ]
  },
  {
   "cell_type": "code",
   "execution_count": 9,
   "metadata": {},
   "outputs": [
    {
     "data": {
      "text/plain": [
       "9396"
      ]
     },
     "execution_count": 9,
     "metadata": {},
     "output_type": "execute_result"
    }
   ],
   "source": [
    "len(df)"
   ]
  },
  {
   "cell_type": "code",
   "execution_count": 16,
   "metadata": {},
   "outputs": [],
   "source": [
    "gold_df = pd.read_csv('prepare_dataset/gold_df.csv', index_col=0)"
   ]
  },
  {
   "cell_type": "code",
   "execution_count": 17,
   "metadata": {},
   "outputs": [
    {
     "data": {
      "text/html": [
       "<div>\n",
       "<style scoped>\n",
       "    .dataframe tbody tr th:only-of-type {\n",
       "        vertical-align: middle;\n",
       "    }\n",
       "\n",
       "    .dataframe tbody tr th {\n",
       "        vertical-align: top;\n",
       "    }\n",
       "\n",
       "    .dataframe thead th {\n",
       "        text-align: right;\n",
       "    }\n",
       "</style>\n",
       "<table border=\"1\" class=\"dataframe\">\n",
       "  <thead>\n",
       "    <tr style=\"text-align: right;\">\n",
       "      <th></th>\n",
       "      <th>yes-sentiment</th>\n",
       "      <th>yes-aspect</th>\n",
       "      <th>no-sentiment</th>\n",
       "      <th>no-aspect</th>\n",
       "      <th>category</th>\n",
       "      <th>hotel_id</th>\n",
       "      <th>cpt</th>\n",
       "      <th>Total</th>\n",
       "      <th>fileId</th>\n",
       "      <th>iId</th>\n",
       "      <th>...</th>\n",
       "      <th>text</th>\n",
       "      <th>date</th>\n",
       "      <th>sentiment</th>\n",
       "      <th>cpts</th>\n",
       "      <th>sentiment_mean</th>\n",
       "      <th>date_period</th>\n",
       "      <th>cpt_id</th>\n",
       "      <th>cpt_label</th>\n",
       "      <th>TS_LEN</th>\n",
       "      <th>argmin_max</th>\n",
       "    </tr>\n",
       "  </thead>\n",
       "  <tbody>\n",
       "    <tr>\n",
       "      <th>0_0</th>\n",
       "      <td>2</td>\n",
       "      <td>2</td>\n",
       "      <td>0</td>\n",
       "      <td>0</td>\n",
       "      <td>facility</td>\n",
       "      <td>260</td>\n",
       "      <td>0</td>\n",
       "      <td>4</td>\n",
       "      <td>0</td>\n",
       "      <td>0</td>\n",
       "      <td>...</td>\n",
       "      <td>The lobby bar always had a solo performer pian...</td>\n",
       "      <td>2015-02-09</td>\n",
       "      <td>-0.407074</td>\n",
       "      <td>[0, 485, 912]</td>\n",
       "      <td>0.180685</td>\n",
       "      <td>['2015-01-01', '2017-06-25']</td>\n",
       "      <td>0_0</td>\n",
       "      <td>a</td>\n",
       "      <td>8</td>\n",
       "      <td>NaN</td>\n",
       "    </tr>\n",
       "    <tr>\n",
       "      <th>0_2</th>\n",
       "      <td>2</td>\n",
       "      <td>2</td>\n",
       "      <td>0</td>\n",
       "      <td>0</td>\n",
       "      <td>facility</td>\n",
       "      <td>260</td>\n",
       "      <td>0</td>\n",
       "      <td>4</td>\n",
       "      <td>0</td>\n",
       "      <td>2</td>\n",
       "      <td>...</td>\n",
       "      <td>We were then escorted to one of the lobby chec...</td>\n",
       "      <td>2015-04-21</td>\n",
       "      <td>-0.405840</td>\n",
       "      <td>[0, 485, 912]</td>\n",
       "      <td>0.180685</td>\n",
       "      <td>['2015-01-01', '2017-06-25']</td>\n",
       "      <td>0_0</td>\n",
       "      <td>a</td>\n",
       "      <td>8</td>\n",
       "      <td>NaN</td>\n",
       "    </tr>\n",
       "    <tr>\n",
       "      <th>0_3</th>\n",
       "      <td>2</td>\n",
       "      <td>2</td>\n",
       "      <td>0</td>\n",
       "      <td>0</td>\n",
       "      <td>facility</td>\n",
       "      <td>260</td>\n",
       "      <td>0</td>\n",
       "      <td>4</td>\n",
       "      <td>0</td>\n",
       "      <td>3</td>\n",
       "      <td>...</td>\n",
       "      <td>I went to the gym most mornings but I did the ...</td>\n",
       "      <td>2015-04-30</td>\n",
       "      <td>-0.490811</td>\n",
       "      <td>[0, 485, 912]</td>\n",
       "      <td>0.180685</td>\n",
       "      <td>['2015-01-01', '2017-06-25']</td>\n",
       "      <td>0_0</td>\n",
       "      <td>a</td>\n",
       "      <td>8</td>\n",
       "      <td>NaN</td>\n",
       "    </tr>\n",
       "    <tr>\n",
       "      <th>0_4</th>\n",
       "      <td>0</td>\n",
       "      <td>2</td>\n",
       "      <td>2</td>\n",
       "      <td>0</td>\n",
       "      <td>facility</td>\n",
       "      <td>260</td>\n",
       "      <td>0</td>\n",
       "      <td>4</td>\n",
       "      <td>0</td>\n",
       "      <td>4</td>\n",
       "      <td>...</td>\n",
       "      <td>I suggest a room away from the elevators for t...</td>\n",
       "      <td>2015-07-14</td>\n",
       "      <td>-0.439716</td>\n",
       "      <td>[0, 485, 912]</td>\n",
       "      <td>0.180685</td>\n",
       "      <td>['2015-01-01', '2017-06-25']</td>\n",
       "      <td>0_0</td>\n",
       "      <td>a</td>\n",
       "      <td>8</td>\n",
       "      <td>NaN</td>\n",
       "    </tr>\n",
       "    <tr>\n",
       "      <th>0_5</th>\n",
       "      <td>2</td>\n",
       "      <td>2</td>\n",
       "      <td>0</td>\n",
       "      <td>0</td>\n",
       "      <td>facility</td>\n",
       "      <td>260</td>\n",
       "      <td>0</td>\n",
       "      <td>4</td>\n",
       "      <td>0</td>\n",
       "      <td>5</td>\n",
       "      <td>...</td>\n",
       "      <td>But Lorena sure did a good job and was so swee...</td>\n",
       "      <td>2015-08-13</td>\n",
       "      <td>-0.105745</td>\n",
       "      <td>[0, 485, 912]</td>\n",
       "      <td>0.180685</td>\n",
       "      <td>['2015-01-01', '2017-06-25']</td>\n",
       "      <td>0_0</td>\n",
       "      <td>a</td>\n",
       "      <td>8</td>\n",
       "      <td>NaN</td>\n",
       "    </tr>\n",
       "  </tbody>\n",
       "</table>\n",
       "<p>5 rows × 22 columns</p>\n",
       "</div>"
      ],
      "text/plain": [
       "     yes-sentiment  yes-aspect  no-sentiment  no-aspect  category  hotel_id  \\\n",
       "0_0              2           2             0          0  facility       260   \n",
       "0_2              2           2             0          0  facility       260   \n",
       "0_3              2           2             0          0  facility       260   \n",
       "0_4              0           2             2          0  facility       260   \n",
       "0_5              2           2             0          0  facility       260   \n",
       "\n",
       "     cpt  Total  fileId  iId  ...  \\\n",
       "0_0    0      4       0    0  ...   \n",
       "0_2    0      4       0    2  ...   \n",
       "0_3    0      4       0    3  ...   \n",
       "0_4    0      4       0    4  ...   \n",
       "0_5    0      4       0    5  ...   \n",
       "\n",
       "                                                  text        date sentiment  \\\n",
       "0_0  The lobby bar always had a solo performer pian...  2015-02-09 -0.407074   \n",
       "0_2  We were then escorted to one of the lobby chec...  2015-04-21 -0.405840   \n",
       "0_3  I went to the gym most mornings but I did the ...  2015-04-30 -0.490811   \n",
       "0_4  I suggest a room away from the elevators for t...  2015-07-14 -0.439716   \n",
       "0_5  But Lorena sure did a good job and was so swee...  2015-08-13 -0.105745   \n",
       "\n",
       "              cpts  sentiment_mean                   date_period  cpt_id  \\\n",
       "0_0  [0, 485, 912]        0.180685  ['2015-01-01', '2017-06-25']     0_0   \n",
       "0_2  [0, 485, 912]        0.180685  ['2015-01-01', '2017-06-25']     0_0   \n",
       "0_3  [0, 485, 912]        0.180685  ['2015-01-01', '2017-06-25']     0_0   \n",
       "0_4  [0, 485, 912]        0.180685  ['2015-01-01', '2017-06-25']     0_0   \n",
       "0_5  [0, 485, 912]        0.180685  ['2015-01-01', '2017-06-25']     0_0   \n",
       "\n",
       "    cpt_label TS_LEN argmin_max  \n",
       "0_0         a      8        NaN  \n",
       "0_2         a      8        NaN  \n",
       "0_3         a      8        NaN  \n",
       "0_4         a      8        NaN  \n",
       "0_5         a      8        NaN  \n",
       "\n",
       "[5 rows x 22 columns]"
      ]
     },
     "execution_count": 17,
     "metadata": {},
     "output_type": "execute_result"
    }
   ],
   "source": [
    "gold_df.head()"
   ]
  },
  {
   "cell_type": "code",
   "execution_count": 18,
   "metadata": {},
   "outputs": [
    {
     "data": {
      "text/plain": [
       "6151"
      ]
     },
     "execution_count": 18,
     "metadata": {},
     "output_type": "execute_result"
    }
   ],
   "source": [
    "len(gold_df)"
   ]
  },
  {
   "cell_type": "code",
   "execution_count": 19,
   "metadata": {},
   "outputs": [
    {
     "data": {
      "text/plain": [
       "381"
      ]
     },
     "execution_count": 19,
     "metadata": {},
     "output_type": "execute_result"
    }
   ],
   "source": [
    "len(list(set(gold_df['fileId'].to_list())))"
   ]
  },
  {
   "cell_type": "code",
   "execution_count": 20,
   "metadata": {},
   "outputs": [
    {
     "data": {
      "text/html": [
       "<div>\n",
       "<style scoped>\n",
       "    .dataframe tbody tr th:only-of-type {\n",
       "        vertical-align: middle;\n",
       "    }\n",
       "\n",
       "    .dataframe tbody tr th {\n",
       "        vertical-align: top;\n",
       "    }\n",
       "\n",
       "    .dataframe thead th {\n",
       "        text-align: right;\n",
       "    }\n",
       "</style>\n",
       "<table border=\"1\" class=\"dataframe\">\n",
       "  <thead>\n",
       "    <tr style=\"text-align: right;\">\n",
       "      <th></th>\n",
       "      <th>yes-sentiment</th>\n",
       "      <th>yes-aspect</th>\n",
       "      <th>no-sentiment</th>\n",
       "      <th>no-aspect</th>\n",
       "      <th>category</th>\n",
       "      <th>hotel_id</th>\n",
       "      <th>cpt</th>\n",
       "      <th>Total</th>\n",
       "      <th>fileId</th>\n",
       "      <th>iId</th>\n",
       "      <th>...</th>\n",
       "      <th>text</th>\n",
       "      <th>date</th>\n",
       "      <th>sentiment</th>\n",
       "      <th>cpts</th>\n",
       "      <th>sentiment_mean</th>\n",
       "      <th>date_period</th>\n",
       "      <th>cpt_id</th>\n",
       "      <th>cpt_label</th>\n",
       "      <th>TS_LEN</th>\n",
       "      <th>argmin_max</th>\n",
       "    </tr>\n",
       "  </thead>\n",
       "  <tbody>\n",
       "    <tr>\n",
       "      <th>244_0</th>\n",
       "      <td>2</td>\n",
       "      <td>2</td>\n",
       "      <td>0</td>\n",
       "      <td>0</td>\n",
       "      <td>reception</td>\n",
       "      <td>395</td>\n",
       "      <td>1</td>\n",
       "      <td>4</td>\n",
       "      <td>244</td>\n",
       "      <td>0</td>\n",
       "      <td>...</td>\n",
       "      <td>You have awesome staff and they should be rewa...</td>\n",
       "      <td>2015-02-11</td>\n",
       "      <td>0.487299</td>\n",
       "      <td>[0, 5, 20, 602]</td>\n",
       "      <td>0.226539</td>\n",
       "      <td>['2015-01-31', '2015-04-04']</td>\n",
       "      <td>244_1</td>\n",
       "      <td>b</td>\n",
       "      <td>6</td>\n",
       "      <td>True</td>\n",
       "    </tr>\n",
       "    <tr>\n",
       "      <th>244_1</th>\n",
       "      <td>2</td>\n",
       "      <td>2</td>\n",
       "      <td>0</td>\n",
       "      <td>0</td>\n",
       "      <td>reception</td>\n",
       "      <td>395</td>\n",
       "      <td>1</td>\n",
       "      <td>4</td>\n",
       "      <td>244</td>\n",
       "      <td>1</td>\n",
       "      <td>...</td>\n",
       "      <td>I have a family member that travels also to th...</td>\n",
       "      <td>2015-02-11</td>\n",
       "      <td>0.469558</td>\n",
       "      <td>[0, 5, 20, 602]</td>\n",
       "      <td>0.226539</td>\n",
       "      <td>['2015-01-31', '2015-04-04']</td>\n",
       "      <td>244_1</td>\n",
       "      <td>b</td>\n",
       "      <td>6</td>\n",
       "      <td>NaN</td>\n",
       "    </tr>\n",
       "    <tr>\n",
       "      <th>244_2</th>\n",
       "      <td>2</td>\n",
       "      <td>2</td>\n",
       "      <td>0</td>\n",
       "      <td>0</td>\n",
       "      <td>reception</td>\n",
       "      <td>395</td>\n",
       "      <td>1</td>\n",
       "      <td>4</td>\n",
       "      <td>244</td>\n",
       "      <td>2</td>\n",
       "      <td>...</td>\n",
       "      <td>I make sure I stay at this hotel because of th...</td>\n",
       "      <td>2015-02-11</td>\n",
       "      <td>0.426448</td>\n",
       "      <td>[0, 5, 20, 602]</td>\n",
       "      <td>0.226539</td>\n",
       "      <td>['2015-01-31', '2015-04-04']</td>\n",
       "      <td>244_1</td>\n",
       "      <td>b</td>\n",
       "      <td>6</td>\n",
       "      <td>NaN</td>\n",
       "    </tr>\n",
       "    <tr>\n",
       "      <th>244_4</th>\n",
       "      <td>2</td>\n",
       "      <td>2</td>\n",
       "      <td>0</td>\n",
       "      <td>0</td>\n",
       "      <td>reception</td>\n",
       "      <td>395</td>\n",
       "      <td>1</td>\n",
       "      <td>4</td>\n",
       "      <td>244</td>\n",
       "      <td>4</td>\n",
       "      <td>...</td>\n",
       "      <td>Four Diamond Service</td>\n",
       "      <td>2015-02-18</td>\n",
       "      <td>0.406429</td>\n",
       "      <td>[0, 5, 20, 602]</td>\n",
       "      <td>0.226539</td>\n",
       "      <td>['2015-01-31', '2015-04-04']</td>\n",
       "      <td>244_1</td>\n",
       "      <td>b</td>\n",
       "      <td>6</td>\n",
       "      <td>NaN</td>\n",
       "    </tr>\n",
       "    <tr>\n",
       "      <th>244_5</th>\n",
       "      <td>2</td>\n",
       "      <td>2</td>\n",
       "      <td>0</td>\n",
       "      <td>0</td>\n",
       "      <td>reception</td>\n",
       "      <td>395</td>\n",
       "      <td>1</td>\n",
       "      <td>4</td>\n",
       "      <td>244</td>\n",
       "      <td>5</td>\n",
       "      <td>...</td>\n",
       "      <td>Wish I could remember all the names of the sta...</td>\n",
       "      <td>2015-02-26</td>\n",
       "      <td>0.259832</td>\n",
       "      <td>[0, 5, 20, 602]</td>\n",
       "      <td>0.226539</td>\n",
       "      <td>['2015-01-31', '2015-04-04']</td>\n",
       "      <td>244_1</td>\n",
       "      <td>b</td>\n",
       "      <td>6</td>\n",
       "      <td>NaN</td>\n",
       "    </tr>\n",
       "    <tr>\n",
       "      <th>244_6</th>\n",
       "      <td>2</td>\n",
       "      <td>2</td>\n",
       "      <td>0</td>\n",
       "      <td>0</td>\n",
       "      <td>reception</td>\n",
       "      <td>395</td>\n",
       "      <td>1</td>\n",
       "      <td>4</td>\n",
       "      <td>244</td>\n",
       "      <td>6</td>\n",
       "      <td>...</td>\n",
       "      <td>Jil went above and beyond to make us feel welc...</td>\n",
       "      <td>2015-03-04</td>\n",
       "      <td>0.409729</td>\n",
       "      <td>[0, 5, 20, 602]</td>\n",
       "      <td>0.226539</td>\n",
       "      <td>['2015-01-31', '2015-04-04']</td>\n",
       "      <td>244_1</td>\n",
       "      <td>b</td>\n",
       "      <td>6</td>\n",
       "      <td>NaN</td>\n",
       "    </tr>\n",
       "    <tr>\n",
       "      <th>244_8</th>\n",
       "      <td>1</td>\n",
       "      <td>2</td>\n",
       "      <td>1</td>\n",
       "      <td>0</td>\n",
       "      <td>reception</td>\n",
       "      <td>395</td>\n",
       "      <td>2</td>\n",
       "      <td>4</td>\n",
       "      <td>244</td>\n",
       "      <td>8</td>\n",
       "      <td>...</td>\n",
       "      <td>Maybe a man should work the front desk overnight</td>\n",
       "      <td>2017-03-24</td>\n",
       "      <td>-0.491699</td>\n",
       "      <td>[0, 5, 20, 602]</td>\n",
       "      <td>0.365311</td>\n",
       "      <td>['2015-04-06', '2020-03-18']</td>\n",
       "      <td>244_2</td>\n",
       "      <td>d</td>\n",
       "      <td>4</td>\n",
       "      <td>True</td>\n",
       "    </tr>\n",
       "    <tr>\n",
       "      <th>244_10</th>\n",
       "      <td>2</td>\n",
       "      <td>2</td>\n",
       "      <td>0</td>\n",
       "      <td>0</td>\n",
       "      <td>reception</td>\n",
       "      <td>395</td>\n",
       "      <td>2</td>\n",
       "      <td>4</td>\n",
       "      <td>244</td>\n",
       "      <td>10</td>\n",
       "      <td>...</td>\n",
       "      <td>It took longer than 10 minutes for the bartend...</td>\n",
       "      <td>2017-06-13</td>\n",
       "      <td>-0.487715</td>\n",
       "      <td>[0, 5, 20, 602]</td>\n",
       "      <td>0.365311</td>\n",
       "      <td>['2015-04-06', '2020-03-18']</td>\n",
       "      <td>244_2</td>\n",
       "      <td>d</td>\n",
       "      <td>4</td>\n",
       "      <td>NaN</td>\n",
       "    </tr>\n",
       "    <tr>\n",
       "      <th>244_12</th>\n",
       "      <td>1</td>\n",
       "      <td>2</td>\n",
       "      <td>1</td>\n",
       "      <td>0</td>\n",
       "      <td>reception</td>\n",
       "      <td>395</td>\n",
       "      <td>2</td>\n",
       "      <td>4</td>\n",
       "      <td>244</td>\n",
       "      <td>12</td>\n",
       "      <td>...</td>\n",
       "      <td>the front desk staff bent over back wards to a...</td>\n",
       "      <td>2018-11-21</td>\n",
       "      <td>-0.383876</td>\n",
       "      <td>[0, 5, 20, 602]</td>\n",
       "      <td>0.365311</td>\n",
       "      <td>['2015-04-06', '2020-03-18']</td>\n",
       "      <td>244_2</td>\n",
       "      <td>d</td>\n",
       "      <td>4</td>\n",
       "      <td>NaN</td>\n",
       "    </tr>\n",
       "    <tr>\n",
       "      <th>244_15</th>\n",
       "      <td>1</td>\n",
       "      <td>2</td>\n",
       "      <td>1</td>\n",
       "      <td>0</td>\n",
       "      <td>reception</td>\n",
       "      <td>395</td>\n",
       "      <td>2</td>\n",
       "      <td>4</td>\n",
       "      <td>244</td>\n",
       "      <td>15</td>\n",
       "      <td>...</td>\n",
       "      <td>The snacks and drinks are overpriced but the f...</td>\n",
       "      <td>2019-06-17</td>\n",
       "      <td>-0.102088</td>\n",
       "      <td>[0, 5, 20, 602]</td>\n",
       "      <td>0.365311</td>\n",
       "      <td>['2015-04-06', '2020-03-18']</td>\n",
       "      <td>244_2</td>\n",
       "      <td>d</td>\n",
       "      <td>4</td>\n",
       "      <td>NaN</td>\n",
       "    </tr>\n",
       "  </tbody>\n",
       "</table>\n",
       "<p>10 rows × 22 columns</p>\n",
       "</div>"
      ],
      "text/plain": [
       "        yes-sentiment  yes-aspect  no-sentiment  no-aspect   category  \\\n",
       "244_0               2           2             0          0  reception   \n",
       "244_1               2           2             0          0  reception   \n",
       "244_2               2           2             0          0  reception   \n",
       "244_4               2           2             0          0  reception   \n",
       "244_5               2           2             0          0  reception   \n",
       "244_6               2           2             0          0  reception   \n",
       "244_8               1           2             1          0  reception   \n",
       "244_10              2           2             0          0  reception   \n",
       "244_12              1           2             1          0  reception   \n",
       "244_15              1           2             1          0  reception   \n",
       "\n",
       "        hotel_id  cpt  Total  fileId  iId  ...  \\\n",
       "244_0        395    1      4     244    0  ...   \n",
       "244_1        395    1      4     244    1  ...   \n",
       "244_2        395    1      4     244    2  ...   \n",
       "244_4        395    1      4     244    4  ...   \n",
       "244_5        395    1      4     244    5  ...   \n",
       "244_6        395    1      4     244    6  ...   \n",
       "244_8        395    2      4     244    8  ...   \n",
       "244_10       395    2      4     244   10  ...   \n",
       "244_12       395    2      4     244   12  ...   \n",
       "244_15       395    2      4     244   15  ...   \n",
       "\n",
       "                                                     text        date  \\\n",
       "244_0   You have awesome staff and they should be rewa...  2015-02-11   \n",
       "244_1   I have a family member that travels also to th...  2015-02-11   \n",
       "244_2   I make sure I stay at this hotel because of th...  2015-02-11   \n",
       "244_4                                Four Diamond Service  2015-02-18   \n",
       "244_5   Wish I could remember all the names of the sta...  2015-02-26   \n",
       "244_6   Jil went above and beyond to make us feel welc...  2015-03-04   \n",
       "244_8    Maybe a man should work the front desk overnight  2017-03-24   \n",
       "244_10  It took longer than 10 minutes for the bartend...  2017-06-13   \n",
       "244_12  the front desk staff bent over back wards to a...  2018-11-21   \n",
       "244_15  The snacks and drinks are overpriced but the f...  2019-06-17   \n",
       "\n",
       "       sentiment             cpts  sentiment_mean  \\\n",
       "244_0   0.487299  [0, 5, 20, 602]        0.226539   \n",
       "244_1   0.469558  [0, 5, 20, 602]        0.226539   \n",
       "244_2   0.426448  [0, 5, 20, 602]        0.226539   \n",
       "244_4   0.406429  [0, 5, 20, 602]        0.226539   \n",
       "244_5   0.259832  [0, 5, 20, 602]        0.226539   \n",
       "244_6   0.409729  [0, 5, 20, 602]        0.226539   \n",
       "244_8  -0.491699  [0, 5, 20, 602]        0.365311   \n",
       "244_10 -0.487715  [0, 5, 20, 602]        0.365311   \n",
       "244_12 -0.383876  [0, 5, 20, 602]        0.365311   \n",
       "244_15 -0.102088  [0, 5, 20, 602]        0.365311   \n",
       "\n",
       "                         date_period  cpt_id cpt_label TS_LEN argmin_max  \n",
       "244_0   ['2015-01-31', '2015-04-04']   244_1         b      6       True  \n",
       "244_1   ['2015-01-31', '2015-04-04']   244_1         b      6        NaN  \n",
       "244_2   ['2015-01-31', '2015-04-04']   244_1         b      6        NaN  \n",
       "244_4   ['2015-01-31', '2015-04-04']   244_1         b      6        NaN  \n",
       "244_5   ['2015-01-31', '2015-04-04']   244_1         b      6        NaN  \n",
       "244_6   ['2015-01-31', '2015-04-04']   244_1         b      6        NaN  \n",
       "244_8   ['2015-04-06', '2020-03-18']   244_2         d      4       True  \n",
       "244_10  ['2015-04-06', '2020-03-18']   244_2         d      4        NaN  \n",
       "244_12  ['2015-04-06', '2020-03-18']   244_2         d      4        NaN  \n",
       "244_15  ['2015-04-06', '2020-03-18']   244_2         d      4        NaN  \n",
       "\n",
       "[10 rows x 22 columns]"
      ]
     },
     "execution_count": 20,
     "metadata": {},
     "output_type": "execute_result"
    }
   ],
   "source": [
    "gold_df[gold_df['fileId']==244]"
   ]
  },
  {
   "cell_type": "code",
   "execution_count": 23,
   "metadata": {},
   "outputs": [],
   "source": [
    "file_cpt_date_dict=defaultdict(dict)\n",
    "\n",
    "for fileId, group in gold_df.groupby('fileId'):\n",
    "    for cpt, g in group.groupby('cpt'):\n",
    "        file_cpt_date_dict[fileId][cpt]= ast.literal_eval(g['date_period'].to_list()[0])"
   ]
  },
  {
   "cell_type": "code",
   "execution_count": 24,
   "metadata": {},
   "outputs": [
    {
     "data": {
      "text/plain": [
       "{0: ['2015-01-01', '2015-06-26'],\n",
       " 1: ['2015-06-27', '2017-10-22'],\n",
       " 2: ['2017-10-26', '2019-03-09'],\n",
       " 3: ['2019-03-12', '2020-04-12']}"
      ]
     },
     "execution_count": 24,
     "metadata": {},
     "output_type": "execute_result"
    }
   ],
   "source": [
    "file_cpt_date_dict[4]"
   ]
  },
  {
   "cell_type": "code",
   "execution_count": 22,
   "metadata": {},
   "outputs": [],
   "source": [
    "import ast"
   ]
  },
  {
   "cell_type": "code",
   "execution_count": 25,
   "metadata": {},
   "outputs": [],
   "source": [
    "cpts_d = defaultdict(dict)\n",
    "\n",
    "labels_list =[]\n",
    "for fileId, group in gold_df.groupby('fileId'):\n",
    "#     print(fileId)\n",
    "    cpts = json.loads(group['cpts'].to_list()[0]) # [0, 485, 912]\n",
    "    cpt_dict = dict(zip(group.cpt_id, group.cpt_label)) # {0:'a',1:'d'}\n",
    "    cpt_dict_sorted= {int(x.split('_')[-1]): y for x,y in cpt_dict.items()}\n",
    "    \n",
    "    category = group['category'].to_list()[0]\n",
    "    \n",
    "    periods_cands = list(zip(cpts[:-1], cpts[1:]))\n",
    "#     print(cpt_dict_sorted)\n",
    "#     print(periods_cands)\n",
    "    cpts_ = [x for x,y in cpt_dict_sorted.items() if y!='c'] # flip out 'c'\n",
    "    labels = [y for x,y in cpt_dict_sorted.items() if y!='c']\n",
    "#     print(cpts_)\n",
    "#     print('date given:', file_cpt_date_dict[fileId], cpts_)\n",
    "    valid_dates = [file_cpt_date_dict[fileId][c] for c in cpts_]\n",
    "\n",
    "    valid_periods = [periods_cands[x] for x in cpts_]\n",
    "    periods= [0] + [y for x,y in valid_periods]\n",
    "    \n",
    "#     print('dates:', valid_dates)\n",
    "#     print(valid_periods)\n",
    "    \n",
    "    if periods[-1]!= cpts[-1]:\n",
    "        periods += [cpts[-1]]\n",
    "#     print(periods)\n",
    "    if labels[-1]=='d':\n",
    "        \n",
    "        labels = labels[:-1]\n",
    "    if len(labels)>0:\n",
    "        cpts_d[fileId]['cpts'] = cpts\n",
    "        cpts_d[fileId]['hotel_id'] = group['hotel_id'].to_list()[0]\n",
    "        cpts_d[fileId]['valid_cpts']= periods\n",
    "        cpts_d[fileId]['valid_dates'] = valid_dates\n",
    "        cpts_d[fileId]['valid_labels'] = labels\n",
    "        cpts_d[fileId]['category'] = category\n",
    "        if 'd' in labels:\n",
    "            print(fileId)\n",
    "            print(cpt_dict_sorted)\n",
    "            print(cpts_d[fileId])\n",
    "        \n",
    "        labels_list.append(labels)\n",
    "#     print(labels)\n",
    "#     print('*'*20)"
   ]
  },
  {
   "cell_type": "code",
   "execution_count": 27,
   "metadata": {},
   "outputs": [
    {
     "data": {
      "text/plain": [
       "{'cpts': [0, 5, 20, 602],\n",
       " 'hotel_id': 395,\n",
       " 'valid_cpts': [0, 20, 602],\n",
       " 'valid_dates': [['2015-01-31', '2015-04-04'], ['2015-04-06', '2020-03-18']],\n",
       " 'valid_labels': ['b'],\n",
       " 'category': 'reception'}"
      ]
     },
     "execution_count": 27,
     "metadata": {},
     "output_type": "execute_result"
    }
   ],
   "source": [
    "cpts_d[244]"
   ]
  },
  {
   "cell_type": "code",
   "execution_count": 28,
   "metadata": {},
   "outputs": [
    {
     "data": {
      "text/plain": [
       "356"
      ]
     },
     "execution_count": 28,
     "metadata": {},
     "output_type": "execute_result"
    }
   ],
   "source": [
    "len(cpts_d)"
   ]
  },
  {
   "cell_type": "code",
   "execution_count": 29,
   "metadata": {},
   "outputs": [],
   "source": [
    "from itertools import chain"
   ]
  },
  {
   "cell_type": "code",
   "execution_count": 30,
   "metadata": {},
   "outputs": [],
   "source": [
    "labels = list(chain.from_iterable(labels_list))"
   ]
  },
  {
   "cell_type": "code",
   "execution_count": 31,
   "metadata": {},
   "outputs": [],
   "source": [
    "from collections import Counter"
   ]
  },
  {
   "cell_type": "code",
   "execution_count": 32,
   "metadata": {},
   "outputs": [
    {
     "data": {
      "text/plain": [
       "Counter({'a': 244, 'b': 199})"
      ]
     },
     "execution_count": 32,
     "metadata": {},
     "output_type": "execute_result"
    }
   ],
   "source": [
    "Counter(labels)"
   ]
  },
  {
   "cell_type": "code",
   "execution_count": 33,
   "metadata": {},
   "outputs": [
    {
     "data": {
      "text/plain": [
       "443"
      ]
     },
     "execution_count": 33,
     "metadata": {},
     "output_type": "execute_result"
    }
   ],
   "source": [
    "sum(Counter(labels).values())"
   ]
  },
  {
   "cell_type": "code",
   "execution_count": 34,
   "metadata": {},
   "outputs": [
    {
     "data": {
      "text/plain": [
       "356"
      ]
     },
     "execution_count": 34,
     "metadata": {},
     "output_type": "execute_result"
    }
   ],
   "source": [
    "len(cpts_d)"
   ]
  },
  {
   "cell_type": "code",
   "execution_count": 35,
   "metadata": {},
   "outputs": [],
   "source": [
    "with open('prepare_dataset/gold_cpt_dict.json', 'w') as writer:\n",
    "    json.dump(cpts_d, writer)"
   ]
  },
  {
   "cell_type": "code",
   "execution_count": null,
   "metadata": {},
   "outputs": [],
   "source": []
  },
  {
   "cell_type": "code",
   "execution_count": 36,
   "metadata": {},
   "outputs": [],
   "source": [
    "gold_cpt_df = pd.DataFrame.from_dict(cpts_d, orient='index')\n"
   ]
  },
  {
   "cell_type": "code",
   "execution_count": 39,
   "metadata": {},
   "outputs": [
    {
     "data": {
      "text/html": [
       "<div>\n",
       "<style scoped>\n",
       "    .dataframe tbody tr th:only-of-type {\n",
       "        vertical-align: middle;\n",
       "    }\n",
       "\n",
       "    .dataframe tbody tr th {\n",
       "        vertical-align: top;\n",
       "    }\n",
       "\n",
       "    .dataframe thead th {\n",
       "        text-align: right;\n",
       "    }\n",
       "</style>\n",
       "<table border=\"1\" class=\"dataframe\">\n",
       "  <thead>\n",
       "    <tr style=\"text-align: right;\">\n",
       "      <th></th>\n",
       "      <th>cpts</th>\n",
       "      <th>hotel_id</th>\n",
       "      <th>valid_cpts</th>\n",
       "      <th>valid_dates</th>\n",
       "      <th>valid_labels</th>\n",
       "      <th>category</th>\n",
       "    </tr>\n",
       "  </thead>\n",
       "  <tbody>\n",
       "    <tr>\n",
       "      <th>0</th>\n",
       "      <td>[0, 485, 912]</td>\n",
       "      <td>260</td>\n",
       "      <td>[0, 485, 912]</td>\n",
       "      <td>[[2015-01-01, 2017-06-25], [2017-06-28, 2020-0...</td>\n",
       "      <td>[a]</td>\n",
       "      <td>facility</td>\n",
       "    </tr>\n",
       "    <tr>\n",
       "      <th>2</th>\n",
       "      <td>[0, 45, 86]</td>\n",
       "      <td>260</td>\n",
       "      <td>[0, 45, 86]</td>\n",
       "      <td>[[2015-01-03, 2018-07-17], [2018-09-07, 2020-0...</td>\n",
       "      <td>[a]</td>\n",
       "      <td>renovation_room</td>\n",
       "    </tr>\n",
       "    <tr>\n",
       "      <th>3</th>\n",
       "      <td>[0, 75, 885, 990, 1085, 1105, 1373]</td>\n",
       "      <td>260</td>\n",
       "      <td>[0, 75, 885, 1373]</td>\n",
       "      <td>[[2015-01-01, 2015-04-03], [2015-04-04, 2018-0...</td>\n",
       "      <td>[a, a]</td>\n",
       "      <td>restaurant</td>\n",
       "    </tr>\n",
       "    <tr>\n",
       "      <th>4</th>\n",
       "      <td>[0, 135, 780, 1040, 1272]</td>\n",
       "      <td>260</td>\n",
       "      <td>[0, 1040, 1272]</td>\n",
       "      <td>[[2017-10-26, 2019-03-09], [2019-03-12, 2020-0...</td>\n",
       "      <td>[b]</td>\n",
       "      <td>room</td>\n",
       "    </tr>\n",
       "    <tr>\n",
       "      <th>5</th>\n",
       "      <td>[0, 885, 2140]</td>\n",
       "      <td>110</td>\n",
       "      <td>[0, 885, 2140]</td>\n",
       "      <td>[[2015-01-04, 2018-06-25 04:12:47], [2018-06-2...</td>\n",
       "      <td>[a]</td>\n",
       "      <td>facility</td>\n",
       "    </tr>\n",
       "    <tr>\n",
       "      <th>...</th>\n",
       "      <td>...</td>\n",
       "      <td>...</td>\n",
       "      <td>...</td>\n",
       "      <td>...</td>\n",
       "      <td>...</td>\n",
       "      <td>...</td>\n",
       "    </tr>\n",
       "    <tr>\n",
       "      <th>415</th>\n",
       "      <td>[0, 95, 310, 410, 570, 878]</td>\n",
       "      <td>389</td>\n",
       "      <td>[0, 95, 310, 410, 878]</td>\n",
       "      <td>[[2015-01-01, 2015-10-10], [2015-10-13, 2017-0...</td>\n",
       "      <td>[a, b, a]</td>\n",
       "      <td>reception</td>\n",
       "    </tr>\n",
       "    <tr>\n",
       "      <th>416</th>\n",
       "      <td>[0, 185, 275, 605]</td>\n",
       "      <td>389</td>\n",
       "      <td>[0, 275, 605]</td>\n",
       "      <td>[[2017-04-23, 2017-09-07], [2017-09-08, 2020-0...</td>\n",
       "      <td>[b]</td>\n",
       "      <td>pool</td>\n",
       "    </tr>\n",
       "    <tr>\n",
       "      <th>417</th>\n",
       "      <td>[0, 20, 50]</td>\n",
       "      <td>389</td>\n",
       "      <td>[0, 20, 50]</td>\n",
       "      <td>[[2015-09-08, 2018-11-09], [2018-11-18, 2020-0...</td>\n",
       "      <td>[a]</td>\n",
       "      <td>renovation_room</td>\n",
       "    </tr>\n",
       "    <tr>\n",
       "      <th>418</th>\n",
       "      <td>[0, 160, 640, 662]</td>\n",
       "      <td>389</td>\n",
       "      <td>[0, 160, 640, 662]</td>\n",
       "      <td>[[2015-01-01, 2017-03-30], [2017-03-31, 2020-0...</td>\n",
       "      <td>[a, b]</td>\n",
       "      <td>restaurant</td>\n",
       "    </tr>\n",
       "    <tr>\n",
       "      <th>419</th>\n",
       "      <td>[0, 155, 230, 781]</td>\n",
       "      <td>389</td>\n",
       "      <td>[0, 155, 230, 781]</td>\n",
       "      <td>[[2015-01-01, 2016-10-13], [2016-10-14, 2017-0...</td>\n",
       "      <td>[a, a]</td>\n",
       "      <td>room</td>\n",
       "    </tr>\n",
       "  </tbody>\n",
       "</table>\n",
       "<p>356 rows × 6 columns</p>\n",
       "</div>"
      ],
      "text/plain": [
       "                                    cpts  hotel_id              valid_cpts  \\\n",
       "0                          [0, 485, 912]       260           [0, 485, 912]   \n",
       "2                            [0, 45, 86]       260             [0, 45, 86]   \n",
       "3    [0, 75, 885, 990, 1085, 1105, 1373]       260      [0, 75, 885, 1373]   \n",
       "4              [0, 135, 780, 1040, 1272]       260         [0, 1040, 1272]   \n",
       "5                         [0, 885, 2140]       110          [0, 885, 2140]   \n",
       "..                                   ...       ...                     ...   \n",
       "415          [0, 95, 310, 410, 570, 878]       389  [0, 95, 310, 410, 878]   \n",
       "416                   [0, 185, 275, 605]       389           [0, 275, 605]   \n",
       "417                          [0, 20, 50]       389             [0, 20, 50]   \n",
       "418                   [0, 160, 640, 662]       389      [0, 160, 640, 662]   \n",
       "419                   [0, 155, 230, 781]       389      [0, 155, 230, 781]   \n",
       "\n",
       "                                           valid_dates valid_labels  \\\n",
       "0    [[2015-01-01, 2017-06-25], [2017-06-28, 2020-0...          [a]   \n",
       "2    [[2015-01-03, 2018-07-17], [2018-09-07, 2020-0...          [a]   \n",
       "3    [[2015-01-01, 2015-04-03], [2015-04-04, 2018-0...       [a, a]   \n",
       "4    [[2017-10-26, 2019-03-09], [2019-03-12, 2020-0...          [b]   \n",
       "5    [[2015-01-04, 2018-06-25 04:12:47], [2018-06-2...          [a]   \n",
       "..                                                 ...          ...   \n",
       "415  [[2015-01-01, 2015-10-10], [2015-10-13, 2017-0...    [a, b, a]   \n",
       "416  [[2017-04-23, 2017-09-07], [2017-09-08, 2020-0...          [b]   \n",
       "417  [[2015-09-08, 2018-11-09], [2018-11-18, 2020-0...          [a]   \n",
       "418  [[2015-01-01, 2017-03-30], [2017-03-31, 2020-0...       [a, b]   \n",
       "419  [[2015-01-01, 2016-10-13], [2016-10-14, 2017-0...       [a, a]   \n",
       "\n",
       "            category  \n",
       "0           facility  \n",
       "2    renovation_room  \n",
       "3         restaurant  \n",
       "4               room  \n",
       "5           facility  \n",
       "..               ...  \n",
       "415        reception  \n",
       "416             pool  \n",
       "417  renovation_room  \n",
       "418       restaurant  \n",
       "419             room  \n",
       "\n",
       "[356 rows x 6 columns]"
      ]
     },
     "execution_count": 39,
     "metadata": {},
     "output_type": "execute_result"
    }
   ],
   "source": [
    "gold_cpt_df"
   ]
  },
  {
   "cell_type": "code",
   "execution_count": 44,
   "metadata": {},
   "outputs": [],
   "source": [
    "cat_cpt_dict = defaultdict(list)\n",
    "\n",
    "for c, vls in zip(gold_cpt_df['category'].to_list(), gold_cpt_df['valid_labels'].to_list()):\n",
    "    cat_cpt_dict[c].append(vls)"
   ]
  },
  {
   "cell_type": "code",
   "execution_count": 48,
   "metadata": {},
   "outputs": [],
   "source": [
    "from itertools import chain\n",
    "\n",
    "cat_cpts = dict()\n",
    "\n",
    "for c, cl in cat_cpt_dict.items():\n",
    "    cat_cpts[c] = list(chain.from_iterable(cl))"
   ]
  },
  {
   "cell_type": "code",
   "execution_count": 54,
   "metadata": {},
   "outputs": [
    {
     "name": "stdout",
     "output_type": "stream",
     "text": [
      "facility Counter({'a': 37, 'b': 33})\n",
      "renovation_room Counter({'a': 43, 'b': 7})\n",
      "restaurant Counter({'b': 43, 'a': 40})\n",
      "room Counter({'b': 62, 'a': 54})\n",
      "reception Counter({'a': 39, 'b': 35})\n",
      "pool Counter({'a': 31, 'b': 19})\n"
     ]
    }
   ],
   "source": [
    "for cate, cpts in cat_cpts.items():\n",
    "    print(cate, Counter(cpts))"
   ]
  },
  {
   "cell_type": "code",
   "execution_count": null,
   "metadata": {},
   "outputs": [],
   "source": []
  }
 ],
 "metadata": {
  "kernelspec": {
   "display_name": "cpd",
   "language": "python",
   "name": "cdp"
  },
  "language_info": {
   "codemirror_mode": {
    "name": "ipython",
    "version": 3
   },
   "file_extension": ".py",
   "mimetype": "text/x-python",
   "name": "python",
   "nbconvert_exporter": "python",
   "pygments_lexer": "ipython3",
   "version": "3.7.6"
  }
 },
 "nbformat": 4,
 "nbformat_minor": 4
}
