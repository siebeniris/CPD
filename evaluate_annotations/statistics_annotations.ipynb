{
 "cells": [
  {
   "cell_type": "code",
   "execution_count": 59,
   "metadata": {},
   "outputs": [],
   "source": [
    "import pandas as pd\n",
    "import numpy as np\n",
    "import glob\n",
    "import seaborn as sns\n",
    "import matplotlib\n",
    "import matplotlib.pyplot as plt\n",
    "from scipy import stats\n",
    "import json\n",
    "from collections import defaultdict, Counter\n",
    "%matplotlib inline"
   ]
  },
  {
   "cell_type": "code",
   "execution_count": 62,
   "metadata": {},
   "outputs": [],
   "source": [
    "cpts_df = pd.read_csv('preprocessed_data/annotated_cpts_df.csv', index_col=0)"
   ]
  },
  {
   "cell_type": "code",
   "execution_count": 63,
   "metadata": {},
   "outputs": [],
   "source": [
    "cpts_df['gold']= cpts_df[['a','b','c']].idxmax(axis=1)"
   ]
  },
  {
   "cell_type": "code",
   "execution_count": 64,
   "metadata": {},
   "outputs": [
    {
     "data": {
      "text/html": [
       "<div>\n",
       "<style scoped>\n",
       "    .dataframe tbody tr th:only-of-type {\n",
       "        vertical-align: middle;\n",
       "    }\n",
       "\n",
       "    .dataframe tbody tr th {\n",
       "        vertical-align: top;\n",
       "    }\n",
       "\n",
       "    .dataframe thead th {\n",
       "        text-align: right;\n",
       "    }\n",
       "</style>\n",
       "<table border=\"1\" class=\"dataframe\">\n",
       "  <thead>\n",
       "    <tr style=\"text-align: right;\">\n",
       "      <th></th>\n",
       "      <th>a</th>\n",
       "      <th>b</th>\n",
       "      <th>c</th>\n",
       "      <th>Total</th>\n",
       "      <th>category</th>\n",
       "      <th>hotel_id</th>\n",
       "      <th>fileId</th>\n",
       "      <th>iId</th>\n",
       "      <th>gold</th>\n",
       "    </tr>\n",
       "  </thead>\n",
       "  <tbody>\n",
       "    <tr>\n",
       "      <th>0_0</th>\n",
       "      <td>2</td>\n",
       "      <td>0</td>\n",
       "      <td>1</td>\n",
       "      <td>3</td>\n",
       "      <td>facility</td>\n",
       "      <td>260</td>\n",
       "      <td>0</td>\n",
       "      <td>0</td>\n",
       "      <td>a</td>\n",
       "    </tr>\n",
       "    <tr>\n",
       "      <th>1_0</th>\n",
       "      <td>0</td>\n",
       "      <td>0</td>\n",
       "      <td>2</td>\n",
       "      <td>2</td>\n",
       "      <td>pool</td>\n",
       "      <td>260</td>\n",
       "      <td>1</td>\n",
       "      <td>0</td>\n",
       "      <td>c</td>\n",
       "    </tr>\n",
       "    <tr>\n",
       "      <th>2_0</th>\n",
       "      <td>2</td>\n",
       "      <td>0</td>\n",
       "      <td>1</td>\n",
       "      <td>3</td>\n",
       "      <td>renovation_room</td>\n",
       "      <td>260</td>\n",
       "      <td>2</td>\n",
       "      <td>0</td>\n",
       "      <td>a</td>\n",
       "    </tr>\n",
       "    <tr>\n",
       "      <th>3_0</th>\n",
       "      <td>2</td>\n",
       "      <td>0</td>\n",
       "      <td>1</td>\n",
       "      <td>3</td>\n",
       "      <td>restaurant</td>\n",
       "      <td>260</td>\n",
       "      <td>3</td>\n",
       "      <td>0</td>\n",
       "      <td>a</td>\n",
       "    </tr>\n",
       "    <tr>\n",
       "      <th>3_1</th>\n",
       "      <td>2</td>\n",
       "      <td>0</td>\n",
       "      <td>1</td>\n",
       "      <td>3</td>\n",
       "      <td>restaurant</td>\n",
       "      <td>260</td>\n",
       "      <td>3</td>\n",
       "      <td>1</td>\n",
       "      <td>a</td>\n",
       "    </tr>\n",
       "  </tbody>\n",
       "</table>\n",
       "</div>"
      ],
      "text/plain": [
       "     a  b  c  Total         category  hotel_id  fileId  iId gold\n",
       "0_0  2  0  1      3         facility       260       0    0    a\n",
       "1_0  0  0  2      2             pool       260       1    0    c\n",
       "2_0  2  0  1      3  renovation_room       260       2    0    a\n",
       "3_0  2  0  1      3       restaurant       260       3    0    a\n",
       "3_1  2  0  1      3       restaurant       260       3    1    a"
      ]
     },
     "execution_count": 64,
     "metadata": {},
     "output_type": "execute_result"
    }
   ],
   "source": [
    "cpts_df.head()"
   ]
  },
  {
   "cell_type": "code",
   "execution_count": 101,
   "metadata": {},
   "outputs": [],
   "source": [
    "# annotated more than twice\n",
    "\n",
    "cpts_2 = cpts_df[cpts_df['Total']>=2]"
   ]
  },
  {
   "cell_type": "code",
   "execution_count": 103,
   "metadata": {},
   "outputs": [],
   "source": [
    "cg = defaultdict(list)\n",
    "for c, g in zip(cpts_2['category'], cpts_2['gold']):\n",
    "    cg[c].append(g)"
   ]
  },
  {
   "cell_type": "code",
   "execution_count": 104,
   "metadata": {},
   "outputs": [],
   "source": [
    "cgcounter = {}\n",
    "for c,g in cg.items():\n",
    "    cgcounter[c] = (Counter(g), sum(Counter(g).values()))"
   ]
  },
  {
   "cell_type": "code",
   "execution_count": 105,
   "metadata": {},
   "outputs": [
    {
     "data": {
      "text/plain": [
       "{'facility': (Counter({'a': 36, 'b': 33, 'c': 13}), 82),\n",
       " 'pool': (Counter({'c': 15, 'a': 33, 'b': 19}), 67),\n",
       " 'renovation_room': (Counter({'a': 43, 'b': 7, 'c': 5}), 55),\n",
       " 'restaurant': (Counter({'a': 43, 'c': 32, 'b': 42}), 117),\n",
       " 'room': (Counter({'c': 32, 'b': 62, 'a': 54}), 148),\n",
       " 'reception': (Counter({'b': 36, 'c': 35, 'a': 37}), 108)}"
      ]
     },
     "execution_count": 105,
     "metadata": {},
     "output_type": "execute_result"
    }
   ],
   "source": [
    "cgcounter"
   ]
  },
  {
   "cell_type": "code",
   "execution_count": 108,
   "metadata": {},
   "outputs": [
    {
     "data": {
      "text/plain": [
       "(246, 199, 132)"
      ]
     },
     "execution_count": 108,
     "metadata": {},
     "output_type": "execute_result"
    }
   ],
   "source": [
    "a,b,c =0,0,0\n",
    "for cat, de in cgcounter.items():\n",
    "    d , _ = de\n",
    "    a+=d['a']\n",
    "    b+=d['b']\n",
    "    c+=d['c']\n",
    "    \n",
    "a,b,c"
   ]
  },
  {
   "cell_type": "code",
   "execution_count": 65,
   "metadata": {},
   "outputs": [],
   "source": [
    "cat_gold= defaultdict(list)\n",
    "for cat, g in zip(cpts_df['category'], cpts_df['gold']):\n",
    "    cat_gold[cat].append(g)"
   ]
  },
  {
   "cell_type": "code",
   "execution_count": 66,
   "metadata": {},
   "outputs": [],
   "source": [
    "cat_gold_counter = {}\n",
    "for cat, l in cat_gold.items():\n",
    "    cat_gold_counter[cat]= (Counter(l), sum(Counter(l).values()))"
   ]
  },
  {
   "cell_type": "code",
   "execution_count": 67,
   "metadata": {},
   "outputs": [
    {
     "data": {
      "text/plain": [
       "(251, 200, 134)"
      ]
     },
     "execution_count": 67,
     "metadata": {},
     "output_type": "execute_result"
    }
   ],
   "source": [
    "a, b , c=0,0,0\n",
    "for cat, de in cat_gold_counter.items():\n",
    "    d , _ = de\n",
    "    a+=d['a']\n",
    "    b+=d['b']\n",
    "    c+=d['c']\n",
    "    \n",
    "a,b,c"
   ]
  },
  {
   "cell_type": "code",
   "execution_count": 68,
   "metadata": {},
   "outputs": [],
   "source": [
    "cpts_per_file={}\n",
    "for key, group in cpts_df.groupby('fileId'):\n",
    "    cpts_per_file[key]=len(group)"
   ]
  },
  {
   "cell_type": "code",
   "execution_count": 69,
   "metadata": {},
   "outputs": [
    {
     "data": {
      "text/plain": [
       "585"
      ]
     },
     "execution_count": 69,
     "metadata": {},
     "output_type": "execute_result"
    }
   ],
   "source": [
    "sum(cpts_per_file.values())"
   ]
  },
  {
   "cell_type": "code",
   "execution_count": 70,
   "metadata": {},
   "outputs": [
    {
     "data": {
      "text/plain": [
       "1.5077319587628866"
      ]
     },
     "execution_count": 70,
     "metadata": {},
     "output_type": "execute_result"
    }
   ],
   "source": [
    "np.mean(list(cpts_per_file.values()))"
   ]
  },
  {
   "cell_type": "code",
   "execution_count": 71,
   "metadata": {},
   "outputs": [
    {
     "data": {
      "text/plain": [
       "Counter({1: 252, 5: 3, 3: 36, 2: 90, 4: 6, 6: 1})"
      ]
     },
     "execution_count": 71,
     "metadata": {},
     "output_type": "execute_result"
    }
   ],
   "source": [
    "Counter(list(cpts_per_file.values()))"
   ]
  },
  {
   "cell_type": "code",
   "execution_count": 73,
   "metadata": {},
   "outputs": [
    {
     "data": {
      "text/html": [
       "<div>\n",
       "<style scoped>\n",
       "    .dataframe tbody tr th:only-of-type {\n",
       "        vertical-align: middle;\n",
       "    }\n",
       "\n",
       "    .dataframe tbody tr th {\n",
       "        vertical-align: top;\n",
       "    }\n",
       "\n",
       "    .dataframe thead th {\n",
       "        text-align: right;\n",
       "    }\n",
       "</style>\n",
       "<table border=\"1\" class=\"dataframe\">\n",
       "  <thead>\n",
       "    <tr style=\"text-align: right;\">\n",
       "      <th></th>\n",
       "      <th>yes-sentiment</th>\n",
       "      <th>yes-aspect</th>\n",
       "      <th>no-sentiment</th>\n",
       "      <th>no-aspect</th>\n",
       "      <th>category</th>\n",
       "      <th>hotel_id</th>\n",
       "      <th>cpt</th>\n",
       "      <th>Total</th>\n",
       "      <th>fileId</th>\n",
       "      <th>iId</th>\n",
       "    </tr>\n",
       "  </thead>\n",
       "  <tbody>\n",
       "    <tr>\n",
       "      <th>0_0</th>\n",
       "      <td>2</td>\n",
       "      <td>2</td>\n",
       "      <td>0</td>\n",
       "      <td>0</td>\n",
       "      <td>facility</td>\n",
       "      <td>260</td>\n",
       "      <td>0</td>\n",
       "      <td>4</td>\n",
       "      <td>0</td>\n",
       "      <td>0</td>\n",
       "    </tr>\n",
       "    <tr>\n",
       "      <th>0_2</th>\n",
       "      <td>2</td>\n",
       "      <td>2</td>\n",
       "      <td>0</td>\n",
       "      <td>0</td>\n",
       "      <td>facility</td>\n",
       "      <td>260</td>\n",
       "      <td>0</td>\n",
       "      <td>4</td>\n",
       "      <td>0</td>\n",
       "      <td>2</td>\n",
       "    </tr>\n",
       "    <tr>\n",
       "      <th>0_3</th>\n",
       "      <td>2</td>\n",
       "      <td>2</td>\n",
       "      <td>0</td>\n",
       "      <td>0</td>\n",
       "      <td>facility</td>\n",
       "      <td>260</td>\n",
       "      <td>0</td>\n",
       "      <td>4</td>\n",
       "      <td>0</td>\n",
       "      <td>3</td>\n",
       "    </tr>\n",
       "    <tr>\n",
       "      <th>0_4</th>\n",
       "      <td>0</td>\n",
       "      <td>2</td>\n",
       "      <td>2</td>\n",
       "      <td>0</td>\n",
       "      <td>facility</td>\n",
       "      <td>260</td>\n",
       "      <td>0</td>\n",
       "      <td>4</td>\n",
       "      <td>0</td>\n",
       "      <td>4</td>\n",
       "    </tr>\n",
       "    <tr>\n",
       "      <th>0_5</th>\n",
       "      <td>2</td>\n",
       "      <td>2</td>\n",
       "      <td>0</td>\n",
       "      <td>0</td>\n",
       "      <td>facility</td>\n",
       "      <td>260</td>\n",
       "      <td>0</td>\n",
       "      <td>4</td>\n",
       "      <td>0</td>\n",
       "      <td>5</td>\n",
       "    </tr>\n",
       "  </tbody>\n",
       "</table>\n",
       "</div>"
      ],
      "text/plain": [
       "     yes-sentiment  yes-aspect  no-sentiment  no-aspect  category  hotel_id  \\\n",
       "0_0              2           2             0          0  facility       260   \n",
       "0_2              2           2             0          0  facility       260   \n",
       "0_3              2           2             0          0  facility       260   \n",
       "0_4              0           2             2          0  facility       260   \n",
       "0_5              2           2             0          0  facility       260   \n",
       "\n",
       "     cpt  Total  fileId  iId  \n",
       "0_0    0      4       0    0  \n",
       "0_2    0      4       0    2  \n",
       "0_3    0      4       0    3  \n",
       "0_4    0      4       0    4  \n",
       "0_5    0      4       0    5  "
      ]
     },
     "execution_count": 73,
     "metadata": {},
     "output_type": "execute_result"
    }
   ],
   "source": [
    "sents_df = pd.read_csv('preprocessed_data/annotated_sentences_df.csv', index_col=0)\n",
    "sents_df.head()"
   ]
  },
  {
   "cell_type": "code",
   "execution_count": 74,
   "metadata": {},
   "outputs": [],
   "source": [
    "def gold_aspect(row):\n",
    "    if row['no-aspect']!=0:\n",
    "        return False\n",
    "    else:\n",
    "        return True\n",
    "\n",
    "def gold_sentiment(row):\n",
    "    if row['no-sentiment']!=0:\n",
    "        return False\n",
    "    else:\n",
    "        return True"
   ]
  },
  {
   "cell_type": "code",
   "execution_count": 76,
   "metadata": {},
   "outputs": [],
   "source": [
    "sents_df['gold_aspect']= sents_df.apply(gold_aspect, axis=1)"
   ]
  },
  {
   "cell_type": "code",
   "execution_count": 84,
   "metadata": {},
   "outputs": [],
   "source": [
    "sents_df['gold_sentiment']= sents_df.apply(gold_sentiment, axis=1)"
   ]
  },
  {
   "cell_type": "code",
   "execution_count": 78,
   "metadata": {},
   "outputs": [
    {
     "data": {
      "text/html": [
       "<div>\n",
       "<style scoped>\n",
       "    .dataframe tbody tr th:only-of-type {\n",
       "        vertical-align: middle;\n",
       "    }\n",
       "\n",
       "    .dataframe tbody tr th {\n",
       "        vertical-align: top;\n",
       "    }\n",
       "\n",
       "    .dataframe thead th {\n",
       "        text-align: right;\n",
       "    }\n",
       "</style>\n",
       "<table border=\"1\" class=\"dataframe\">\n",
       "  <thead>\n",
       "    <tr style=\"text-align: right;\">\n",
       "      <th></th>\n",
       "      <th>yes-sentiment</th>\n",
       "      <th>yes-aspect</th>\n",
       "      <th>no-sentiment</th>\n",
       "      <th>no-aspect</th>\n",
       "      <th>category</th>\n",
       "      <th>hotel_id</th>\n",
       "      <th>cpt</th>\n",
       "      <th>Total</th>\n",
       "      <th>fileId</th>\n",
       "      <th>iId</th>\n",
       "      <th>gold_aspect</th>\n",
       "      <th>gold_sentiment</th>\n",
       "    </tr>\n",
       "  </thead>\n",
       "  <tbody>\n",
       "    <tr>\n",
       "      <th>1_9</th>\n",
       "      <td>1</td>\n",
       "      <td>2</td>\n",
       "      <td>1</td>\n",
       "      <td>0</td>\n",
       "      <td>pool</td>\n",
       "      <td>260</td>\n",
       "      <td>0</td>\n",
       "      <td>4</td>\n",
       "      <td>1</td>\n",
       "      <td>9</td>\n",
       "      <td>True</td>\n",
       "      <td>False</td>\n",
       "    </tr>\n",
       "    <tr>\n",
       "      <th>2_0</th>\n",
       "      <td>1</td>\n",
       "      <td>0</td>\n",
       "      <td>1</td>\n",
       "      <td>2</td>\n",
       "      <td>renovation_room</td>\n",
       "      <td>260</td>\n",
       "      <td>0</td>\n",
       "      <td>4</td>\n",
       "      <td>2</td>\n",
       "      <td>0</td>\n",
       "      <td>False</td>\n",
       "      <td>False</td>\n",
       "    </tr>\n",
       "    <tr>\n",
       "      <th>2_1</th>\n",
       "      <td>1</td>\n",
       "      <td>1</td>\n",
       "      <td>1</td>\n",
       "      <td>1</td>\n",
       "      <td>renovation_room</td>\n",
       "      <td>260</td>\n",
       "      <td>0</td>\n",
       "      <td>4</td>\n",
       "      <td>2</td>\n",
       "      <td>1</td>\n",
       "      <td>False</td>\n",
       "      <td>False</td>\n",
       "    </tr>\n",
       "    <tr>\n",
       "      <th>2_2</th>\n",
       "      <td>1</td>\n",
       "      <td>2</td>\n",
       "      <td>1</td>\n",
       "      <td>0</td>\n",
       "      <td>renovation_room</td>\n",
       "      <td>260</td>\n",
       "      <td>0</td>\n",
       "      <td>4</td>\n",
       "      <td>2</td>\n",
       "      <td>2</td>\n",
       "      <td>True</td>\n",
       "      <td>False</td>\n",
       "    </tr>\n",
       "    <tr>\n",
       "      <th>2_3</th>\n",
       "      <td>1</td>\n",
       "      <td>2</td>\n",
       "      <td>1</td>\n",
       "      <td>0</td>\n",
       "      <td>renovation_room</td>\n",
       "      <td>260</td>\n",
       "      <td>0</td>\n",
       "      <td>4</td>\n",
       "      <td>2</td>\n",
       "      <td>3</td>\n",
       "      <td>True</td>\n",
       "      <td>False</td>\n",
       "    </tr>\n",
       "    <tr>\n",
       "      <th>...</th>\n",
       "      <td>...</td>\n",
       "      <td>...</td>\n",
       "      <td>...</td>\n",
       "      <td>...</td>\n",
       "      <td>...</td>\n",
       "      <td>...</td>\n",
       "      <td>...</td>\n",
       "      <td>...</td>\n",
       "      <td>...</td>\n",
       "      <td>...</td>\n",
       "      <td>...</td>\n",
       "      <td>...</td>\n",
       "    </tr>\n",
       "    <tr>\n",
       "      <th>419_9</th>\n",
       "      <td>1</td>\n",
       "      <td>1</td>\n",
       "      <td>1</td>\n",
       "      <td>1</td>\n",
       "      <td>room</td>\n",
       "      <td>389</td>\n",
       "      <td>0</td>\n",
       "      <td>4</td>\n",
       "      <td>419</td>\n",
       "      <td>9</td>\n",
       "      <td>False</td>\n",
       "      <td>False</td>\n",
       "    </tr>\n",
       "    <tr>\n",
       "      <th>419_10</th>\n",
       "      <td>1</td>\n",
       "      <td>0</td>\n",
       "      <td>1</td>\n",
       "      <td>2</td>\n",
       "      <td>room</td>\n",
       "      <td>389</td>\n",
       "      <td>1</td>\n",
       "      <td>4</td>\n",
       "      <td>419</td>\n",
       "      <td>10</td>\n",
       "      <td>False</td>\n",
       "      <td>False</td>\n",
       "    </tr>\n",
       "    <tr>\n",
       "      <th>419_13</th>\n",
       "      <td>1</td>\n",
       "      <td>1</td>\n",
       "      <td>1</td>\n",
       "      <td>1</td>\n",
       "      <td>room</td>\n",
       "      <td>389</td>\n",
       "      <td>1</td>\n",
       "      <td>4</td>\n",
       "      <td>419</td>\n",
       "      <td>13</td>\n",
       "      <td>False</td>\n",
       "      <td>False</td>\n",
       "    </tr>\n",
       "    <tr>\n",
       "      <th>419_15</th>\n",
       "      <td>1</td>\n",
       "      <td>2</td>\n",
       "      <td>1</td>\n",
       "      <td>0</td>\n",
       "      <td>room</td>\n",
       "      <td>389</td>\n",
       "      <td>1</td>\n",
       "      <td>4</td>\n",
       "      <td>419</td>\n",
       "      <td>15</td>\n",
       "      <td>True</td>\n",
       "      <td>False</td>\n",
       "    </tr>\n",
       "    <tr>\n",
       "      <th>419_23</th>\n",
       "      <td>1</td>\n",
       "      <td>0</td>\n",
       "      <td>1</td>\n",
       "      <td>2</td>\n",
       "      <td>room</td>\n",
       "      <td>389</td>\n",
       "      <td>2</td>\n",
       "      <td>4</td>\n",
       "      <td>419</td>\n",
       "      <td>23</td>\n",
       "      <td>False</td>\n",
       "      <td>False</td>\n",
       "    </tr>\n",
       "  </tbody>\n",
       "</table>\n",
       "<p>2334 rows × 12 columns</p>\n",
       "</div>"
      ],
      "text/plain": [
       "        yes-sentiment  yes-aspect  no-sentiment  no-aspect         category  \\\n",
       "1_9                 1           2             1          0             pool   \n",
       "2_0                 1           0             1          2  renovation_room   \n",
       "2_1                 1           1             1          1  renovation_room   \n",
       "2_2                 1           2             1          0  renovation_room   \n",
       "2_3                 1           2             1          0  renovation_room   \n",
       "...               ...         ...           ...        ...              ...   \n",
       "419_9               1           1             1          1             room   \n",
       "419_10              1           0             1          2             room   \n",
       "419_13              1           1             1          1             room   \n",
       "419_15              1           2             1          0             room   \n",
       "419_23              1           0             1          2             room   \n",
       "\n",
       "        hotel_id  cpt  Total  fileId  iId  gold_aspect  gold_sentiment  \n",
       "1_9          260    0      4       1    9         True           False  \n",
       "2_0          260    0      4       2    0        False           False  \n",
       "2_1          260    0      4       2    1        False           False  \n",
       "2_2          260    0      4       2    2         True           False  \n",
       "2_3          260    0      4       2    3         True           False  \n",
       "...          ...  ...    ...     ...  ...          ...             ...  \n",
       "419_9        389    0      4     419    9        False           False  \n",
       "419_10       389    1      4     419   10        False           False  \n",
       "419_13       389    1      4     419   13        False           False  \n",
       "419_15       389    1      4     419   15         True           False  \n",
       "419_23       389    2      4     419   23        False           False  \n",
       "\n",
       "[2334 rows x 12 columns]"
      ]
     },
     "execution_count": 78,
     "metadata": {},
     "output_type": "execute_result"
    }
   ],
   "source": [
    "sents_df[sents_df['no-sentiment']==1]"
   ]
  },
  {
   "cell_type": "code",
   "execution_count": 85,
   "metadata": {},
   "outputs": [
    {
     "data": {
      "text/plain": [
       "Counter({'facility': 1453,\n",
       "         'pool': 1231,\n",
       "         'renovation_room': 1077,\n",
       "         'restaurant': 1761,\n",
       "         'room': 2216,\n",
       "         'reception': 1658})"
      ]
     },
     "execution_count": 85,
     "metadata": {},
     "output_type": "execute_result"
    }
   ],
   "source": [
    "Counter(sents_df.category.to_list())"
   ]
  },
  {
   "cell_type": "code",
   "execution_count": 109,
   "metadata": {},
   "outputs": [
    {
     "data": {
      "text/html": [
       "<div>\n",
       "<style scoped>\n",
       "    .dataframe tbody tr th:only-of-type {\n",
       "        vertical-align: middle;\n",
       "    }\n",
       "\n",
       "    .dataframe tbody tr th {\n",
       "        vertical-align: top;\n",
       "    }\n",
       "\n",
       "    .dataframe thead th {\n",
       "        text-align: right;\n",
       "    }\n",
       "</style>\n",
       "<table border=\"1\" class=\"dataframe\">\n",
       "  <thead>\n",
       "    <tr style=\"text-align: right;\">\n",
       "      <th></th>\n",
       "      <th>yes-sentiment</th>\n",
       "      <th>yes-aspect</th>\n",
       "      <th>no-sentiment</th>\n",
       "      <th>no-aspect</th>\n",
       "      <th>category</th>\n",
       "      <th>hotel_id</th>\n",
       "      <th>cpt</th>\n",
       "      <th>Total</th>\n",
       "      <th>fileId</th>\n",
       "      <th>iId</th>\n",
       "      <th>gold_aspect</th>\n",
       "      <th>gold_sentiment</th>\n",
       "    </tr>\n",
       "  </thead>\n",
       "  <tbody>\n",
       "    <tr>\n",
       "      <th>0_0</th>\n",
       "      <td>2</td>\n",
       "      <td>2</td>\n",
       "      <td>0</td>\n",
       "      <td>0</td>\n",
       "      <td>facility</td>\n",
       "      <td>260</td>\n",
       "      <td>0</td>\n",
       "      <td>4</td>\n",
       "      <td>0</td>\n",
       "      <td>0</td>\n",
       "      <td>True</td>\n",
       "      <td>True</td>\n",
       "    </tr>\n",
       "    <tr>\n",
       "      <th>0_2</th>\n",
       "      <td>2</td>\n",
       "      <td>2</td>\n",
       "      <td>0</td>\n",
       "      <td>0</td>\n",
       "      <td>facility</td>\n",
       "      <td>260</td>\n",
       "      <td>0</td>\n",
       "      <td>4</td>\n",
       "      <td>0</td>\n",
       "      <td>2</td>\n",
       "      <td>True</td>\n",
       "      <td>True</td>\n",
       "    </tr>\n",
       "    <tr>\n",
       "      <th>0_3</th>\n",
       "      <td>2</td>\n",
       "      <td>2</td>\n",
       "      <td>0</td>\n",
       "      <td>0</td>\n",
       "      <td>facility</td>\n",
       "      <td>260</td>\n",
       "      <td>0</td>\n",
       "      <td>4</td>\n",
       "      <td>0</td>\n",
       "      <td>3</td>\n",
       "      <td>True</td>\n",
       "      <td>True</td>\n",
       "    </tr>\n",
       "    <tr>\n",
       "      <th>0_4</th>\n",
       "      <td>0</td>\n",
       "      <td>2</td>\n",
       "      <td>2</td>\n",
       "      <td>0</td>\n",
       "      <td>facility</td>\n",
       "      <td>260</td>\n",
       "      <td>0</td>\n",
       "      <td>4</td>\n",
       "      <td>0</td>\n",
       "      <td>4</td>\n",
       "      <td>True</td>\n",
       "      <td>False</td>\n",
       "    </tr>\n",
       "    <tr>\n",
       "      <th>0_5</th>\n",
       "      <td>2</td>\n",
       "      <td>2</td>\n",
       "      <td>0</td>\n",
       "      <td>0</td>\n",
       "      <td>facility</td>\n",
       "      <td>260</td>\n",
       "      <td>0</td>\n",
       "      <td>4</td>\n",
       "      <td>0</td>\n",
       "      <td>5</td>\n",
       "      <td>True</td>\n",
       "      <td>True</td>\n",
       "    </tr>\n",
       "  </tbody>\n",
       "</table>\n",
       "</div>"
      ],
      "text/plain": [
       "     yes-sentiment  yes-aspect  no-sentiment  no-aspect  category  hotel_id  \\\n",
       "0_0              2           2             0          0  facility       260   \n",
       "0_2              2           2             0          0  facility       260   \n",
       "0_3              2           2             0          0  facility       260   \n",
       "0_4              0           2             2          0  facility       260   \n",
       "0_5              2           2             0          0  facility       260   \n",
       "\n",
       "     cpt  Total  fileId  iId  gold_aspect  gold_sentiment  \n",
       "0_0    0      4       0    0         True            True  \n",
       "0_2    0      4       0    2         True            True  \n",
       "0_3    0      4       0    3         True            True  \n",
       "0_4    0      4       0    4         True           False  \n",
       "0_5    0      4       0    5         True            True  "
      ]
     },
     "execution_count": 109,
     "metadata": {},
     "output_type": "execute_result"
    }
   ],
   "source": [
    "sents_df.head()"
   ]
  },
  {
   "cell_type": "code",
   "execution_count": 110,
   "metadata": {},
   "outputs": [],
   "source": [
    "sents_df['total-sentiment'] = sents_df['yes-sentiment']+sents_df['no-sentiment']\n",
    "sents_df['total-aspect'] = sents_df['yes-aspect']+sents_df['no-aspect']"
   ]
  },
  {
   "cell_type": "code",
   "execution_count": 116,
   "metadata": {},
   "outputs": [],
   "source": [
    "sents_aspect = sents_df[sents_df['total-aspect']>=2]"
   ]
  },
  {
   "cell_type": "code",
   "execution_count": 117,
   "metadata": {},
   "outputs": [],
   "source": [
    "sents_sentiment = sents_df[sents_df['total-sentiment']>=2]"
   ]
  },
  {
   "cell_type": "code",
   "execution_count": 121,
   "metadata": {},
   "outputs": [
    {
     "data": {
      "text/html": [
       "<div>\n",
       "<style scoped>\n",
       "    .dataframe tbody tr th:only-of-type {\n",
       "        vertical-align: middle;\n",
       "    }\n",
       "\n",
       "    .dataframe tbody tr th {\n",
       "        vertical-align: top;\n",
       "    }\n",
       "\n",
       "    .dataframe thead th {\n",
       "        text-align: right;\n",
       "    }\n",
       "</style>\n",
       "<table border=\"1\" class=\"dataframe\">\n",
       "  <thead>\n",
       "    <tr style=\"text-align: right;\">\n",
       "      <th></th>\n",
       "      <th>yes-sentiment</th>\n",
       "      <th>yes-aspect</th>\n",
       "      <th>no-sentiment</th>\n",
       "      <th>no-aspect</th>\n",
       "      <th>category</th>\n",
       "      <th>hotel_id</th>\n",
       "      <th>cpt</th>\n",
       "      <th>Total</th>\n",
       "      <th>fileId</th>\n",
       "      <th>iId</th>\n",
       "      <th>gold_aspect</th>\n",
       "      <th>gold_sentiment</th>\n",
       "      <th>total-sentiment</th>\n",
       "      <th>total-aspect</th>\n",
       "    </tr>\n",
       "  </thead>\n",
       "  <tbody>\n",
       "    <tr>\n",
       "      <th>0_0</th>\n",
       "      <td>2</td>\n",
       "      <td>2</td>\n",
       "      <td>0</td>\n",
       "      <td>0</td>\n",
       "      <td>facility</td>\n",
       "      <td>260</td>\n",
       "      <td>0</td>\n",
       "      <td>4</td>\n",
       "      <td>0</td>\n",
       "      <td>0</td>\n",
       "      <td>True</td>\n",
       "      <td>True</td>\n",
       "      <td>2</td>\n",
       "      <td>2</td>\n",
       "    </tr>\n",
       "    <tr>\n",
       "      <th>0_2</th>\n",
       "      <td>2</td>\n",
       "      <td>2</td>\n",
       "      <td>0</td>\n",
       "      <td>0</td>\n",
       "      <td>facility</td>\n",
       "      <td>260</td>\n",
       "      <td>0</td>\n",
       "      <td>4</td>\n",
       "      <td>0</td>\n",
       "      <td>2</td>\n",
       "      <td>True</td>\n",
       "      <td>True</td>\n",
       "      <td>2</td>\n",
       "      <td>2</td>\n",
       "    </tr>\n",
       "    <tr>\n",
       "      <th>0_3</th>\n",
       "      <td>2</td>\n",
       "      <td>2</td>\n",
       "      <td>0</td>\n",
       "      <td>0</td>\n",
       "      <td>facility</td>\n",
       "      <td>260</td>\n",
       "      <td>0</td>\n",
       "      <td>4</td>\n",
       "      <td>0</td>\n",
       "      <td>3</td>\n",
       "      <td>True</td>\n",
       "      <td>True</td>\n",
       "      <td>2</td>\n",
       "      <td>2</td>\n",
       "    </tr>\n",
       "    <tr>\n",
       "      <th>0_5</th>\n",
       "      <td>2</td>\n",
       "      <td>2</td>\n",
       "      <td>0</td>\n",
       "      <td>0</td>\n",
       "      <td>facility</td>\n",
       "      <td>260</td>\n",
       "      <td>0</td>\n",
       "      <td>4</td>\n",
       "      <td>0</td>\n",
       "      <td>5</td>\n",
       "      <td>True</td>\n",
       "      <td>True</td>\n",
       "      <td>2</td>\n",
       "      <td>2</td>\n",
       "    </tr>\n",
       "    <tr>\n",
       "      <th>0_6</th>\n",
       "      <td>2</td>\n",
       "      <td>2</td>\n",
       "      <td>0</td>\n",
       "      <td>0</td>\n",
       "      <td>facility</td>\n",
       "      <td>260</td>\n",
       "      <td>0</td>\n",
       "      <td>4</td>\n",
       "      <td>0</td>\n",
       "      <td>6</td>\n",
       "      <td>True</td>\n",
       "      <td>True</td>\n",
       "      <td>2</td>\n",
       "      <td>2</td>\n",
       "    </tr>\n",
       "    <tr>\n",
       "      <th>...</th>\n",
       "      <td>...</td>\n",
       "      <td>...</td>\n",
       "      <td>...</td>\n",
       "      <td>...</td>\n",
       "      <td>...</td>\n",
       "      <td>...</td>\n",
       "      <td>...</td>\n",
       "      <td>...</td>\n",
       "      <td>...</td>\n",
       "      <td>...</td>\n",
       "      <td>...</td>\n",
       "      <td>...</td>\n",
       "      <td>...</td>\n",
       "      <td>...</td>\n",
       "    </tr>\n",
       "    <tr>\n",
       "      <th>419_20</th>\n",
       "      <td>2</td>\n",
       "      <td>2</td>\n",
       "      <td>0</td>\n",
       "      <td>0</td>\n",
       "      <td>room</td>\n",
       "      <td>389</td>\n",
       "      <td>2</td>\n",
       "      <td>4</td>\n",
       "      <td>419</td>\n",
       "      <td>20</td>\n",
       "      <td>True</td>\n",
       "      <td>True</td>\n",
       "      <td>2</td>\n",
       "      <td>2</td>\n",
       "    </tr>\n",
       "    <tr>\n",
       "      <th>419_21</th>\n",
       "      <td>2</td>\n",
       "      <td>2</td>\n",
       "      <td>0</td>\n",
       "      <td>0</td>\n",
       "      <td>room</td>\n",
       "      <td>389</td>\n",
       "      <td>2</td>\n",
       "      <td>4</td>\n",
       "      <td>419</td>\n",
       "      <td>21</td>\n",
       "      <td>True</td>\n",
       "      <td>True</td>\n",
       "      <td>2</td>\n",
       "      <td>2</td>\n",
       "    </tr>\n",
       "    <tr>\n",
       "      <th>419_22</th>\n",
       "      <td>2</td>\n",
       "      <td>2</td>\n",
       "      <td>0</td>\n",
       "      <td>0</td>\n",
       "      <td>room</td>\n",
       "      <td>389</td>\n",
       "      <td>2</td>\n",
       "      <td>4</td>\n",
       "      <td>419</td>\n",
       "      <td>22</td>\n",
       "      <td>True</td>\n",
       "      <td>True</td>\n",
       "      <td>2</td>\n",
       "      <td>2</td>\n",
       "    </tr>\n",
       "    <tr>\n",
       "      <th>419_24</th>\n",
       "      <td>2</td>\n",
       "      <td>2</td>\n",
       "      <td>0</td>\n",
       "      <td>0</td>\n",
       "      <td>room</td>\n",
       "      <td>389</td>\n",
       "      <td>2</td>\n",
       "      <td>4</td>\n",
       "      <td>419</td>\n",
       "      <td>24</td>\n",
       "      <td>True</td>\n",
       "      <td>True</td>\n",
       "      <td>2</td>\n",
       "      <td>2</td>\n",
       "    </tr>\n",
       "    <tr>\n",
       "      <th>419_25</th>\n",
       "      <td>2</td>\n",
       "      <td>2</td>\n",
       "      <td>0</td>\n",
       "      <td>0</td>\n",
       "      <td>room</td>\n",
       "      <td>389</td>\n",
       "      <td>2</td>\n",
       "      <td>4</td>\n",
       "      <td>419</td>\n",
       "      <td>25</td>\n",
       "      <td>True</td>\n",
       "      <td>True</td>\n",
       "      <td>2</td>\n",
       "      <td>2</td>\n",
       "    </tr>\n",
       "  </tbody>\n",
       "</table>\n",
       "<p>5973 rows × 14 columns</p>\n",
       "</div>"
      ],
      "text/plain": [
       "        yes-sentiment  yes-aspect  no-sentiment  no-aspect  category  \\\n",
       "0_0                 2           2             0          0  facility   \n",
       "0_2                 2           2             0          0  facility   \n",
       "0_3                 2           2             0          0  facility   \n",
       "0_5                 2           2             0          0  facility   \n",
       "0_6                 2           2             0          0  facility   \n",
       "...               ...         ...           ...        ...       ...   \n",
       "419_20              2           2             0          0      room   \n",
       "419_21              2           2             0          0      room   \n",
       "419_22              2           2             0          0      room   \n",
       "419_24              2           2             0          0      room   \n",
       "419_25              2           2             0          0      room   \n",
       "\n",
       "        hotel_id  cpt  Total  fileId  iId  gold_aspect  gold_sentiment  \\\n",
       "0_0          260    0      4       0    0         True            True   \n",
       "0_2          260    0      4       0    2         True            True   \n",
       "0_3          260    0      4       0    3         True            True   \n",
       "0_5          260    0      4       0    5         True            True   \n",
       "0_6          260    0      4       0    6         True            True   \n",
       "...          ...  ...    ...     ...  ...          ...             ...   \n",
       "419_20       389    2      4     419   20         True            True   \n",
       "419_21       389    2      4     419   21         True            True   \n",
       "419_22       389    2      4     419   22         True            True   \n",
       "419_24       389    2      4     419   24         True            True   \n",
       "419_25       389    2      4     419   25         True            True   \n",
       "\n",
       "        total-sentiment  total-aspect  \n",
       "0_0                   2             2  \n",
       "0_2                   2             2  \n",
       "0_3                   2             2  \n",
       "0_5                   2             2  \n",
       "0_6                   2             2  \n",
       "...                 ...           ...  \n",
       "419_20                2             2  \n",
       "419_21                2             2  \n",
       "419_22                2             2  \n",
       "419_24                2             2  \n",
       "419_25                2             2  \n",
       "\n",
       "[5973 rows x 14 columns]"
      ]
     },
     "execution_count": 121,
     "metadata": {},
     "output_type": "execute_result"
    }
   ],
   "source": [
    "sents_aspect[sents_aspect['gold_sentiment']==True]"
   ]
  },
  {
   "cell_type": "code",
   "execution_count": 87,
   "metadata": {},
   "outputs": [
    {
     "data": {
      "text/plain": [
       "Counter({True: 6391, False: 3005})"
      ]
     },
     "execution_count": 87,
     "metadata": {},
     "output_type": "execute_result"
    }
   ],
   "source": [
    "Counter(sents_df.gold_aspect)"
   ]
  },
  {
   "cell_type": "code",
   "execution_count": 88,
   "metadata": {},
   "outputs": [
    {
     "data": {
      "text/plain": [
       "Counter({True: 6043, False: 3353})"
      ]
     },
     "execution_count": 88,
     "metadata": {},
     "output_type": "execute_result"
    }
   ],
   "source": [
    "Counter(sents_df.gold_sentiment)"
   ]
  },
  {
   "cell_type": "code",
   "execution_count": 89,
   "metadata": {},
   "outputs": [],
   "source": [
    "d = Counter(sents_df.gold_aspect.to_list())"
   ]
  },
  {
   "cell_type": "code",
   "execution_count": 90,
   "metadata": {},
   "outputs": [
    {
     "data": {
      "text/plain": [
       "9396"
      ]
     },
     "execution_count": 90,
     "metadata": {},
     "output_type": "execute_result"
    }
   ],
   "source": [
    "sum(d.values())"
   ]
  },
  {
   "cell_type": "code",
   "execution_count": 91,
   "metadata": {},
   "outputs": [
    {
     "data": {
      "text/plain": [
       "Counter({True: 6391, False: 3005})"
      ]
     },
     "execution_count": 91,
     "metadata": {},
     "output_type": "execute_result"
    }
   ],
   "source": [
    "d"
   ]
  },
  {
   "cell_type": "code",
   "execution_count": 92,
   "metadata": {},
   "outputs": [],
   "source": [
    "cat_gold_aspect= defaultdict(list)\n",
    "for cat, g in zip(sents_df['category'], sents_df['gold_aspect']):\n",
    "    cat_gold_aspect[cat].append(g)"
   ]
  },
  {
   "cell_type": "code",
   "execution_count": 93,
   "metadata": {},
   "outputs": [],
   "source": [
    "cat_gold_aspect_counter = {}\n",
    "for cat, l in cat_gold_aspect.items():\n",
    "    cat_gold_aspect_counter[cat]= (Counter(l), sum(Counter(l).values()))"
   ]
  },
  {
   "cell_type": "code",
   "execution_count": 94,
   "metadata": {},
   "outputs": [
    {
     "data": {
      "text/plain": [
       "{'facility': (Counter({True: 874, False: 579}), 1453),\n",
       " 'pool': (Counter({False: 299, True: 932}), 1231),\n",
       " 'renovation_room': (Counter({False: 95, True: 982}), 1077),\n",
       " 'restaurant': (Counter({True: 1114, False: 647}), 1761),\n",
       " 'room': (Counter({False: 675, True: 1541}), 2216),\n",
       " 'reception': (Counter({False: 710, True: 948}), 1658)}"
      ]
     },
     "execution_count": 94,
     "metadata": {},
     "output_type": "execute_result"
    }
   ],
   "source": [
    "cat_gold_aspect_counter"
   ]
  },
  {
   "cell_type": "code",
   "execution_count": 95,
   "metadata": {},
   "outputs": [],
   "source": [
    "cat_gold_sentiment = defaultdict(list)\n",
    "for cat, g in zip(sents_df['category'], sents_df['gold_sentiment']):\n",
    "    cat_gold_sentiment[cat].append(g)"
   ]
  },
  {
   "cell_type": "code",
   "execution_count": 96,
   "metadata": {},
   "outputs": [],
   "source": [
    "cat_gold_senti_counter = {}\n",
    "for cat, l in cat_gold_sentiment.items():\n",
    "    cat_gold_senti_counter[cat]= (Counter(l), sum(Counter(l).values()))"
   ]
  },
  {
   "cell_type": "code",
   "execution_count": 97,
   "metadata": {},
   "outputs": [
    {
     "data": {
      "text/plain": [
       "{'facility': (Counter({True: 992, False: 461}), 1453),\n",
       " 'pool': (Counter({True: 795, False: 436}), 1231),\n",
       " 'renovation_room': (Counter({False: 298, True: 779}), 1077),\n",
       " 'restaurant': (Counter({True: 1057, False: 704}), 1761),\n",
       " 'room': (Counter({True: 1387, False: 829}), 2216),\n",
       " 'reception': (Counter({True: 1033, False: 625}), 1658)}"
      ]
     },
     "execution_count": 97,
     "metadata": {},
     "output_type": "execute_result"
    }
   ],
   "source": [
    "cat_gold_senti_counter"
   ]
  },
  {
   "cell_type": "code",
   "execution_count": null,
   "metadata": {},
   "outputs": [],
   "source": []
  }
 ],
 "metadata": {
  "kernelspec": {
   "display_name": "cpd",
   "language": "python",
   "name": "cdp"
  },
  "language_info": {
   "codemirror_mode": {
    "name": "ipython",
    "version": 3
   },
   "file_extension": ".py",
   "mimetype": "text/x-python",
   "name": "python",
   "nbconvert_exporter": "python",
   "pygments_lexer": "ipython3",
   "version": "3.7.6"
  }
 },
 "nbformat": 4,
 "nbformat_minor": 4
}
