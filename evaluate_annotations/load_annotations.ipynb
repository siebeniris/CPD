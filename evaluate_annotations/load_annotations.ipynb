{
 "cells": [
  {
   "cell_type": "markdown",
   "metadata": {},
   "source": [
    "# Separate annotations and reviews from database"
   ]
  },
  {
   "cell_type": "code",
   "execution_count": 1,
   "metadata": {},
   "outputs": [],
   "source": [
    "import os\n",
    "import rootpath\n",
    "import json\n",
    "from collections import defaultdict\n",
    "import pandas as pd\n",
    "import numpy as np"
   ]
  },
  {
   "cell_type": "code",
   "execution_count": 2,
   "metadata": {},
   "outputs": [
    {
     "data": {
      "text/plain": [
       "'/home/yiyi/Documents/masterarbeit/CPD'"
      ]
     },
     "execution_count": 2,
     "metadata": {},
     "output_type": "execute_result"
    }
   ],
   "source": [
    "root = rootpath.detect()\n",
    "root"
   ]
  },
  {
   "cell_type": "code",
   "execution_count": 3,
   "metadata": {},
   "outputs": [],
   "source": [
    "db_path = '/home/yiyi/Documents/masterarbeit/cpd_annotations/api-json-server/db.json'"
   ]
  },
  {
   "cell_type": "code",
   "execution_count": 4,
   "metadata": {},
   "outputs": [],
   "source": [
    "with open(db_path) as file:\n",
    "    db = json.load(file)"
   ]
  },
  {
   "cell_type": "code",
   "execution_count": 5,
   "metadata": {},
   "outputs": [],
   "source": [
    "annotations = db['annotations']"
   ]
  },
  {
   "cell_type": "code",
   "execution_count": 12,
   "metadata": {},
   "outputs": [],
   "source": [
    "with open('data_processed/annotations.json', 'w') as file:\n",
    "    json.dump(annotations, file)"
   ]
  },
  {
   "cell_type": "code",
   "execution_count": 13,
   "metadata": {},
   "outputs": [],
   "source": [
    "reviews = db['reviews']"
   ]
  },
  {
   "cell_type": "code",
   "execution_count": 14,
   "metadata": {},
   "outputs": [],
   "source": [
    "with open('data_processed/reviews.json', 'w') as file:\n",
    "    json.dump(reviews, file)"
   ]
  },
  {
   "cell_type": "markdown",
   "metadata": {},
   "source": [
    "## Get annotations about the aspect/sentiment."
   ]
  },
  {
   "cell_type": "code",
   "execution_count": 15,
   "metadata": {},
   "outputs": [
    {
     "data": {
      "text/plain": [
       "{'id': 'lZqrFrJub',\n",
       " 'date': '2020-06-30T10:59:09.303Z',\n",
       " 'filename': 'renovation_room_147',\n",
       " 'fileId': '252',\n",
       " 'username': 'Edita',\n",
       " 'annotation': [{'id': 0, 'yes_aspect': True, 'yes_sentiment': True},\n",
       "  {'id': 1, 'yes_aspect': True, 'yes_sentiment': True},\n",
       "  {'id': 2, 'yes_aspect': True, 'yes_sentiment': True},\n",
       "  {'id': 3, 'yes_sentiment': True},\n",
       "  {'id': 4, 'yes_aspect': True, 'yes_sentiment': True},\n",
       "  {'id': 5, 'yes_aspect': True, 'yes_sentiment': True},\n",
       "  {'id': 6, 'yes_aspect': True, 'yes_sentiment': True},\n",
       "  {'id': 7, 'yes_aspect': True, 'yes_sentiment': True},\n",
       "  {'id': 8, 'yes_aspect': True, 'yes_sentiment': True},\n",
       "  {'id': 9, 'yes_aspect': False, 'yes_sentiment': True}],\n",
       " 'cptAnswer': {}}"
      ]
     },
     "execution_count": 15,
     "metadata": {},
     "output_type": "execute_result"
    }
   ],
   "source": [
    "annotations[0]"
   ]
  },
  {
   "cell_type": "code",
   "execution_count": 6,
   "metadata": {},
   "outputs": [],
   "source": [
    "\n",
    "new_annotations = defaultdict(list)\n",
    "for a in annotations:\n",
    "    idx = int(a['fileId'])\n",
    "    username= a['username']\n",
    "    if username !='yiyi':\n",
    "        new_annotations[idx].append(a)\n",
    "        "
   ]
  },
  {
   "cell_type": "code",
   "execution_count": 8,
   "metadata": {},
   "outputs": [
    {
     "data": {
      "text/plain": [
       "[{'id': 'XrpM542r4',\n",
       "  'date': '2020-06-30T11:24:40.059Z',\n",
       "  'filename': 'facility_260',\n",
       "  'fileId': '0',\n",
       "  'username': 'Oana',\n",
       "  'annotation': [{'id': 0, 'yes_aspect': True, 'yes_sentiment': True},\n",
       "   {'id': 2, 'yes_aspect': True, 'yes_sentiment': True},\n",
       "   {'id': 3, 'yes_aspect': True, 'yes_sentiment': True},\n",
       "   {'id': 4, 'yes_aspect': True},\n",
       "   {'id': 5, 'yes_aspect': True, 'yes_sentiment': True},\n",
       "   {'id': 6, 'yes_aspect': True, 'yes_sentiment': True},\n",
       "   {'id': 7, 'yes_aspect': True, 'yes_sentiment': True},\n",
       "   {'id': 8, 'yes_aspect': True, 'yes_sentiment': True},\n",
       "   {'id': 9, 'yes_aspect': True},\n",
       "   {'id': 10, 'yes_aspect': True, 'yes_sentiment': True},\n",
       "   {'id': 11, 'yes_aspect': True, 'yes_sentiment': True},\n",
       "   {'id': 12, 'yes_aspect': True, 'yes_sentiment': True},\n",
       "   {'id': 13, 'yes_aspect': True, 'yes_sentiment': True},\n",
       "   {'id': 14, 'yes_aspect': True, 'yes_sentiment': True},\n",
       "   {'id': 15, 'yes_aspect': False, 'yes_sentiment': True},\n",
       "   {'id': 17, 'yes_aspect': True, 'yes_sentiment': True},\n",
       "   {'id': 18, 'yes_aspect': True, 'yes_sentiment': True},\n",
       "   {'id': 19, 'yes_aspect': True, 'yes_sentiment': True}],\n",
       "  'cptAnswer': {'0': 'a'}},\n",
       " {'id': 'TlWWbzqjo',\n",
       "  'date': '2020-07-02T11:21:21.394Z',\n",
       "  'filename': 'facility_260',\n",
       "  'fileId': '0',\n",
       "  'username': 'Meli',\n",
       "  'annotation': [{'id': 0, 'yes_aspect': True, 'yes_sentiment': True},\n",
       "   {'id': 2, 'yes_aspect': True, 'yes_sentiment': True},\n",
       "   {'id': 3, 'yes_aspect': True, 'yes_sentiment': True},\n",
       "   {'id': 4, 'yes_aspect': True},\n",
       "   {'id': 5, 'yes_aspect': True, 'yes_sentiment': True},\n",
       "   {'id': 6, 'yes_aspect': True, 'yes_sentiment': True},\n",
       "   {'id': 7, 'yes_aspect': True, 'yes_sentiment': True},\n",
       "   {'id': 8, 'yes_sentiment': True},\n",
       "   {'id': 9, 'yes_aspect': True},\n",
       "   {'id': 10, 'yes_aspect': True, 'yes_sentiment': True},\n",
       "   {'id': 11, 'yes_aspect': True, 'yes_sentiment': True},\n",
       "   {'id': 12, 'yes_aspect': True, 'yes_sentiment': True},\n",
       "   {'id': 13, 'yes_aspect': True, 'yes_sentiment': True},\n",
       "   {'id': 14, 'yes_aspect': True, 'yes_sentiment': True},\n",
       "   {'id': 15, 'yes_sentiment': True},\n",
       "   {'id': 17, 'yes_aspect': True, 'yes_sentiment': True},\n",
       "   {'id': 18, 'yes_aspect': True, 'yes_sentiment': True},\n",
       "   {'id': 19, 'yes_aspect': True, 'yes_sentiment': True}],\n",
       "  'cptAnswer': {'0': 'c'}}]"
      ]
     },
     "execution_count": 8,
     "metadata": {},
     "output_type": "execute_result"
    }
   ],
   "source": [
    "new_annotations[0]"
   ]
  },
  {
   "cell_type": "code",
   "execution_count": 9,
   "metadata": {},
   "outputs": [],
   "source": [
    "annotations_dict = defaultdict(list)\n",
    "for idx, al in new_annotations.items():\n",
    "    adict = defaultdict(list)\n",
    "    for a in al:\n",
    "        username=a['username']\n",
    "        adict[username].append(a)\n",
    "    for username, a in adict.items():\n",
    "        if len(a)>1:\n",
    "            sorted_a = sorted(a, key=lambda i:i['date'])\n",
    "            annotations_dict[idx].append(sorted_a[-1])\n",
    "        else:\n",
    "            annotations_dict[idx].append(a[0])"
   ]
  },
  {
   "cell_type": "code",
   "execution_count": 10,
   "metadata": {},
   "outputs": [
    {
     "data": {
      "text/plain": [
       "[{'id': 'jm6oOFqc9',\n",
       "  'date': '2020-06-30T11:36:22.478Z',\n",
       "  'filename': 'pool_260',\n",
       "  'fileId': '1',\n",
       "  'username': 'Oana',\n",
       "  'annotation': [{'id': 0, 'yes_aspect': True, 'yes_sentiment': True},\n",
       "   {'id': 1, 'yes_aspect': True, 'yes_sentiment': True},\n",
       "   {'id': 2, 'yes_aspect': True, 'yes_sentiment': True},\n",
       "   {'id': 3, 'yes_aspect': True, 'yes_sentiment': True},\n",
       "   {'id': 4, 'yes_aspect': True, 'yes_sentiment': True},\n",
       "   {'id': 5, 'yes_aspect': False, 'yes_sentiment': True},\n",
       "   {'id': 7, 'yes_aspect': True},\n",
       "   {'id': 8, 'yes_aspect': True, 'yes_sentiment': True},\n",
       "   {'id': 9, 'yes_aspect': True},\n",
       "   {'id': 10, 'yes_aspect': True, 'yes_sentiment': True},\n",
       "   {'id': 11, 'yes_aspect': True, 'yes_sentiment': True},\n",
       "   {'id': 12, 'yes_aspect': True, 'yes_sentiment': True},\n",
       "   {'id': 13, 'yes_aspect': True, 'yes_sentiment': True},\n",
       "   {'id': 14, 'yes_sentiment': True},\n",
       "   {'id': 15, 'yes_sentiment': True},\n",
       "   {'id': 18, 'yes_aspect': True, 'yes_sentiment': True}],\n",
       "  'cptAnswer': {'0': 'c'}},\n",
       " {'id': 'HvZ2zz4td',\n",
       "  'date': '2020-07-02T11:31:08.570Z',\n",
       "  'filename': 'pool_260',\n",
       "  'fileId': '1',\n",
       "  'username': 'Meli',\n",
       "  'annotation': [{'id': 0, 'yes_sentiment': True},\n",
       "   {'id': 1, 'yes_aspect': True, 'yes_sentiment': True},\n",
       "   {'id': 2, 'yes_aspect': True, 'yes_sentiment': True},\n",
       "   {'id': 3, 'yes_aspect': True, 'yes_sentiment': True},\n",
       "   {'id': 4, 'yes_aspect': True, 'yes_sentiment': True},\n",
       "   {'id': 5, 'yes_sentiment': True},\n",
       "   {'id': 7, 'yes_aspect': True},\n",
       "   {'id': 8, 'yes_aspect': True, 'yes_sentiment': True},\n",
       "   {'id': 9, 'yes_aspect': True, 'yes_sentiment': True},\n",
       "   {'id': 10, 'yes_aspect': True, 'yes_sentiment': True},\n",
       "   {'id': 11, 'yes_aspect': True, 'yes_sentiment': True},\n",
       "   {'id': 12, 'yes_sentiment': True},\n",
       "   {'id': 13, 'yes_aspect': True, 'yes_sentiment': True},\n",
       "   {'id': 14, 'yes_aspect': True, 'yes_sentiment': True},\n",
       "   {'id': 15, 'yes_aspect': True, 'yes_sentiment': True},\n",
       "   {'id': 18, 'yes_aspect': True, 'yes_sentiment': True}],\n",
       "  'cptAnswer': {'0': 'c'}}]"
      ]
     },
     "execution_count": 10,
     "metadata": {},
     "output_type": "execute_result"
    }
   ],
   "source": [
    "annotations_dict[1]"
   ]
  },
  {
   "cell_type": "code",
   "execution_count": 11,
   "metadata": {},
   "outputs": [],
   "source": [
    "categories =['yes_aspect', 'yes_sentiment', 'no_aspect', 'no_sentiment']"
   ]
  },
  {
   "cell_type": "code",
   "execution_count": 71,
   "metadata": {},
   "outputs": [],
   "source": [
    "def df_dict(annotations_dict):\n",
    "    # idx, sentID, no_aspect, no_sentiment, yes_two\n",
    "    dataframe_dict = dict()\n",
    "    cpts_dict = dict()\n",
    "    \n",
    "    for idx, alist in annotations_dict.items():\n",
    "\n",
    "        for a in alist:\n",
    "            annotation=a['annotation']\n",
    "            \n",
    "            if a['cptAnswer']:\n",
    "                cpts = a['cptAnswer']\n",
    "                \n",
    "                for nr, cpt in cpts.items():\n",
    "                    id_nr = str(idx)+'_'+nr\n",
    "                    \n",
    "                    if id_nr not in cpts_dict:\n",
    "                        cpts_dict[id_nr] = defaultdict(int)\n",
    "                    cpts_dict[id_nr][cpt]+=1\n",
    "                \n",
    "                \n",
    "            \n",
    "            for anno in annotation:\n",
    "                id_ = anno['id']\n",
    "                \n",
    "                yes_aspect_ = anno.get('yes_aspect', False)\n",
    "                yes_sentiment_ = anno.get('yes_sentiment', False)\n",
    "\n",
    "                id_sentid = str(idx)+'_'+str(id_)\n",
    "                \n",
    "                if id_sentid not in dataframe_dict:\n",
    "                    dataframe_dict[id_sentid]={\n",
    "                        'no-aspect':0,\n",
    "                        'no-sentiment':0,\n",
    "                        'yes-two':0\n",
    "                    }\n",
    "                    \n",
    "                if not yes_aspect_:\n",
    "                    dataframe_dict[id_sentid]['no-aspect'] += 1\n",
    "                if not yes_sentiment_:\n",
    "                    dataframe_dict[id_sentid]['no-sentiment'] += 1\n",
    "                if yes_aspect_ and yes_sentiment_:\n",
    "                    dataframe_dict[id_sentid]['yes-two'] += 1\n",
    "                    \n",
    "    return dataframe_dict, cpts_dict\n"
   ]
  },
  {
   "cell_type": "code",
   "execution_count": 94,
   "metadata": {},
   "outputs": [],
   "source": [
    "dfdict, cpts_dict = df_dict(annotations_dict)"
   ]
  },
  {
   "cell_type": "code",
   "execution_count": 95,
   "metadata": {},
   "outputs": [],
   "source": [
    "cpts_df = pd.DataFrame.from_dict(cpts_dict, orient='index')"
   ]
  },
  {
   "cell_type": "code",
   "execution_count": 96,
   "metadata": {},
   "outputs": [
    {
     "data": {
      "text/html": [
       "<div>\n",
       "<style scoped>\n",
       "    .dataframe tbody tr th:only-of-type {\n",
       "        vertical-align: middle;\n",
       "    }\n",
       "\n",
       "    .dataframe tbody tr th {\n",
       "        vertical-align: top;\n",
       "    }\n",
       "\n",
       "    .dataframe thead th {\n",
       "        text-align: right;\n",
       "    }\n",
       "</style>\n",
       "<table border=\"1\" class=\"dataframe\">\n",
       "  <thead>\n",
       "    <tr style=\"text-align: right;\">\n",
       "      <th></th>\n",
       "      <th>a</th>\n",
       "      <th>b</th>\n",
       "      <th>c</th>\n",
       "    </tr>\n",
       "  </thead>\n",
       "  <tbody>\n",
       "    <tr>\n",
       "      <th>85_0</th>\n",
       "      <td>2.0</td>\n",
       "      <td>NaN</td>\n",
       "      <td>NaN</td>\n",
       "    </tr>\n",
       "    <tr>\n",
       "      <th>42_0</th>\n",
       "      <td>2.0</td>\n",
       "      <td>NaN</td>\n",
       "      <td>NaN</td>\n",
       "    </tr>\n",
       "    <tr>\n",
       "      <th>86_0</th>\n",
       "      <td>2.0</td>\n",
       "      <td>NaN</td>\n",
       "      <td>NaN</td>\n",
       "    </tr>\n",
       "    <tr>\n",
       "      <th>253_0</th>\n",
       "      <td>2.0</td>\n",
       "      <td>NaN</td>\n",
       "      <td>NaN</td>\n",
       "    </tr>\n",
       "    <tr>\n",
       "      <th>87_0</th>\n",
       "      <td>1.0</td>\n",
       "      <td>NaN</td>\n",
       "      <td>1.0</td>\n",
       "    </tr>\n",
       "  </tbody>\n",
       "</table>\n",
       "</div>"
      ],
      "text/plain": [
       "         a   b    c\n",
       "85_0   2.0 NaN  NaN\n",
       "42_0   2.0 NaN  NaN\n",
       "86_0   2.0 NaN  NaN\n",
       "253_0  2.0 NaN  NaN\n",
       "87_0   1.0 NaN  1.0"
      ]
     },
     "execution_count": 96,
     "metadata": {},
     "output_type": "execute_result"
    }
   ],
   "source": [
    "cpts_df.head()"
   ]
  },
  {
   "cell_type": "code",
   "execution_count": 99,
   "metadata": {},
   "outputs": [],
   "source": [
    "cpts_df = cpts_df.fillna(0)"
   ]
  },
  {
   "cell_type": "code",
   "execution_count": 101,
   "metadata": {},
   "outputs": [],
   "source": [
    "columns = cpts_df.columns"
   ]
  },
  {
   "cell_type": "code",
   "execution_count": 102,
   "metadata": {},
   "outputs": [
    {
     "data": {
      "text/plain": [
       "Index(['a', 'b', 'c'], dtype='object')"
      ]
     },
     "execution_count": 102,
     "metadata": {},
     "output_type": "execute_result"
    }
   ],
   "source": [
    "columns"
   ]
  },
  {
   "cell_type": "code",
   "execution_count": 105,
   "metadata": {},
   "outputs": [],
   "source": [
    "cpts_df[columns]= cpts_df[columns].applymap(np.int64)"
   ]
  },
  {
   "cell_type": "code",
   "execution_count": 106,
   "metadata": {},
   "outputs": [
    {
     "data": {
      "text/html": [
       "<div>\n",
       "<style scoped>\n",
       "    .dataframe tbody tr th:only-of-type {\n",
       "        vertical-align: middle;\n",
       "    }\n",
       "\n",
       "    .dataframe tbody tr th {\n",
       "        vertical-align: top;\n",
       "    }\n",
       "\n",
       "    .dataframe thead th {\n",
       "        text-align: right;\n",
       "    }\n",
       "</style>\n",
       "<table border=\"1\" class=\"dataframe\">\n",
       "  <thead>\n",
       "    <tr style=\"text-align: right;\">\n",
       "      <th></th>\n",
       "      <th>a</th>\n",
       "      <th>b</th>\n",
       "      <th>c</th>\n",
       "    </tr>\n",
       "  </thead>\n",
       "  <tbody>\n",
       "    <tr>\n",
       "      <th>85_0</th>\n",
       "      <td>2</td>\n",
       "      <td>0</td>\n",
       "      <td>0</td>\n",
       "    </tr>\n",
       "    <tr>\n",
       "      <th>42_0</th>\n",
       "      <td>2</td>\n",
       "      <td>0</td>\n",
       "      <td>0</td>\n",
       "    </tr>\n",
       "    <tr>\n",
       "      <th>86_0</th>\n",
       "      <td>2</td>\n",
       "      <td>0</td>\n",
       "      <td>0</td>\n",
       "    </tr>\n",
       "    <tr>\n",
       "      <th>253_0</th>\n",
       "      <td>2</td>\n",
       "      <td>0</td>\n",
       "      <td>0</td>\n",
       "    </tr>\n",
       "    <tr>\n",
       "      <th>87_0</th>\n",
       "      <td>1</td>\n",
       "      <td>0</td>\n",
       "      <td>1</td>\n",
       "    </tr>\n",
       "    <tr>\n",
       "      <th>...</th>\n",
       "      <td>...</td>\n",
       "      <td>...</td>\n",
       "      <td>...</td>\n",
       "    </tr>\n",
       "    <tr>\n",
       "      <th>78_0</th>\n",
       "      <td>0</td>\n",
       "      <td>0</td>\n",
       "      <td>2</td>\n",
       "    </tr>\n",
       "    <tr>\n",
       "      <th>419_1</th>\n",
       "      <td>0</td>\n",
       "      <td>0</td>\n",
       "      <td>1</td>\n",
       "    </tr>\n",
       "    <tr>\n",
       "      <th>242_1</th>\n",
       "      <td>0</td>\n",
       "      <td>0</td>\n",
       "      <td>1</td>\n",
       "    </tr>\n",
       "    <tr>\n",
       "      <th>80_1</th>\n",
       "      <td>0</td>\n",
       "      <td>0</td>\n",
       "      <td>2</td>\n",
       "    </tr>\n",
       "    <tr>\n",
       "      <th>295_1</th>\n",
       "      <td>0</td>\n",
       "      <td>0</td>\n",
       "      <td>1</td>\n",
       "    </tr>\n",
       "  </tbody>\n",
       "</table>\n",
       "<p>584 rows × 3 columns</p>\n",
       "</div>"
      ],
      "text/plain": [
       "       a  b  c\n",
       "85_0   2  0  0\n",
       "42_0   2  0  0\n",
       "86_0   2  0  0\n",
       "253_0  2  0  0\n",
       "87_0   1  0  1\n",
       "...   .. .. ..\n",
       "78_0   0  0  2\n",
       "419_1  0  0  1\n",
       "242_1  0  0  1\n",
       "80_1   0  0  2\n",
       "295_1  0  0  1\n",
       "\n",
       "[584 rows x 3 columns]"
      ]
     },
     "execution_count": 106,
     "metadata": {},
     "output_type": "execute_result"
    }
   ],
   "source": [
    "cpts_df"
   ]
  },
  {
   "cell_type": "code",
   "execution_count": 110,
   "metadata": {},
   "outputs": [],
   "source": [
    "total_col = cpts_df.sum(axis=1)"
   ]
  },
  {
   "cell_type": "code",
   "execution_count": 111,
   "metadata": {},
   "outputs": [
    {
     "data": {
      "text/plain": [
       "85_0     2\n",
       "42_0     2\n",
       "86_0     2\n",
       "253_0    2\n",
       "87_0     2\n",
       "        ..\n",
       "78_0     2\n",
       "419_1    1\n",
       "242_1    1\n",
       "80_1     2\n",
       "295_1    1\n",
       "Length: 584, dtype: int64"
      ]
     },
     "execution_count": 111,
     "metadata": {},
     "output_type": "execute_result"
    }
   ],
   "source": [
    "total_col"
   ]
  },
  {
   "cell_type": "code",
   "execution_count": 112,
   "metadata": {},
   "outputs": [],
   "source": [
    "cpts_df['Total']= total_col"
   ]
  },
  {
   "cell_type": "code",
   "execution_count": 113,
   "metadata": {},
   "outputs": [],
   "source": [
    "indices = cpts_df.index"
   ]
  },
  {
   "cell_type": "code",
   "execution_count": 114,
   "metadata": {},
   "outputs": [],
   "source": [
    "fileId, cpt_id = [], []\n",
    "for id_ in indices:\n",
    "    fileid, cptid = id_.split('_')\n",
    "    fileId.append(int(fileid))\n",
    "    cpt_id.append(int(cptid))\n",
    "    "
   ]
  },
  {
   "cell_type": "code",
   "execution_count": 115,
   "metadata": {},
   "outputs": [],
   "source": [
    "cpts_df['fileId']=fileId\n",
    "cpts_df['cptId'] = cpt_id"
   ]
  },
  {
   "cell_type": "code",
   "execution_count": 116,
   "metadata": {},
   "outputs": [],
   "source": [
    "sorted_cpts_df = cpts_df.sort_values(by=['fileId', 'cptId'])"
   ]
  },
  {
   "cell_type": "code",
   "execution_count": 117,
   "metadata": {},
   "outputs": [
    {
     "data": {
      "text/html": [
       "<div>\n",
       "<style scoped>\n",
       "    .dataframe tbody tr th:only-of-type {\n",
       "        vertical-align: middle;\n",
       "    }\n",
       "\n",
       "    .dataframe tbody tr th {\n",
       "        vertical-align: top;\n",
       "    }\n",
       "\n",
       "    .dataframe thead th {\n",
       "        text-align: right;\n",
       "    }\n",
       "</style>\n",
       "<table border=\"1\" class=\"dataframe\">\n",
       "  <thead>\n",
       "    <tr style=\"text-align: right;\">\n",
       "      <th></th>\n",
       "      <th>a</th>\n",
       "      <th>b</th>\n",
       "      <th>c</th>\n",
       "      <th>Total</th>\n",
       "      <th>fileId</th>\n",
       "      <th>cptId</th>\n",
       "    </tr>\n",
       "  </thead>\n",
       "  <tbody>\n",
       "    <tr>\n",
       "      <th>0_0</th>\n",
       "      <td>1</td>\n",
       "      <td>0</td>\n",
       "      <td>1</td>\n",
       "      <td>2</td>\n",
       "      <td>0</td>\n",
       "      <td>0</td>\n",
       "    </tr>\n",
       "    <tr>\n",
       "      <th>1_0</th>\n",
       "      <td>0</td>\n",
       "      <td>0</td>\n",
       "      <td>2</td>\n",
       "      <td>2</td>\n",
       "      <td>1</td>\n",
       "      <td>0</td>\n",
       "    </tr>\n",
       "    <tr>\n",
       "      <th>2_0</th>\n",
       "      <td>1</td>\n",
       "      <td>0</td>\n",
       "      <td>1</td>\n",
       "      <td>2</td>\n",
       "      <td>2</td>\n",
       "      <td>0</td>\n",
       "    </tr>\n",
       "    <tr>\n",
       "      <th>3_0</th>\n",
       "      <td>1</td>\n",
       "      <td>0</td>\n",
       "      <td>1</td>\n",
       "      <td>2</td>\n",
       "      <td>3</td>\n",
       "      <td>0</td>\n",
       "    </tr>\n",
       "    <tr>\n",
       "      <th>3_1</th>\n",
       "      <td>1</td>\n",
       "      <td>0</td>\n",
       "      <td>1</td>\n",
       "      <td>2</td>\n",
       "      <td>3</td>\n",
       "      <td>1</td>\n",
       "    </tr>\n",
       "    <tr>\n",
       "      <th>...</th>\n",
       "      <td>...</td>\n",
       "      <td>...</td>\n",
       "      <td>...</td>\n",
       "      <td>...</td>\n",
       "      <td>...</td>\n",
       "      <td>...</td>\n",
       "    </tr>\n",
       "    <tr>\n",
       "      <th>417_0</th>\n",
       "      <td>1</td>\n",
       "      <td>0</td>\n",
       "      <td>0</td>\n",
       "      <td>1</td>\n",
       "      <td>417</td>\n",
       "      <td>0</td>\n",
       "    </tr>\n",
       "    <tr>\n",
       "      <th>418_0</th>\n",
       "      <td>1</td>\n",
       "      <td>0</td>\n",
       "      <td>0</td>\n",
       "      <td>1</td>\n",
       "      <td>418</td>\n",
       "      <td>0</td>\n",
       "    </tr>\n",
       "    <tr>\n",
       "      <th>418_1</th>\n",
       "      <td>0</td>\n",
       "      <td>0</td>\n",
       "      <td>1</td>\n",
       "      <td>1</td>\n",
       "      <td>418</td>\n",
       "      <td>1</td>\n",
       "    </tr>\n",
       "    <tr>\n",
       "      <th>419_0</th>\n",
       "      <td>1</td>\n",
       "      <td>0</td>\n",
       "      <td>0</td>\n",
       "      <td>1</td>\n",
       "      <td>419</td>\n",
       "      <td>0</td>\n",
       "    </tr>\n",
       "    <tr>\n",
       "      <th>419_1</th>\n",
       "      <td>0</td>\n",
       "      <td>0</td>\n",
       "      <td>1</td>\n",
       "      <td>1</td>\n",
       "      <td>419</td>\n",
       "      <td>1</td>\n",
       "    </tr>\n",
       "  </tbody>\n",
       "</table>\n",
       "<p>584 rows × 6 columns</p>\n",
       "</div>"
      ],
      "text/plain": [
       "       a  b  c  Total  fileId  cptId\n",
       "0_0    1  0  1      2       0      0\n",
       "1_0    0  0  2      2       1      0\n",
       "2_0    1  0  1      2       2      0\n",
       "3_0    1  0  1      2       3      0\n",
       "3_1    1  0  1      2       3      1\n",
       "...   .. .. ..    ...     ...    ...\n",
       "417_0  1  0  0      1     417      0\n",
       "418_0  1  0  0      1     418      0\n",
       "418_1  0  0  1      1     418      1\n",
       "419_0  1  0  0      1     419      0\n",
       "419_1  0  0  1      1     419      1\n",
       "\n",
       "[584 rows x 6 columns]"
      ]
     },
     "execution_count": 117,
     "metadata": {},
     "output_type": "execute_result"
    }
   ],
   "source": [
    "sorted_cpts_df"
   ]
  },
  {
   "cell_type": "code",
   "execution_count": 91,
   "metadata": {},
   "outputs": [
    {
     "data": {
      "text/html": [
       "<div>\n",
       "<style scoped>\n",
       "    .dataframe tbody tr th:only-of-type {\n",
       "        vertical-align: middle;\n",
       "    }\n",
       "\n",
       "    .dataframe tbody tr th {\n",
       "        vertical-align: top;\n",
       "    }\n",
       "\n",
       "    .dataframe thead th {\n",
       "        text-align: right;\n",
       "    }\n",
       "</style>\n",
       "<table border=\"1\" class=\"dataframe\">\n",
       "  <thead>\n",
       "    <tr style=\"text-align: right;\">\n",
       "      <th></th>\n",
       "      <th>a</th>\n",
       "      <th>b</th>\n",
       "      <th>c</th>\n",
       "      <th>fileId</th>\n",
       "      <th>cptId</th>\n",
       "    </tr>\n",
       "  </thead>\n",
       "  <tbody>\n",
       "    <tr>\n",
       "      <th>0_0</th>\n",
       "      <td>1.0</td>\n",
       "      <td>NaN</td>\n",
       "      <td>1.0</td>\n",
       "      <td>0</td>\n",
       "      <td>0</td>\n",
       "    </tr>\n",
       "    <tr>\n",
       "      <th>1_0</th>\n",
       "      <td>NaN</td>\n",
       "      <td>NaN</td>\n",
       "      <td>2.0</td>\n",
       "      <td>1</td>\n",
       "      <td>0</td>\n",
       "    </tr>\n",
       "    <tr>\n",
       "      <th>2_0</th>\n",
       "      <td>1.0</td>\n",
       "      <td>NaN</td>\n",
       "      <td>1.0</td>\n",
       "      <td>2</td>\n",
       "      <td>0</td>\n",
       "    </tr>\n",
       "    <tr>\n",
       "      <th>3_0</th>\n",
       "      <td>1.0</td>\n",
       "      <td>NaN</td>\n",
       "      <td>1.0</td>\n",
       "      <td>3</td>\n",
       "      <td>0</td>\n",
       "    </tr>\n",
       "    <tr>\n",
       "      <th>3_1</th>\n",
       "      <td>1.0</td>\n",
       "      <td>NaN</td>\n",
       "      <td>1.0</td>\n",
       "      <td>3</td>\n",
       "      <td>1</td>\n",
       "    </tr>\n",
       "    <tr>\n",
       "      <th>3_2</th>\n",
       "      <td>NaN</td>\n",
       "      <td>NaN</td>\n",
       "      <td>2.0</td>\n",
       "      <td>3</td>\n",
       "      <td>2</td>\n",
       "    </tr>\n",
       "    <tr>\n",
       "      <th>3_3</th>\n",
       "      <td>NaN</td>\n",
       "      <td>NaN</td>\n",
       "      <td>2.0</td>\n",
       "      <td>3</td>\n",
       "      <td>3</td>\n",
       "    </tr>\n",
       "    <tr>\n",
       "      <th>3_4</th>\n",
       "      <td>NaN</td>\n",
       "      <td>NaN</td>\n",
       "      <td>2.0</td>\n",
       "      <td>3</td>\n",
       "      <td>4</td>\n",
       "    </tr>\n",
       "    <tr>\n",
       "      <th>4_0</th>\n",
       "      <td>1.0</td>\n",
       "      <td>NaN</td>\n",
       "      <td>1.0</td>\n",
       "      <td>4</td>\n",
       "      <td>0</td>\n",
       "    </tr>\n",
       "    <tr>\n",
       "      <th>4_1</th>\n",
       "      <td>NaN</td>\n",
       "      <td>NaN</td>\n",
       "      <td>2.0</td>\n",
       "      <td>4</td>\n",
       "      <td>1</td>\n",
       "    </tr>\n",
       "    <tr>\n",
       "      <th>4_2</th>\n",
       "      <td>NaN</td>\n",
       "      <td>1.0</td>\n",
       "      <td>1.0</td>\n",
       "      <td>4</td>\n",
       "      <td>2</td>\n",
       "    </tr>\n",
       "    <tr>\n",
       "      <th>5_0</th>\n",
       "      <td>2.0</td>\n",
       "      <td>NaN</td>\n",
       "      <td>NaN</td>\n",
       "      <td>5</td>\n",
       "      <td>0</td>\n",
       "    </tr>\n",
       "    <tr>\n",
       "      <th>6_0</th>\n",
       "      <td>NaN</td>\n",
       "      <td>1.0</td>\n",
       "      <td>1.0</td>\n",
       "      <td>6</td>\n",
       "      <td>0</td>\n",
       "    </tr>\n",
       "    <tr>\n",
       "      <th>6_1</th>\n",
       "      <td>NaN</td>\n",
       "      <td>1.0</td>\n",
       "      <td>1.0</td>\n",
       "      <td>6</td>\n",
       "      <td>1</td>\n",
       "    </tr>\n",
       "    <tr>\n",
       "      <th>7_0</th>\n",
       "      <td>2.0</td>\n",
       "      <td>NaN</td>\n",
       "      <td>NaN</td>\n",
       "      <td>7</td>\n",
       "      <td>0</td>\n",
       "    </tr>\n",
       "    <tr>\n",
       "      <th>8_0</th>\n",
       "      <td>1.0</td>\n",
       "      <td>NaN</td>\n",
       "      <td>1.0</td>\n",
       "      <td>8</td>\n",
       "      <td>0</td>\n",
       "    </tr>\n",
       "    <tr>\n",
       "      <th>8_1</th>\n",
       "      <td>NaN</td>\n",
       "      <td>NaN</td>\n",
       "      <td>2.0</td>\n",
       "      <td>8</td>\n",
       "      <td>1</td>\n",
       "    </tr>\n",
       "    <tr>\n",
       "      <th>8_2</th>\n",
       "      <td>NaN</td>\n",
       "      <td>2.0</td>\n",
       "      <td>NaN</td>\n",
       "      <td>8</td>\n",
       "      <td>2</td>\n",
       "    </tr>\n",
       "    <tr>\n",
       "      <th>9_0</th>\n",
       "      <td>1.0</td>\n",
       "      <td>NaN</td>\n",
       "      <td>1.0</td>\n",
       "      <td>9</td>\n",
       "      <td>0</td>\n",
       "    </tr>\n",
       "    <tr>\n",
       "      <th>10_0</th>\n",
       "      <td>NaN</td>\n",
       "      <td>1.0</td>\n",
       "      <td>1.0</td>\n",
       "      <td>10</td>\n",
       "      <td>0</td>\n",
       "    </tr>\n",
       "  </tbody>\n",
       "</table>\n",
       "</div>"
      ],
      "text/plain": [
       "        a    b    c  fileId  cptId\n",
       "0_0   1.0  NaN  1.0       0      0\n",
       "1_0   NaN  NaN  2.0       1      0\n",
       "2_0   1.0  NaN  1.0       2      0\n",
       "3_0   1.0  NaN  1.0       3      0\n",
       "3_1   1.0  NaN  1.0       3      1\n",
       "3_2   NaN  NaN  2.0       3      2\n",
       "3_3   NaN  NaN  2.0       3      3\n",
       "3_4   NaN  NaN  2.0       3      4\n",
       "4_0   1.0  NaN  1.0       4      0\n",
       "4_1   NaN  NaN  2.0       4      1\n",
       "4_2   NaN  1.0  1.0       4      2\n",
       "5_0   2.0  NaN  NaN       5      0\n",
       "6_0   NaN  1.0  1.0       6      0\n",
       "6_1   NaN  1.0  1.0       6      1\n",
       "7_0   2.0  NaN  NaN       7      0\n",
       "8_0   1.0  NaN  1.0       8      0\n",
       "8_1   NaN  NaN  2.0       8      1\n",
       "8_2   NaN  2.0  NaN       8      2\n",
       "9_0   1.0  NaN  1.0       9      0\n",
       "10_0  NaN  1.0  1.0      10      0"
      ]
     },
     "execution_count": 91,
     "metadata": {},
     "output_type": "execute_result"
    }
   ],
   "source": [
    "sorted_cpts_df.head(20)"
   ]
  },
  {
   "cell_type": "code",
   "execution_count": null,
   "metadata": {},
   "outputs": [],
   "source": []
  },
  {
   "cell_type": "code",
   "execution_count": null,
   "metadata": {},
   "outputs": [],
   "source": [
    "cpts_dict"
   ]
  },
  {
   "cell_type": "code",
   "execution_count": null,
   "metadata": {},
   "outputs": [],
   "source": []
  },
  {
   "cell_type": "code",
   "execution_count": null,
   "metadata": {},
   "outputs": [],
   "source": [
    "new_annotations[1]"
   ]
  },
  {
   "cell_type": "code",
   "execution_count": null,
   "metadata": {},
   "outputs": [],
   "source": [
    "stas = defaultdict(int)\n",
    "count = 0 \n",
    "count2 = 0\n",
    "for idx in sorted(new_annotations):\n",
    "    a = new_annotations[idx]\n",
    "    if len(a)==1:\n",
    "        count+=1\n",
    "    if len(a)>2:\n",
    "        count2 +=1\n",
    "        print(idx)\n",
    "        print(a)"
   ]
  },
  {
   "cell_type": "code",
   "execution_count": 17,
   "metadata": {},
   "outputs": [
    {
     "data": {
      "text/plain": [
       "419"
      ]
     },
     "execution_count": 17,
     "metadata": {},
     "output_type": "execute_result"
    }
   ],
   "source": [
    "len(new_annotations)"
   ]
  },
  {
   "cell_type": "code",
   "execution_count": 16,
   "metadata": {},
   "outputs": [
    {
     "data": {
      "text/plain": [
       "108"
      ]
     },
     "execution_count": 16,
     "metadata": {},
     "output_type": "execute_result"
    }
   ],
   "source": [
    "count"
   ]
  },
  {
   "cell_type": "code",
   "execution_count": 20,
   "metadata": {},
   "outputs": [
    {
     "data": {
      "text/plain": [
       "13"
      ]
     },
     "execution_count": 20,
     "metadata": {},
     "output_type": "execute_result"
    }
   ],
   "source": [
    "count2"
   ]
  },
  {
   "cell_type": "code",
   "execution_count": null,
   "metadata": {},
   "outputs": [],
   "source": [
    "new_annotations[1]"
   ]
  },
  {
   "cell_type": "code",
   "execution_count": null,
   "metadata": {},
   "outputs": [],
   "source": []
  },
  {
   "cell_type": "code",
   "execution_count": 9,
   "metadata": {},
   "outputs": [
    {
     "data": {
      "text/plain": [
       "{'id': 'rPrwxegEs',\n",
       " 'date': '2020-06-30T10:59:16.025Z',\n",
       " 'filename': 'facility_174',\n",
       " 'fileId': '85',\n",
       " 'username': 'Andrei',\n",
       " 'annotation': [{'id': 0, 'yes_aspect': False},\n",
       "  {'id': 1, 'yes_sentiment': True},\n",
       "  {'id': 2},\n",
       "  {'id': 3, 'yes_aspect': True, 'yes_sentiment': True},\n",
       "  {'id': 4, 'yes_sentiment': True},\n",
       "  {'id': 5},\n",
       "  {'id': 6},\n",
       "  {'id': 7, 'yes_sentiment': True},\n",
       "  {'id': 8, 'yes_sentiment': True},\n",
       "  {'id': 9, 'yes_sentiment': True},\n",
       "  {'id': 10, 'yes_aspect': True, 'yes_sentiment': True},\n",
       "  {'id': 11, 'yes_aspect': True, 'yes_sentiment': True},\n",
       "  {'id': 12, 'yes_aspect': True, 'yes_sentiment': True},\n",
       "  {'id': 13, 'yes_aspect': True, 'yes_sentiment': True},\n",
       "  {'id': 14, 'yes_aspect': True, 'yes_sentiment': True},\n",
       "  {'id': 15, 'yes_sentiment': True},\n",
       "  {'id': 16, 'yes_aspect': True, 'yes_sentiment': True},\n",
       "  {'id': 17, 'yes_aspect': True, 'yes_sentiment': True},\n",
       "  {'id': 18, 'yes_aspect': True, 'yes_sentiment': True},\n",
       "  {'id': 19, 'yes_aspect': True, 'yes_sentiment': True}],\n",
       " 'cptAnswer': {'0': 'a'}}"
      ]
     },
     "execution_count": 9,
     "metadata": {},
     "output_type": "execute_result"
    }
   ],
   "source": [
    "annotations[3]"
   ]
  },
  {
   "cell_type": "code",
   "execution_count": null,
   "metadata": {},
   "outputs": [],
   "source": []
  }
 ],
 "metadata": {
  "kernelspec": {
   "display_name": "cpd",
   "language": "python",
   "name": "cdp"
  },
  "language_info": {
   "codemirror_mode": {
    "name": "ipython",
    "version": 3
   },
   "file_extension": ".py",
   "mimetype": "text/x-python",
   "name": "python",
   "nbconvert_exporter": "python",
   "pygments_lexer": "ipython3",
   "version": "3.7.6"
  }
 },
 "nbformat": 4,
 "nbformat_minor": 4
}
