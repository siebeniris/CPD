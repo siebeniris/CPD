{
 "cells": [
  {
   "cell_type": "code",
   "execution_count": 1,
   "metadata": {},
   "outputs": [],
   "source": [
    "from lda_model import sent_to_words, process_data_words, build_model,format_topics_sentences,frequency_distribution_word_counts_in_documents\n"
   ]
  },
  {
   "cell_type": "code",
   "execution_count": 2,
   "metadata": {},
   "outputs": [],
   "source": [
    "# load data for each corpus (each csv file)\n",
    "import matplotlib.pyplot as plt\n",
    "\n",
    "import pandas as pd\n",
    "filepath='/home/yiyi/Documents/masterthesis/CPD/data/cleand_query_output_csv/019b8823-aa09-4d8f-8b8d-26433d76dff3'\n",
    "df = pd.read_csv(filepath)\n",
    "df[\"words\"] = df['text'] + df['title']\n",
    "words_df = df[df.lang == 'en']\n",
    "words_df = words_df[words_df.words.notnull()]\n",
    "docs = words_df.words.to_list()  # => data\n",
    "# process the data words\n",
    "data_words = list(sent_to_words(docs))\n",
    "\n",
    "data_ready = process_data_words(data_words)\n",
    "# build lda model"
   ]
  },
  {
   "cell_type": "code",
   "execution_count": 88,
   "metadata": {},
   "outputs": [
    {
     "data": {
      "text/html": [
       "<div>\n",
       "<style scoped>\n",
       "    .dataframe tbody tr th:only-of-type {\n",
       "        vertical-align: middle;\n",
       "    }\n",
       "\n",
       "    .dataframe tbody tr th {\n",
       "        vertical-align: top;\n",
       "    }\n",
       "\n",
       "    .dataframe thead th {\n",
       "        text-align: right;\n",
       "    }\n",
       "</style>\n",
       "<table border=\"1\" class=\"dataframe\">\n",
       "  <thead>\n",
       "    <tr style=\"text-align: right;\">\n",
       "      <th></th>\n",
       "      <th>text</th>\n",
       "      <th>topic_1</th>\n",
       "      <th>topic_2</th>\n",
       "      <th>topic_3</th>\n",
       "      <th>topic_4</th>\n",
       "      <th>topic_5</th>\n",
       "      <th>topic_6</th>\n",
       "      <th>topic_7</th>\n",
       "      <th>topic_8</th>\n",
       "      <th>topic_9</th>\n",
       "      <th>topic_10</th>\n",
       "      <th>topic_11</th>\n",
       "      <th>topic_12</th>\n",
       "      <th>topic_13</th>\n",
       "      <th>topic_14</th>\n",
       "    </tr>\n",
       "  </thead>\n",
       "  <tbody>\n",
       "    <tr>\n",
       "      <th>0</th>\n",
       "      <td>tastfully decorate modern convenience docking ...</td>\n",
       "      <td>0.0</td>\n",
       "      <td>0.0</td>\n",
       "      <td>0.0</td>\n",
       "      <td>0.0</td>\n",
       "      <td>0.0</td>\n",
       "      <td>0.0</td>\n",
       "      <td>0.0</td>\n",
       "      <td>0.0</td>\n",
       "      <td>0.0</td>\n",
       "      <td>0.0</td>\n",
       "      <td>0.0</td>\n",
       "      <td>0.0</td>\n",
       "      <td>0.0</td>\n",
       "      <td>0.0</td>\n",
       "    </tr>\n",
       "    <tr>\n",
       "      <th>1</th>\n",
       "      <td>give room hear band play late room vacuum enti...</td>\n",
       "      <td>0.0</td>\n",
       "      <td>1.0</td>\n",
       "      <td>1.0</td>\n",
       "      <td>0.0</td>\n",
       "      <td>0.0</td>\n",
       "      <td>1.0</td>\n",
       "      <td>0.0</td>\n",
       "      <td>0.0</td>\n",
       "      <td>1.0</td>\n",
       "      <td>0.0</td>\n",
       "      <td>1.0</td>\n",
       "      <td>1.0</td>\n",
       "      <td>1.0</td>\n",
       "      <td>0.0</td>\n",
       "    </tr>\n",
       "  </tbody>\n",
       "</table>\n",
       "</div>"
      ],
      "text/plain": [
       "                                                text  topic_1  topic_2  \\\n",
       "0  tastfully decorate modern convenience docking ...      0.0      0.0   \n",
       "1  give room hear band play late room vacuum enti...      0.0      1.0   \n",
       "\n",
       "   topic_3  topic_4  topic_5  topic_6  topic_7  topic_8  topic_9  topic_10  \\\n",
       "0      0.0      0.0      0.0      0.0      0.0      0.0      0.0       0.0   \n",
       "1      1.0      0.0      0.0      1.0      0.0      0.0      1.0       0.0   \n",
       "\n",
       "   topic_11  topic_12  topic_13  topic_14  \n",
       "0       0.0       0.0       0.0       0.0  \n",
       "1       1.0       1.0       1.0       0.0  "
      ]
     },
     "execution_count": 88,
     "metadata": {},
     "output_type": "execute_result"
    }
   ],
   "source": [
    "df.head(2)"
   ]
  },
  {
   "cell_type": "code",
   "execution_count": 8,
   "metadata": {},
   "outputs": [
    {
     "data": {
      "text/plain": [
       "([['tastfully',\n",
       "   'decorate',\n",
       "   'modern',\n",
       "   'convenience',\n",
       "   'docking',\n",
       "   'station',\n",
       "   'convenience']],\n",
       " 5019)"
      ]
     },
     "execution_count": 8,
     "metadata": {},
     "output_type": "execute_result"
    }
   ],
   "source": [
    "data_ready[:1], len(data_ready)"
   ]
  },
  {
   "cell_type": "code",
   "execution_count": 9,
   "metadata": {},
   "outputs": [],
   "source": [
    "texts=[\" \".join(text) for text in data_ready]"
   ]
  },
  {
   "cell_type": "code",
   "execution_count": 10,
   "metadata": {},
   "outputs": [
    {
     "data": {
      "text/plain": [
       "['tastfully decorate modern convenience docking station convenience']"
      ]
     },
     "execution_count": 10,
     "metadata": {},
     "output_type": "execute_result"
    }
   ],
   "source": [
    "texts[:1]"
   ]
  },
  {
   "cell_type": "code",
   "execution_count": 71,
   "metadata": {},
   "outputs": [
    {
     "name": "stdout",
     "output_type": "stream",
     "text": [
      "5019\n"
     ]
    }
   ],
   "source": [
    "rows = []\n",
    "for text in texts:\n",
    "    rows.append({\"text\": text})\n",
    "df = pd.DataFrame(rows)\n",
    "print(len(df))"
   ]
  },
  {
   "cell_type": "code",
   "execution_count": 72,
   "metadata": {},
   "outputs": [],
   "source": [
    "import numpy as np\n",
    "import tqdm as tqdm\n",
    "\n",
    "import scipy.sparse as s_sparse\n",
    "\n",
    "from sklearn.feature_extraction.text import CountVectorizer, TfidfVectorizer\n",
    "from sklearn.feature_extraction.stop_words import ENGLISH_STOP_WORDS\n",
    "\n",
    "from corextopic import corextopic as ct\n",
    "from corextopic import vis_topic as vt"
   ]
  },
  {
   "cell_type": "markdown",
   "metadata": {},
   "source": [
    "# Topic Modeling"
   ]
  },
  {
   "cell_type": "code",
   "execution_count": 73,
   "metadata": {},
   "outputs": [
    {
     "name": "stdout",
     "output_type": "stream",
     "text": [
      "3415\n"
     ]
    }
   ],
   "source": [
    "vectorizer = TfidfVectorizer(\n",
    "    max_df=.5,\n",
    "    min_df=10,\n",
    "    max_features=None,\n",
    "    ngram_range=(1, 2),\n",
    "    norm=None,\n",
    "    binary=True,\n",
    "    use_idf=False,\n",
    "    sublinear_tf=False\n",
    ")\n",
    "vectorizer = vectorizer.fit(df['text'])\n",
    "tfidf = vectorizer.transform(df['text'])\n",
    "vocab = vectorizer.get_feature_names()\n",
    "print(len(vocab))"
   ]
  },
  {
   "cell_type": "code",
   "execution_count": 74,
   "metadata": {},
   "outputs": [],
   "source": [
    "from categories import CATEGORIES"
   ]
  },
  {
   "cell_type": "code",
   "execution_count": 75,
   "metadata": {},
   "outputs": [
    {
     "data": {
      "text/plain": [
       "15"
      ]
     },
     "execution_count": 75,
     "metadata": {},
     "output_type": "execute_result"
    }
   ],
   "source": [
    "categories_lower = [[x.lower() for x in category] for category in CATEGORIES]\n",
    "len(categories_lower)"
   ]
  },
  {
   "cell_type": "code",
   "execution_count": 76,
   "metadata": {},
   "outputs": [],
   "source": [
    "categories_lower[-3].append('fitness')"
   ]
  },
  {
   "cell_type": "code",
   "execution_count": 78,
   "metadata": {},
   "outputs": [
    {
     "data": {
      "text/plain": [
       "['wellness', 'wellness area cleanliness', 'sauna', 'fitness area', 'fitness']"
      ]
     },
     "execution_count": 78,
     "metadata": {},
     "output_type": "execute_result"
    }
   ],
   "source": [
    "categories_lower[-3]"
   ]
  },
  {
   "cell_type": "code",
   "execution_count": 77,
   "metadata": {},
   "outputs": [],
   "source": [
    "model = ct.Corex(n_hidden=15, seed=42)\n",
    "model = model.fit(\n",
    "    tfidf,\n",
    "    words=vocab\n",
    ")"
   ]
  },
  {
   "cell_type": "code",
   "execution_count": 79,
   "metadata": {},
   "outputs": [
    {
     "name": "stdout",
     "output_type": "stream",
     "text": [
      "Topic #1: check, tell, ask, call, day, arrive, book, leave, hour, next\n",
      "Topic #2: bathroom, dirty, elevator, shower, floor, never, stain, carpet, money, furniture\n",
      "Topic #3: beach, pool, private beach, private, walk, great, beach pool, location, quiet, duval\n",
      "Topic #4: staff, friendly, helpful, reach, staff friendly, stay, stay reach, wonderful, friendly helpful, beautiful\n",
      "Topic #5: comfortable, clean, area, chair, spacious, bed, towel, small, large, restaurant\n",
      "Topic #6: pay, charge, parking, cost, car, expect, fee, resort_fee, rate, park\n",
      "Topic #7: time, first, spend, first time, work, people, back, last, second, bring\n",
      "Topic #8: give, bad, issue, guest, request, ever, notice, start, management, change\n",
      "Topic #9: night, pm, ready, wait, show, room ready, housekeeping, stay night, put, hear\n",
      "Topic #10: find, much, review, way, well, feel, resort, overlook, point, wife\n",
      "Topic #11: look, upgrade, offer, order, couple, receive, full, instead, far, upgrade room\n",
      "Topic #12: experience, overall, property, however, member, staff member, read, keep, let, note\n",
      "Topic #13: water, balcony, morning, coffee, face, end, lobby, free, seaweed, courtyard\n",
      "Topic #14: price, service, high, quality, level, worth price, closet, food, clothe, suitcase\n",
      "Topic #15: view, great view, room view, view room, beautiful view, view ocean, ocean, view great, view pool, amazing view\n"
     ]
    }
   ],
   "source": [
    "for i, topic_ngrams in enumerate(model.get_topics(n_words=10)):\n",
    "    topic_ngrams = [ngram[0] for ngram in topic_ngrams if ngram[1] > 0]\n",
    "    print(\"Topic #{}: {}\".format(i+1, \", \".join(topic_ngrams)))"
   ]
  },
  {
   "cell_type": "code",
   "execution_count": 80,
   "metadata": {},
   "outputs": [],
   "source": [
    "anchors=[\n",
    "    [a for a in topic if a in vocab]\n",
    "    for topic in categories_lower\n",
    "]\n",
    "anchors = list(filter(lambda x: len(x)>0, anchors))"
   ]
  },
  {
   "cell_type": "code",
   "execution_count": 83,
   "metadata": {},
   "outputs": [
    {
     "data": {
      "text/plain": [
       "([['bathroom',\n",
       "   'balcony',\n",
       "   'view',\n",
       "   'tv',\n",
       "   'furniture',\n",
       "   'shower',\n",
       "   'room size',\n",
       "   'old room',\n",
       "   'new room'],\n",
       "  ['comfort'],\n",
       "  ['cleanliness'],\n",
       "  ['beach'],\n",
       "  ['breakfast'],\n",
       "  ['food', 'menu', 'steak', 'fish', 'seafood'],\n",
       "  ['bar'],\n",
       "  ['location', 'shopping', 'parking'],\n",
       "  ['service',\n",
       "   'reception',\n",
       "   'restaurant service',\n",
       "   'pool service',\n",
       "   'beach service',\n",
       "   'housekeeping staff',\n",
       "   'management',\n",
       "   'bar service',\n",
       "   'room service'],\n",
       "  ['vibe'],\n",
       "  ['wifi'],\n",
       "  ['pool'],\n",
       "  ['value', 'terrace', 'elevator'],\n",
       "  ['luxury hotel', 'family hotel', 'resort hotel', 'beach hotel']],\n",
       " 14)"
      ]
     },
     "execution_count": 83,
     "metadata": {},
     "output_type": "execute_result"
    }
   ],
   "source": [
    "anchors, len(anchors)"
   ]
  },
  {
   "cell_type": "code",
   "execution_count": 82,
   "metadata": {},
   "outputs": [],
   "source": [
    "model = ct.Corex(n_hidden=14, seed=42)\n",
    "model = model.fit(\n",
    "    tfidf,\n",
    "    words=vocab,\n",
    "    anchors=anchors, # Pass the anchors in here\n",
    "    anchor_strength=3 # Tell the model how much it should rely on the anchors\n",
    ")"
   ]
  },
  {
   "cell_type": "code",
   "execution_count": null,
   "metadata": {},
   "outputs": [],
   "source": []
  },
  {
   "cell_type": "code",
   "execution_count": 84,
   "metadata": {},
   "outputs": [
    {
     "name": "stdout",
     "output_type": "stream",
     "text": [
      "Topic #1: bathroom, balcony, shower, furniture, tv, view, room size, bed, small, stain\n",
      "Topic #2: day, first, comfort, ready, towel, last, pm, room ready, show, change\n",
      "Topic #3: check, ask, call, tell, cleanliness, give, wait, arrive, review, night\n",
      "Topic #4: beach, private beach, private, beach great, beach staff, hotel beach, beach area, beach room, small beach, great beach\n",
      "Topic #5: breakfast, eat breakfast, free breakfast, service breakfast, breakfast include, buffet, breakfast lunch, bed breakfast, breakfast expensive, great breakfast\n",
      "Topic #6: food, menu, steak, fish, food drink, restaurant, food service, great food, drink food, food restaurant\n",
      "Topic #7: bar, pool bar, bar restaurant, restaurant bar, drink bar, bar staff, bar great, bar pool, hotel bar, bar area\n",
      "Topic #8: location, great location, great, location great, perfect location, hotel location, location perfect, location staff, perfect, location hotel\n",
      "Topic #9: service, room service, management, reception, pool service, housekeeping staff, great service, beach service, bar service, service great\n",
      "Topic #10: time, walk, well, next, drink, chair, water, end, look, thing\n",
      "Topic #11: charge, pay, wifi, price, much, find, cost, really, rate, fee\n",
      "Topic #12: pool, beach pool, pool area, pool beach, pool staff, area, pool great, great pool, pool small, pool room\n",
      "Topic #13: elevator, dirty, expect, value, never, floor, money, work, bad, carpet\n",
      "Topic #14: staff, friendly, reach, helpful, stay, staff friendly, stay reach, wonderful, friendly helpful, beautiful\n"
     ]
    }
   ],
   "source": [
    "for i, topic_ngrams in enumerate(model.get_topics(n_words=10)):\n",
    "    topic_ngrams = [ngram[0] for ngram in topic_ngrams if ngram[1] > 0]\n",
    "    print(\"Topic #{}: {}\".format(i+1, \", \".join(topic_ngrams)))"
   ]
  },
  {
   "cell_type": "code",
   "execution_count": 85,
   "metadata": {},
   "outputs": [],
   "source": [
    "\n",
    "topic_df = pd.DataFrame(\n",
    "    model.transform(tfidf), \n",
    "    columns=[\"topic_{}\".format(i+1) for i in range(14)]\n",
    ").astype(float)\n",
    "topic_df.index = df.index\n",
    "df = pd.concat([df, topic_df], axis=1)"
   ]
  },
  {
   "cell_type": "code",
   "execution_count": 87,
   "metadata": {},
   "outputs": [
    {
     "data": {
      "text/html": [
       "<div>\n",
       "<style scoped>\n",
       "    .dataframe tbody tr th:only-of-type {\n",
       "        vertical-align: middle;\n",
       "    }\n",
       "\n",
       "    .dataframe tbody tr th {\n",
       "        vertical-align: top;\n",
       "    }\n",
       "\n",
       "    .dataframe thead th {\n",
       "        text-align: right;\n",
       "    }\n",
       "</style>\n",
       "<table border=\"1\" class=\"dataframe\">\n",
       "  <thead>\n",
       "    <tr style=\"text-align: right;\">\n",
       "      <th></th>\n",
       "      <th>text</th>\n",
       "      <th>topic_1</th>\n",
       "      <th>topic_2</th>\n",
       "      <th>topic_3</th>\n",
       "      <th>topic_4</th>\n",
       "      <th>topic_5</th>\n",
       "      <th>topic_6</th>\n",
       "      <th>topic_7</th>\n",
       "      <th>topic_8</th>\n",
       "      <th>topic_9</th>\n",
       "      <th>topic_10</th>\n",
       "      <th>topic_11</th>\n",
       "      <th>topic_12</th>\n",
       "      <th>topic_13</th>\n",
       "      <th>topic_14</th>\n",
       "    </tr>\n",
       "  </thead>\n",
       "  <tbody>\n",
       "    <tr>\n",
       "      <th>2600</th>\n",
       "      <td>first time stay previous visit cruise beautifu...</td>\n",
       "      <td>0.0</td>\n",
       "      <td>0.0</td>\n",
       "      <td>0.0</td>\n",
       "      <td>0.0</td>\n",
       "      <td>0.0</td>\n",
       "      <td>0.0</td>\n",
       "      <td>0.0</td>\n",
       "      <td>0.0</td>\n",
       "      <td>0.0</td>\n",
       "      <td>1.0</td>\n",
       "      <td>0.0</td>\n",
       "      <td>0.0</td>\n",
       "      <td>0.0</td>\n",
       "      <td>1.0</td>\n",
       "    </tr>\n",
       "    <tr>\n",
       "      <th>3000</th>\n",
       "      <td>find hotel excellent part service staff restau...</td>\n",
       "      <td>0.0</td>\n",
       "      <td>0.0</td>\n",
       "      <td>0.0</td>\n",
       "      <td>0.0</td>\n",
       "      <td>0.0</td>\n",
       "      <td>0.0</td>\n",
       "      <td>0.0</td>\n",
       "      <td>0.0</td>\n",
       "      <td>1.0</td>\n",
       "      <td>0.0</td>\n",
       "      <td>0.0</td>\n",
       "      <td>1.0</td>\n",
       "      <td>0.0</td>\n",
       "      <td>0.0</td>\n",
       "    </tr>\n",
       "    <tr>\n",
       "      <th>4394</th>\n",
       "      <td>wife stay reach recent trip much debate proper...</td>\n",
       "      <td>0.0</td>\n",
       "      <td>0.0</td>\n",
       "      <td>0.0</td>\n",
       "      <td>1.0</td>\n",
       "      <td>0.0</td>\n",
       "      <td>0.0</td>\n",
       "      <td>0.0</td>\n",
       "      <td>0.0</td>\n",
       "      <td>0.0</td>\n",
       "      <td>1.0</td>\n",
       "      <td>0.0</td>\n",
       "      <td>1.0</td>\n",
       "      <td>1.0</td>\n",
       "      <td>0.0</td>\n",
       "    </tr>\n",
       "    <tr>\n",
       "      <th>2387</th>\n",
       "      <td>hotel cleanliness appearance hotel show age fa...</td>\n",
       "      <td>0.0</td>\n",
       "      <td>1.0</td>\n",
       "      <td>1.0</td>\n",
       "      <td>1.0</td>\n",
       "      <td>0.0</td>\n",
       "      <td>0.0</td>\n",
       "      <td>0.0</td>\n",
       "      <td>0.0</td>\n",
       "      <td>0.0</td>\n",
       "      <td>0.0</td>\n",
       "      <td>0.0</td>\n",
       "      <td>0.0</td>\n",
       "      <td>1.0</td>\n",
       "      <td>0.0</td>\n",
       "    </tr>\n",
       "    <tr>\n",
       "      <th>1187</th>\n",
       "      <td>wonderful experience overall hotel great room ...</td>\n",
       "      <td>0.0</td>\n",
       "      <td>0.0</td>\n",
       "      <td>0.0</td>\n",
       "      <td>1.0</td>\n",
       "      <td>0.0</td>\n",
       "      <td>1.0</td>\n",
       "      <td>0.0</td>\n",
       "      <td>0.0</td>\n",
       "      <td>0.0</td>\n",
       "      <td>0.0</td>\n",
       "      <td>0.0</td>\n",
       "      <td>1.0</td>\n",
       "      <td>0.0</td>\n",
       "      <td>1.0</td>\n",
       "    </tr>\n",
       "    <tr>\n",
       "      <th>...</th>\n",
       "      <td>...</td>\n",
       "      <td>...</td>\n",
       "      <td>...</td>\n",
       "      <td>...</td>\n",
       "      <td>...</td>\n",
       "      <td>...</td>\n",
       "      <td>...</td>\n",
       "      <td>...</td>\n",
       "      <td>...</td>\n",
       "      <td>...</td>\n",
       "      <td>...</td>\n",
       "      <td>...</td>\n",
       "      <td>...</td>\n",
       "      <td>...</td>\n",
       "      <td>...</td>\n",
       "    </tr>\n",
       "    <tr>\n",
       "      <th>2157</th>\n",
       "      <td>youre_paye reach location beach near night roo...</td>\n",
       "      <td>1.0</td>\n",
       "      <td>0.0</td>\n",
       "      <td>1.0</td>\n",
       "      <td>1.0</td>\n",
       "      <td>0.0</td>\n",
       "      <td>0.0</td>\n",
       "      <td>0.0</td>\n",
       "      <td>1.0</td>\n",
       "      <td>0.0</td>\n",
       "      <td>0.0</td>\n",
       "      <td>0.0</td>\n",
       "      <td>1.0</td>\n",
       "      <td>1.0</td>\n",
       "      <td>1.0</td>\n",
       "    </tr>\n",
       "    <tr>\n",
       "      <th>2585</th>\n",
       "      <td>stay group event amazing resort elegant room c...</td>\n",
       "      <td>0.0</td>\n",
       "      <td>0.0</td>\n",
       "      <td>0.0</td>\n",
       "      <td>1.0</td>\n",
       "      <td>1.0</td>\n",
       "      <td>0.0</td>\n",
       "      <td>0.0</td>\n",
       "      <td>0.0</td>\n",
       "      <td>0.0</td>\n",
       "      <td>0.0</td>\n",
       "      <td>0.0</td>\n",
       "      <td>1.0</td>\n",
       "      <td>0.0</td>\n",
       "      <td>1.0</td>\n",
       "    </tr>\n",
       "    <tr>\n",
       "      <th>2481</th>\n",
       "      <td>helpful staff great accomodation</td>\n",
       "      <td>0.0</td>\n",
       "      <td>0.0</td>\n",
       "      <td>0.0</td>\n",
       "      <td>0.0</td>\n",
       "      <td>0.0</td>\n",
       "      <td>0.0</td>\n",
       "      <td>0.0</td>\n",
       "      <td>0.0</td>\n",
       "      <td>0.0</td>\n",
       "      <td>0.0</td>\n",
       "      <td>0.0</td>\n",
       "      <td>0.0</td>\n",
       "      <td>0.0</td>\n",
       "      <td>0.0</td>\n",
       "    </tr>\n",
       "    <tr>\n",
       "      <th>2405</th>\n",
       "      <td>overall great experience main issue parking ho...</td>\n",
       "      <td>0.0</td>\n",
       "      <td>0.0</td>\n",
       "      <td>0.0</td>\n",
       "      <td>1.0</td>\n",
       "      <td>1.0</td>\n",
       "      <td>1.0</td>\n",
       "      <td>0.0</td>\n",
       "      <td>0.0</td>\n",
       "      <td>1.0</td>\n",
       "      <td>1.0</td>\n",
       "      <td>1.0</td>\n",
       "      <td>0.0</td>\n",
       "      <td>0.0</td>\n",
       "      <td>1.0</td>\n",
       "    </tr>\n",
       "    <tr>\n",
       "      <th>2441</th>\n",
       "      <td>first trip look earth find place beach clear w...</td>\n",
       "      <td>1.0</td>\n",
       "      <td>0.0</td>\n",
       "      <td>1.0</td>\n",
       "      <td>1.0</td>\n",
       "      <td>1.0</td>\n",
       "      <td>1.0</td>\n",
       "      <td>0.0</td>\n",
       "      <td>1.0</td>\n",
       "      <td>1.0</td>\n",
       "      <td>1.0</td>\n",
       "      <td>1.0</td>\n",
       "      <td>1.0</td>\n",
       "      <td>0.0</td>\n",
       "      <td>1.0</td>\n",
       "    </tr>\n",
       "  </tbody>\n",
       "</table>\n",
       "<p>100 rows × 15 columns</p>\n",
       "</div>"
      ],
      "text/plain": [
       "                                                   text  topic_1  topic_2  \\\n",
       "2600  first time stay previous visit cruise beautifu...      0.0      0.0   \n",
       "3000  find hotel excellent part service staff restau...      0.0      0.0   \n",
       "4394  wife stay reach recent trip much debate proper...      0.0      0.0   \n",
       "2387  hotel cleanliness appearance hotel show age fa...      0.0      1.0   \n",
       "1187  wonderful experience overall hotel great room ...      0.0      0.0   \n",
       "...                                                 ...      ...      ...   \n",
       "2157  youre_paye reach location beach near night roo...      1.0      0.0   \n",
       "2585  stay group event amazing resort elegant room c...      0.0      0.0   \n",
       "2481                   helpful staff great accomodation      0.0      0.0   \n",
       "2405  overall great experience main issue parking ho...      0.0      0.0   \n",
       "2441  first trip look earth find place beach clear w...      1.0      0.0   \n",
       "\n",
       "      topic_3  topic_4  topic_5  topic_6  topic_7  topic_8  topic_9  topic_10  \\\n",
       "2600      0.0      0.0      0.0      0.0      0.0      0.0      0.0       1.0   \n",
       "3000      0.0      0.0      0.0      0.0      0.0      0.0      1.0       0.0   \n",
       "4394      0.0      1.0      0.0      0.0      0.0      0.0      0.0       1.0   \n",
       "2387      1.0      1.0      0.0      0.0      0.0      0.0      0.0       0.0   \n",
       "1187      0.0      1.0      0.0      1.0      0.0      0.0      0.0       0.0   \n",
       "...       ...      ...      ...      ...      ...      ...      ...       ...   \n",
       "2157      1.0      1.0      0.0      0.0      0.0      1.0      0.0       0.0   \n",
       "2585      0.0      1.0      1.0      0.0      0.0      0.0      0.0       0.0   \n",
       "2481      0.0      0.0      0.0      0.0      0.0      0.0      0.0       0.0   \n",
       "2405      0.0      1.0      1.0      1.0      0.0      0.0      1.0       1.0   \n",
       "2441      1.0      1.0      1.0      1.0      0.0      1.0      1.0       1.0   \n",
       "\n",
       "      topic_11  topic_12  topic_13  topic_14  \n",
       "2600       0.0       0.0       0.0       1.0  \n",
       "3000       0.0       1.0       0.0       0.0  \n",
       "4394       0.0       1.0       1.0       0.0  \n",
       "2387       0.0       0.0       1.0       0.0  \n",
       "1187       0.0       1.0       0.0       1.0  \n",
       "...        ...       ...       ...       ...  \n",
       "2157       0.0       1.0       1.0       1.0  \n",
       "2585       0.0       1.0       0.0       1.0  \n",
       "2481       0.0       0.0       0.0       0.0  \n",
       "2405       1.0       0.0       0.0       1.0  \n",
       "2441       1.0       1.0       0.0       1.0  \n",
       "\n",
       "[100 rows x 15 columns]"
      ]
     },
     "execution_count": 87,
     "metadata": {},
     "output_type": "execute_result"
    }
   ],
   "source": [
    "df.sample(100, random_state=42)"
   ]
  }
 ],
 "metadata": {
  "kernelspec": {
   "display_name": "CPD",
   "language": "python",
   "name": "cpd"
  },
  "language_info": {
   "codemirror_mode": {
    "name": "ipython",
    "version": 3
   },
   "file_extension": ".py",
   "mimetype": "text/x-python",
   "name": "python",
   "nbconvert_exporter": "python",
   "pygments_lexer": "ipython3",
   "version": "3.8.0"
  }
 },
 "nbformat": 4,
 "nbformat_minor": 4
}
