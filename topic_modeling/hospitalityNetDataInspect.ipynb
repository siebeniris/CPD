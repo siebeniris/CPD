{
 "cells": [
  {
   "cell_type": "code",
   "execution_count": 19,
   "metadata": {},
   "outputs": [],
   "source": [
    "import pandas as pd\n",
    "import numpy as np\n",
    "import json\n",
    "import os"
   ]
  },
  {
   "cell_type": "code",
   "execution_count": 2,
   "metadata": {},
   "outputs": [
    {
     "data": {
      "text/plain": [
       "'/home/yiyi/Documents/masterthesis/CPD/topic_modeling'"
      ]
     },
     "execution_count": 2,
     "metadata": {},
     "output_type": "execute_result"
    }
   ],
   "source": [
    "os.getcwd()"
   ]
  },
  {
   "cell_type": "code",
   "execution_count": 3,
   "metadata": {},
   "outputs": [],
   "source": [
    "filepath='/home/yiyi/Documents/masterthesis/CPD/data/renovated_hotels_content20200420.json'"
   ]
  },
  {
   "cell_type": "code",
   "execution_count": 19,
   "metadata": {},
   "outputs": [],
   "source": [
    "with open(filepath) as file:\n",
    "    data = json.load(file)"
   ]
  },
  {
   "cell_type": "code",
   "execution_count": 20,
   "metadata": {},
   "outputs": [],
   "source": [
    "not_matched = [44, 49, 84, 138, 177, 181, 245, 274, 302, 324,392, 403, 430]"
   ]
  },
  {
   "cell_type": "code",
   "execution_count": 21,
   "metadata": {},
   "outputs": [],
   "source": [
    "aspects = [\n",
    "    \"room\", \"suites\", \"bathroom\", \"furniture\",\"guestroom\",\n",
    "    \"meeting\" , \"event\",\n",
    "    \"lobby\", \"atrium\",\n",
    "    \"view\", \n",
    "    \"entertainment\",\n",
    "    \"pool\",\n",
    "    \"café\",\n",
    "    \"ballroom\",\n",
    "    \"restaurant\", \"bar\",\n",
    "    \"interior\",\n",
    "    \"exterior\",\n",
    "    \"reception\", \n",
    "    \"lounge\",\n",
    "    \n",
    "]"
   ]
  },
  {
   "cell_type": "code",
   "execution_count": 20,
   "metadata": {},
   "outputs": [],
   "source": [
    "from nltk.tokenize import sent_tokenize\n",
    "import regex\n",
    "from spacy.lang.en.stop_words import STOP_WORDS"
   ]
  },
  {
   "cell_type": "code",
   "execution_count": 21,
   "metadata": {},
   "outputs": [],
   "source": [
    "import spacy\n",
    "nlp=spacy.load(\"en_core_web_sm\")"
   ]
  },
  {
   "cell_type": "code",
   "execution_count": 9,
   "metadata": {},
   "outputs": [],
   "source": [
    "example=\"La Colección, a selection of 12 resorts that encompasses the brands Live Aqua Resorts, Grand Fiesta Americana Hotels & Resorts, Fiesta Americana Hotels & Resorts and The Explorean, is pleased to announce the completion of a multimillion dollar renovation at Fiesta Americana Condesa Cancun All Inclusive. The resort and area icon now showcases fully enhanced guestrooms in its three towers and an upgraded Grand Ballroom Condesa that complement its favored all-inclusive Mexican vacation experience that showcases authentic traditions and culture, family-friendly amenities and first-class meetings and events offering.\""
   ]
  },
  {
   "cell_type": "code",
   "execution_count": 10,
   "metadata": {},
   "outputs": [],
   "source": [
    "sents = sent_tokenize(example)"
   ]
  },
  {
   "cell_type": "code",
   "execution_count": 14,
   "metadata": {
    "scrolled": true
   },
   "outputs": [
    {
     "name": "stdout",
     "output_type": "stream",
     "text": [
      "La PROPN\n",
      "Colección PROPN\n",
      ", PUNCT\n",
      "a DET\n",
      "selection NOUN\n",
      "of ADP\n",
      "12 NUM\n",
      "resorts NOUN\n",
      "that DET\n",
      "encompasses VERB\n",
      "the DET\n",
      "brands NOUN\n",
      "Live VERB\n",
      "Aqua PROPN\n",
      "Resorts PROPN\n",
      ", PUNCT\n",
      "Grand PROPN\n",
      "Fiesta PROPN\n",
      "Americana PROPN\n",
      "Hotels PROPN\n",
      "& CCONJ\n",
      "Resorts PROPN\n",
      ", PUNCT\n",
      "Fiesta PROPN\n",
      "Americana PROPN\n",
      "Hotels PROPN\n",
      "& CCONJ\n",
      "Resorts PROPN\n",
      "and CCONJ\n",
      "The DET\n",
      "Explorean PROPN\n",
      ", PUNCT\n",
      "is AUX\n",
      "pleased ADJ\n",
      "to PART\n",
      "announce VERB\n",
      "the DET\n",
      "completion NOUN\n",
      "of ADP\n",
      "a DET\n",
      "multimillion ADJ\n",
      "dollar NOUN\n",
      "renovation NOUN\n",
      "at ADP\n",
      "Fiesta PROPN\n",
      "Americana PROPN\n",
      "Condesa PROPN\n",
      "Cancun PROPN\n",
      "All DET\n",
      "Inclusive ADJ\n",
      ". PUNCT\n",
      "The DET\n",
      "resort NOUN\n",
      "and CCONJ\n",
      "area NOUN\n",
      "icon PROPN\n",
      "now ADV\n",
      "showcases VERB\n",
      "fully ADV\n",
      "enhanced VERB\n",
      "guestrooms NOUN\n",
      "in ADP\n",
      "its DET\n",
      "three NUM\n",
      "towers NOUN\n",
      "and CCONJ\n",
      "an DET\n",
      "upgraded VERB\n",
      "Grand PROPN\n",
      "Ballroom PROPN\n",
      "Condesa PROPN\n",
      "that DET\n",
      "complement VERB\n",
      "its DET\n",
      "favored VERB\n",
      "all DET\n",
      "- PUNCT\n",
      "inclusive ADJ\n",
      "Mexican ADJ\n",
      "vacation NOUN\n",
      "experience NOUN\n",
      "that DET\n",
      "showcases VERB\n",
      "authentic ADJ\n",
      "traditions NOUN\n",
      "and CCONJ\n",
      "culture NOUN\n",
      ", PUNCT\n",
      "family NOUN\n",
      "- PUNCT\n",
      "friendly ADJ\n",
      "amenities NOUN\n",
      "and CCONJ\n",
      "first ADJ\n",
      "- PUNCT\n",
      "class NOUN\n",
      "meetings NOUN\n",
      "and CCONJ\n",
      "events NOUN\n",
      "offering NOUN\n",
      ". PUNCT\n"
     ]
    }
   ],
   "source": [
    "for sent in sents:\n",
    "    doc = nlp(sent)\n",
    "    \n",
    "#     for noun_phrase in list(doc.noun_chunks):\n",
    "#         noun_phrase.merge(noun_phrase.root.tag_, noun_phrase.root.lemma_, noun_phrase.root.ent_type_)\n",
    "    for token in doc:\n",
    "        print(token.text, token.pos_)"
   ]
  },
  {
   "cell_type": "code",
   "execution_count": 23,
   "metadata": {},
   "outputs": [],
   "source": [
    "from itertools import chain"
   ]
  },
  {
   "cell_type": "code",
   "execution_count": 17,
   "metadata": {},
   "outputs": [],
   "source": [
    "from utils.timer import Timer\n",
    "import string"
   ]
  },
  {
   "cell_type": "code",
   "execution_count": 45,
   "metadata": {},
   "outputs": [
    {
     "name": "stdout",
     "output_type": "stream",
     "text": [
      "Elapsed time: 47.2137 seconds\n"
     ]
    }
   ],
   "source": [
    "schedules = []\n",
    "sentences =[]\n",
    "\n",
    "dictionary_aspects= {}\n",
    "\n",
    "timer= Timer()\n",
    "timer.start()\n",
    "for content in data:\n",
    "    idx = content['id']\n",
    "    if idx not in not_matched:\n",
    "        sentence =[]\n",
    "        hotelname = content['hotelName']\n",
    "        subtitles = content['subtitle']\n",
    "        cont = content['content']\n",
    "        d = subtitles[-1].split('–')\n",
    "        \n",
    "        if d[0] and d[0].startswith('Scheduled'):\n",
    "            reopen_time = d[0].replace('Scheduled for ', '')\n",
    "            if reopen_time:\n",
    "                schedules.append(reopen_time)\n",
    "                \n",
    "        for paragraph in cont:\n",
    "            if paragraph !=\"\\n\":\n",
    "                \n",
    "                sents = sent_tokenize(paragraph)\n",
    "                for sent in sents:\n",
    "                    relate = []\n",
    "                    doc = nlp(sent)\n",
    "                    ent_tokens = [ent.text.split() for ent in doc.ents]\n",
    "                    ent_tokens = list(chain.from_iterable(ent_tokens))\n",
    "                    \n",
    "                    # get only lemmas and non entities.\n",
    "                    for token in doc:\n",
    "                        if token.text not in ent_tokens and token.text not in STOP_WORDS:\n",
    "                            if token.pos_ in ['PROPN', 'NOUN', 'VERB','ADJ'] and not token.is_punct:\n",
    "                                t = token.lemma_.translate(str.maketrans('', '', string.punctuation)).strip()\n",
    "                                if len(t)>1:\n",
    "                                    relate.append(t.lower())\n",
    "                    if len(relate)>2:\n",
    "                        sentences.append(relate)\n",
    "                        sentence.append(relate)\n",
    "            dictionary_aspects[idx]= sentence\n",
    "timer.stop()"
   ]
  },
  {
   "cell_type": "code",
   "execution_count": null,
   "metadata": {},
   "outputs": [],
   "source": [
    "len(sentences)"
   ]
  },
  {
   "cell_type": "code",
   "execution_count": null,
   "metadata": {},
   "outputs": [],
   "source": [
    "sentences[:10]"
   ]
  },
  {
   "cell_type": "code",
   "execution_count": 26,
   "metadata": {},
   "outputs": [],
   "source": [
    "# import pickle\n",
    "# with open('sentences.pkl','wb')as file:\n",
    "#     pickle.dump(sentences, file)"
   ]
  },
  {
   "cell_type": "code",
   "execution_count": 4,
   "metadata": {},
   "outputs": [],
   "source": [
    "import pickle\n",
    "with open('sentences.pkl', 'rb') as file:\n",
    "    sentences = pickle.load(file)"
   ]
  },
  {
   "cell_type": "code",
   "execution_count": 6,
   "metadata": {},
   "outputs": [],
   "source": [
    "# import json \n",
    "# with open('/home/yiyi/Documents/masterthesis/CPD/data/hospitalityNet_hotel_aspects.json', 'w')as file:\n",
    "#     json.dump(dictionary_aspects, file)"
   ]
  },
  {
   "cell_type": "code",
   "execution_count": 17,
   "metadata": {},
   "outputs": [],
   "source": [
    "# https://www.shanelynn.ie/word-embeddings-in-python-with-spacy-and-gensim/"
   ]
  },
  {
   "cell_type": "code",
   "execution_count": 28,
   "metadata": {},
   "outputs": [
    {
     "data": {
      "text/plain": [
       "(11.0, 12.242080179422484, 58)"
      ]
     },
     "execution_count": 28,
     "metadata": {},
     "output_type": "execute_result"
    }
   ],
   "source": [
    "import numpy as np\n",
    "lens =[len(sent) for sent in sentences]\n",
    "np.median(lens) , np.mean(lens), np.max(lens)\n"
   ]
  },
  {
   "cell_type": "code",
   "execution_count": 29,
   "metadata": {},
   "outputs": [],
   "source": [
    "from gensim.models import Word2Vec\n",
    "model = Word2Vec(sentences,size=200, window=6, min_count=2, workers=8, iter=200, negative=5)"
   ]
  },
  {
   "cell_type": "code",
   "execution_count": 37,
   "metadata": {},
   "outputs": [
    {
     "data": {
      "text/plain": [
       "(200, 4263)"
      ]
     },
     "execution_count": 37,
     "metadata": {},
     "output_type": "execute_result"
    }
   ],
   "source": [
    "model.vector_size, len(model.wv.vocab)"
   ]
  },
  {
   "cell_type": "code",
   "execution_count": 38,
   "metadata": {},
   "outputs": [
    {
     "name": "stderr",
     "output_type": "stream",
     "text": [
      "/home/yiyi/anaconda3/envs/cpd/lib/python3.7/site-packages/ipykernel_launcher.py:1: DeprecationWarning: Call to deprecated `most_similar` (Method will be removed in 4.0.0, use self.wv.most_similar() instead).\n",
      "  \"\"\"Entry point for launching an IPython kernel.\n"
     ]
    },
    {
     "data": {
      "text/plain": [
       "[('vista', 0.4270409047603607),\n",
       " ('perch', 0.42042872309684753),\n",
       " ('overlook', 0.34683653712272644),\n",
       " ('balcony', 0.3127508759498596),\n",
       " ('terrace', 0.29943856596946716),\n",
       " ('panoramic', 0.2940656542778015),\n",
       " ('breeze', 0.2929036319255829),\n",
       " ('backdrop', 0.28438282012939453),\n",
       " ('rarity', 0.28423428535461426),\n",
       " ('uninterrupted', 0.28322410583496094),\n",
       " ('overwater', 0.27970176935195923),\n",
       " ('skyline', 0.27953606843948364),\n",
       " ('renaissance', 0.2787865996360779),\n",
       " ('seclusion', 0.27351126074790955),\n",
       " ('vistas', 0.2585688829421997),\n",
       " ('patio', 0.25499746203422546),\n",
       " ('private', 0.2493060678243637),\n",
       " ('bandwidth', 0.24848279356956482),\n",
       " ('window', 0.24314753711223602),\n",
       " ('scenery', 0.24297493696212769)]"
      ]
     },
     "execution_count": 38,
     "metadata": {},
     "output_type": "execute_result"
    }
   ],
   "source": [
    "model.most_similar('view', topn=20)"
   ]
  },
  {
   "cell_type": "code",
   "execution_count": 44,
   "metadata": {},
   "outputs": [
    {
     "name": "stderr",
     "output_type": "stream",
     "text": [
      "/home/yiyi/anaconda3/envs/cpd/lib/python3.7/site-packages/ipykernel_launcher.py:1: DeprecationWarning: Call to deprecated `most_similar` (Method will be removed in 4.0.0, use self.wv.most_similar() instead).\n",
      "  \"\"\"Entry point for launching an IPython kernel.\n"
     ]
    },
    {
     "data": {
      "text/plain": [
       "[('renovation', 0.29658204317092896),\n",
       " ('new', 0.2963961660861969),\n",
       " ('additional', 0.2834628224372864),\n",
       " ('suite', 0.2606421709060669),\n",
       " ('lobby', 0.253612220287323),\n",
       " ('room', 0.24985244870185852),\n",
       " ('remodel', 0.24931523203849792),\n",
       " ('floor', 0.24202120304107666),\n",
       " ('exterior', 0.2409266233444214),\n",
       " ('refurbish', 0.23676377534866333),\n",
       " ('revamp', 0.22743786871433258),\n",
       " ('grand', 0.22628694772720337),\n",
       " ('meeting', 0.22482340037822723),\n",
       " ('lounge', 0.22393319010734558),\n",
       " ('upgrade', 0.22121959924697876),\n",
       " ('presidential', 0.2202739417552948),\n",
       " ('revitalize', 0.21617360413074493),\n",
       " ('refresh', 0.2158096879720688),\n",
       " ('space', 0.21567687392234802),\n",
       " ('multifunctional', 0.21249355375766754),\n",
       " ('appoint', 0.2089328020811081),\n",
       " ('late', 0.2087416797876358),\n",
       " ('reimagine', 0.2087179720401764),\n",
       " ('update', 0.2085898518562317),\n",
       " ('total', 0.20824703574180603),\n",
       " ('public', 0.20795631408691406),\n",
       " ('restaurant', 0.20519554615020752),\n",
       " ('luxurious', 0.20324495434761047),\n",
       " ('revitalization', 0.20131850242614746),\n",
       " ('unveiling', 0.20115935802459717),\n",
       " ('span', 0.20095056295394897),\n",
       " ('area', 0.19978360831737518),\n",
       " ('investment', 0.1995454579591751),\n",
       " ('contemporary', 0.1978418529033661),\n",
       " ('dining', 0.19616204500198364),\n",
       " ('deluxe', 0.19575434923171997),\n",
       " ('hotel', 0.19319015741348267),\n",
       " ('renovated', 0.19261296093463898),\n",
       " ('improved', 0.1911771297454834),\n",
       " ('mini', 0.19048045575618744),\n",
       " ('luxury', 0.18817344307899475),\n",
       " ('upscale', 0.18697646260261536),\n",
       " ('t', 0.18634912371635437),\n",
       " ('carpeting', 0.18573662638664246),\n",
       " ('common', 0.1826883852481842),\n",
       " ('facelift', 0.18257828056812286),\n",
       " ('beverage', 0.18163782358169556),\n",
       " ('view', 0.18120776116847992),\n",
       " ('fitness', 0.18004050850868225),\n",
       " ('miami', 0.1798759400844574)]"
      ]
     },
     "execution_count": 44,
     "metadata": {},
     "output_type": "execute_result"
    }
   ],
   "source": [
    "model.most_similar('renovate', topn=50)"
   ]
  },
  {
   "cell_type": "code",
   "execution_count": 40,
   "metadata": {},
   "outputs": [
    {
     "name": "stderr",
     "output_type": "stream",
     "text": [
      "/home/yiyi/anaconda3/envs/cpd/lib/python3.7/site-packages/ipykernel_launcher.py:1: DeprecationWarning: Call to deprecated `similarity` (Method will be removed in 4.0.0, use self.wv.similarity() instead).\n",
      "  \"\"\"Entry point for launching an IPython kernel.\n"
     ]
    },
    {
     "data": {
      "text/plain": [
       "0.29956225"
      ]
     },
     "execution_count": 40,
     "metadata": {},
     "output_type": "execute_result"
    }
   ],
   "source": [
    "model.similarity('pool', 'swim')"
   ]
  },
  {
   "cell_type": "code",
   "execution_count": 52,
   "metadata": {},
   "outputs": [
    {
     "name": "stderr",
     "output_type": "stream",
     "text": [
      "/home/yiyi/anaconda3/envs/cpd/lib/python3.7/site-packages/ipykernel_launcher.py:1: DeprecationWarning: Call to deprecated `most_similar` (Method will be removed in 4.0.0, use self.wv.most_similar() instead).\n",
      "  \"\"\"Entry point for launching an IPython kernel.\n"
     ]
    },
    {
     "data": {
      "text/plain": [
       "[('transformation', 0.5038843750953674),\n",
       " ('hotel', 0.43146654963493347),\n",
       " ('phase', 0.4283737540245056),\n",
       " ('enhancement', 0.41524258255958557),\n",
       " ('suite', 0.4041217863559723),\n",
       " ('restoration', 0.39345410466194153),\n",
       " ('refurbishment', 0.3794313669204712),\n",
       " ('remodel', 0.3730311989784241),\n",
       " ('ii', 0.36552244424819946),\n",
       " ('resort', 0.35930755734443665),\n",
       " ('project', 0.35906684398651123),\n",
       " ('new', 0.3569549322128296),\n",
       " ('comprehensive', 0.3548692464828491),\n",
       " ('unveil', 0.3495545983314514),\n",
       " ('dollar', 0.34872180223464966),\n",
       " ('property', 0.3353404104709625),\n",
       " ('revitalization', 0.3317023515701294),\n",
       " ('period', 0.3289315700531006),\n",
       " ('redesign', 0.32763057947158813),\n",
       " ('undergo', 0.32205507159233093)]"
      ]
     },
     "execution_count": 52,
     "metadata": {},
     "output_type": "execute_result"
    }
   ],
   "source": [
    "model.most_similar('renovation', topn=20)"
   ]
  },
  {
   "cell_type": "code",
   "execution_count": 26,
   "metadata": {},
   "outputs": [
    {
     "name": "stderr",
     "output_type": "stream",
     "text": [
      "/home/yiyi/anaconda3/envs/cpd/lib/python3.7/site-packages/ipykernel_launcher.py:1: DeprecationWarning: Call to deprecated `similarity` (Method will be removed in 4.0.0, use self.wv.similarity() instead).\n",
      "  \"\"\"Entry point for launching an IPython kernel.\n"
     ]
    },
    {
     "data": {
      "text/plain": [
       "0.14854294"
      ]
     },
     "execution_count": 26,
     "metadata": {},
     "output_type": "execute_result"
    }
   ],
   "source": [
    "model.similarity('lighting','room')"
   ]
  },
  {
   "cell_type": "code",
   "execution_count": 49,
   "metadata": {},
   "outputs": [],
   "source": [
    "model.save('/home/yiyi/Documents/masterthesis/CPD/data/word2vec_model_200_iter_neg_5_win_6')"
   ]
  },
  {
   "cell_type": "code",
   "execution_count": 55,
   "metadata": {},
   "outputs": [],
   "source": [
    "def sent_vectorizer(sent, model):\n",
    "    sent_vec = []\n",
    "    numw = 0\n",
    "    for w in sent:\n",
    "        try:\n",
    "            if numw==0:\n",
    "                sent_vec = model[w]\n",
    "            else:\n",
    "                sent_vec = np.add(sent_vec, model[w])\n",
    "            numw += 1\n",
    "        except:\n",
    "            pass\n",
    "    return np.asarray(sent_vec) / numw"
   ]
  },
  {
   "cell_type": "code",
   "execution_count": 59,
   "metadata": {},
   "outputs": [],
   "source": [
    "features = list(model.wv.vocab)"
   ]
  },
  {
   "cell_type": "code",
   "execution_count": 89,
   "metadata": {},
   "outputs": [
    {
     "name": "stderr",
     "output_type": "stream",
     "text": [
      "/home/yiyi/anaconda3/envs/cpd/lib/python3.7/site-packages/sklearn/externals/joblib/__init__.py:15: FutureWarning: sklearn.externals.joblib is deprecated in 0.21 and will be removed in 0.23. Please import this functionality directly from joblib, which can be installed with: pip install joblib. If this warning is raised when loading pickled models, you may need to re-serialize those models with scikit-learn 0.21+.\n",
      "  warnings.warn(msg, category=FutureWarning)\n"
     ]
    }
   ],
   "source": [
    "from sklearn.feature_extraction.text import CountVectorizer \n",
    "from sklearn.feature_extraction.text import TfidfVectorizer\n",
    "from sklearn.decomposition import SparsePCA, NMF\n",
    "\n",
    "from gensim.models import LdaModel, CoherenceModel\n",
    "from gensim.corpora.dictionary import Dictionary\n",
    "from corextopic import corextopic as ct"
   ]
  },
  {
   "cell_type": "code",
   "execution_count": 71,
   "metadata": {},
   "outputs": [],
   "source": [
    "sentences_string =[]\n",
    "for sent in sentences:\n",
    "    sentences_string.append(' '.join(sent))"
   ]
  },
  {
   "cell_type": "code",
   "execution_count": 72,
   "metadata": {},
   "outputs": [
    {
     "data": {
      "text/plain": [
       "['embassy suites downtown', 'complete final phase dollar property renovation']"
      ]
     },
     "execution_count": 72,
     "metadata": {},
     "output_type": "execute_result"
    }
   ],
   "source": [
    "sentences_string[:2]"
   ]
  },
  {
   "cell_type": "code",
   "execution_count": 73,
   "metadata": {},
   "outputs": [
    {
     "name": "stdout",
     "output_type": "stream",
     "text": [
      "Num. Features (Count Vec):  6984\n",
      "Num. Features (TFIDF Vec):  6984\n",
      "\n",
      "Dim. Docs (Count Vec):  (7128, 6984)\n",
      "Dim. Docs (TFIDF Vec):  (7128, 6984)\n"
     ]
    }
   ],
   "source": [
    "cv_vectorizer = CountVectorizer() # from helper.py\n",
    "cv_docs = cv_vectorizer.fit_transform(sentences_string)\n",
    "cv_features = cv_vectorizer.get_feature_names()\n",
    "tf_vectorizer = TfidfVectorizer() # from helper.py\n",
    "tf_docs = tf_vectorizer.fit_transform(sentences_string)\n",
    "tf_features = tf_vectorizer.get_feature_names()\n",
    "print('Num. Features (Count Vec): ', len(cv_features))\n",
    "print('Num. Features (TFIDF Vec): ', len(tf_features))\n",
    "print('')\n",
    "print('Dim. Docs (Count Vec): ', cv_docs.shape)\n",
    "print('Dim. Docs (TFIDF Vec): ', tf_docs.shape)"
   ]
  },
  {
   "cell_type": "code",
   "execution_count": 93,
   "metadata": {},
   "outputs": [
    {
     "name": "stderr",
     "output_type": "stream",
     "text": [
      "/home/yiyi/anaconda3/envs/cpd/lib/python3.7/site-packages/ipykernel_launcher.py:1: DeprecationWarning: Call to deprecated `most_similar` (Method will be removed in 4.0.0, use self.wv.most_similar() instead).\n",
      "  \"\"\"Entry point for launching an IPython kernel.\n"
     ]
    },
    {
     "data": {
      "text/plain": [
       "[('lagoon', 0.3540167808532715),\n",
       " ('sea', 0.29749220609664917),\n",
       " ('sunshine', 0.2973877191543579),\n",
       " ('tv', 0.29049259424209595),\n",
       " ('expansive', 0.2895280718803406),\n",
       " ('turquoise', 0.28922024369239807),\n",
       " ('overwater', 0.2741917371749878),\n",
       " ('incredible', 0.27005329728126526),\n",
       " ('perch', 0.2608832120895386),\n",
       " ('immersion', 0.2570207118988037)]"
      ]
     },
     "execution_count": 93,
     "metadata": {},
     "output_type": "execute_result"
    }
   ],
   "source": [
    "model.most_similar('ocean', topn=10)"
   ]
  },
  {
   "cell_type": "code",
   "execution_count": 97,
   "metadata": {},
   "outputs": [],
   "source": [
    "aspects = [\n",
    "    [\"room\", \"suites\", \"bathroom\", \"furniture\",\"guestroom\"],\n",
    "    [\"meeting\" , \"event\" ,\"ballroom\"],\n",
    "    [\"lobby\", \"atrium\" , \"reception\", \"lounge\"],\n",
    "    [\"view\",\"vista\", \"panoramic\", \"window\", \"scenery\"], \n",
    "    [\"pool\", 'gym'],\n",
    "    [\"restaurant\", \"bar\", \"café\"],\n",
    "    [\"renovation\", \"refresh\", \"transformation\", \"redesign\", \"remodel\"]\n",
    "]"
   ]
  },
  {
   "cell_type": "code",
   "execution_count": 106,
   "metadata": {},
   "outputs": [],
   "source": [
    "aspects_dict= {\n",
    "    0: 'room',\n",
    "    1: 'meeting',\n",
    "    2: 'lobby',\n",
    "    3: 'view',\n",
    "    4: 'pool',\n",
    "    5: 'restaurant',\n",
    "    6: 'renovation'\n",
    "}"
   ]
  },
  {
   "cell_type": "code",
   "execution_count": 102,
   "metadata": {},
   "outputs": [],
   "source": [
    "topic_model = ct.Corex(n_hidden=len(aspects), seed=42)"
   ]
  },
  {
   "cell_type": "code",
   "execution_count": 103,
   "metadata": {},
   "outputs": [
    {
     "data": {
      "text/plain": [
       "<corextopic.corextopic.Corex at 0x7f0380a7f3d0>"
      ]
     },
     "execution_count": 103,
     "metadata": {},
     "output_type": "execute_result"
    }
   ],
   "source": [
    "topic_model.fit(cv_docs, words=cv_features, anchors=aspects, anchor_strength=6 )"
   ]
  },
  {
   "cell_type": "code",
   "execution_count": 111,
   "metadata": {},
   "outputs": [
    {
     "name": "stdout",
     "output_type": "stream",
     "text": [
      "(0.4590060663406843, 0.07394128187185246, 0.04612714015429687, 0.04226790842278602, 0.011652809566145818, 0.057881983098476246, 0.024838565540273937, 0.014516380457897347, 0.012921635009991751, 0.009198084844607511)\n",
      "1: room, guestroom, bathroom, furniture, suites, suite, guest, include, shower, feature\n",
      "(0.23006285450603323, 0.1578328404565233, 0.03479937539459509, 0.0872119271426965, 0.015245583703392898, 0.013498734530271395, 0.012121996571958178, 0.011533049028388857, 0.011102233543465276, 0.0075799473112218504)\n",
      "2: meeting, event, ballroom, space, wedding, conference, flexible, accommodate, function, foot\n",
      "(0.22930887961625485, 0.12048321244665534, 0.02814270638942019, 0.012943524556998987, 0.012288758100838036, 0.0047759338309817725, 0.004755395449454906, 0.004465242789385253, 0.0042474890500753815, 0.003224012691016707)\n",
      "3: lobby, lounge, reception, atrium, area, seating, desk, arrival, check, enter\n",
      "(0.11784821405719755, 0.03075949333199999, 0.012861367623092423, 0.050365938375359916, 0.006013887063152856, 0.03434926253654002, 0.03419566024279041, 0.034086173089533094, 0.028476047949806155, 0.02736266733838342)\n",
      "4: view, window, panoramic, color, vista, palette, blue, wood, accent, natural\n",
      "(0.20951235992265757, 0.015226565574513035, 0.04759724707604611, 0.03022499272418578, 0.023370704437108446, 0.019591431850852745, 0.01794406679737095, 0.01731047688298156, 0.013757678602637638, 0.011236781207047939)\n",
      "5: pool, gym, fitness, outdoor, center, deck, spa, indoor, swimming, heated\n",
      "(0.2021991926844371, 0.1694459457333603, 0.007430224669974216, 0.01825277110623689, 0.013333315730660024, 0.012501305192450872, 0.011817452760008146, 0.010270001108519129, 0.008795667029133494, 0.008462544916659619)\n",
      "6: restaurant, bar, café, menu, cocktail, cuisine, craft, beer, chef, signature\n",
      "(0.2845418666378346, 0.09244251121138704, 0.05138312446020737, 0.04339573872965747, 0.01791711901781947, 0.032235752978161995, 0.022886164246652595, 0.019684627814470355, 0.018000318100017277, 0.014824707224106226)\n",
      "7: renovation, redesign, transformation, refresh, remodel, complete, completion, announce, dollar, multi\n"
     ]
    }
   ],
   "source": [
    "topic_words = dict()\n",
    "for topic_n,topic in enumerate(topic_model.get_topics()):\n",
    "    words,mis = zip(*topic)\n",
    "    print(mis)\n",
    "    topic_str = str(topic_n+1)+': '+', '.join(words)\n",
    "    print(topic_str)\n",
    "    topic_words['t_'+ aspects_dict[topic_n]] = words"
   ]
  },
  {
   "cell_type": "code",
   "execution_count": 115,
   "metadata": {
    "scrolled": true
   },
   "outputs": [
    {
     "data": {
      "text/plain": [
       "{'t_room': ('room',\n",
       "  'guestroom',\n",
       "  'bathroom',\n",
       "  'furniture',\n",
       "  'suites',\n",
       "  'suite',\n",
       "  'guest',\n",
       "  'include',\n",
       "  'shower',\n",
       "  'feature'),\n",
       " 't_meeting': ('meeting',\n",
       "  'event',\n",
       "  'ballroom',\n",
       "  'space',\n",
       "  'wedding',\n",
       "  'conference',\n",
       "  'flexible',\n",
       "  'accommodate',\n",
       "  'function',\n",
       "  'foot'),\n",
       " 't_lobby': ('lobby',\n",
       "  'lounge',\n",
       "  'reception',\n",
       "  'atrium',\n",
       "  'area',\n",
       "  'seating',\n",
       "  'desk',\n",
       "  'arrival',\n",
       "  'check',\n",
       "  'enter'),\n",
       " 't_view': ('view',\n",
       "  'window',\n",
       "  'panoramic',\n",
       "  'color',\n",
       "  'vista',\n",
       "  'palette',\n",
       "  'blue',\n",
       "  'wood',\n",
       "  'accent',\n",
       "  'natural'),\n",
       " 't_pool': ('pool',\n",
       "  'gym',\n",
       "  'fitness',\n",
       "  'outdoor',\n",
       "  'center',\n",
       "  'deck',\n",
       "  'spa',\n",
       "  'indoor',\n",
       "  'swimming',\n",
       "  'heated'),\n",
       " 't_restaurant': ('restaurant',\n",
       "  'bar',\n",
       "  'café',\n",
       "  'menu',\n",
       "  'cocktail',\n",
       "  'cuisine',\n",
       "  'craft',\n",
       "  'beer',\n",
       "  'chef',\n",
       "  'signature'),\n",
       " 't_renovation': ('renovation',\n",
       "  'redesign',\n",
       "  'transformation',\n",
       "  'refresh',\n",
       "  'remodel',\n",
       "  'complete',\n",
       "  'completion',\n",
       "  'announce',\n",
       "  'dollar',\n",
       "  'multi')}"
      ]
     },
     "execution_count": 115,
     "metadata": {},
     "output_type": "execute_result"
    }
   ],
   "source": [
    "topic_words"
   ]
  },
  {
   "cell_type": "code",
   "execution_count": 32,
   "metadata": {},
   "outputs": [],
   "source": [
    "topic_words ={'t_room': ('room',\n",
    "  'guestroom',\n",
    "  'bathroom',\n",
    "  'furniture',\n",
    "  'suites',\n",
    "  'suite',\n",
    "  'guest',\n",
    "  'shower',\n",
    "  'feature'),\n",
    " 't_meeting': ('meeting',\n",
    "  'event',\n",
    "  'ballroom',\n",
    "  'space',\n",
    "  'wedding',\n",
    "  'conference',\n",
    "  'flexible',\n",
    "  'accommodate',\n",
    "  'function',\n",
    "  ),\n",
    " 't_lobby': ('lobby',\n",
    "  'lounge',\n",
    "  'reception',\n",
    "  'atrium',\n",
    "  'area',\n",
    "  'seating',\n",
    "  'desk',\n",
    "  'arrival',\n",
    "  'check',\n",
    "  'enter'),\n",
    " 't_view': ('view',\n",
    "  'window',\n",
    "  'panoramic',\n",
    "  'color',\n",
    "  'vista',\n",
    "  'palette',\n",
    "  'blue',\n",
    "  'wood',\n",
    "  'accent',\n",
    "  'natural'),\n",
    " 't_pool': ('pool',\n",
    "  'gym',\n",
    "  'fitness',\n",
    "  'outdoor',\n",
    "  'center',\n",
    "  'deck',\n",
    "  'spa',\n",
    "  'indoor',\n",
    "  'swimming',\n",
    "  'heated'),\n",
    " 't_restaurant': ('restaurant',\n",
    "  'bar',\n",
    "  'café',\n",
    "  'menu',\n",
    "  'cocktail',\n",
    "  'cuisine',\n",
    "  'craft',\n",
    "  'beer',\n",
    "  'chef',\n",
    "  'signature'),\n",
    " 't_renovation': ('renovation',\n",
    "  'redesign',\n",
    "  'transformation',\n",
    "  'refresh',\n",
    "  'remodel',\n",
    "  'complete',\n",
    "  'completion',\n",
    "  'announce')}"
   ]
  },
  {
   "cell_type": "code",
   "execution_count": 15,
   "metadata": {},
   "outputs": [
    {
     "data": {
      "text/plain": [
       "7134"
      ]
     },
     "execution_count": 15,
     "metadata": {},
     "output_type": "execute_result"
    }
   ],
   "source": [
    "len(sentences)"
   ]
  },
  {
   "cell_type": "code",
   "execution_count": 7,
   "metadata": {},
   "outputs": [],
   "source": [
    "file = '/home/yiyi/Documents/masterthesis/CPD/data/sentiment_analysis/results/0#f116f785-8626-48f3-a390-c0c4a03b5bd6'"
   ]
  },
  {
   "cell_type": "code",
   "execution_count": 9,
   "metadata": {},
   "outputs": [],
   "source": [
    "import pandas as pd"
   ]
  },
  {
   "cell_type": "code",
   "execution_count": 10,
   "metadata": {},
   "outputs": [],
   "source": [
    "df = pd.read_csv(file)"
   ]
  },
  {
   "cell_type": "code",
   "execution_count": 11,
   "metadata": {},
   "outputs": [
    {
     "data": {
      "text/html": [
       "<div>\n",
       "<style scoped>\n",
       "    .dataframe tbody tr th:only-of-type {\n",
       "        vertical-align: middle;\n",
       "    }\n",
       "\n",
       "    .dataframe tbody tr th {\n",
       "        vertical-align: top;\n",
       "    }\n",
       "\n",
       "    .dataframe thead th {\n",
       "        text-align: right;\n",
       "    }\n",
       "</style>\n",
       "<table border=\"1\" class=\"dataframe\">\n",
       "  <thead>\n",
       "    <tr style=\"text-align: right;\">\n",
       "      <th></th>\n",
       "      <th>uid</th>\n",
       "      <th>lemma</th>\n",
       "      <th>sentence</th>\n",
       "      <th>sentiment</th>\n",
       "      <th>date</th>\n",
       "      <th>score</th>\n",
       "    </tr>\n",
       "  </thead>\n",
       "  <tbody>\n",
       "    <tr>\n",
       "      <th>0</th>\n",
       "      <td>fcd73d28-e81c-4486-81b5-5ebee63a2946</td>\n",
       "      <td>attended metrocon used hotel convention center...</td>\n",
       "      <td>i attended metrocon and they used this hotel a...</td>\n",
       "      <td>0.489639</td>\n",
       "      <td>2008-05-01 00:00:00</td>\n",
       "      <td>100.0</td>\n",
       "    </tr>\n",
       "    <tr>\n",
       "      <th>1</th>\n",
       "      <td>fcd73d28-e81c-4486-81b5-5ebee63a2946</td>\n",
       "      <td>effortless room homey bed amazing</td>\n",
       "      <td>checkin was effortless the rooms were homey an...</td>\n",
       "      <td>0.499968</td>\n",
       "      <td>2008-05-01 00:00:00</td>\n",
       "      <td>100.0</td>\n",
       "    </tr>\n",
       "  </tbody>\n",
       "</table>\n",
       "</div>"
      ],
      "text/plain": [
       "                                    uid  \\\n",
       "0  fcd73d28-e81c-4486-81b5-5ebee63a2946   \n",
       "1  fcd73d28-e81c-4486-81b5-5ebee63a2946   \n",
       "\n",
       "                                               lemma  \\\n",
       "0  attended metrocon used hotel convention center...   \n",
       "1                  effortless room homey bed amazing   \n",
       "\n",
       "                                            sentence  sentiment  \\\n",
       "0  i attended metrocon and they used this hotel a...   0.489639   \n",
       "1  checkin was effortless the rooms were homey an...   0.499968   \n",
       "\n",
       "                  date  score  \n",
       "0  2008-05-01 00:00:00  100.0  \n",
       "1  2008-05-01 00:00:00  100.0  "
      ]
     },
     "execution_count": 11,
     "metadata": {},
     "output_type": "execute_result"
    }
   ],
   "source": [
    "df.head(2)"
   ]
  },
  {
   "cell_type": "code",
   "execution_count": 12,
   "metadata": {},
   "outputs": [],
   "source": [
    "sents = df.sentence"
   ]
  },
  {
   "cell_type": "code",
   "execution_count": 13,
   "metadata": {},
   "outputs": [
    {
     "data": {
      "text/plain": [
       "41579"
      ]
     },
     "execution_count": 13,
     "metadata": {},
     "output_type": "execute_result"
    }
   ],
   "source": [
    "len(sents)"
   ]
  },
  {
   "cell_type": "code",
   "execution_count": 30,
   "metadata": {},
   "outputs": [],
   "source": [
    "from joblib import Parallel, delayed\n",
    "from itertools import chain\n",
    "import string\n",
    "from utils.timer import Timer"
   ]
  },
  {
   "cell_type": "code",
   "execution_count": 27,
   "metadata": {},
   "outputs": [],
   "source": [
    "def lemmatize_sent(sent):\n",
    "    relate=[]\n",
    "    doc = nlp(sent)\n",
    "    ent_tokens = [ent.text.split() for ent in doc.ents]\n",
    "    ent_tokens = list(chain.from_iterable(ent_tokens))\n",
    "\n",
    "    # get only lemmas and non entities.\n",
    "    for token in doc:\n",
    "        if token.text not in ent_tokens and token.text not in STOP_WORDS:\n",
    "            if token.pos_ in ['PROPN', 'NOUN', 'VERB','ADJ'] and not token.is_punct:\n",
    "                t = token.lemma_.translate(str.maketrans('', '', string.punctuation)).strip()\n",
    "                if len(t)>1:\n",
    "                    relate.append(t)\n",
    "    return relate"
   ]
  },
  {
   "cell_type": "code",
   "execution_count": 28,
   "metadata": {},
   "outputs": [
    {
     "data": {
      "text/plain": [
       "['room', 'decorate']"
      ]
     },
     "execution_count": 28,
     "metadata": {},
     "output_type": "execute_result"
    }
   ],
   "source": [
    "lemmatize_sent(\"the room is really well decorated\")"
   ]
  },
  {
   "cell_type": "code",
   "execution_count": 130,
   "metadata": {},
   "outputs": [
    {
     "data": {
      "text/plain": [
       "0    i attended metrocon and they used this hotel a...\n",
       "1    checkin was effortless the rooms were homey an...\n",
       "Name: sentence, dtype: object"
      ]
     },
     "execution_count": 130,
     "metadata": {},
     "output_type": "execute_result"
    }
   ],
   "source": [
    "sents[:2]"
   ]
  },
  {
   "cell_type": "code",
   "execution_count": 31,
   "metadata": {},
   "outputs": [
    {
     "name": "stdout",
     "output_type": "stream",
     "text": [
      "Elapsed time: 198.4739 seconds\n"
     ]
    }
   ],
   "source": [
    "timer = Timer()\n",
    "timer.start()\n",
    "lemmas = []\n",
    "for sent in sents.to_list():\n",
    "    lemma = lemmatize_sent(sent)\n",
    "    lemmas.append(lemma)\n",
    "\n",
    "\n",
    "timer.stop()"
   ]
  },
  {
   "cell_type": "code",
   "execution_count": 34,
   "metadata": {},
   "outputs": [
    {
     "data": {
      "text/plain": [
       "41579"
      ]
     },
     "execution_count": 34,
     "metadata": {},
     "output_type": "execute_result"
    }
   ],
   "source": [
    "len(lemmas)"
   ]
  },
  {
   "cell_type": "code",
   "execution_count": 35,
   "metadata": {},
   "outputs": [],
   "source": [
    "from gensim.models import Word2Vec\n",
    "model = Word2Vec(lemmas,size=200, window=6, min_count=2, workers=8, iter=200, negative=5)"
   ]
  },
  {
   "cell_type": "code",
   "execution_count": 37,
   "metadata": {},
   "outputs": [
    {
     "name": "stderr",
     "output_type": "stream",
     "text": [
      "/home/yiyi/anaconda3/envs/cpd/lib/python3.7/site-packages/ipykernel_launcher.py:1: DeprecationWarning: Call to deprecated `most_similar` (Method will be removed in 4.0.0, use self.wv.most_similar() instead).\n",
      "  \"\"\"Entry point for launching an IPython kernel.\n"
     ]
    },
    {
     "data": {
      "text/plain": [
       "[('cafe', 0.3929402828216553),\n",
       " ('food', 0.3392499089241028),\n",
       " ('eat', 0.3296363055706024),\n",
       " ('restaurantsbar', 0.31165945529937744),\n",
       " ('riverwalk', 0.3053434491157532),\n",
       " ('barrestaurant', 0.30422818660736084),\n",
       " ('eatery', 0.3038337230682373),\n",
       " ('distance', 0.3030458390712738),\n",
       " ('bar', 0.302737295627594),\n",
       " ('pub', 0.2989582419395447),\n",
       " ('jackson', 0.2968822717666626),\n",
       " ('stop', 0.29307472705841064),\n",
       " ('reasturant', 0.29238033294677734),\n",
       " ('withe', 0.28943437337875366),\n",
       " ('area', 0.2862018644809723),\n",
       " ('restaraunt', 0.28530389070510864),\n",
       " ('restaurantbar', 0.2832844853401184),\n",
       " ('hatrick', 0.2825551927089691),\n",
       " ('trolley', 0.280769944190979),\n",
       " ('walk', 0.27833688259124756)]"
      ]
     },
     "execution_count": 37,
     "metadata": {},
     "output_type": "execute_result"
    }
   ],
   "source": [
    "model.most_similar('restaurant', topn=20)"
   ]
  },
  {
   "cell_type": "raw",
   "metadata": {},
   "source": [
    "model.similarit('pool', topn=10)"
   ]
  },
  {
   "cell_type": "code",
   "execution_count": 40,
   "metadata": {},
   "outputs": [
    {
     "name": "stdout",
     "output_type": "stream",
     "text": [
      "pool 1.0\n",
      "gym 0.29638636\n",
      "fitness 0.19404005\n",
      "outdoor 0.30527294\n",
      "center 0.10540785\n",
      "deck 0.21226785\n",
      "spa 0.3130573\n",
      "indoor 0.13245209\n",
      "swimming 0.23150314\n",
      "heated 0.24128754\n"
     ]
    },
    {
     "name": "stderr",
     "output_type": "stream",
     "text": [
      "/home/yiyi/anaconda3/envs/cpd/lib/python3.7/site-packages/ipykernel_launcher.py:2: DeprecationWarning: Call to deprecated `similarity` (Method will be removed in 4.0.0, use self.wv.similarity() instead).\n",
      "  \n"
     ]
    }
   ],
   "source": [
    "for word in topic_words['t_pool']:\n",
    "    print(word, model.similarity('pool', word))"
   ]
  },
  {
   "cell_type": "code",
   "execution_count": 50,
   "metadata": {},
   "outputs": [],
   "source": [
    "df['lemma']=[' '.join(le) for le in lemmas]"
   ]
  },
  {
   "cell_type": "code",
   "execution_count": 51,
   "metadata": {},
   "outputs": [
    {
     "data": {
      "text/html": [
       "<div>\n",
       "<style scoped>\n",
       "    .dataframe tbody tr th:only-of-type {\n",
       "        vertical-align: middle;\n",
       "    }\n",
       "\n",
       "    .dataframe tbody tr th {\n",
       "        vertical-align: top;\n",
       "    }\n",
       "\n",
       "    .dataframe thead th {\n",
       "        text-align: right;\n",
       "    }\n",
       "</style>\n",
       "<table border=\"1\" class=\"dataframe\">\n",
       "  <thead>\n",
       "    <tr style=\"text-align: right;\">\n",
       "      <th></th>\n",
       "      <th>uid</th>\n",
       "      <th>lemma</th>\n",
       "      <th>sentence</th>\n",
       "      <th>sentiment</th>\n",
       "      <th>date</th>\n",
       "      <th>score</th>\n",
       "    </tr>\n",
       "  </thead>\n",
       "  <tbody>\n",
       "    <tr>\n",
       "      <th>0</th>\n",
       "      <td>fcd73d28-e81c-4486-81b5-5ebee63a2946</td>\n",
       "      <td>attend hotel convention center mainstay</td>\n",
       "      <td>i attended metrocon and they used this hotel a...</td>\n",
       "      <td>0.489639</td>\n",
       "      <td>2008-05-01 00:00:00</td>\n",
       "      <td>100.0</td>\n",
       "    </tr>\n",
       "    <tr>\n",
       "      <th>1</th>\n",
       "      <td>fcd73d28-e81c-4486-81b5-5ebee63a2946</td>\n",
       "      <td>effortless room homey bed amazing</td>\n",
       "      <td>checkin was effortless the rooms were homey an...</td>\n",
       "      <td>0.499968</td>\n",
       "      <td>2008-05-01 00:00:00</td>\n",
       "      <td>100.0</td>\n",
       "    </tr>\n",
       "    <tr>\n",
       "      <th>2</th>\n",
       "      <td>fcd73d28-e81c-4486-81b5-5ebee63a2946</td>\n",
       "      <td>room service</td>\n",
       "      <td>we never used room service</td>\n",
       "      <td>0.062981</td>\n",
       "      <td>2008-05-01 00:00:00</td>\n",
       "      <td>100.0</td>\n",
       "    </tr>\n",
       "    <tr>\n",
       "      <th>3</th>\n",
       "      <td>fcd73d28-e81c-4486-81b5-5ebee63a2946</td>\n",
       "      <td>breakfast come room massive perfect convention...</td>\n",
       "      <td>the breakfast that comes with the room is mass...</td>\n",
       "      <td>0.487099</td>\n",
       "      <td>2008-05-01 00:00:00</td>\n",
       "      <td>100.0</td>\n",
       "    </tr>\n",
       "    <tr>\n",
       "      <th>4</th>\n",
       "      <td>fcd73d28-e81c-4486-81b5-5ebee63a2946</td>\n",
       "      <td>thing hate hotel fact elevator slow</td>\n",
       "      <td>the only thing i hated about this hotel was th...</td>\n",
       "      <td>-0.436162</td>\n",
       "      <td>2008-05-01 00:00:00</td>\n",
       "      <td>100.0</td>\n",
       "    </tr>\n",
       "  </tbody>\n",
       "</table>\n",
       "</div>"
      ],
      "text/plain": [
       "                                    uid  \\\n",
       "0  fcd73d28-e81c-4486-81b5-5ebee63a2946   \n",
       "1  fcd73d28-e81c-4486-81b5-5ebee63a2946   \n",
       "2  fcd73d28-e81c-4486-81b5-5ebee63a2946   \n",
       "3  fcd73d28-e81c-4486-81b5-5ebee63a2946   \n",
       "4  fcd73d28-e81c-4486-81b5-5ebee63a2946   \n",
       "\n",
       "                                               lemma  \\\n",
       "0            attend hotel convention center mainstay   \n",
       "1                  effortless room homey bed amazing   \n",
       "2                                       room service   \n",
       "3  breakfast come room massive perfect convention...   \n",
       "4                thing hate hotel fact elevator slow   \n",
       "\n",
       "                                            sentence  sentiment  \\\n",
       "0  i attended metrocon and they used this hotel a...   0.489639   \n",
       "1  checkin was effortless the rooms were homey an...   0.499968   \n",
       "2                         we never used room service   0.062981   \n",
       "3  the breakfast that comes with the room is mass...   0.487099   \n",
       "4  the only thing i hated about this hotel was th...  -0.436162   \n",
       "\n",
       "                  date  score  \n",
       "0  2008-05-01 00:00:00  100.0  \n",
       "1  2008-05-01 00:00:00  100.0  \n",
       "2  2008-05-01 00:00:00  100.0  \n",
       "3  2008-05-01 00:00:00  100.0  \n",
       "4  2008-05-01 00:00:00  100.0  "
      ]
     },
     "execution_count": 51,
     "metadata": {},
     "output_type": "execute_result"
    }
   ],
   "source": [
    "df.head()"
   ]
  },
  {
   "cell_type": "code",
   "execution_count": 109,
   "metadata": {},
   "outputs": [],
   "source": [
    "anchors =[['room',\n",
    "  'guestroom',\n",
    "  'bathroom',\n",
    "  'furniture',\n",
    "  'suites',\n",
    "  'suite',\n",
    "  'guest',\n",
    "  'shower',\n",
    "  'feature'],\n",
    " ['meeting',\n",
    "  'event',\n",
    "  'ballroom',\n",
    "  'space',\n",
    "  'wedding',\n",
    "  'conference',\n",
    "  'flexible',\n",
    "  'accommodate',\n",
    "  'function'],\n",
    " ['lobby',\n",
    "  'lounge',\n",
    "  'reception',\n",
    "  'atrium',\n",
    "  'area',\n",
    "  'seating',\n",
    "  'desk',\n",
    "  'arrival',\n",
    "  'check',\n",
    "  'enter'],\n",
    " ['view',\n",
    "  'window',\n",
    "  'panoramic',\n",
    "  'vista'],\n",
    " ['pool',\n",
    "  'gym',\n",
    "  'fitness',\n",
    "  'spa',\n",
    "  'indoor',\n",
    "  'swimming',\n",
    "  'heated'],\n",
    " ['restaurant',\n",
    "  'bar',\n",
    "  'café',\n",
    "  'menu',\n",
    "  'cocktail',\n",
    "  'cuisine',\n",
    "  'craft',\n",
    "  'beer',\n",
    "  'chef',\n",
    "  'signature'],\n",
    "          ['parking', 'valet', 'charge', 'car'],\n",
    " ['renovation',\n",
    "  'redesign',\n",
    "  'transformation',\n",
    "  'refresh',\n",
    "  'remodel',\n",
    "  'complete',\n",
    "  'completion',\n",
    "  'announce']]"
   ]
  },
  {
   "cell_type": "markdown",
   "metadata": {},
   "source": [
    "# corex model"
   ]
  },
  {
   "cell_type": "code",
   "execution_count": 90,
   "metadata": {
    "jupyter": {
     "source_hidden": true
    }
   },
   "outputs": [
    {
     "name": "stdout",
     "output_type": "stream",
     "text": [
      "3868\n"
     ]
    }
   ],
   "source": [
    "vectorizer = TfidfVectorizer(\n",
    "    max_df=.5,\n",
    "    min_df=10,\n",
    "    max_features=None,\n",
    "    ngram_range=(1, 2),\n",
    "    norm=None,\n",
    "    binary=True,\n",
    "    use_idf=False,\n",
    "    sublinear_tf=False\n",
    ")\n",
    "vectorizer = vectorizer.fit(df['lemma'])\n",
    "tfidf = vectorizer.transform(df['lemma'])\n",
    "vocab = vectorizer.get_feature_names()\n",
    "print(len(vocab))"
   ]
  },
  {
   "cell_type": "code",
   "execution_count": 110,
   "metadata": {},
   "outputs": [],
   "source": [
    "cr_model = ct.Corex(n_hidden=len(anchors), seed=42)"
   ]
  },
  {
   "cell_type": "code",
   "execution_count": 111,
   "metadata": {},
   "outputs": [
    {
     "name": "stdout",
     "output_type": "stream",
     "text": [
      "WARNING: Anchor word not in word column labels provided to CorEx: guestroom\n",
      "WARNING: Anchor word not in word column labels provided to CorEx: ballroom\n",
      "WARNING: Anchor word not in word column labels provided to CorEx: flexible\n",
      "WARNING: Anchor word not in word column labels provided to CorEx: panoramic\n",
      "WARNING: Anchor word not in word column labels provided to CorEx: vista\n",
      "WARNING: Anchor word not in word column labels provided to CorEx: café\n",
      "WARNING: Anchor word not in word column labels provided to CorEx: cuisine\n",
      "WARNING: Anchor word not in word column labels provided to CorEx: craft\n",
      "WARNING: Anchor word not in word column labels provided to CorEx: signature\n",
      "WARNING: Anchor word not in word column labels provided to CorEx: redesign\n",
      "WARNING: Anchor word not in word column labels provided to CorEx: transformation\n",
      "WARNING: Anchor word not in word column labels provided to CorEx: completion\n",
      "WARNING: Anchor word not in word column labels provided to CorEx: announce\n"
     ]
    }
   ],
   "source": [
    "cr_model= cr_model.fit(tfidf, words=vocab, anchors = anchors, anchor_strength=6)"
   ]
  },
  {
   "cell_type": "code",
   "execution_count": 112,
   "metadata": {},
   "outputs": [
    {
     "name": "stdout",
     "output_type": "stream",
     "text": [
      "Topic #1: room, suite, guest, bathroom, shower, embassy suite, embassy, room clean, clean, furniture\n",
      "Topic #2: event, conference, location, space, center, convention, convention center, wedding, great location, meeting\n",
      "Topic #3: check, area, desk, reception, lobby, arrival, atrium, seating, enter, manager reception\n",
      "Topic #4: view, window, great view, bay, beautiful view, nice view, view bay, view room, room view, view downtown\n",
      "Topic #5: pool, gym, fitness, heated, spa, swimming, small, pool small, pool area, indoor\n",
      "Topic #6: restaurant, bar, breakfast, cocktail, beer, free, drink, walk distance, menu, free breakfast\n",
      "Topic #7: valet, parking, car, charge, valet parking, park, valet service, garage, fee, parking garage\n",
      "Topic #8: renovation, complete, cruise, remodel, port, terminal, value, stay cruise, shuttle, cruise terminal\n"
     ]
    }
   ],
   "source": [
    "for i, topic_ngrams in enumerate(cr_model.get_topics(n_words=10)):\n",
    "    topic_ngrams = [ngram[0] for ngram in topic_ngrams if ngram[1] > 0]\n",
    "    print(\"Topic #{}: {}\".format(i+1, \", \".join(topic_ngrams)))"
   ]
  },
  {
   "cell_type": "code",
   "execution_count": 115,
   "metadata": {},
   "outputs": [],
   "source": [
    "topic_df = pd.DataFrame(\n",
    "    cr_model.transform(tfidf), \n",
    "    columns=[\"topic_{}\".format(i+1) for i in range(len(anchors))]\n",
    ").astype(float)\n",
    "topic_df.index = df.index\n",
    "df = pd.concat([df, topic_df], axis=1)"
   ]
  },
  {
   "cell_type": "code",
   "execution_count": 116,
   "metadata": {},
   "outputs": [
    {
     "data": {
      "text/html": [
       "<div>\n",
       "<style scoped>\n",
       "    .dataframe tbody tr th:only-of-type {\n",
       "        vertical-align: middle;\n",
       "    }\n",
       "\n",
       "    .dataframe tbody tr th {\n",
       "        vertical-align: top;\n",
       "    }\n",
       "\n",
       "    .dataframe thead th {\n",
       "        text-align: right;\n",
       "    }\n",
       "</style>\n",
       "<table border=\"1\" class=\"dataframe\">\n",
       "  <thead>\n",
       "    <tr style=\"text-align: right;\">\n",
       "      <th></th>\n",
       "      <th>uid</th>\n",
       "      <th>lemma</th>\n",
       "      <th>sentence</th>\n",
       "      <th>sentiment</th>\n",
       "      <th>date</th>\n",
       "      <th>score</th>\n",
       "      <th>topic_1</th>\n",
       "      <th>topic_2</th>\n",
       "      <th>topic_3</th>\n",
       "      <th>topic_4</th>\n",
       "      <th>topic_5</th>\n",
       "      <th>topic_6</th>\n",
       "      <th>topic_7</th>\n",
       "      <th>topic_8</th>\n",
       "    </tr>\n",
       "  </thead>\n",
       "  <tbody>\n",
       "    <tr>\n",
       "      <th>0</th>\n",
       "      <td>fcd73d28-e81c-4486-81b5-5ebee63a2946</td>\n",
       "      <td>attend hotel convention center mainstay</td>\n",
       "      <td>i attended metrocon and they used this hotel a...</td>\n",
       "      <td>0.489639</td>\n",
       "      <td>2008-05-01 00:00:00</td>\n",
       "      <td>100.0</td>\n",
       "      <td>0.0</td>\n",
       "      <td>1.0</td>\n",
       "      <td>0.0</td>\n",
       "      <td>0.0</td>\n",
       "      <td>0.0</td>\n",
       "      <td>0.0</td>\n",
       "      <td>0.0</td>\n",
       "      <td>0.0</td>\n",
       "    </tr>\n",
       "    <tr>\n",
       "      <th>1</th>\n",
       "      <td>fcd73d28-e81c-4486-81b5-5ebee63a2946</td>\n",
       "      <td>effortless room homey bed amazing</td>\n",
       "      <td>checkin was effortless the rooms were homey an...</td>\n",
       "      <td>0.499968</td>\n",
       "      <td>2008-05-01 00:00:00</td>\n",
       "      <td>100.0</td>\n",
       "      <td>1.0</td>\n",
       "      <td>0.0</td>\n",
       "      <td>0.0</td>\n",
       "      <td>0.0</td>\n",
       "      <td>0.0</td>\n",
       "      <td>0.0</td>\n",
       "      <td>0.0</td>\n",
       "      <td>0.0</td>\n",
       "    </tr>\n",
       "  </tbody>\n",
       "</table>\n",
       "</div>"
      ],
      "text/plain": [
       "                                    uid  \\\n",
       "0  fcd73d28-e81c-4486-81b5-5ebee63a2946   \n",
       "1  fcd73d28-e81c-4486-81b5-5ebee63a2946   \n",
       "\n",
       "                                     lemma  \\\n",
       "0  attend hotel convention center mainstay   \n",
       "1        effortless room homey bed amazing   \n",
       "\n",
       "                                            sentence  sentiment  \\\n",
       "0  i attended metrocon and they used this hotel a...   0.489639   \n",
       "1  checkin was effortless the rooms were homey an...   0.499968   \n",
       "\n",
       "                  date  score  topic_1  topic_2  topic_3  topic_4  topic_5  \\\n",
       "0  2008-05-01 00:00:00  100.0      0.0      1.0      0.0      0.0      0.0   \n",
       "1  2008-05-01 00:00:00  100.0      1.0      0.0      0.0      0.0      0.0   \n",
       "\n",
       "   topic_6  topic_7  topic_8  \n",
       "0      0.0      0.0      0.0  \n",
       "1      0.0      0.0      0.0  "
      ]
     },
     "execution_count": 116,
     "metadata": {},
     "output_type": "execute_result"
    }
   ],
   "source": [
    "df.head(2)"
   ]
  },
  {
   "cell_type": "code",
   "execution_count": 118,
   "metadata": {},
   "outputs": [],
   "source": [
    "df_room = df[df['topic_1']==1.0]\n",
    "df_room_renovation = df_room[df_room['topic_8']==1.0]\n"
   ]
  },
  {
   "cell_type": "code",
   "execution_count": 121,
   "metadata": {},
   "outputs": [],
   "source": [
    "df_room_renovation = df_room[(df_room['sentiment']>0.35)| (df_room['sentiment']<-0.35)]"
   ]
  },
  {
   "cell_type": "code",
   "execution_count": 122,
   "metadata": {},
   "outputs": [
    {
     "data": {
      "text/plain": [
       "7785"
      ]
     },
     "execution_count": 122,
     "metadata": {},
     "output_type": "execute_result"
    }
   ],
   "source": [
    "len(df_room_renovation)"
   ]
  },
  {
   "cell_type": "code",
   "execution_count": 123,
   "metadata": {},
   "outputs": [
    {
     "name": "stderr",
     "output_type": "stream",
     "text": [
      "/home/yiyi/anaconda3/envs/cpd/lib/python3.7/site-packages/ipykernel_launcher.py:1: SettingWithCopyWarning: \n",
      "A value is trying to be set on a copy of a slice from a DataFrame.\n",
      "Try using .loc[row_indexer,col_indexer] = value instead\n",
      "\n",
      "See the caveats in the documentation: https://pandas.pydata.org/pandas-docs/stable/user_guide/indexing.html#returning-a-view-versus-a-copy\n",
      "  \"\"\"Entry point for launching an IPython kernel.\n"
     ]
    }
   ],
   "source": [
    "df_room_renovation['sentiment_sum'] = df_room_renovation['sentiment'].groupby(df_room_renovation['uid']).transform('sum')"
   ]
  },
  {
   "cell_type": "code",
   "execution_count": 126,
   "metadata": {},
   "outputs": [],
   "source": [
    "sorted_df_room = df_room_renovation.sort_values('date')"
   ]
  },
  {
   "cell_type": "code",
   "execution_count": 128,
   "metadata": {},
   "outputs": [
    {
     "data": {
      "text/html": [
       "<div>\n",
       "<style scoped>\n",
       "    .dataframe tbody tr th:only-of-type {\n",
       "        vertical-align: middle;\n",
       "    }\n",
       "\n",
       "    .dataframe tbody tr th {\n",
       "        vertical-align: top;\n",
       "    }\n",
       "\n",
       "    .dataframe thead th {\n",
       "        text-align: right;\n",
       "    }\n",
       "</style>\n",
       "<table border=\"1\" class=\"dataframe\">\n",
       "  <thead>\n",
       "    <tr style=\"text-align: right;\">\n",
       "      <th></th>\n",
       "      <th>uid</th>\n",
       "      <th>lemma</th>\n",
       "      <th>sentence</th>\n",
       "      <th>sentiment</th>\n",
       "      <th>date</th>\n",
       "      <th>score</th>\n",
       "      <th>topic_1</th>\n",
       "      <th>topic_2</th>\n",
       "      <th>topic_3</th>\n",
       "      <th>topic_4</th>\n",
       "      <th>topic_5</th>\n",
       "      <th>topic_6</th>\n",
       "      <th>topic_7</th>\n",
       "      <th>topic_8</th>\n",
       "      <th>sentiment_sum</th>\n",
       "    </tr>\n",
       "  </thead>\n",
       "  <tbody>\n",
       "    <tr>\n",
       "      <th>284</th>\n",
       "      <td>a02be5ed-77c4-4de7-80d0-1d64d29c8391</td>\n",
       "      <td>small exercise room good addition</td>\n",
       "      <td>a small exercise room would be a good addition</td>\n",
       "      <td>-0.498903</td>\n",
       "      <td>2006-06-13 00:00:00</td>\n",
       "      <td>80.0</td>\n",
       "      <td>1.0</td>\n",
       "      <td>0.0</td>\n",
       "      <td>0.0</td>\n",
       "      <td>0.0</td>\n",
       "      <td>0.0</td>\n",
       "      <td>0.0</td>\n",
       "      <td>0.0</td>\n",
       "      <td>0.0</td>\n",
       "      <td>-0.498903</td>\n",
       "    </tr>\n",
       "    <tr>\n",
       "      <th>1238</th>\n",
       "      <td>a7f58a11-5906-4cda-bcf7-0b2024f276c2</td>\n",
       "      <td>uncomfortable guest trust vehicle unorganized ...</td>\n",
       "      <td>it is very uncomfortable for guests to trust t...</td>\n",
       "      <td>-0.499885</td>\n",
       "      <td>2007-01-05 00:00:00</td>\n",
       "      <td>60.0</td>\n",
       "      <td>1.0</td>\n",
       "      <td>0.0</td>\n",
       "      <td>0.0</td>\n",
       "      <td>0.0</td>\n",
       "      <td>0.0</td>\n",
       "      <td>0.0</td>\n",
       "      <td>1.0</td>\n",
       "      <td>0.0</td>\n",
       "      <td>-1.473177</td>\n",
       "    </tr>\n",
       "    <tr>\n",
       "      <th>1236</th>\n",
       "      <td>a7f58a11-5906-4cda-bcf7-0b2024f276c2</td>\n",
       "      <td>competency desk inconsistent shift track charg...</td>\n",
       "      <td>competency at the front desk is very inconsist...</td>\n",
       "      <td>-0.499954</td>\n",
       "      <td>2007-01-05 00:00:00</td>\n",
       "      <td>60.0</td>\n",
       "      <td>1.0</td>\n",
       "      <td>0.0</td>\n",
       "      <td>1.0</td>\n",
       "      <td>0.0</td>\n",
       "      <td>0.0</td>\n",
       "      <td>1.0</td>\n",
       "      <td>1.0</td>\n",
       "      <td>0.0</td>\n",
       "      <td>-1.473177</td>\n",
       "    </tr>\n",
       "    <tr>\n",
       "      <th>1235</th>\n",
       "      <td>a7f58a11-5906-4cda-bcf7-0b2024f276c2</td>\n",
       "      <td>alert concern taxesfe room charge check check</td>\n",
       "      <td>please be very alert concerning the taxesfes o...</td>\n",
       "      <td>-0.473716</td>\n",
       "      <td>2007-01-05 00:00:00</td>\n",
       "      <td>60.0</td>\n",
       "      <td>1.0</td>\n",
       "      <td>0.0</td>\n",
       "      <td>1.0</td>\n",
       "      <td>0.0</td>\n",
       "      <td>0.0</td>\n",
       "      <td>0.0</td>\n",
       "      <td>1.0</td>\n",
       "      <td>0.0</td>\n",
       "      <td>-1.473177</td>\n",
       "    </tr>\n",
       "    <tr>\n",
       "      <th>1232</th>\n",
       "      <td>a7f58a11-5906-4cda-bcf7-0b2024f276c2</td>\n",
       "      <td>guest use embassys business center print proof...</td>\n",
       "      <td>therefore several of the guests had to use the...</td>\n",
       "      <td>-0.499614</td>\n",
       "      <td>2007-01-05 00:00:00</td>\n",
       "      <td>60.0</td>\n",
       "      <td>1.0</td>\n",
       "      <td>1.0</td>\n",
       "      <td>1.0</td>\n",
       "      <td>0.0</td>\n",
       "      <td>0.0</td>\n",
       "      <td>0.0</td>\n",
       "      <td>0.0</td>\n",
       "      <td>0.0</td>\n",
       "      <td>-1.473177</td>\n",
       "    </tr>\n",
       "  </tbody>\n",
       "</table>\n",
       "</div>"
      ],
      "text/plain": [
       "                                       uid  \\\n",
       "284   a02be5ed-77c4-4de7-80d0-1d64d29c8391   \n",
       "1238  a7f58a11-5906-4cda-bcf7-0b2024f276c2   \n",
       "1236  a7f58a11-5906-4cda-bcf7-0b2024f276c2   \n",
       "1235  a7f58a11-5906-4cda-bcf7-0b2024f276c2   \n",
       "1232  a7f58a11-5906-4cda-bcf7-0b2024f276c2   \n",
       "\n",
       "                                                  lemma  \\\n",
       "284                   small exercise room good addition   \n",
       "1238  uncomfortable guest trust vehicle unorganized ...   \n",
       "1236  competency desk inconsistent shift track charg...   \n",
       "1235      alert concern taxesfe room charge check check   \n",
       "1232  guest use embassys business center print proof...   \n",
       "\n",
       "                                               sentence  sentiment  \\\n",
       "284      a small exercise room would be a good addition  -0.498903   \n",
       "1238  it is very uncomfortable for guests to trust t...  -0.499885   \n",
       "1236  competency at the front desk is very inconsist...  -0.499954   \n",
       "1235  please be very alert concerning the taxesfes o...  -0.473716   \n",
       "1232  therefore several of the guests had to use the...  -0.499614   \n",
       "\n",
       "                     date  score  topic_1  topic_2  topic_3  topic_4  topic_5  \\\n",
       "284   2006-06-13 00:00:00   80.0      1.0      0.0      0.0      0.0      0.0   \n",
       "1238  2007-01-05 00:00:00   60.0      1.0      0.0      0.0      0.0      0.0   \n",
       "1236  2007-01-05 00:00:00   60.0      1.0      0.0      1.0      0.0      0.0   \n",
       "1235  2007-01-05 00:00:00   60.0      1.0      0.0      1.0      0.0      0.0   \n",
       "1232  2007-01-05 00:00:00   60.0      1.0      1.0      1.0      0.0      0.0   \n",
       "\n",
       "      topic_6  topic_7  topic_8  sentiment_sum  \n",
       "284       0.0      0.0      0.0      -0.498903  \n",
       "1238      0.0      1.0      0.0      -1.473177  \n",
       "1236      1.0      1.0      0.0      -1.473177  \n",
       "1235      0.0      1.0      0.0      -1.473177  \n",
       "1232      0.0      0.0      0.0      -1.473177  "
      ]
     },
     "execution_count": 128,
     "metadata": {},
     "output_type": "execute_result"
    }
   ],
   "source": [
    "sorted_df_room.head()"
   ]
  },
  {
   "cell_type": "code",
   "execution_count": 133,
   "metadata": {},
   "outputs": [],
   "source": [
    "dates =[]\n",
    "sentiments =[]\n",
    "sentences =[]\n",
    "for uid in list(set(sorted_df_room.uid.to_list())):\n",
    "    row = sorted_df_room[sorted_df_room['uid']==uid].iloc[0]\n",
    "    date = row.date\n",
    "    sentiment = row.sentiment_sum\n",
    "    dates.append(date)\n",
    "    sentiments.append(sentiment)\n",
    "    sentences.append(sorted_df_room[sorted_df_room['uid']==uid].sentence.to_list())"
   ]
  },
  {
   "cell_type": "code",
   "execution_count": 134,
   "metadata": {},
   "outputs": [],
   "source": [
    "sentiments = np.array(sentiments)"
   ]
  },
  {
   "cell_type": "code",
   "execution_count": 135,
   "metadata": {},
   "outputs": [
    {
     "data": {
      "text/plain": [
       "(<Figure size 720x432 with 1 Axes>,\n",
       " [<matplotlib.axes._subplots.AxesSubplot at 0x7f196a3eabd0>])"
      ]
     },
     "execution_count": 135,
     "metadata": {},
     "output_type": "execute_result"
    },
    {
     "data": {
      "image/png": "[encoded data removed]",
      "text/plain": [
       "<Figure size 720x432 with 1 Axes>"
      ]
     },
     "metadata": {
      "needs_background": "light"
     },
     "output_type": "display_data"
    }
   ],
   "source": [
    "import numpy as np\n",
    "import matplotlib.pylab as plt\n",
    "import ruptures as rpt\n",
    "# creation of data\n",
    "\n",
    "model='rbf'\n",
    "n_samples = polarity.shape[0]\n",
    "algo = rpt.Window(width=200, model=model).fit(sentiments)\n",
    "my_bkps= algo.predict(n_bkps=5)\n",
    "rpt.show.display(sentiments, my_bkps, figsize=(10,6))"
   ]
  },
  {
   "cell_type": "code",
   "execution_count": 136,
   "metadata": {},
   "outputs": [
    {
     "data": {
      "text/plain": [
       "['great room for the money great hotel nice size rooms very convinient location']"
      ]
     },
     "execution_count": 136,
     "metadata": {},
     "output_type": "execute_result"
    }
   ],
   "source": [
    "sentences[1000]"
   ]
  },
  {
   "cell_type": "code",
   "execution_count": 137,
   "metadata": {},
   "outputs": [
    {
     "data": {
      "text/plain": [
       "['by the time four hours had gone by and i we were allowed to enter our room the food we had ordered was ice cold',\n",
       " 'i managed hotels for several years and would have been there on site making sure every unruly individual was removed and would have had the best it support i could find onsite to fix the computer glitches that were causing the room keys not to work and the fire alarm to continually sound',\n",
       " 'when they finally got to our floor to let us in our room i went inside and locked myself in the second room scared to death',\n",
       " 'mind you it is new years eve and people are returning let us say feeling no pain but getting very angry at not being allowed to enter there rooms',\n",
       " 'the room keys for each room would not work',\n",
       " 'the manager did find a place for me to leave my car and told me once the non guest left my car would be moved to the parking garage',\n",
       " 'i did not see them and i had a good view of the atrium floor from my room']"
      ]
     },
     "execution_count": 137,
     "metadata": {},
     "output_type": "execute_result"
    }
   ],
   "source": [
    "sentences[1500]"
   ]
  },
  {
   "cell_type": "code",
   "execution_count": 76,
   "metadata": {},
   "outputs": [
    {
     "data": {
      "text/plain": [
       "uid             b8b041e5-caff-4505-b499-01fc0b23fa98\n",
       "lemma                            room use refreshing\n",
       "sentence              room could use some refreshing\n",
       "sentiment                                  -0.442706\n",
       "date                             2015-05-24 00:00:00\n",
       "score                                             80\n",
       "t_room                                             1\n",
       "t_meeting                                          0\n",
       "t_lobby                                            0\n",
       "t_view                                             0\n",
       "t_pool                                             0\n",
       "t_restaurant                                       0\n",
       "t_renovation                                       1\n",
       "polarity                                          -1\n",
       "Name: 19928, dtype: object"
      ]
     },
     "execution_count": 76,
     "metadata": {},
     "output_type": "execute_result"
    }
   ],
   "source": [
    "df_.iloc[17,:]"
   ]
  },
  {
   "cell_type": "markdown",
   "metadata": {},
   "source": [
    "# extra"
   ]
  },
  {
   "cell_type": "code",
   "execution_count": 48,
   "metadata": {},
   "outputs": [
    {
     "data": {
      "text/html": [
       "<style>.container {width:100% !important;} </style>"
      ],
      "text/plain": [
       "<IPython.core.display.HTML object>"
      ]
     },
     "metadata": {},
     "output_type": "display_data"
    }
   ],
   "source": [
    "from IPython.core.display import HTML, display\n",
    "display(HTML(\"<style>.container {width:100% !important;} </style>\"))\n",
    "\n",
    "def display_all(df):\n",
    "    with pd.option_context(\"display.max_rows\", 1000): \n",
    "        with pd.option_context(\"display.max_columns\", 1000): \n",
    "            display(df)\n"
   ]
  },
  {
   "cell_type": "code",
   "execution_count": 53,
   "metadata": {},
   "outputs": [
    {
     "data": {
      "text/plain": [
       "t_room          22.13\n",
       "t_meeting        3.30\n",
       "t_lobby         14.92\n",
       "t_view           3.48\n",
       "t_pool           6.60\n",
       "t_restaurant     5.05\n",
       "t_renovation     0.93\n",
       "dtype: float64"
      ]
     },
     "execution_count": 53,
     "metadata": {},
     "output_type": "execute_result"
    }
   ],
   "source": [
    "df_matches = df.copy()\n",
    "for key, value in topic_words.items():\n",
    "    word_list = \"|\".join(value)\n",
    "    df_matches[key]= df_matches.lemma.str.contains(word_list).astype(int)\n",
    "    \n",
    "df_matches[df_matches.columns[-len(topic_words.keys()):]].sum(axis = 0).apply(lambda x: round(x/len(df_matches)*100,2))"
   ]
  },
  {
   "cell_type": "code",
   "execution_count": 58,
   "metadata": {},
   "outputs": [
    {
     "data": {
      "text/html": [
       "<div>\n",
       "<style scoped>\n",
       "    .dataframe tbody tr th:only-of-type {\n",
       "        vertical-align: middle;\n",
       "    }\n",
       "\n",
       "    .dataframe tbody tr th {\n",
       "        vertical-align: top;\n",
       "    }\n",
       "\n",
       "    .dataframe thead th {\n",
       "        text-align: right;\n",
       "    }\n",
       "</style>\n",
       "<table border=\"1\" class=\"dataframe\">\n",
       "  <thead>\n",
       "    <tr style=\"text-align: right;\">\n",
       "      <th></th>\n",
       "      <th>uid</th>\n",
       "      <th>lemma</th>\n",
       "      <th>sentence</th>\n",
       "      <th>sentiment</th>\n",
       "      <th>date</th>\n",
       "      <th>score</th>\n",
       "      <th>t_room</th>\n",
       "      <th>t_meeting</th>\n",
       "      <th>t_lobby</th>\n",
       "      <th>t_view</th>\n",
       "      <th>t_pool</th>\n",
       "      <th>t_restaurant</th>\n",
       "      <th>t_renovation</th>\n",
       "      <th>polarity</th>\n",
       "    </tr>\n",
       "  </thead>\n",
       "  <tbody>\n",
       "    <tr>\n",
       "      <th>0</th>\n",
       "      <td>fcd73d28-e81c-4486-81b5-5ebee63a2946</td>\n",
       "      <td>attend hotel convention center mainstay</td>\n",
       "      <td>i attended metrocon and they used this hotel a...</td>\n",
       "      <td>0.489639</td>\n",
       "      <td>2008-05-01 00:00:00</td>\n",
       "      <td>100.0</td>\n",
       "      <td>0</td>\n",
       "      <td>0</td>\n",
       "      <td>1</td>\n",
       "      <td>0</td>\n",
       "      <td>1</td>\n",
       "      <td>0</td>\n",
       "      <td>0</td>\n",
       "      <td>1</td>\n",
       "    </tr>\n",
       "    <tr>\n",
       "      <th>1</th>\n",
       "      <td>fcd73d28-e81c-4486-81b5-5ebee63a2946</td>\n",
       "      <td>effortless room homey bed amazing</td>\n",
       "      <td>checkin was effortless the rooms were homey an...</td>\n",
       "      <td>0.499968</td>\n",
       "      <td>2008-05-01 00:00:00</td>\n",
       "      <td>100.0</td>\n",
       "      <td>1</td>\n",
       "      <td>0</td>\n",
       "      <td>0</td>\n",
       "      <td>0</td>\n",
       "      <td>0</td>\n",
       "      <td>0</td>\n",
       "      <td>0</td>\n",
       "      <td>1</td>\n",
       "    </tr>\n",
       "  </tbody>\n",
       "</table>\n",
       "</div>"
      ],
      "text/plain": [
       "                                    uid  \\\n",
       "0  fcd73d28-e81c-4486-81b5-5ebee63a2946   \n",
       "1  fcd73d28-e81c-4486-81b5-5ebee63a2946   \n",
       "\n",
       "                                     lemma  \\\n",
       "0  attend hotel convention center mainstay   \n",
       "1        effortless room homey bed amazing   \n",
       "\n",
       "                                            sentence  sentiment  \\\n",
       "0  i attended metrocon and they used this hotel a...   0.489639   \n",
       "1  checkin was effortless the rooms were homey an...   0.499968   \n",
       "\n",
       "                  date  score  t_room  t_meeting  t_lobby  t_view  t_pool  \\\n",
       "0  2008-05-01 00:00:00  100.0       0          0        1       0       1   \n",
       "1  2008-05-01 00:00:00  100.0       1          0        0       0       0   \n",
       "\n",
       "   t_restaurant  t_renovation  polarity  \n",
       "0             0             0         1  \n",
       "1             0             0         1  "
      ]
     },
     "metadata": {},
     "output_type": "display_data"
    }
   ],
   "source": [
    "display_all(df_matches[:2])"
   ]
  },
  {
   "cell_type": "code",
   "execution_count": 56,
   "metadata": {},
   "outputs": [],
   "source": [
    "polarities =[]\n",
    "for sent in df_matches['sentiment']:\n",
    "    if -0.35<sent<0.35:\n",
    "        polarities.append(0)\n",
    "    if sent>0.35:\n",
    "        polarities.append(1)\n",
    "    if sent < -0.35:\n",
    "        polarities.append(-1)"
   ]
  },
  {
   "cell_type": "code",
   "execution_count": 57,
   "metadata": {},
   "outputs": [],
   "source": [
    "df_matches['polarity']= polarities"
   ]
  },
  {
   "cell_type": "code",
   "execution_count": 43,
   "metadata": {},
   "outputs": [
    {
     "name": "stdout",
     "output_type": "stream",
     "text": [
      "room 1.0\n",
      "bathroom 0.3098852\n",
      "furniture 0.13873391\n",
      "suites -0.049939875\n",
      "suite 0.26112708\n",
      "guest 0.12607759\n",
      "shower 0.16085488\n",
      "feature 0.018959247\n"
     ]
    },
    {
     "name": "stderr",
     "output_type": "stream",
     "text": [
      "/home/yiyi/anaconda3/envs/cpd/lib/python3.7/site-packages/ipykernel_launcher.py:3: DeprecationWarning: Call to deprecated `similarity` (Method will be removed in 4.0.0, use self.wv.similarity() instead).\n",
      "  This is separate from the ipykernel package so we can avoid doing imports until\n"
     ]
    }
   ],
   "source": [
    "for word in topic_words['t_room']:\n",
    "    if word in model.wv.vocab:\n",
    "        print(word, model.similarity('room', word))"
   ]
  },
  {
   "cell_type": "code",
   "execution_count": 81,
   "metadata": {},
   "outputs": [],
   "source": [
    "df_room_reno = df_matches[df_matches['t_room']==1]"
   ]
  },
  {
   "cell_type": "code",
   "execution_count": 82,
   "metadata": {},
   "outputs": [],
   "source": [
    "df_room_reno = df_room_reno[df_room_reno['polarity']!=0]"
   ]
  },
  {
   "cell_type": "code",
   "execution_count": 83,
   "metadata": {},
   "outputs": [],
   "source": [
    "df_ = df_room_reno.sort_values('date')"
   ]
  },
  {
   "cell_type": "code",
   "execution_count": 84,
   "metadata": {},
   "outputs": [],
   "source": [
    "import numpy as np\n",
    "polarity = np.array(df_.polarity)"
   ]
  },
  {
   "cell_type": "code",
   "execution_count": 87,
   "metadata": {},
   "outputs": [
    {
     "data": {
      "text/plain": [
       "7907"
      ]
     },
     "execution_count": 87,
     "metadata": {},
     "output_type": "execute_result"
    }
   ],
   "source": [
    "len(polarity)"
   ]
  },
  {
   "cell_type": "code",
   "execution_count": 80,
   "metadata": {},
   "outputs": [
    {
     "data": {
      "text/plain": [
       "'we understand renovations have to happen but to check us into a room directly below is ridiculous'"
      ]
     },
     "execution_count": 80,
     "metadata": {},
     "output_type": "execute_result"
    }
   ],
   "source": [
    "df_.iloc[60,:].sentence"
   ]
  }
 ],
 "metadata": {
  "kernelspec": {
   "display_name": "cpd\n",
   "language": "python",
   "name": "cpd"
  },
  "language_info": {
   "codemirror_mode": {
    "name": "ipython",
    "version": 3
   },
   "file_extension": ".py",
   "mimetype": "text/x-python",
   "name": "python",
   "nbconvert_exporter": "python",
   "pygments_lexer": "ipython3",
   "version": "3.7.6"
  }
 },
 "nbformat": 4,
 "nbformat_minor": 4
}
