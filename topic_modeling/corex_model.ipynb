{
 "cells": [
  {
   "cell_type": "code",
   "execution_count": 27,
   "metadata": {},
   "outputs": [],
   "source": [
    "from lda_model import sent_to_words, process_data_words, build_model,format_topics_sentences,frequency_distribution_word_counts_in_documents\n"
   ]
  },
  {
   "cell_type": "code",
   "execution_count": 17,
   "metadata": {},
   "outputs": [],
   "source": [
    "import matplotlib.pyplot as plt\n",
    "import numpy as np\n",
    "import pandas as pd\n",
    "filepath='/home/yiyi/Documents/masterthesis/CPD/data/cleand_query_output_csv/019b8823-aa09-4d8f-8b8d-26433d76dff3'\n",
    "df = pd.read_csv(filepath)"
   ]
  },
  {
   "cell_type": "code",
   "execution_count": 18,
   "metadata": {},
   "outputs": [],
   "source": [
    "df = df.replace(np.nan, '', regex=True)\n",
    "df.text = df.text.astype(str)\n",
    "df.title = df.title.astype(str)\n",
    "df[\"words\"] = df.title+' '+df.text\n",
    "en_df = df[df.lang=='en']\n",
    "en_df= en_df[en_df.words.notnull()]"
   ]
  },
  {
   "cell_type": "code",
   "execution_count": 24,
   "metadata": {},
   "outputs": [],
   "source": [
    "en_df= en_df[en_df.words.notnull()]"
   ]
  },
  {
   "cell_type": "code",
   "execution_count": 25,
   "metadata": {},
   "outputs": [
    {
     "data": {
      "text/html": [
       "<div>\n",
       "<style scoped>\n",
       "    .dataframe tbody tr th:only-of-type {\n",
       "        vertical-align: middle;\n",
       "    }\n",
       "\n",
       "    .dataframe tbody tr th {\n",
       "        vertical-align: top;\n",
       "    }\n",
       "\n",
       "    .dataframe thead th {\n",
       "        text-align: right;\n",
       "    }\n",
       "</style>\n",
       "<table border=\"1\" class=\"dataframe\">\n",
       "  <thead>\n",
       "    <tr style=\"text-align: right;\">\n",
       "      <th></th>\n",
       "      <th>uid</th>\n",
       "      <th>date</th>\n",
       "      <th>score</th>\n",
       "      <th>recommendation_rate</th>\n",
       "      <th>lang</th>\n",
       "      <th>title</th>\n",
       "      <th>text</th>\n",
       "      <th>words</th>\n",
       "    </tr>\n",
       "  </thead>\n",
       "  <tbody>\n",
       "    <tr>\n",
       "      <th>0</th>\n",
       "      <td>7041b7b3-f9d2-4d7c-b34b-f9c2bd632671</td>\n",
       "      <td>2009-07-01 00:00:00</td>\n",
       "      <td>60</td>\n",
       "      <td></td>\n",
       "      <td>en</td>\n",
       "      <td></td>\n",
       "      <td>Really not worth the money. Nickle-and-dimed f...</td>\n",
       "      <td>Really not worth the money. Nickle-and-dimed ...</td>\n",
       "    </tr>\n",
       "    <tr>\n",
       "      <th>1</th>\n",
       "      <td>ecc1ef55-1f8f-44da-bcce-057a29138cae</td>\n",
       "      <td>2009-07-01 00:00:00</td>\n",
       "      <td>100</td>\n",
       "      <td></td>\n",
       "      <td>en</td>\n",
       "      <td></td>\n",
       "      <td>Had a fantastic time.  Excellent Resort.  From...</td>\n",
       "      <td>Had a fantastic time.  Excellent Resort.  Fro...</td>\n",
       "    </tr>\n",
       "    <tr>\n",
       "      <th>2</th>\n",
       "      <td>11ae2de8-7b02-4b17-9a71-b166b77d8365</td>\n",
       "      <td>2010-07-01 00:00:00</td>\n",
       "      <td>100</td>\n",
       "      <td></td>\n",
       "      <td>en</td>\n",
       "      <td></td>\n",
       "      <td>We had probably the best stay we've ever had i...</td>\n",
       "      <td>We had probably the best stay we've ever had ...</td>\n",
       "    </tr>\n",
       "    <tr>\n",
       "      <th>3</th>\n",
       "      <td>b2230e67-e20e-425d-b8f2-ddf5359bb74b</td>\n",
       "      <td>2009-07-01 00:00:00</td>\n",
       "      <td>80</td>\n",
       "      <td></td>\n",
       "      <td>en</td>\n",
       "      <td></td>\n",
       "      <td>Beautiful Beach, Friendly staff.The Ocean view...</td>\n",
       "      <td>Beautiful Beach, Friendly staff.The Ocean vie...</td>\n",
       "    </tr>\n",
       "    <tr>\n",
       "      <th>4</th>\n",
       "      <td>5e5de5ba-7433-4bcf-b27f-1690255833fd</td>\n",
       "      <td>2010-07-01 00:00:00</td>\n",
       "      <td>100</td>\n",
       "      <td></td>\n",
       "      <td>en</td>\n",
       "      <td></td>\n",
       "      <td>So I only stayed one night but wow, what a nig...</td>\n",
       "      <td>So I only stayed one night but wow, what a ni...</td>\n",
       "    </tr>\n",
       "  </tbody>\n",
       "</table>\n",
       "</div>"
      ],
      "text/plain": [
       "                                    uid                 date score  \\\n",
       "0  7041b7b3-f9d2-4d7c-b34b-f9c2bd632671  2009-07-01 00:00:00    60   \n",
       "1  ecc1ef55-1f8f-44da-bcce-057a29138cae  2009-07-01 00:00:00   100   \n",
       "2  11ae2de8-7b02-4b17-9a71-b166b77d8365  2010-07-01 00:00:00   100   \n",
       "3  b2230e67-e20e-425d-b8f2-ddf5359bb74b  2009-07-01 00:00:00    80   \n",
       "4  5e5de5ba-7433-4bcf-b27f-1690255833fd  2010-07-01 00:00:00   100   \n",
       "\n",
       "  recommendation_rate lang title  \\\n",
       "0                       en         \n",
       "1                       en         \n",
       "2                       en         \n",
       "3                       en         \n",
       "4                       en         \n",
       "\n",
       "                                                text  \\\n",
       "0  Really not worth the money. Nickle-and-dimed f...   \n",
       "1  Had a fantastic time.  Excellent Resort.  From...   \n",
       "2  We had probably the best stay we've ever had i...   \n",
       "3  Beautiful Beach, Friendly staff.The Ocean view...   \n",
       "4  So I only stayed one night but wow, what a nig...   \n",
       "\n",
       "                                               words  \n",
       "0   Really not worth the money. Nickle-and-dimed ...  \n",
       "1   Had a fantastic time.  Excellent Resort.  Fro...  \n",
       "2   We had probably the best stay we've ever had ...  \n",
       "3   Beautiful Beach, Friendly staff.The Ocean vie...  \n",
       "4   So I only stayed one night but wow, what a ni...  "
      ]
     },
     "execution_count": 25,
     "metadata": {},
     "output_type": "execute_result"
    }
   ],
   "source": [
    "en_df.head()"
   ]
  },
  {
   "cell_type": "code",
   "execution_count": 28,
   "metadata": {},
   "outputs": [],
   "source": [
    "docs = en_df.words.to_list()  # => data\n",
    "# process the data words\n",
    "data_words = list(sent_to_words(docs))\n",
    "\n",
    "data_ready = process_data_words(data_words)\n",
    "# build lda model"
   ]
  },
  {
   "cell_type": "code",
   "execution_count": 30,
   "metadata": {},
   "outputs": [
    {
     "data": {
      "text/plain": [
       "(8069, 8069)"
      ]
     },
     "execution_count": 30,
     "metadata": {},
     "output_type": "execute_result"
    }
   ],
   "source": [
    "len(data_ready), len(en_df)"
   ]
  },
  {
   "cell_type": "code",
   "execution_count": 34,
   "metadata": {},
   "outputs": [],
   "source": [
    "en_df['processed_words']= [\" \".join(text) for text in data_ready]"
   ]
  },
  {
   "cell_type": "code",
   "execution_count": 35,
   "metadata": {},
   "outputs": [
    {
     "data": {
      "text/html": [
       "<div>\n",
       "<style scoped>\n",
       "    .dataframe tbody tr th:only-of-type {\n",
       "        vertical-align: middle;\n",
       "    }\n",
       "\n",
       "    .dataframe tbody tr th {\n",
       "        vertical-align: top;\n",
       "    }\n",
       "\n",
       "    .dataframe thead th {\n",
       "        text-align: right;\n",
       "    }\n",
       "</style>\n",
       "<table border=\"1\" class=\"dataframe\">\n",
       "  <thead>\n",
       "    <tr style=\"text-align: right;\">\n",
       "      <th></th>\n",
       "      <th>uid</th>\n",
       "      <th>date</th>\n",
       "      <th>score</th>\n",
       "      <th>recommendation_rate</th>\n",
       "      <th>lang</th>\n",
       "      <th>title</th>\n",
       "      <th>text</th>\n",
       "      <th>words</th>\n",
       "      <th>processed_words</th>\n",
       "    </tr>\n",
       "  </thead>\n",
       "  <tbody>\n",
       "    <tr>\n",
       "      <th>0</th>\n",
       "      <td>7041b7b3-f9d2-4d7c-b34b-f9c2bd632671</td>\n",
       "      <td>2009-07-01 00:00:00</td>\n",
       "      <td>60</td>\n",
       "      <td></td>\n",
       "      <td>en</td>\n",
       "      <td></td>\n",
       "      <td>Really not worth the money. Nickle-and-dimed f...</td>\n",
       "      <td>Really not worth the money. Nickle-and-dimed ...</td>\n",
       "      <td>really worth money nickle dim half shower clos...</td>\n",
       "    </tr>\n",
       "    <tr>\n",
       "      <th>1</th>\n",
       "      <td>ecc1ef55-1f8f-44da-bcce-057a29138cae</td>\n",
       "      <td>2009-07-01 00:00:00</td>\n",
       "      <td>100</td>\n",
       "      <td></td>\n",
       "      <td>en</td>\n",
       "      <td></td>\n",
       "      <td>Had a fantastic time.  Excellent Resort.  From...</td>\n",
       "      <td>Had a fantastic time.  Excellent Resort.  Fro...</td>\n",
       "      <td>fantastic time excellent resort check man book...</td>\n",
       "    </tr>\n",
       "    <tr>\n",
       "      <th>2</th>\n",
       "      <td>11ae2de8-7b02-4b17-9a71-b166b77d8365</td>\n",
       "      <td>2010-07-01 00:00:00</td>\n",
       "      <td>100</td>\n",
       "      <td></td>\n",
       "      <td>en</td>\n",
       "      <td></td>\n",
       "      <td>We had probably the best stay we've ever had i...</td>\n",
       "      <td>We had probably the best stay we've ever had ...</td>\n",
       "      <td>probably best stay resort mid relax enjoy reac...</td>\n",
       "    </tr>\n",
       "    <tr>\n",
       "      <th>3</th>\n",
       "      <td>b2230e67-e20e-425d-b8f2-ddf5359bb74b</td>\n",
       "      <td>2009-07-01 00:00:00</td>\n",
       "      <td>80</td>\n",
       "      <td></td>\n",
       "      <td>en</td>\n",
       "      <td></td>\n",
       "      <td>Beautiful Beach, Friendly staff.The Ocean view...</td>\n",
       "      <td>Beautiful Beach, Friendly staff.The Ocean vie...</td>\n",
       "      <td>friendly staff luxury suite smaller expexte co...</td>\n",
       "    </tr>\n",
       "  </tbody>\n",
       "</table>\n",
       "</div>"
      ],
      "text/plain": [
       "                                    uid                 date score  \\\n",
       "0  7041b7b3-f9d2-4d7c-b34b-f9c2bd632671  2009-07-01 00:00:00    60   \n",
       "1  ecc1ef55-1f8f-44da-bcce-057a29138cae  2009-07-01 00:00:00   100   \n",
       "2  11ae2de8-7b02-4b17-9a71-b166b77d8365  2010-07-01 00:00:00   100   \n",
       "3  b2230e67-e20e-425d-b8f2-ddf5359bb74b  2009-07-01 00:00:00    80   \n",
       "\n",
       "  recommendation_rate lang title  \\\n",
       "0                       en         \n",
       "1                       en         \n",
       "2                       en         \n",
       "3                       en         \n",
       "\n",
       "                                                text  \\\n",
       "0  Really not worth the money. Nickle-and-dimed f...   \n",
       "1  Had a fantastic time.  Excellent Resort.  From...   \n",
       "2  We had probably the best stay we've ever had i...   \n",
       "3  Beautiful Beach, Friendly staff.The Ocean view...   \n",
       "\n",
       "                                               words  \\\n",
       "0   Really not worth the money. Nickle-and-dimed ...   \n",
       "1   Had a fantastic time.  Excellent Resort.  Fro...   \n",
       "2   We had probably the best stay we've ever had ...   \n",
       "3   Beautiful Beach, Friendly staff.The Ocean vie...   \n",
       "\n",
       "                                     processed_words  \n",
       "0  really worth money nickle dim half shower clos...  \n",
       "1  fantastic time excellent resort check man book...  \n",
       "2  probably best stay resort mid relax enjoy reac...  \n",
       "3  friendly staff luxury suite smaller expexte co...  "
      ]
     },
     "execution_count": 35,
     "metadata": {},
     "output_type": "execute_result"
    }
   ],
   "source": [
    "en_df.head(4)"
   ]
  },
  {
   "cell_type": "code",
   "execution_count": 71,
   "metadata": {},
   "outputs": [
    {
     "name": "stdout",
     "output_type": "stream",
     "text": [
      "5019\n"
     ]
    }
   ],
   "source": [
    "rows = []\n",
    "for text in texts:\n",
    "    rows.append({\"text\": text})\n",
    "df = pd.DataFrame(rows)\n",
    "print(len(df))"
   ]
  },
  {
   "cell_type": "code",
   "execution_count": 36,
   "metadata": {},
   "outputs": [
    {
     "name": "stderr",
     "output_type": "stream",
     "text": [
      "/home/yiyi/anaconda3/envs/CPD/lib/python3.8/site-packages/sklearn/utils/deprecation.py:144: FutureWarning: The sklearn.feature_extraction.stop_words module is  deprecated in version 0.22 and will be removed in version 0.24. The corresponding classes / functions should instead be imported from sklearn.feature_extraction.text. Anything that cannot be imported from sklearn.feature_extraction.text is now part of the private API.\n",
      "  warnings.warn(message, FutureWarning)\n",
      "/home/yiyi/anaconda3/envs/CPD/lib/python3.8/site-packages/sklearn/externals/joblib/__init__.py:15: FutureWarning: sklearn.externals.joblib is deprecated in 0.21 and will be removed in 0.23. Please import this functionality directly from joblib, which can be installed with: pip install joblib. If this warning is raised when loading pickled models, you may need to re-serialize those models with scikit-learn 0.21+.\n",
      "  warnings.warn(msg, category=FutureWarning)\n"
     ]
    }
   ],
   "source": [
    "import numpy as np\n",
    "import tqdm as tqdm\n",
    "\n",
    "import scipy.sparse as s_sparse\n",
    "\n",
    "from sklearn.feature_extraction.text import CountVectorizer, TfidfVectorizer\n",
    "from sklearn.feature_extraction.stop_words import ENGLISH_STOP_WORDS\n",
    "\n",
    "from corextopic import corextopic as ct\n",
    "from corextopic import vis_topic as vt"
   ]
  },
  {
   "cell_type": "markdown",
   "metadata": {},
   "source": [
    "# Topic Modeling"
   ]
  },
  {
   "cell_type": "code",
   "execution_count": 37,
   "metadata": {},
   "outputs": [
    {
     "name": "stdout",
     "output_type": "stream",
     "text": [
      "5071\n"
     ]
    }
   ],
   "source": [
    "vectorizer = TfidfVectorizer(\n",
    "    max_df=.5,\n",
    "    min_df=10,\n",
    "    max_features=None,\n",
    "    ngram_range=(1, 2),\n",
    "    norm=None,\n",
    "    binary=True,\n",
    "    use_idf=False,\n",
    "    sublinear_tf=False\n",
    ")\n",
    "vectorizer = vectorizer.fit(en_df['processed_words'])\n",
    "tfidf = vectorizer.transform(en_df['processed_words'])\n",
    "vocab = vectorizer.get_feature_names()\n",
    "print(len(vocab))"
   ]
  },
  {
   "cell_type": "code",
   "execution_count": 38,
   "metadata": {},
   "outputs": [],
   "source": [
    "from categories import CATEGORIES"
   ]
  },
  {
   "cell_type": "code",
   "execution_count": 59,
   "metadata": {},
   "outputs": [
    {
     "data": {
      "text/plain": [
       "15"
      ]
     },
     "execution_count": 59,
     "metadata": {},
     "output_type": "execute_result"
    }
   ],
   "source": [
    "categories_lower = [[x.lower() for x in category] for category in CATEGORIES]\n",
    "len(categories_lower)"
   ]
  },
  {
   "cell_type": "code",
   "execution_count": 42,
   "metadata": {},
   "outputs": [],
   "source": [
    "model = ct.Corex(n_hidden=15, seed=42)\n",
    "model = model.fit(\n",
    "    tfidf,\n",
    "    words=vocab\n",
    ")"
   ]
  },
  {
   "cell_type": "code",
   "execution_count": 43,
   "metadata": {},
   "outputs": [
    {
     "name": "stdout",
     "output_type": "stream",
     "text": [
      "Topic #1: check, call, tell, ask, arrive, hour, wait, pm, finally, put\n",
      "Topic #2: beach, staff, friendly, great, pool, helpful, clean, private, location, private beach\n",
      "Topic #3: reach, stay, stay reach, time, resort, first, trip, next, reach resort, towel\n",
      "Topic #4: bathroom, elevator, floor, shower, dirty, work, door, stain, carpet, furniture\n",
      "Topic #5: night, find, give, expect, much, really, thing, leave, still, guest\n",
      "Topic #6: pay, price, bad, property, rate, old, disappointed, average, terrible, poor\n",
      "Topic #7: restaurant, drink, food, bar, eat, wonderful, dinner, lunch, food drink, set\n",
      "Topic #8: small, view, large, balcony, area, ocean, water, courtyard, size, pool area\n",
      "Topic #9: charge, walk, parking, hotel, fee, resort_fee, car, park, include, cost\n",
      "Topic #10: day, people, bed, morning, start, sit, end, way, entire, day stay\n",
      "Topic #11: never, year, manager, member, ready, ever, room ready, receive, different, last\n",
      "Topic #12: review, spend, read, order, week, choose, enough, turn, expectation, question\n",
      "Topic #13: look, breakfast, service, overall, however, offer, standard, couple, actually, high\n",
      "Topic #14: point, little, away, coffee, closet, clothe, drawer, suitcase, table, pretty\n",
      "Topic #15: money, well, book, experience, worth, extra, late, second, worth money, hope\n"
     ]
    }
   ],
   "source": [
    "for i, topic_ngrams in enumerate(model.get_topics(n_words=10)):\n",
    "    topic_ngrams = [ngram[0] for ngram in topic_ngrams if ngram[1] > 0]\n",
    "    print(\"Topic #{}: {}\".format(i+1, \", \".join(topic_ngrams)))"
   ]
  },
  {
   "cell_type": "code",
   "execution_count": 60,
   "metadata": {},
   "outputs": [],
   "source": [
    "anchors=[\n",
    "    [a for a in topic if a in vocab]\n",
    "    for topic in categories_lower\n",
    "]\n",
    "anchors = list(filter(lambda x: len(x)>0, anchors))"
   ]
  },
  {
   "cell_type": "code",
   "execution_count": 61,
   "metadata": {},
   "outputs": [],
   "source": [
    "anchors.append([\"decoration\", \"renovation\", \"repair\", \"restore\", \"overhaul\", \"restoration\", \"renewal\",\n",
    "                \"rehabilitation\", \"revamping\", \"reimagine\", \"refurbishment\", \"doing up\", \"mordenization\", \n",
    "                \"refitting\", \"fixing up\", \"reconditioning\"])"
   ]
  },
  {
   "cell_type": "code",
   "execution_count": 63,
   "metadata": {},
   "outputs": [
    {
     "data": {
      "text/plain": [
       "16"
      ]
     },
     "execution_count": 63,
     "metadata": {},
     "output_type": "execute_result"
    }
   ],
   "source": [
    "len(anchors)"
   ]
  },
  {
   "cell_type": "code",
   "execution_count": 65,
   "metadata": {},
   "outputs": [
    {
     "name": "stdout",
     "output_type": "stream",
     "text": [
      "WARNING: Anchor word not in word column labels provided to CorEx: restore\n",
      "WARNING: Anchor word not in word column labels provided to CorEx: restoration\n",
      "WARNING: Anchor word not in word column labels provided to CorEx: renewal\n",
      "WARNING: Anchor word not in word column labels provided to CorEx: rehabilitation\n",
      "WARNING: Anchor word not in word column labels provided to CorEx: revamping\n",
      "WARNING: Anchor word not in word column labels provided to CorEx: reimagine\n",
      "WARNING: Anchor word not in word column labels provided to CorEx: doing up\n",
      "WARNING: Anchor word not in word column labels provided to CorEx: mordenization\n",
      "WARNING: Anchor word not in word column labels provided to CorEx: refitting\n",
      "WARNING: Anchor word not in word column labels provided to CorEx: fixing up\n",
      "WARNING: Anchor word not in word column labels provided to CorEx: reconditioning\n"
     ]
    }
   ],
   "source": [
    "model = ct.Corex(n_hidden=16, seed=42)\n",
    "model = model.fit(\n",
    "    tfidf,\n",
    "    words=vocab,\n",
    "    anchors=anchors, # Pass the anchors in here\n",
    "    anchor_strength=3 # Tell the model how much it should rely on the anchors\n",
    ")"
   ]
  },
  {
   "cell_type": "code",
   "execution_count": 66,
   "metadata": {},
   "outputs": [
    {
     "name": "stdout",
     "output_type": "stream",
     "text": [
      "Topic #1: view, bathroom, balcony, shower, furniture, tv, view room, great view, room view, room size\n",
      "Topic #2: arrive, give, first, thing, comfort, wait, people, next, guest, bring\n",
      "Topic #3: ask, cleanliness, pay, expect, bad, point, manager, door, change, experience\n",
      "Topic #4: beach, private beach, private, beach staff, beach great, hotel beach, beach area, small beach, beach small, seaweed\n",
      "Topic #5: breakfast, eat breakfast, free breakfast, service breakfast, breakfast lunch, breakfast include, expensive, great breakfast, buffet, restaurant breakfast\n",
      "Topic #6: food, menu, steak, fish, food drink, great food, food service, seafood, food restaurant, drink food\n",
      "Topic #7: bar, bar restaurant, pool bar, restaurant bar, drink bar, bar staff, bar pool, bar great, beach bar, bar area\n",
      "Topic #8: location, parking, great location, location great, shopping, hotel location, location perfect, perfect location, location hotel, perfect\n",
      "Topic #9: service, room service, management, reception, pool service, beach service, great service, housekeeping staff, bar service, service great\n",
      "Topic #10: walk, towel, chair, restaurant, small, drink, water, clean, large, quiet\n",
      "Topic #11: day, wifi, find, charge, much, review, look, still, extra, rate\n",
      "Topic #12: pool, pool area, beach pool, pool beach, area, pool staff, pool small, great pool, pool great, pool room\n",
      "Topic #13: reach, stay, staff, stay reach, time, friendly, helpful, resort, trip, great\n",
      "Topic #14: elevator, value, dirty, floor, never, work, money, property, price, stain\n",
      "Topic #15: hotel, hotel staff, beach hotel, stay hotel, hotel room, great hotel, hotel great, hotel stay, reach hotel, resort hotel\n",
      "Topic #16: check, renovation, call, tell, night, hour, book, leave, pm, move\n"
     ]
    }
   ],
   "source": [
    "for i, topic_ngrams in enumerate(model.get_topics(n_words=10)):\n",
    "    topic_ngrams = [ngram[0] for ngram in topic_ngrams if ngram[1] > 0]\n",
    "    print(\"Topic #{}: {}\".format(i+1, \", \".join(topic_ngrams)))"
   ]
  },
  {
   "cell_type": "code",
   "execution_count": 68,
   "metadata": {},
   "outputs": [],
   "source": [
    "\n",
    "topic_df = pd.DataFrame(\n",
    "    model.transform(tfidf), \n",
    "    columns=[\"topic_{}\".format(i+1) for i in range(16)]\n",
    ").astype(float)\n",
    "topic_df.index = en_df.index\n",
    "df = pd.concat([en_df, topic_df], axis=1)"
   ]
  },
  {
   "cell_type": "code",
   "execution_count": 70,
   "metadata": {},
   "outputs": [
    {
     "data": {
      "text/plain": [
       "[['bathroom',\n",
       "  'balcony',\n",
       "  'view',\n",
       "  'tv',\n",
       "  'furniture',\n",
       "  'family room',\n",
       "  'shower',\n",
       "  'room size',\n",
       "  'old room',\n",
       "  'new room'],\n",
       " ['comfort', 'noise level'],\n",
       " ['cleanliness'],\n",
       " ['beach'],\n",
       " ['breakfast'],\n",
       " ['food', 'menu', 'meat', 'steak', 'fish', 'seafood', 'pizza'],\n",
       " ['bar'],\n",
       " ['location', 'sightseeing', 'shopping', 'parking'],\n",
       " ['service',\n",
       "  'reception',\n",
       "  'restaurant service',\n",
       "  'pool service',\n",
       "  'beach service',\n",
       "  'housekeeping staff',\n",
       "  'management',\n",
       "  'bar service',\n",
       "  'room service'],\n",
       " ['vibe'],\n",
       " ['wifi'],\n",
       " ['pool'],\n",
       " ['fitness'],\n",
       " ['value', 'terrace', 'elevator'],\n",
       " ['hotel', 'luxury hotel', 'family hotel', 'resort hotel', 'beach hotel'],\n",
       " ['decoration',\n",
       "  'renovation',\n",
       "  'repair',\n",
       "  'restore',\n",
       "  'overhaul',\n",
       "  'restoration',\n",
       "  'renewal',\n",
       "  'rehabilitation',\n",
       "  'revamping',\n",
       "  'reimagine',\n",
       "  'refurbishment',\n",
       "  'doing up',\n",
       "  'mordenization',\n",
       "  'refitting',\n",
       "  'fixing up',\n",
       "  'reconditioning']]"
      ]
     },
     "execution_count": 70,
     "metadata": {},
     "output_type": "execute_result"
    }
   ],
   "source": [
    "anchors"
   ]
  },
  {
   "cell_type": "code",
   "execution_count": 73,
   "metadata": {},
   "outputs": [],
   "source": [
    "df = df.sort_values('date')"
   ]
  },
  {
   "cell_type": "code",
   "execution_count": 74,
   "metadata": {},
   "outputs": [],
   "source": [
    "# df.to_csv('test.csv')"
   ]
  },
  {
   "cell_type": "code",
   "execution_count": null,
   "metadata": {},
   "outputs": [],
   "source": []
  }
 ],
 "metadata": {
  "kernelspec": {
   "display_name": "CPD",
   "language": "python",
   "name": "cpd"
  },
  "language_info": {
   "codemirror_mode": {
    "name": "ipython",
    "version": 3
   },
   "file_extension": ".py",
   "mimetype": "text/x-python",
   "name": "python",
   "nbconvert_exporter": "python",
   "pygments_lexer": "ipython3",
   "version": "3.8.0"
  }
 },
 "nbformat": 4,
 "nbformat_minor": 4
}
