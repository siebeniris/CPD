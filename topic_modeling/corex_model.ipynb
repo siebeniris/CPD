{
 "cells": [
  {
   "cell_type": "code",
   "execution_count": 1,
   "metadata": {},
   "outputs": [],
   "source": [
    "from lda_model import sent_to_words, process_data_words, build_model,format_topics_sentences,frequency_distribution_word_counts_in_documents\n"
   ]
  },
  {
   "cell_type": "code",
   "execution_count": 2,
   "metadata": {},
   "outputs": [],
   "source": [
    "import matplotlib.pyplot as plt\n",
    "import numpy as np\n",
    "import pandas as pd\n",
    "filepath='/home/yiyi/Documents/masterthesis/CPD/data/cleand_query_output_csv/019b8823-aa09-4d8f-8b8d-26433d76dff3'\n",
    "df = pd.read_csv(filepath)"
   ]
  },
  {
   "cell_type": "code",
   "execution_count": 3,
   "metadata": {},
   "outputs": [],
   "source": [
    "df = df.replace(np.nan, '', regex=True)\n",
    "df.text = df.text.astype(str)\n",
    "df.title = df.title.astype(str)\n",
    "df[\"words\"] = df.title+' '+df.text\n",
    "en_df = df[df.lang=='en']\n",
    "en_df= en_df[en_df.words.notnull()]"
   ]
  },
  {
   "cell_type": "code",
   "execution_count": 4,
   "metadata": {},
   "outputs": [
    {
     "data": {
      "text/html": [
       "<div>\n",
       "<style scoped>\n",
       "    .dataframe tbody tr th:only-of-type {\n",
       "        vertical-align: middle;\n",
       "    }\n",
       "\n",
       "    .dataframe tbody tr th {\n",
       "        vertical-align: top;\n",
       "    }\n",
       "\n",
       "    .dataframe thead th {\n",
       "        text-align: right;\n",
       "    }\n",
       "</style>\n",
       "<table border=\"1\" class=\"dataframe\">\n",
       "  <thead>\n",
       "    <tr style=\"text-align: right;\">\n",
       "      <th></th>\n",
       "      <th>uid</th>\n",
       "      <th>date</th>\n",
       "      <th>score</th>\n",
       "      <th>recommendation_rate</th>\n",
       "      <th>lang</th>\n",
       "      <th>title</th>\n",
       "      <th>text</th>\n",
       "      <th>words</th>\n",
       "    </tr>\n",
       "  </thead>\n",
       "  <tbody>\n",
       "    <tr>\n",
       "      <th>0</th>\n",
       "      <td>7041b7b3-f9d2-4d7c-b34b-f9c2bd632671</td>\n",
       "      <td>2009-07-01 00:00:00</td>\n",
       "      <td>60</td>\n",
       "      <td></td>\n",
       "      <td>en</td>\n",
       "      <td></td>\n",
       "      <td>Really not worth the money. Nickle-and-dimed f...</td>\n",
       "      <td>Really not worth the money. Nickle-and-dimed ...</td>\n",
       "    </tr>\n",
       "    <tr>\n",
       "      <th>1</th>\n",
       "      <td>ecc1ef55-1f8f-44da-bcce-057a29138cae</td>\n",
       "      <td>2009-07-01 00:00:00</td>\n",
       "      <td>100</td>\n",
       "      <td></td>\n",
       "      <td>en</td>\n",
       "      <td></td>\n",
       "      <td>Had a fantastic time.  Excellent Resort.  From...</td>\n",
       "      <td>Had a fantastic time.  Excellent Resort.  Fro...</td>\n",
       "    </tr>\n",
       "    <tr>\n",
       "      <th>2</th>\n",
       "      <td>11ae2de8-7b02-4b17-9a71-b166b77d8365</td>\n",
       "      <td>2010-07-01 00:00:00</td>\n",
       "      <td>100</td>\n",
       "      <td></td>\n",
       "      <td>en</td>\n",
       "      <td></td>\n",
       "      <td>We had probably the best stay we've ever had i...</td>\n",
       "      <td>We had probably the best stay we've ever had ...</td>\n",
       "    </tr>\n",
       "    <tr>\n",
       "      <th>3</th>\n",
       "      <td>b2230e67-e20e-425d-b8f2-ddf5359bb74b</td>\n",
       "      <td>2009-07-01 00:00:00</td>\n",
       "      <td>80</td>\n",
       "      <td></td>\n",
       "      <td>en</td>\n",
       "      <td></td>\n",
       "      <td>Beautiful Beach, Friendly staff.The Ocean view...</td>\n",
       "      <td>Beautiful Beach, Friendly staff.The Ocean vie...</td>\n",
       "    </tr>\n",
       "    <tr>\n",
       "      <th>4</th>\n",
       "      <td>5e5de5ba-7433-4bcf-b27f-1690255833fd</td>\n",
       "      <td>2010-07-01 00:00:00</td>\n",
       "      <td>100</td>\n",
       "      <td></td>\n",
       "      <td>en</td>\n",
       "      <td></td>\n",
       "      <td>So I only stayed one night but wow, what a nig...</td>\n",
       "      <td>So I only stayed one night but wow, what a ni...</td>\n",
       "    </tr>\n",
       "  </tbody>\n",
       "</table>\n",
       "</div>"
      ],
      "text/plain": [
       "                                    uid                 date score  \\\n",
       "0  7041b7b3-f9d2-4d7c-b34b-f9c2bd632671  2009-07-01 00:00:00    60   \n",
       "1  ecc1ef55-1f8f-44da-bcce-057a29138cae  2009-07-01 00:00:00   100   \n",
       "2  11ae2de8-7b02-4b17-9a71-b166b77d8365  2010-07-01 00:00:00   100   \n",
       "3  b2230e67-e20e-425d-b8f2-ddf5359bb74b  2009-07-01 00:00:00    80   \n",
       "4  5e5de5ba-7433-4bcf-b27f-1690255833fd  2010-07-01 00:00:00   100   \n",
       "\n",
       "  recommendation_rate lang title  \\\n",
       "0                       en         \n",
       "1                       en         \n",
       "2                       en         \n",
       "3                       en         \n",
       "4                       en         \n",
       "\n",
       "                                                text  \\\n",
       "0  Really not worth the money. Nickle-and-dimed f...   \n",
       "1  Had a fantastic time.  Excellent Resort.  From...   \n",
       "2  We had probably the best stay we've ever had i...   \n",
       "3  Beautiful Beach, Friendly staff.The Ocean view...   \n",
       "4  So I only stayed one night but wow, what a nig...   \n",
       "\n",
       "                                               words  \n",
       "0   Really not worth the money. Nickle-and-dimed ...  \n",
       "1   Had a fantastic time.  Excellent Resort.  Fro...  \n",
       "2   We had probably the best stay we've ever had ...  \n",
       "3   Beautiful Beach, Friendly staff.The Ocean vie...  \n",
       "4   So I only stayed one night but wow, what a ni...  "
      ]
     },
     "execution_count": 4,
     "metadata": {},
     "output_type": "execute_result"
    }
   ],
   "source": [
    "en_df.head()"
   ]
  },
  {
   "cell_type": "code",
   "execution_count": 5,
   "metadata": {},
   "outputs": [],
   "source": [
    "docs = en_df.words.to_list()  # => data\n",
    "# process the data words\n",
    "data_words = list(sent_to_words(docs))\n",
    "\n",
    "data_ready = process_data_words(data_words)\n",
    "# build lda model"
   ]
  },
  {
   "cell_type": "code",
   "execution_count": 6,
   "metadata": {},
   "outputs": [
    {
     "data": {
      "text/plain": [
       "(8069, 8069)"
      ]
     },
     "execution_count": 6,
     "metadata": {},
     "output_type": "execute_result"
    }
   ],
   "source": [
    "len(data_ready), len(en_df)"
   ]
  },
  {
   "cell_type": "code",
   "execution_count": 7,
   "metadata": {},
   "outputs": [],
   "source": [
    "en_df['processed_words']= [\" \".join(text) for text in data_ready]"
   ]
  },
  {
   "cell_type": "code",
   "execution_count": 8,
   "metadata": {},
   "outputs": [
    {
     "data": {
      "text/html": [
       "<div>\n",
       "<style scoped>\n",
       "    .dataframe tbody tr th:only-of-type {\n",
       "        vertical-align: middle;\n",
       "    }\n",
       "\n",
       "    .dataframe tbody tr th {\n",
       "        vertical-align: top;\n",
       "    }\n",
       "\n",
       "    .dataframe thead th {\n",
       "        text-align: right;\n",
       "    }\n",
       "</style>\n",
       "<table border=\"1\" class=\"dataframe\">\n",
       "  <thead>\n",
       "    <tr style=\"text-align: right;\">\n",
       "      <th></th>\n",
       "      <th>uid</th>\n",
       "      <th>date</th>\n",
       "      <th>score</th>\n",
       "      <th>recommendation_rate</th>\n",
       "      <th>lang</th>\n",
       "      <th>title</th>\n",
       "      <th>text</th>\n",
       "      <th>words</th>\n",
       "      <th>processed_words</th>\n",
       "    </tr>\n",
       "  </thead>\n",
       "  <tbody>\n",
       "    <tr>\n",
       "      <th>0</th>\n",
       "      <td>7041b7b3-f9d2-4d7c-b34b-f9c2bd632671</td>\n",
       "      <td>2009-07-01 00:00:00</td>\n",
       "      <td>60</td>\n",
       "      <td></td>\n",
       "      <td>en</td>\n",
       "      <td></td>\n",
       "      <td>Really not worth the money. Nickle-and-dimed f...</td>\n",
       "      <td>Really not worth the money. Nickle-and-dimed ...</td>\n",
       "      <td>really worth money nickle dim half shower clos...</td>\n",
       "    </tr>\n",
       "    <tr>\n",
       "      <th>1</th>\n",
       "      <td>ecc1ef55-1f8f-44da-bcce-057a29138cae</td>\n",
       "      <td>2009-07-01 00:00:00</td>\n",
       "      <td>100</td>\n",
       "      <td></td>\n",
       "      <td>en</td>\n",
       "      <td></td>\n",
       "      <td>Had a fantastic time.  Excellent Resort.  From...</td>\n",
       "      <td>Had a fantastic time.  Excellent Resort.  Fro...</td>\n",
       "      <td>fantastic time excellent resort check man book...</td>\n",
       "    </tr>\n",
       "    <tr>\n",
       "      <th>2</th>\n",
       "      <td>11ae2de8-7b02-4b17-9a71-b166b77d8365</td>\n",
       "      <td>2010-07-01 00:00:00</td>\n",
       "      <td>100</td>\n",
       "      <td></td>\n",
       "      <td>en</td>\n",
       "      <td></td>\n",
       "      <td>We had probably the best stay we've ever had i...</td>\n",
       "      <td>We had probably the best stay we've ever had ...</td>\n",
       "      <td>probably best stay resort mid relax enjoy reac...</td>\n",
       "    </tr>\n",
       "    <tr>\n",
       "      <th>3</th>\n",
       "      <td>b2230e67-e20e-425d-b8f2-ddf5359bb74b</td>\n",
       "      <td>2009-07-01 00:00:00</td>\n",
       "      <td>80</td>\n",
       "      <td></td>\n",
       "      <td>en</td>\n",
       "      <td></td>\n",
       "      <td>Beautiful Beach, Friendly staff.The Ocean view...</td>\n",
       "      <td>Beautiful Beach, Friendly staff.The Ocean vie...</td>\n",
       "      <td>friendly staff luxury suite smaller expexte co...</td>\n",
       "    </tr>\n",
       "  </tbody>\n",
       "</table>\n",
       "</div>"
      ],
      "text/plain": [
       "                                    uid                 date score  \\\n",
       "0  7041b7b3-f9d2-4d7c-b34b-f9c2bd632671  2009-07-01 00:00:00    60   \n",
       "1  ecc1ef55-1f8f-44da-bcce-057a29138cae  2009-07-01 00:00:00   100   \n",
       "2  11ae2de8-7b02-4b17-9a71-b166b77d8365  2010-07-01 00:00:00   100   \n",
       "3  b2230e67-e20e-425d-b8f2-ddf5359bb74b  2009-07-01 00:00:00    80   \n",
       "\n",
       "  recommendation_rate lang title  \\\n",
       "0                       en         \n",
       "1                       en         \n",
       "2                       en         \n",
       "3                       en         \n",
       "\n",
       "                                                text  \\\n",
       "0  Really not worth the money. Nickle-and-dimed f...   \n",
       "1  Had a fantastic time.  Excellent Resort.  From...   \n",
       "2  We had probably the best stay we've ever had i...   \n",
       "3  Beautiful Beach, Friendly staff.The Ocean view...   \n",
       "\n",
       "                                               words  \\\n",
       "0   Really not worth the money. Nickle-and-dimed ...   \n",
       "1   Had a fantastic time.  Excellent Resort.  Fro...   \n",
       "2   We had probably the best stay we've ever had ...   \n",
       "3   Beautiful Beach, Friendly staff.The Ocean vie...   \n",
       "\n",
       "                                     processed_words  \n",
       "0  really worth money nickle dim half shower clos...  \n",
       "1  fantastic time excellent resort check man book...  \n",
       "2  probably best stay resort mid relax enjoy reac...  \n",
       "3  friendly staff luxury suite smaller expexte co...  "
      ]
     },
     "execution_count": 8,
     "metadata": {},
     "output_type": "execute_result"
    }
   ],
   "source": [
    "en_df.head(4)"
   ]
  },
  {
   "cell_type": "code",
   "execution_count": 9,
   "metadata": {},
   "outputs": [
    {
     "name": "stderr",
     "output_type": "stream",
     "text": [
      "/home/yiyi/anaconda3/envs/CPD/lib/python3.8/site-packages/sklearn/utils/deprecation.py:144: FutureWarning: The sklearn.feature_extraction.stop_words module is  deprecated in version 0.22 and will be removed in version 0.24. The corresponding classes / functions should instead be imported from sklearn.feature_extraction.text. Anything that cannot be imported from sklearn.feature_extraction.text is now part of the private API.\n",
      "  warnings.warn(message, FutureWarning)\n",
      "/home/yiyi/anaconda3/envs/CPD/lib/python3.8/site-packages/sklearn/externals/joblib/__init__.py:15: FutureWarning: sklearn.externals.joblib is deprecated in 0.21 and will be removed in 0.23. Please import this functionality directly from joblib, which can be installed with: pip install joblib. If this warning is raised when loading pickled models, you may need to re-serialize those models with scikit-learn 0.21+.\n",
      "  warnings.warn(msg, category=FutureWarning)\n"
     ]
    }
   ],
   "source": [
    "import numpy as np\n",
    "import tqdm as tqdm\n",
    "\n",
    "import scipy.sparse as s_sparse\n",
    "\n",
    "from sklearn.feature_extraction.text import CountVectorizer, TfidfVectorizer\n",
    "from sklearn.feature_extraction.stop_words import ENGLISH_STOP_WORDS\n",
    "\n",
    "from corextopic import corextopic as ct\n",
    "from corextopic import vis_topic as vt"
   ]
  },
  {
   "cell_type": "markdown",
   "metadata": {
    "pycharm": {
     "name": "#%% md\n"
    }
   },
   "source": [
    "# Topic Modeling"
   ]
  },
  {
   "cell_type": "code",
   "execution_count": 10,
   "metadata": {},
   "outputs": [
    {
     "name": "stdout",
     "output_type": "stream",
     "text": [
      "5071\n"
     ]
    }
   ],
   "source": [
    "vectorizer = TfidfVectorizer(\n",
    "    max_df=.5,\n",
    "    min_df=10,\n",
    "    max_features=None,\n",
    "    ngram_range=(1, 2),\n",
    "    norm=None,\n",
    "    binary=True,\n",
    "    use_idf=False,\n",
    "    sublinear_tf=False\n",
    ")\n",
    "vectorizer = vectorizer.fit(en_df['processed_words'])\n",
    "tfidf = vectorizer.transform(en_df['processed_words'])\n",
    "vocab = vectorizer.get_feature_names()\n",
    "print(len(vocab))"
   ]
  },
  {
   "cell_type": "code",
   "execution_count": 32,
   "metadata": {
    "pycharm": {
     "name": "#%%\n"
    }
   },
   "outputs": [],
   "source": [
    "from categories import CATEGORIES"
   ]
  },
  {
   "cell_type": "code",
   "execution_count": 33,
   "metadata": {},
   "outputs": [
    {
     "data": {
      "text/plain": [
       "15"
      ]
     },
     "execution_count": 33,
     "metadata": {},
     "output_type": "execute_result"
    }
   ],
   "source": [
    "categories_lower = [[x.lower() for x in category] for category in CATEGORIES]\n",
    "len(categories_lower)"
   ]
  },
  {
   "cell_type": "code",
   "execution_count": 13,
   "metadata": {},
   "outputs": [],
   "source": [
    "model = ct.Corex(n_hidden=15, seed=42)\n",
    "model = model.fit(\n",
    "    tfidf,\n",
    "    words=vocab\n",
    ")"
   ]
  },
  {
   "cell_type": "code",
   "execution_count": 14,
   "metadata": {},
   "outputs": [
    {
     "name": "stdout",
     "output_type": "stream",
     "text": [
      "Topic #1: check, call, tell, ask, arrive, hour, wait, pm, finally, put\n",
      "Topic #2: beach, staff, friendly, great, pool, helpful, clean, private, location, private beach\n",
      "Topic #3: reach, stay, stay reach, time, resort, first, trip, next, reach resort, towel\n",
      "Topic #4: bathroom, elevator, floor, shower, dirty, work, door, stain, carpet, furniture\n",
      "Topic #5: night, find, give, expect, much, really, thing, leave, still, guest\n",
      "Topic #6: pay, price, bad, property, rate, old, disappointed, average, terrible, poor\n",
      "Topic #7: restaurant, drink, food, bar, eat, wonderful, dinner, lunch, food drink, set\n",
      "Topic #8: small, view, large, balcony, area, ocean, water, courtyard, size, pool area\n",
      "Topic #9: charge, walk, parking, hotel, fee, resort_fee, car, park, include, cost\n",
      "Topic #10: day, people, bed, morning, start, sit, end, way, entire, day stay\n",
      "Topic #11: never, year, manager, member, ready, ever, room ready, receive, different, last\n",
      "Topic #12: review, spend, read, order, week, choose, enough, turn, expectation, question\n",
      "Topic #13: look, breakfast, service, overall, however, offer, standard, couple, actually, high\n",
      "Topic #14: point, little, away, coffee, closet, clothe, drawer, suitcase, table, pretty\n",
      "Topic #15: money, well, book, experience, worth, extra, late, second, worth money, hope\n"
     ]
    }
   ],
   "source": [
    "for i, topic_ngrams in enumerate(model.get_topics(n_words=10)):\n",
    "    topic_ngrams = [ngram[0] for ngram in topic_ngrams if ngram[1] > 0]\n",
    "    print(\"Topic #{}: {}\".format(i+1, \", \".join(topic_ngrams)))"
   ]
  },
  {
   "cell_type": "code",
   "execution_count": 34,
   "metadata": {},
   "outputs": [],
   "source": [
    "anchors=[\n",
    "    [a for a in topic if a in vocab]\n",
    "    for topic in categories_lower\n",
    "]\n",
    "anchors = list(filter(lambda x: len(x)>0, anchors))"
   ]
  },
  {
   "cell_type": "code",
   "execution_count": 35,
   "metadata": {},
   "outputs": [],
   "source": [
    "anchors.append([\"redecoration\", \"renovation\", \"repair\", \"restore\", \"restoration\", \"renewal\",\n",
    "                \"rehabilitation\", \"revamping\", \"reimagine\", \"refurbishment\",\n",
    "                \"refitting\", \"fixing up\", \"reconditioning\"])"
   ]
  },
  {
   "cell_type": "code",
   "execution_count": 36,
   "metadata": {},
   "outputs": [
    {
     "data": {
      "text/plain": [
       "16"
      ]
     },
     "execution_count": 36,
     "metadata": {},
     "output_type": "execute_result"
    }
   ],
   "source": [
    "len(anchors)"
   ]
  },
  {
   "cell_type": "code",
   "execution_count": 47,
   "metadata": {},
   "outputs": [
    {
     "name": "stdout",
     "output_type": "stream",
     "text": [
      "WARNING: Anchor word not in word column labels provided to CorEx: redecoration\n",
      "WARNING: Anchor word not in word column labels provided to CorEx: restore\n",
      "WARNING: Anchor word not in word column labels provided to CorEx: restoration\n",
      "WARNING: Anchor word not in word column labels provided to CorEx: renewal\n",
      "WARNING: Anchor word not in word column labels provided to CorEx: rehabilitation\n",
      "WARNING: Anchor word not in word column labels provided to CorEx: revamping\n",
      "WARNING: Anchor word not in word column labels provided to CorEx: reimagine\n",
      "WARNING: Anchor word not in word column labels provided to CorEx: refitting\n",
      "WARNING: Anchor word not in word column labels provided to CorEx: fixing up\n",
      "WARNING: Anchor word not in word column labels provided to CorEx: reconditioning\n"
     ]
    }
   ],
   "source": [
    "model = ct.Corex(n_hidden=16, seed=42)\n",
    "model = model.fit(\n",
    "    tfidf,\n",
    "    words=vocab,\n",
    "    anchors=anchors, # Pass the anchors in here\n",
    "    anchor_strength=6 # Tell the model how much it should rely on the anchors\n",
    ")"
   ]
  },
  {
   "cell_type": "code",
   "execution_count": 48,
   "metadata": {},
   "outputs": [
    {
     "name": "stdout",
     "output_type": "stream",
     "text": [
      "Topic #1: view, bathroom, balcony, shower, furniture, tv, room size, view room, great view, new room\n",
      "Topic #2: comfort, arrive, give, wait, people, next, guest, well, sit, bring\n",
      "Topic #3: cleanliness, expect, never, dirty, floor, bad, property, money, stain, point\n",
      "Topic #4: beach, private beach, private, beach staff, beach great, hotel beach, beach area, small beach, beach small, seaweed\n",
      "Topic #5: breakfast, eat breakfast, service breakfast, free breakfast, breakfast lunch, breakfast include, expensive, great breakfast, buffet, bed breakfast\n",
      "Topic #6: food, menu, steak, fish, seafood, food drink, great food, food service, pizza, food restaurant\n",
      "Topic #7: bar, bar restaurant, pool bar, restaurant bar, drink bar, bar staff, bar pool, bar great, beach bar, bar area\n",
      "Topic #8: location, parking, great location, shopping, location great, great, hotel location, location perfect, perfect location, location hotel\n",
      "Topic #9: service, room service, management, reception, pool service, beach service, housekeeping staff, bar service, great service, restaurant service\n",
      "Topic #10: walk, restaurant, towel, small, quiet, chair, clean, drink, water, large\n",
      "Topic #11: wifi, day, pay, find, charge, much, thing, first, look, review\n",
      "Topic #12: pool, pool area, beach pool, pool beach, area, pool staff, pool small, great pool, pool great, pool room\n",
      "Topic #13: reach, stay, staff, stay reach, time, friendly, resort, trip, back, wonderful\n",
      "Topic #14: elevator, value, terrace, value money, elevator break, elevator work, break, room elevator, great value, stair\n",
      "Topic #15: hotel, beach hotel, hotel staff, stay hotel, resort hotel, hotel room, great hotel, hotel great, luxury hotel, hotel stay\n",
      "Topic #16: renovation, repair, check, tell, call, ask, night, book, leave, work\n"
     ]
    }
   ],
   "source": [
    "for i, topic_ngrams in enumerate(model.get_topics(n_words=10)):\n",
    "    topic_ngrams = [ngram[0] for ngram in topic_ngrams if ngram[1] > 0]\n",
    "    print(\"Topic #{}: {}\".format(i+1, \", \".join(topic_ngrams)))"
   ]
  },
  {
   "cell_type": "code",
   "execution_count": 49,
   "metadata": {},
   "outputs": [],
   "source": [
    "\n",
    "topic_df = pd.DataFrame(\n",
    "    model.transform(tfidf), \n",
    "    columns=[\"topic_{}\".format(i+1) for i in range(16)]\n",
    ").astype(float)\n",
    "topic_df.index = en_df.index\n",
    "df = pd.concat([en_df, topic_df], axis=1)"
   ]
  },
  {
   "cell_type": "code",
   "execution_count": 41,
   "metadata": {},
   "outputs": [
    {
     "data": {
      "text/plain": [
       "[['bathroom',\n",
       "  'balcony',\n",
       "  'view',\n",
       "  'tv',\n",
       "  'furniture',\n",
       "  'family room',\n",
       "  'shower',\n",
       "  'room size',\n",
       "  'old room',\n",
       "  'new room'],\n",
       " ['comfort', 'noise level'],\n",
       " ['cleanliness'],\n",
       " ['beach'],\n",
       " ['breakfast'],\n",
       " ['food', 'menu', 'meat', 'steak', 'fish', 'seafood', 'pizza'],\n",
       " ['bar'],\n",
       " ['location', 'sightseeing', 'shopping', 'parking'],\n",
       " ['service',\n",
       "  'reception',\n",
       "  'restaurant service',\n",
       "  'pool service',\n",
       "  'beach service',\n",
       "  'housekeeping staff',\n",
       "  'management',\n",
       "  'bar service',\n",
       "  'room service'],\n",
       " ['vibe'],\n",
       " ['wifi'],\n",
       " ['pool'],\n",
       " ['fitness'],\n",
       " ['value', 'terrace', 'elevator'],\n",
       " ['hotel', 'luxury hotel', 'family hotel', 'resort hotel', 'beach hotel'],\n",
       " ['redecoration',\n",
       "  'renovation',\n",
       "  'repair',\n",
       "  'restore',\n",
       "  'restoration',\n",
       "  'renewal',\n",
       "  'rehabilitation',\n",
       "  'revamping',\n",
       "  'reimagine',\n",
       "  'refurbishment',\n",
       "  'refitting',\n",
       "  'fixing up',\n",
       "  'reconditioning']]"
      ]
     },
     "execution_count": 41,
     "metadata": {},
     "output_type": "execute_result"
    }
   ],
   "source": [
    "anchors"
   ]
  },
  {
   "cell_type": "code",
   "execution_count": 50,
   "metadata": {},
   "outputs": [],
   "source": [
    "df = df.sort_values('date')"
   ]
  },
  {
   "cell_type": "code",
   "execution_count": 43,
   "metadata": {},
   "outputs": [
    {
     "data": {
      "text/plain": [
       "8069"
      ]
     },
     "execution_count": 43,
     "metadata": {},
     "output_type": "execute_result"
    }
   ],
   "source": [
    "len(df)"
   ]
  },
  {
   "cell_type": "code",
   "execution_count": 114,
   "metadata": {},
   "outputs": [],
   "source": [
    "df.to_csv('test.csv')"
   ]
  },
  {
   "cell_type": "code",
   "execution_count": 68,
   "metadata": {},
   "outputs": [],
   "source": [
    "df = df.reset_index().drop(columns=['index'])"
   ]
  },
  {
   "cell_type": "code",
   "execution_count": null,
   "outputs": [],
   "source": [
    "df.head(3)"
   ],
   "metadata": {
    "collapsed": false,
    "pycharm": {
     "name": "#%%\n"
    }
   }
  },
  {
   "cell_type": "code",
   "execution_count": null,
   "outputs": [],
   "source": [
    "renovat_df = df[df.topic_16==1.0]"
   ],
   "metadata": {
    "collapsed": false,
    "pycharm": {
     "name": "#%%\n"
    }
   }
  },
  {
   "cell_type": "code",
   "execution_count": null,
   "outputs": [],
   "source": [
    "len(renovat_df)"
   ],
   "metadata": {
    "collapsed": false,
    "pycharm": {
     "name": "#%%\n"
    }
   }
  },
  {
   "cell_type": "code",
   "execution_count": null,
   "outputs": [],
   "source": [
    "renovat_df.head(4)"
   ],
   "metadata": {
    "collapsed": false,
    "pycharm": {
     "name": "#%%\n"
    }
   }
  },
  {
   "cell_type": "code",
   "execution_count": null,
   "outputs": [],
   "source": [
    "renovat_df['index_df']= renovat_df.index"
   ],
   "metadata": {
    "collapsed": false,
    "pycharm": {
     "name": "#%%\n"
    }
   }
  },
  {
   "cell_type": "code",
   "execution_count": null,
   "outputs": [],
   "source": [
    "renovat_df"
   ],
   "metadata": {
    "collapsed": false,
    "pycharm": {
     "name": "#%%\n"
    }
   }
  },
  {
   "cell_type": "code",
   "execution_count": null,
   "outputs": [],
   "source": [
    "renovat_df.to_csv('test_renovat.csv')"
   ],
   "metadata": {
    "collapsed": false,
    "pycharm": {
     "name": "#%%\n"
    }
   }
  },
  {
   "cell_type": "code",
   "execution_count": null,
   "outputs": [],
   "source": [
    "import pandas as pd\n",
    "import numpy as np\n",
    "import matplotlib.pylab as plt\n",
    "import ruptures as rpt\n",
    "import time\n"
   ],
   "metadata": {
    "collapsed": false,
    "pycharm": {
     "name": "#%%\n"
    }
   }
  },
  {
   "cell_type": "code",
   "execution_count": null,
   "outputs": [],
   "source": [
    "%matplotlib inline\n",
    "def binseg(scores):\n",
    "    # fast\n",
    "    model = \"l2\"\n",
    "    n_samples = scores.shape[0]\n",
    "    algo = rpt.Binseg(model=model).fit(scores)\n",
    "    try:\n",
    "        my_bkps = algo.predict(n_bkps=5)\n",
    "        print('change points:', my_bkps)\n",
    "        # show results\n",
    "\n",
    "        rpt.show.display(scores, my_bkps, figsize=(10, 6))\n",
    "        plt.title('Change Point Detection: Binary Segmentation Search Method')\n",
    "        plt.show()\n",
    "    except Exception as msg:\n",
    "        print(msg)"
   ],
   "metadata": {
    "collapsed": false,
    "pycharm": {
     "name": "#%%\n"
    }
   }
  },
  {
   "cell_type": "code",
   "execution_count": null,
   "outputs": [],
   "source": [
    "scores = np.array(renovat_df['score'])"
   ],
   "metadata": {
    "collapsed": false,
    "pycharm": {
     "name": "#%%\n"
    }
   }
  },
  {
   "cell_type": "code",
   "execution_count": null,
   "outputs": [],
   "source": [
    "binseg(scores)"
   ],
   "metadata": {
    "collapsed": false,
    "pycharm": {
     "name": "#%%\n"
    }
   }
  },
  {
   "cell_type": "code",
   "execution_count": null,
   "outputs": [],
   "source": [
    "# without topic modeling\n",
    "scores_df = np.array(df['score'])"
   ],
   "metadata": {
    "collapsed": false,
    "pycharm": {
     "name": "#%%\n"
    }
   }
  },
  {
   "cell_type": "code",
   "execution_count": null,
   "outputs": [],
   "source": [
    "scores_df = df[df['score']!='']"
   ],
   "metadata": {
    "collapsed": false,
    "pycharm": {
     "name": "#%%\n"
    }
   }
  },
  {
   "cell_type": "code",
   "execution_count": null,
   "outputs": [],
   "source": [
    "scores_df = np.array([float(x) for x in df['score'] if x!=''])"
   ],
   "metadata": {
    "collapsed": false,
    "pycharm": {
     "name": "#%%\n"
    }
   }
  },
  {
   "cell_type": "code",
   "execution_count": null,
   "outputs": [],
   "source": [
    "binseg(scores_df)"
   ],
   "metadata": {
    "collapsed": false,
    "pycharm": {
     "name": "#%%\n"
    }
   }
  },
  {
   "cell_type": "code",
   "execution_count": 125,
   "metadata": {},
   "outputs": [
    {
     "data": {
      "text/html": [
       "<div>\n",
       "<style scoped>\n",
       "    .dataframe tbody tr th:only-of-type {\n",
       "        vertical-align: middle;\n",
       "    }\n",
       "\n",
       "    .dataframe tbody tr th {\n",
       "        vertical-align: top;\n",
       "    }\n",
       "\n",
       "    .dataframe thead th {\n",
       "        text-align: right;\n",
       "    }\n",
       "</style>\n",
       "<table border=\"1\" class=\"dataframe\">\n",
       "  <thead>\n",
       "    <tr style=\"text-align: right;\">\n",
       "      <th></th>\n",
       "      <th>uid</th>\n",
       "      <th>date</th>\n",
       "      <th>score</th>\n",
       "      <th>recommendation_rate</th>\n",
       "      <th>lang</th>\n",
       "      <th>title</th>\n",
       "      <th>text</th>\n",
       "      <th>words</th>\n",
       "      <th>processed_words</th>\n",
       "      <th>topic_1</th>\n",
       "      <th>...</th>\n",
       "      <th>topic_7</th>\n",
       "      <th>topic_8</th>\n",
       "      <th>topic_9</th>\n",
       "      <th>topic_10</th>\n",
       "      <th>topic_11</th>\n",
       "      <th>topic_12</th>\n",
       "      <th>topic_13</th>\n",
       "      <th>topic_14</th>\n",
       "      <th>topic_15</th>\n",
       "      <th>topic_16</th>\n",
       "    </tr>\n",
       "  </thead>\n",
       "  <tbody>\n",
       "    <tr>\n",
       "      <th>0</th>\n",
       "      <td>4b7285ad-3a16-4053-b525-421b92ea3450</td>\n",
       "      <td>2002-06-28 00:00:00</td>\n",
       "      <td>100</td>\n",
       "      <td></td>\n",
       "      <td>en</td>\n",
       "      <td>Beware of the servibar..</td>\n",
       "      <td>We were very satisfied with our room, the view...</td>\n",
       "      <td>Beware of the servibar.. We were very satisfie...</td>\n",
       "      <td>beware servibar satisfied room view sandy beac...</td>\n",
       "      <td>1.0</td>\n",
       "      <td>...</td>\n",
       "      <td>1.0</td>\n",
       "      <td>0.0</td>\n",
       "      <td>0.0</td>\n",
       "      <td>0.0</td>\n",
       "      <td>1.0</td>\n",
       "      <td>0.0</td>\n",
       "      <td>0.0</td>\n",
       "      <td>0.0</td>\n",
       "      <td>0.0</td>\n",
       "      <td>0.0</td>\n",
       "    </tr>\n",
       "    <tr>\n",
       "      <th>1</th>\n",
       "      <td>e8540cc1-7b83-4579-b1d5-156b4a77b3fc</td>\n",
       "      <td>2003-02-11 00:00:00</td>\n",
       "      <td>20</td>\n",
       "      <td></td>\n",
       "      <td>en</td>\n",
       "      <td></td>\n",
       "      <td>Dingy, dirty smelly small room. Asked to chang...</td>\n",
       "      <td>Dingy, dirty smelly small room. Asked to chan...</td>\n",
       "      <td>smelly small room ask change room twice day ac...</td>\n",
       "      <td>1.0</td>\n",
       "      <td>...</td>\n",
       "      <td>0.0</td>\n",
       "      <td>0.0</td>\n",
       "      <td>0.0</td>\n",
       "      <td>0.0</td>\n",
       "      <td>0.0</td>\n",
       "      <td>0.0</td>\n",
       "      <td>0.0</td>\n",
       "      <td>0.0</td>\n",
       "      <td>0.0</td>\n",
       "      <td>1.0</td>\n",
       "    </tr>\n",
       "    <tr>\n",
       "      <th>2</th>\n",
       "      <td>3e1c0aa4-9f1f-461c-ae12-f0e4cac45426</td>\n",
       "      <td>2003-02-24 00:00:00</td>\n",
       "      <td>40</td>\n",
       "      <td></td>\n",
       "      <td>en</td>\n",
       "      <td></td>\n",
       "      <td>I was very disappointed in my stay at the Wynd...</td>\n",
       "      <td>I was very disappointed in my stay at the Wyn...</td>\n",
       "      <td>disappointed stay trip research hotel feel web...</td>\n",
       "      <td>0.0</td>\n",
       "      <td>...</td>\n",
       "      <td>0.0</td>\n",
       "      <td>0.0</td>\n",
       "      <td>1.0</td>\n",
       "      <td>0.0</td>\n",
       "      <td>0.0</td>\n",
       "      <td>0.0</td>\n",
       "      <td>0.0</td>\n",
       "      <td>0.0</td>\n",
       "      <td>1.0</td>\n",
       "      <td>1.0</td>\n",
       "    </tr>\n",
       "  </tbody>\n",
       "</table>\n",
       "<p>3 rows × 25 columns</p>\n",
       "</div>"
      ],
      "text/plain": [
       "                                    uid                 date score  \\\n",
       "0  4b7285ad-3a16-4053-b525-421b92ea3450  2002-06-28 00:00:00   100   \n",
       "1  e8540cc1-7b83-4579-b1d5-156b4a77b3fc  2003-02-11 00:00:00    20   \n",
       "2  3e1c0aa4-9f1f-461c-ae12-f0e4cac45426  2003-02-24 00:00:00    40   \n",
       "\n",
       "  recommendation_rate lang                     title  \\\n",
       "0                       en  Beware of the servibar..   \n",
       "1                       en                             \n",
       "2                       en                             \n",
       "\n",
       "                                                text  \\\n",
       "0  We were very satisfied with our room, the view...   \n",
       "1  Dingy, dirty smelly small room. Asked to chang...   \n",
       "2  I was very disappointed in my stay at the Wynd...   \n",
       "\n",
       "                                               words  \\\n",
       "0  Beware of the servibar.. We were very satisfie...   \n",
       "1   Dingy, dirty smelly small room. Asked to chan...   \n",
       "2   I was very disappointed in my stay at the Wyn...   \n",
       "\n",
       "                                     processed_words  topic_1  ...  topic_7  \\\n",
       "0  beware servibar satisfied room view sandy beac...      1.0  ...      1.0   \n",
       "1  smelly small room ask change room twice day ac...      1.0  ...      0.0   \n",
       "2  disappointed stay trip research hotel feel web...      0.0  ...      0.0   \n",
       "\n",
       "   topic_8  topic_9  topic_10  topic_11  topic_12  topic_13  topic_14  \\\n",
       "0      0.0      0.0       0.0       1.0       0.0       0.0       0.0   \n",
       "1      0.0      0.0       0.0       0.0       0.0       0.0       0.0   \n",
       "2      0.0      1.0       0.0       0.0       0.0       0.0       0.0   \n",
       "\n",
       "   topic_15  topic_16  \n",
       "0       0.0       0.0  \n",
       "1       0.0       1.0  \n",
       "2       1.0       1.0  \n",
       "\n",
       "[3 rows x 25 columns]"
      ]
     },
     "execution_count": 125,
     "metadata": {},
     "output_type": "execute_result"
    }
   ],
   "source": []
  },
  {
   "cell_type": "code",
   "execution_count": 126,
   "metadata": {},
   "outputs": [],
   "source": [
    "renovat_df = df[df.topic_16==1.0]"
   ]
  },
  {
   "cell_type": "code",
   "execution_count": 127,
   "metadata": {},
   "outputs": [
    {
     "data": {
      "text/plain": [
       "1746"
      ]
     },
     "execution_count": 127,
     "metadata": {},
     "output_type": "execute_result"
    }
   ],
   "source": [
    "len(renovat_df)"
   ]
  },
  {
   "cell_type": "code",
   "execution_count": 128,
   "metadata": {},
   "outputs": [
    {
     "data": {
      "text/html": [
       "<div>\n",
       "<style scoped>\n",
       "    .dataframe tbody tr th:only-of-type {\n",
       "        vertical-align: middle;\n",
       "    }\n",
       "\n",
       "    .dataframe tbody tr th {\n",
       "        vertical-align: top;\n",
       "    }\n",
       "\n",
       "    .dataframe thead th {\n",
       "        text-align: right;\n",
       "    }\n",
       "</style>\n",
       "<table border=\"1\" class=\"dataframe\">\n",
       "  <thead>\n",
       "    <tr style=\"text-align: right;\">\n",
       "      <th></th>\n",
       "      <th>uid</th>\n",
       "      <th>date</th>\n",
       "      <th>score</th>\n",
       "      <th>recommendation_rate</th>\n",
       "      <th>lang</th>\n",
       "      <th>title</th>\n",
       "      <th>text</th>\n",
       "      <th>words</th>\n",
       "      <th>processed_words</th>\n",
       "      <th>topic_1</th>\n",
       "      <th>...</th>\n",
       "      <th>topic_7</th>\n",
       "      <th>topic_8</th>\n",
       "      <th>topic_9</th>\n",
       "      <th>topic_10</th>\n",
       "      <th>topic_11</th>\n",
       "      <th>topic_12</th>\n",
       "      <th>topic_13</th>\n",
       "      <th>topic_14</th>\n",
       "      <th>topic_15</th>\n",
       "      <th>topic_16</th>\n",
       "    </tr>\n",
       "  </thead>\n",
       "  <tbody>\n",
       "    <tr>\n",
       "      <th>1</th>\n",
       "      <td>e8540cc1-7b83-4579-b1d5-156b4a77b3fc</td>\n",
       "      <td>2003-02-11 00:00:00</td>\n",
       "      <td>20</td>\n",
       "      <td></td>\n",
       "      <td>en</td>\n",
       "      <td></td>\n",
       "      <td>Dingy, dirty smelly small room. Asked to chang...</td>\n",
       "      <td>Dingy, dirty smelly small room. Asked to chan...</td>\n",
       "      <td>smelly small room ask change room twice day ac...</td>\n",
       "      <td>1.0</td>\n",
       "      <td>...</td>\n",
       "      <td>0.0</td>\n",
       "      <td>0.0</td>\n",
       "      <td>0.0</td>\n",
       "      <td>0.0</td>\n",
       "      <td>0.0</td>\n",
       "      <td>0.0</td>\n",
       "      <td>0.0</td>\n",
       "      <td>0.0</td>\n",
       "      <td>0.0</td>\n",
       "      <td>1.0</td>\n",
       "    </tr>\n",
       "    <tr>\n",
       "      <th>2</th>\n",
       "      <td>3e1c0aa4-9f1f-461c-ae12-f0e4cac45426</td>\n",
       "      <td>2003-02-24 00:00:00</td>\n",
       "      <td>40</td>\n",
       "      <td></td>\n",
       "      <td>en</td>\n",
       "      <td></td>\n",
       "      <td>I was very disappointed in my stay at the Wynd...</td>\n",
       "      <td>I was very disappointed in my stay at the Wyn...</td>\n",
       "      <td>disappointed stay trip research hotel feel web...</td>\n",
       "      <td>0.0</td>\n",
       "      <td>...</td>\n",
       "      <td>0.0</td>\n",
       "      <td>0.0</td>\n",
       "      <td>1.0</td>\n",
       "      <td>0.0</td>\n",
       "      <td>0.0</td>\n",
       "      <td>0.0</td>\n",
       "      <td>0.0</td>\n",
       "      <td>0.0</td>\n",
       "      <td>1.0</td>\n",
       "      <td>1.0</td>\n",
       "    </tr>\n",
       "    <tr>\n",
       "      <th>7</th>\n",
       "      <td>81abf557-2ada-4931-80eb-d80b3f3e7e8b</td>\n",
       "      <td>2003-06-16 00:00:00</td>\n",
       "      <td>80</td>\n",
       "      <td></td>\n",
       "      <td>en</td>\n",
       "      <td></td>\n",
       "      <td>My wife and I just returned from our stay at T...</td>\n",
       "      <td>My wife and I just returned from our stay at ...</td>\n",
       "      <td>wife return stay reach resort wonderful time f...</td>\n",
       "      <td>1.0</td>\n",
       "      <td>...</td>\n",
       "      <td>0.0</td>\n",
       "      <td>0.0</td>\n",
       "      <td>0.0</td>\n",
       "      <td>1.0</td>\n",
       "      <td>1.0</td>\n",
       "      <td>1.0</td>\n",
       "      <td>1.0</td>\n",
       "      <td>0.0</td>\n",
       "      <td>1.0</td>\n",
       "      <td>1.0</td>\n",
       "    </tr>\n",
       "    <tr>\n",
       "      <th>8</th>\n",
       "      <td>7ee34dc4-45ca-45eb-87b8-facaf71af202</td>\n",
       "      <td>2003-06-17 00:00:00</td>\n",
       "      <td>60</td>\n",
       "      <td></td>\n",
       "      <td>en</td>\n",
       "      <td></td>\n",
       "      <td>Most places rated this hotel a 4 star. Due to ...</td>\n",
       "      <td>Most places rated this hotel a 4 star. Due to...</td>\n",
       "      <td>place rate hotel star due noticeable age rate ...</td>\n",
       "      <td>1.0</td>\n",
       "      <td>...</td>\n",
       "      <td>1.0</td>\n",
       "      <td>1.0</td>\n",
       "      <td>0.0</td>\n",
       "      <td>1.0</td>\n",
       "      <td>1.0</td>\n",
       "      <td>1.0</td>\n",
       "      <td>0.0</td>\n",
       "      <td>1.0</td>\n",
       "      <td>1.0</td>\n",
       "      <td>1.0</td>\n",
       "    </tr>\n",
       "  </tbody>\n",
       "</table>\n",
       "<p>4 rows × 25 columns</p>\n",
       "</div>"
      ],
      "text/plain": [
       "                                    uid                 date score  \\\n",
       "1  e8540cc1-7b83-4579-b1d5-156b4a77b3fc  2003-02-11 00:00:00    20   \n",
       "2  3e1c0aa4-9f1f-461c-ae12-f0e4cac45426  2003-02-24 00:00:00    40   \n",
       "7  81abf557-2ada-4931-80eb-d80b3f3e7e8b  2003-06-16 00:00:00    80   \n",
       "8  7ee34dc4-45ca-45eb-87b8-facaf71af202  2003-06-17 00:00:00    60   \n",
       "\n",
       "  recommendation_rate lang title  \\\n",
       "1                       en         \n",
       "2                       en         \n",
       "7                       en         \n",
       "8                       en         \n",
       "\n",
       "                                                text  \\\n",
       "1  Dingy, dirty smelly small room. Asked to chang...   \n",
       "2  I was very disappointed in my stay at the Wynd...   \n",
       "7  My wife and I just returned from our stay at T...   \n",
       "8  Most places rated this hotel a 4 star. Due to ...   \n",
       "\n",
       "                                               words  \\\n",
       "1   Dingy, dirty smelly small room. Asked to chan...   \n",
       "2   I was very disappointed in my stay at the Wyn...   \n",
       "7   My wife and I just returned from our stay at ...   \n",
       "8   Most places rated this hotel a 4 star. Due to...   \n",
       "\n",
       "                                     processed_words  topic_1  ...  topic_7  \\\n",
       "1  smelly small room ask change room twice day ac...      1.0  ...      0.0   \n",
       "2  disappointed stay trip research hotel feel web...      0.0  ...      0.0   \n",
       "7  wife return stay reach resort wonderful time f...      1.0  ...      0.0   \n",
       "8  place rate hotel star due noticeable age rate ...      1.0  ...      1.0   \n",
       "\n",
       "   topic_8  topic_9  topic_10  topic_11  topic_12  topic_13  topic_14  \\\n",
       "1      0.0      0.0       0.0       0.0       0.0       0.0       0.0   \n",
       "2      0.0      1.0       0.0       0.0       0.0       0.0       0.0   \n",
       "7      0.0      0.0       1.0       1.0       1.0       1.0       0.0   \n",
       "8      1.0      0.0       1.0       1.0       1.0       0.0       1.0   \n",
       "\n",
       "   topic_15  topic_16  \n",
       "1       0.0       1.0  \n",
       "2       1.0       1.0  \n",
       "7       1.0       1.0  \n",
       "8       1.0       1.0  \n",
       "\n",
       "[4 rows x 25 columns]"
      ]
     },
     "execution_count": 128,
     "metadata": {},
     "output_type": "execute_result"
    }
   ],
   "source": [
    "renovat_df.head(4)"
   ]
  },
  {
   "cell_type": "code",
   "execution_count": 130,
   "metadata": {},
   "outputs": [
    {
     "name": "stderr",
     "output_type": "stream",
     "text": [
      "<ipython-input-130-37e2452d662f>:1: SettingWithCopyWarning: \n",
      "A value is trying to be set on a copy of a slice from a DataFrame.\n",
      "Try using .loc[row_indexer,col_indexer] = value instead\n",
      "\n",
      "See the caveats in the documentation: https://pandas.pydata.org/pandas-docs/stable/user_guide/indexing.html#returning-a-view-versus-a-copy\n",
      "  renovat_df['index_df']= renovat_df.index\n"
     ]
    }
   ],
   "source": [
    "renovat_df['index_df']= renovat_df.index"
   ]
  },
  {
   "cell_type": "code",
   "execution_count": 131,
   "metadata": {},
   "outputs": [
    {
     "data": {
      "text/html": [
       "<div>\n",
       "<style scoped>\n",
       "    .dataframe tbody tr th:only-of-type {\n",
       "        vertical-align: middle;\n",
       "    }\n",
       "\n",
       "    .dataframe tbody tr th {\n",
       "        vertical-align: top;\n",
       "    }\n",
       "\n",
       "    .dataframe thead th {\n",
       "        text-align: right;\n",
       "    }\n",
       "</style>\n",
       "<table border=\"1\" class=\"dataframe\">\n",
       "  <thead>\n",
       "    <tr style=\"text-align: right;\">\n",
       "      <th></th>\n",
       "      <th>uid</th>\n",
       "      <th>date</th>\n",
       "      <th>score</th>\n",
       "      <th>recommendation_rate</th>\n",
       "      <th>lang</th>\n",
       "      <th>title</th>\n",
       "      <th>text</th>\n",
       "      <th>words</th>\n",
       "      <th>processed_words</th>\n",
       "      <th>topic_1</th>\n",
       "      <th>...</th>\n",
       "      <th>topic_8</th>\n",
       "      <th>topic_9</th>\n",
       "      <th>topic_10</th>\n",
       "      <th>topic_11</th>\n",
       "      <th>topic_12</th>\n",
       "      <th>topic_13</th>\n",
       "      <th>topic_14</th>\n",
       "      <th>topic_15</th>\n",
       "      <th>topic_16</th>\n",
       "      <th>index_df</th>\n",
       "    </tr>\n",
       "  </thead>\n",
       "  <tbody>\n",
       "    <tr>\n",
       "      <th>1</th>\n",
       "      <td>e8540cc1-7b83-4579-b1d5-156b4a77b3fc</td>\n",
       "      <td>2003-02-11 00:00:00</td>\n",
       "      <td>20</td>\n",
       "      <td></td>\n",
       "      <td>en</td>\n",
       "      <td></td>\n",
       "      <td>Dingy, dirty smelly small room. Asked to chang...</td>\n",
       "      <td>Dingy, dirty smelly small room. Asked to chan...</td>\n",
       "      <td>smelly small room ask change room twice day ac...</td>\n",
       "      <td>1.0</td>\n",
       "      <td>...</td>\n",
       "      <td>0.0</td>\n",
       "      <td>0.0</td>\n",
       "      <td>0.0</td>\n",
       "      <td>0.0</td>\n",
       "      <td>0.0</td>\n",
       "      <td>0.0</td>\n",
       "      <td>0.0</td>\n",
       "      <td>0.0</td>\n",
       "      <td>1.0</td>\n",
       "      <td>1</td>\n",
       "    </tr>\n",
       "    <tr>\n",
       "      <th>2</th>\n",
       "      <td>3e1c0aa4-9f1f-461c-ae12-f0e4cac45426</td>\n",
       "      <td>2003-02-24 00:00:00</td>\n",
       "      <td>40</td>\n",
       "      <td></td>\n",
       "      <td>en</td>\n",
       "      <td></td>\n",
       "      <td>I was very disappointed in my stay at the Wynd...</td>\n",
       "      <td>I was very disappointed in my stay at the Wyn...</td>\n",
       "      <td>disappointed stay trip research hotel feel web...</td>\n",
       "      <td>0.0</td>\n",
       "      <td>...</td>\n",
       "      <td>0.0</td>\n",
       "      <td>1.0</td>\n",
       "      <td>0.0</td>\n",
       "      <td>0.0</td>\n",
       "      <td>0.0</td>\n",
       "      <td>0.0</td>\n",
       "      <td>0.0</td>\n",
       "      <td>1.0</td>\n",
       "      <td>1.0</td>\n",
       "      <td>2</td>\n",
       "    </tr>\n",
       "    <tr>\n",
       "      <th>7</th>\n",
       "      <td>81abf557-2ada-4931-80eb-d80b3f3e7e8b</td>\n",
       "      <td>2003-06-16 00:00:00</td>\n",
       "      <td>80</td>\n",
       "      <td></td>\n",
       "      <td>en</td>\n",
       "      <td></td>\n",
       "      <td>My wife and I just returned from our stay at T...</td>\n",
       "      <td>My wife and I just returned from our stay at ...</td>\n",
       "      <td>wife return stay reach resort wonderful time f...</td>\n",
       "      <td>1.0</td>\n",
       "      <td>...</td>\n",
       "      <td>0.0</td>\n",
       "      <td>0.0</td>\n",
       "      <td>1.0</td>\n",
       "      <td>1.0</td>\n",
       "      <td>1.0</td>\n",
       "      <td>1.0</td>\n",
       "      <td>0.0</td>\n",
       "      <td>1.0</td>\n",
       "      <td>1.0</td>\n",
       "      <td>7</td>\n",
       "    </tr>\n",
       "    <tr>\n",
       "      <th>8</th>\n",
       "      <td>7ee34dc4-45ca-45eb-87b8-facaf71af202</td>\n",
       "      <td>2003-06-17 00:00:00</td>\n",
       "      <td>60</td>\n",
       "      <td></td>\n",
       "      <td>en</td>\n",
       "      <td></td>\n",
       "      <td>Most places rated this hotel a 4 star. Due to ...</td>\n",
       "      <td>Most places rated this hotel a 4 star. Due to...</td>\n",
       "      <td>place rate hotel star due noticeable age rate ...</td>\n",
       "      <td>1.0</td>\n",
       "      <td>...</td>\n",
       "      <td>1.0</td>\n",
       "      <td>0.0</td>\n",
       "      <td>1.0</td>\n",
       "      <td>1.0</td>\n",
       "      <td>1.0</td>\n",
       "      <td>0.0</td>\n",
       "      <td>1.0</td>\n",
       "      <td>1.0</td>\n",
       "      <td>1.0</td>\n",
       "      <td>8</td>\n",
       "    </tr>\n",
       "    <tr>\n",
       "      <th>9</th>\n",
       "      <td>7ebb830f-29b3-4faf-b990-ef7332a03cc0</td>\n",
       "      <td>2003-06-23 00:00:00</td>\n",
       "      <td>40</td>\n",
       "      <td></td>\n",
       "      <td>en</td>\n",
       "      <td></td>\n",
       "      <td>While I got what I paid for, this hotel wasn't...</td>\n",
       "      <td>While I got what I paid for, this hotel wasn'...</td>\n",
       "      <td>pay hotel expect luckily cheap package price p...</td>\n",
       "      <td>0.0</td>\n",
       "      <td>...</td>\n",
       "      <td>1.0</td>\n",
       "      <td>1.0</td>\n",
       "      <td>0.0</td>\n",
       "      <td>1.0</td>\n",
       "      <td>1.0</td>\n",
       "      <td>0.0</td>\n",
       "      <td>0.0</td>\n",
       "      <td>1.0</td>\n",
       "      <td>1.0</td>\n",
       "      <td>9</td>\n",
       "    </tr>\n",
       "    <tr>\n",
       "      <th>...</th>\n",
       "      <td>...</td>\n",
       "      <td>...</td>\n",
       "      <td>...</td>\n",
       "      <td>...</td>\n",
       "      <td>...</td>\n",
       "      <td>...</td>\n",
       "      <td>...</td>\n",
       "      <td>...</td>\n",
       "      <td>...</td>\n",
       "      <td>...</td>\n",
       "      <td>...</td>\n",
       "      <td>...</td>\n",
       "      <td>...</td>\n",
       "      <td>...</td>\n",
       "      <td>...</td>\n",
       "      <td>...</td>\n",
       "      <td>...</td>\n",
       "      <td>...</td>\n",
       "      <td>...</td>\n",
       "      <td>...</td>\n",
       "      <td>...</td>\n",
       "    </tr>\n",
       "    <tr>\n",
       "      <th>8059</th>\n",
       "      <td>5fa691da-a007-4453-a222-0ea0a64f35b8</td>\n",
       "      <td>2020-03-02 00:00:00</td>\n",
       "      <td>60</td>\n",
       "      <td></td>\n",
       "      <td>en</td>\n",
       "      <td>Stay</td>\n",
       "      <td>My room was ready when I arrived. Front desk w...</td>\n",
       "      <td>Stay My room was ready when I arrived. Front d...</td>\n",
       "      <td>stay room arrive woman ask number call still r...</td>\n",
       "      <td>0.0</td>\n",
       "      <td>...</td>\n",
       "      <td>0.0</td>\n",
       "      <td>0.0</td>\n",
       "      <td>0.0</td>\n",
       "      <td>0.0</td>\n",
       "      <td>0.0</td>\n",
       "      <td>0.0</td>\n",
       "      <td>0.0</td>\n",
       "      <td>0.0</td>\n",
       "      <td>1.0</td>\n",
       "      <td>8059</td>\n",
       "    </tr>\n",
       "    <tr>\n",
       "      <th>8061</th>\n",
       "      <td>a6ee54a3-24dd-4be9-92c2-7e7524f1e08d</td>\n",
       "      <td>2020-03-02 00:00:00</td>\n",
       "      <td>60</td>\n",
       "      <td></td>\n",
       "      <td>en</td>\n",
       "      <td>Winter Getaway</td>\n",
       "      <td>Just finishing up a stay at The Reach. We have...</td>\n",
       "      <td>Winter Getaway Just finishing up a stay at The...</td>\n",
       "      <td>finishing stay reach number time usually stay ...</td>\n",
       "      <td>0.0</td>\n",
       "      <td>...</td>\n",
       "      <td>0.0</td>\n",
       "      <td>0.0</td>\n",
       "      <td>0.0</td>\n",
       "      <td>1.0</td>\n",
       "      <td>1.0</td>\n",
       "      <td>1.0</td>\n",
       "      <td>0.0</td>\n",
       "      <td>0.0</td>\n",
       "      <td>1.0</td>\n",
       "      <td>8061</td>\n",
       "    </tr>\n",
       "    <tr>\n",
       "      <th>8063</th>\n",
       "      <td>42d2881d-37ec-4c7f-92b7-47e4e02eb0f8</td>\n",
       "      <td>2020-03-03 00:00:00</td>\n",
       "      <td>20</td>\n",
       "      <td></td>\n",
       "      <td>en</td>\n",
       "      <td>24 dollar carrots ... not fit for a king !</td>\n",
       "      <td>Had dinner at the four marlins restaurant at t...</td>\n",
       "      <td>24 dollar carrots ... not fit for a king ! Had...</td>\n",
       "      <td>dollar dinner restaurant reach extensive renov...</td>\n",
       "      <td>0.0</td>\n",
       "      <td>...</td>\n",
       "      <td>0.0</td>\n",
       "      <td>0.0</td>\n",
       "      <td>0.0</td>\n",
       "      <td>0.0</td>\n",
       "      <td>0.0</td>\n",
       "      <td>0.0</td>\n",
       "      <td>0.0</td>\n",
       "      <td>0.0</td>\n",
       "      <td>1.0</td>\n",
       "      <td>8063</td>\n",
       "    </tr>\n",
       "    <tr>\n",
       "      <th>8065</th>\n",
       "      <td>d6d81715-22f2-4373-abd0-d574fe11273e</td>\n",
       "      <td>2020-03-05 00:00:00</td>\n",
       "      <td>80</td>\n",
       "      <td></td>\n",
       "      <td>en</td>\n",
       "      <td>Nice location, average hotel</td>\n",
       "      <td>This hotel was perfect for what we wanted for ...</td>\n",
       "      <td>Nice location, average hotel This hotel was pe...</td>\n",
       "      <td>hotel hotel perfect night stay hotel room comf...</td>\n",
       "      <td>0.0</td>\n",
       "      <td>...</td>\n",
       "      <td>0.0</td>\n",
       "      <td>0.0</td>\n",
       "      <td>0.0</td>\n",
       "      <td>0.0</td>\n",
       "      <td>0.0</td>\n",
       "      <td>1.0</td>\n",
       "      <td>0.0</td>\n",
       "      <td>1.0</td>\n",
       "      <td>1.0</td>\n",
       "      <td>8065</td>\n",
       "    </tr>\n",
       "    <tr>\n",
       "      <th>8068</th>\n",
       "      <td>f9a635af-414d-4108-90c2-441c47237ce3</td>\n",
       "      <td>2020-03-06 00:00:00</td>\n",
       "      <td>20</td>\n",
       "      <td></td>\n",
       "      <td>en</td>\n",
       "      <td>Disappointing resort</td>\n",
       "      <td>I called the hotel to book a  ocean view. I di...</td>\n",
       "      <td>Disappointing resort I called the hotel to boo...</td>\n",
       "      <td>call hotel book mess booking company view nigh...</td>\n",
       "      <td>1.0</td>\n",
       "      <td>...</td>\n",
       "      <td>0.0</td>\n",
       "      <td>0.0</td>\n",
       "      <td>0.0</td>\n",
       "      <td>1.0</td>\n",
       "      <td>0.0</td>\n",
       "      <td>0.0</td>\n",
       "      <td>0.0</td>\n",
       "      <td>1.0</td>\n",
       "      <td>1.0</td>\n",
       "      <td>8068</td>\n",
       "    </tr>\n",
       "  </tbody>\n",
       "</table>\n",
       "<p>1746 rows × 26 columns</p>\n",
       "</div>"
      ],
      "text/plain": [
       "                                       uid                 date score  \\\n",
       "1     e8540cc1-7b83-4579-b1d5-156b4a77b3fc  2003-02-11 00:00:00    20   \n",
       "2     3e1c0aa4-9f1f-461c-ae12-f0e4cac45426  2003-02-24 00:00:00    40   \n",
       "7     81abf557-2ada-4931-80eb-d80b3f3e7e8b  2003-06-16 00:00:00    80   \n",
       "8     7ee34dc4-45ca-45eb-87b8-facaf71af202  2003-06-17 00:00:00    60   \n",
       "9     7ebb830f-29b3-4faf-b990-ef7332a03cc0  2003-06-23 00:00:00    40   \n",
       "...                                    ...                  ...   ...   \n",
       "8059  5fa691da-a007-4453-a222-0ea0a64f35b8  2020-03-02 00:00:00    60   \n",
       "8061  a6ee54a3-24dd-4be9-92c2-7e7524f1e08d  2020-03-02 00:00:00    60   \n",
       "8063  42d2881d-37ec-4c7f-92b7-47e4e02eb0f8  2020-03-03 00:00:00    20   \n",
       "8065  d6d81715-22f2-4373-abd0-d574fe11273e  2020-03-05 00:00:00    80   \n",
       "8068  f9a635af-414d-4108-90c2-441c47237ce3  2020-03-06 00:00:00    20   \n",
       "\n",
       "     recommendation_rate lang                                       title  \\\n",
       "1                          en                                               \n",
       "2                          en                                               \n",
       "7                          en                                               \n",
       "8                          en                                               \n",
       "9                          en                                               \n",
       "...                  ...  ...                                         ...   \n",
       "8059                       en                                        Stay   \n",
       "8061                       en                              Winter Getaway   \n",
       "8063                       en  24 dollar carrots ... not fit for a king !   \n",
       "8065                       en                Nice location, average hotel   \n",
       "8068                       en                        Disappointing resort   \n",
       "\n",
       "                                                   text  \\\n",
       "1     Dingy, dirty smelly small room. Asked to chang...   \n",
       "2     I was very disappointed in my stay at the Wynd...   \n",
       "7     My wife and I just returned from our stay at T...   \n",
       "8     Most places rated this hotel a 4 star. Due to ...   \n",
       "9     While I got what I paid for, this hotel wasn't...   \n",
       "...                                                 ...   \n",
       "8059  My room was ready when I arrived. Front desk w...   \n",
       "8061  Just finishing up a stay at The Reach. We have...   \n",
       "8063  Had dinner at the four marlins restaurant at t...   \n",
       "8065  This hotel was perfect for what we wanted for ...   \n",
       "8068  I called the hotel to book a  ocean view. I di...   \n",
       "\n",
       "                                                  words  \\\n",
       "1      Dingy, dirty smelly small room. Asked to chan...   \n",
       "2      I was very disappointed in my stay at the Wyn...   \n",
       "7      My wife and I just returned from our stay at ...   \n",
       "8      Most places rated this hotel a 4 star. Due to...   \n",
       "9      While I got what I paid for, this hotel wasn'...   \n",
       "...                                                 ...   \n",
       "8059  Stay My room was ready when I arrived. Front d...   \n",
       "8061  Winter Getaway Just finishing up a stay at The...   \n",
       "8063  24 dollar carrots ... not fit for a king ! Had...   \n",
       "8065  Nice location, average hotel This hotel was pe...   \n",
       "8068  Disappointing resort I called the hotel to boo...   \n",
       "\n",
       "                                        processed_words  topic_1  ...  \\\n",
       "1     smelly small room ask change room twice day ac...      1.0  ...   \n",
       "2     disappointed stay trip research hotel feel web...      0.0  ...   \n",
       "7     wife return stay reach resort wonderful time f...      1.0  ...   \n",
       "8     place rate hotel star due noticeable age rate ...      1.0  ...   \n",
       "9     pay hotel expect luckily cheap package price p...      0.0  ...   \n",
       "...                                                 ...      ...  ...   \n",
       "8059  stay room arrive woman ask number call still r...      0.0  ...   \n",
       "8061  finishing stay reach number time usually stay ...      0.0  ...   \n",
       "8063  dollar dinner restaurant reach extensive renov...      0.0  ...   \n",
       "8065  hotel hotel perfect night stay hotel room comf...      0.0  ...   \n",
       "8068  call hotel book mess booking company view nigh...      1.0  ...   \n",
       "\n",
       "      topic_8  topic_9  topic_10  topic_11  topic_12  topic_13  topic_14  \\\n",
       "1         0.0      0.0       0.0       0.0       0.0       0.0       0.0   \n",
       "2         0.0      1.0       0.0       0.0       0.0       0.0       0.0   \n",
       "7         0.0      0.0       1.0       1.0       1.0       1.0       0.0   \n",
       "8         1.0      0.0       1.0       1.0       1.0       0.0       1.0   \n",
       "9         1.0      1.0       0.0       1.0       1.0       0.0       0.0   \n",
       "...       ...      ...       ...       ...       ...       ...       ...   \n",
       "8059      0.0      0.0       0.0       0.0       0.0       0.0       0.0   \n",
       "8061      0.0      0.0       0.0       1.0       1.0       1.0       0.0   \n",
       "8063      0.0      0.0       0.0       0.0       0.0       0.0       0.0   \n",
       "8065      0.0      0.0       0.0       0.0       0.0       1.0       0.0   \n",
       "8068      0.0      0.0       0.0       1.0       0.0       0.0       0.0   \n",
       "\n",
       "      topic_15  topic_16  index_df  \n",
       "1          0.0       1.0         1  \n",
       "2          1.0       1.0         2  \n",
       "7          1.0       1.0         7  \n",
       "8          1.0       1.0         8  \n",
       "9          1.0       1.0         9  \n",
       "...        ...       ...       ...  \n",
       "8059       0.0       1.0      8059  \n",
       "8061       0.0       1.0      8061  \n",
       "8063       0.0       1.0      8063  \n",
       "8065       1.0       1.0      8065  \n",
       "8068       1.0       1.0      8068  \n",
       "\n",
       "[1746 rows x 26 columns]"
      ]
     },
     "execution_count": 131,
     "metadata": {},
     "output_type": "execute_result"
    }
   ],
   "source": [
    "renovat_df"
   ]
  },
  {
   "cell_type": "code",
   "execution_count": 91,
   "metadata": {},
   "outputs": [],
   "source": [
    "renovat_df.to_csv('test_renovat.csv')"
   ]
  },
  {
   "cell_type": "code",
   "execution_count": 87,
   "metadata": {},
   "outputs": [],
   "source": [
    "import pandas as pd\n",
    "import numpy as np\n",
    "import matplotlib.pylab as plt\n",
    "import ruptures as rpt\n",
    "import time\n"
   ]
  },
  {
   "cell_type": "code",
   "execution_count": 95,
   "metadata": {},
   "outputs": [],
   "source": [
    "%matplotlib inline\n",
    "def binseg(scores):\n",
    "    # fast\n",
    "    model = \"l2\"\n",
    "    n_samples = scores.shape[0]\n",
    "    algo = rpt.Binseg(model=model).fit(scores)\n",
    "    try:\n",
    "        my_bkps = algo.predict(n_bkps=5)\n",
    "        print('change points:', my_bkps)\n",
    "        # show results\n",
    "\n",
    "        rpt.show.display(scores, my_bkps, figsize=(10, 6))\n",
    "        plt.title('Change Point Detection: Binary Segmentation Search Method')\n",
    "        plt.show()\n",
    "    except Exception as msg:\n",
    "        print(msg)"
   ]
  },
  {
   "cell_type": "code",
   "execution_count": 89,
   "metadata": {},
   "outputs": [],
   "source": [
    "scores = np.array(renovat_df['score'])"
   ]
  },
  {
   "cell_type": "code",
   "execution_count": 90,
   "metadata": {},
   "outputs": [
    {
     "name": "stdout",
     "output_type": "stream",
     "text": [
      "change points: [80, 975, 1210, 1630, 1715, 1746]\n"
     ]
    },
    {
     "data": {
      "image/png": "[encoded data removed]",
      "text/plain": [
       "<Figure size 720x432 with 1 Axes>"
      ]
     },
     "metadata": {
      "needs_background": "light"
     },
     "output_type": "display_data"
    }
   ],
   "source": [
    "binseg(scores)"
   ]
  },
  {
   "cell_type": "code",
   "execution_count": 112,
   "metadata": {},
   "outputs": [],
   "source": [
    "# without topic modeling\n",
    "scores_df = np.array(df['score'])"
   ]
  },
  {
   "cell_type": "code",
   "execution_count": 115,
   "metadata": {},
   "outputs": [],
   "source": [
    "scores_df = df[df['score']!='']"
   ]
  },
  {
   "cell_type": "code",
   "execution_count": 123,
   "metadata": {},
   "outputs": [],
   "source": [
    "scores_df = np.array([float(x) for x in df['score'] if x!=''])"
   ]
  },
  {
   "cell_type": "code",
   "execution_count": 124,
   "metadata": {},
   "outputs": [
    {
     "name": "stdout",
     "output_type": "stream",
     "text": [
      "change points: [195, 5315, 7375, 7750, 7990, 8068]\n"
     ]
    },
    {
     "data": {
      "image/png": "[encoded data removed]",
      "text/plain": [
       "<Figure size 720x432 with 1 Axes>"
      ]
     },
     "metadata": {
      "needs_background": "light"
     },
     "output_type": "display_data"
    }
   ],
   "source": [
    "binseg(scores_df)"
   ]
  },
  {
   "cell_type": "code",
   "execution_count": null,
   "metadata": {},
   "outputs": [],
   "source": []
  }
 ],
 "metadata": {
  "kernelspec": {
   "display_name": "CPD",
   "language": "python",
   "name": "cpd"
  },
  "language_info": {
   "codemirror_mode": {
    "name": "ipython",
    "version": 3
   },
   "file_extension": ".py",
   "mimetype": "text/x-python",
   "name": "python",
   "nbconvert_exporter": "python",
   "pygments_lexer": "ipython3",
   "version": "3.8.0"
  },
  "pycharm": {
   "stem_cell": {
    "cell_type": "raw",
    "source": [],
    "metadata": {
     "collapsed": false
    }
   }
  }
 },
 "nbformat": 4,
 "nbformat_minor": 4
}