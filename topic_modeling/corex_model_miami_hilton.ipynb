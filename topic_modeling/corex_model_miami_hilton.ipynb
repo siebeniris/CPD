{
 "cells": [
  {
   "cell_type": "code",
   "execution_count": 1,
   "metadata": {},
   "outputs": [],
   "source": [
    "import os\n",
    "\n",
    "import pandas as pd"
   ]
  },
  {
   "cell_type": "code",
   "execution_count": 2,
   "metadata": {},
   "outputs": [],
   "source": [
    "filepath ='/home/yiyi/Documents/masterarbeit/CPD/data/cleand_query_output_csv/fc73c5ad-3748-4d31-8ab2-014c875b05d7'"
   ]
  },
  {
   "cell_type": "code",
   "execution_count": 3,
   "metadata": {},
   "outputs": [
    {
     "name": "stderr",
     "output_type": "stream",
     "text": [
      "unable to import 'smart_open.gcs', disabling that module\n"
     ]
    }
   ],
   "source": [
    "from gensim.models import Word2Vec\n",
    "\n",
    "import nltk\n",
    "import numpy as np\n",
    "import os\n",
    "from sklearn.cluster import KMeans\n",
    "from sklearn import cluster\n",
    "from sklearn import metrics\n",
    "from sklearn.decomposition import PCA\n",
    "from scipy.cluster import hierarchy\n",
    "from sklearn.cluster import AgglomerativeClustering\n",
    "\n",
    "from utils import preprocess\n",
    "\n",
    "from gensim import corpora, matutils, models, similarities\n",
    "from gensim.similarities.docsim import MatrixSimilarity"
   ]
  },
  {
   "cell_type": "code",
   "execution_count": 4,
   "metadata": {},
   "outputs": [],
   "source": [
    "# Hilton miami downtown\n",
    "# 2018-01-17T16:25:00+02:00\n",
    "# 527 rooms\n",
    "# 35 million renovation\n",
    "# mammoth shopping complex, movie theater , \n",
    "# guest rooms, meeting space, restuarant, lobby, loading dock, park , "
   ]
  },
  {
   "cell_type": "code",
   "execution_count": 5,
   "metadata": {},
   "outputs": [],
   "source": [
    "anchors=[['room'],['meeting'],['restaurant'], ['parking', 'park'], ['renovation', 'renovate', 'make up']]"
   ]
  },
  {
   "cell_type": "code",
   "execution_count": 6,
   "metadata": {},
   "outputs": [
    {
     "name": "stdout",
     "output_type": "stream",
     "text": [
      "Elapsed time: 29.4302 seconds\n"
     ]
    }
   ],
   "source": [
    "data, date, score = preprocess.get_data_list(filepath)"
   ]
  },
  {
   "cell_type": "code",
   "execution_count": 15,
   "metadata": {},
   "outputs": [
    {
     "data": {
      "text/plain": [
       "[100.0, 20.0, 100.0, 80.0, 100.0, 100.0, 80.0, 100.0, 100.0, 100.0]"
      ]
     },
     "execution_count": 15,
     "metadata": {},
     "output_type": "execute_result"
    }
   ],
   "source": [
    "score[:10]"
   ]
  },
  {
   "cell_type": "code",
   "execution_count": 7,
   "metadata": {},
   "outputs": [
    {
     "data": {
      "text/plain": [
       "(9776, 9776, 9776)"
      ]
     },
     "execution_count": 7,
     "metadata": {},
     "output_type": "execute_result"
    }
   ],
   "source": [
    "len(data), len(date), len(score)"
   ]
  },
  {
   "cell_type": "code",
   "execution_count": 12,
   "metadata": {},
   "outputs": [],
   "source": [
    "data_sents =[[' '.join(tokens)  for tokens in sublist] for sublist in data]"
   ]
  },
  {
   "cell_type": "code",
   "execution_count": 16,
   "metadata": {},
   "outputs": [
    {
     "data": {
      "text/plain": [
       "[['stayed one suite floor',\n",
       "  'two kid two adult',\n",
       "  'pool really fantastic stress enough much enjoyed',\n",
       "  'rubberized bottom stair scuffed knee snagged bathing suit',\n",
       "  'hotel close family attraction wanted see sea aquarium jungle island daughter loved pool much could wait leave attraction go swimming',\n",
       "  'also porter noticed one day daughter looked little getting elevator magic trick still talking family hotel'],\n",
       " ['stay hilton downtown miami hell day one',\n",
       "  'overboked friend wait come back later get room reserved week ahead',\n",
       "  'person checked u manager messed confirmation number check second day trip check back pay fee',\n",
       "  'bar tender plum rude sexist friend sat bar minute bar tender completely ignored u continued wait male customer',\n",
       "  'asked man next get drink since bar tender would wait man said would',\n",
       "  'shower room timed yet every single time took shower cut without turning',\n",
       "  'last night wild child running around pulled fire alarm woke whole hotel talking evacuating',\n",
       "  'finally worst best friend brand new clothes mall bought got stolen dang maid',\n",
       "  'hilton downtown miami complete hell waste money',\n",
       "  'people ever want go miami go hilton sorry',\n",
       "  'day miserable']]"
      ]
     },
     "execution_count": 16,
     "metadata": {},
     "output_type": "execute_result"
    }
   ],
   "source": [
    "data_sents[:2]"
   ]
  },
  {
   "cell_type": "code",
   "execution_count": 19,
   "metadata": {},
   "outputs": [],
   "source": [
    "dates= [[date[i] for _  in range(len(data_sents[i]))] for i in range(len(data_sents))]\n",
    "scores= [[score[i] for _  in range(len(data_sents[i]))] for i in range(len(data_sents))]"
   ]
  },
  {
   "cell_type": "code",
   "execution_count": 24,
   "metadata": {},
   "outputs": [],
   "source": [
    "sents = [sent for sublist in data_sents for sent in sublist]\n",
    "datess = [sent for sublist in dates for sent in sublist]\n",
    "scoress= [sent for sublist in scores for sent in sublist]"
   ]
  },
  {
   "cell_type": "code",
   "execution_count": 25,
   "metadata": {},
   "outputs": [
    {
     "data": {
      "text/plain": [
       "(44863, 44863, 44863)"
      ]
     },
     "execution_count": 25,
     "metadata": {},
     "output_type": "execute_result"
    }
   ],
   "source": [
    "len(sents), len(datess), len(scoress)"
   ]
  },
  {
   "cell_type": "code",
   "execution_count": 26,
   "metadata": {},
   "outputs": [
    {
     "name": "stderr",
     "output_type": "stream",
     "text": [
      "/home/yiyi/anaconda3/envs/cdp/lib/python3.7/site-packages/sklearn/externals/joblib/__init__.py:15: FutureWarning: sklearn.externals.joblib is deprecated in 0.21 and will be removed in 0.23. Please import this functionality directly from joblib, which can be installed with: pip install joblib. If this warning is raised when loading pickled models, you may need to re-serialize those models with scikit-learn 0.21+.\n",
      "  warnings.warn(msg, category=FutureWarning)\n"
     ]
    }
   ],
   "source": [
    "import numpy as np\n",
    "import scipy.sparse as ss\n",
    "import matplotlib.pyplot as plt\n",
    "\n",
    "from corextopic import corextopic as ct\n",
    "from corextopic import vis_topic as vt # jupyter notebooks will complain matplotlib is being loaded twice\n",
    "\n",
    "from sklearn.datasets import fetch_20newsgroups\n",
    "from sklearn.feature_extraction.text import CountVectorizer\n",
    "\n",
    "%matplotlib inline"
   ]
  },
  {
   "cell_type": "code",
   "execution_count": 28,
   "metadata": {},
   "outputs": [
    {
     "data": {
      "text/plain": [
       "(44863, 11536)"
      ]
     },
     "execution_count": 28,
     "metadata": {},
     "output_type": "execute_result"
    }
   ],
   "source": [
    "vectorizer = CountVectorizer(stop_words='english', max_features=20000, binary=True)\n",
    "doc_word = vectorizer.fit_transform(sents)\n",
    "doc_word = ss.csr_matrix(doc_word)\n",
    "\n",
    "doc_word.shape # n_docs x m_words"
   ]
  },
  {
   "cell_type": "code",
   "execution_count": 29,
   "metadata": {},
   "outputs": [],
   "source": [
    "words = list(np.asarray(vectorizer.get_feature_names()))\n"
   ]
  },
  {
   "cell_type": "code",
   "execution_count": 30,
   "metadata": {},
   "outputs": [
    {
     "data": {
      "text/plain": [
       "(44863, 11536)"
      ]
     },
     "execution_count": 30,
     "metadata": {},
     "output_type": "execute_result"
    }
   ],
   "source": [
    "not_digit_inds = [ind for ind,word in enumerate(words) if not word.isdigit()]\n",
    "doc_word = doc_word[:,not_digit_inds]\n",
    "words    = [word for ind,word in enumerate(words) if not word.isdigit()]\n",
    "\n",
    "doc_word.shape # n_docs x m_words"
   ]
  },
  {
   "cell_type": "code",
   "execution_count": 31,
   "metadata": {},
   "outputs": [],
   "source": [
    "from corextopic import corextopic as ct"
   ]
  },
  {
   "cell_type": "code",
   "execution_count": 32,
   "metadata": {},
   "outputs": [],
   "source": [
    "topic_model = ct.Corex(n_hidden=5, words=words, seed=1)\n"
   ]
  },
  {
   "cell_type": "code",
   "execution_count": 33,
   "metadata": {},
   "outputs": [
    {
     "name": "stdout",
     "output_type": "stream",
     "text": [
      "WARNING: Anchor word not in word column labels provided to CorEx: make up\n"
     ]
    },
    {
     "data": {
      "text/plain": [
       "<corextopic.corextopic.Corex at 0x7f25595ad050>"
      ]
     },
     "execution_count": 33,
     "metadata": {},
     "output_type": "execute_result"
    }
   ],
   "source": [
    "topic_model.fit( doc_word,\n",
    "    words=words,\n",
    "    anchors=anchors,\n",
    "    anchor_strength=6\n",
    ")"
   ]
  },
  {
   "cell_type": "code",
   "execution_count": 34,
   "metadata": {},
   "outputs": [
    {
     "name": "stdout",
     "output_type": "stream",
     "text": [
      "0: room,view,clean,spacious,comfortable,floor,ready,bed,large,bay\n",
      "1: meeting,desk,told,member,check,called,asked,manager,arrived,honor\n",
      "2: restaurant,beach,south,bayside,close,distance,walking,arena,bus,publix\n",
      "3: parking,park,valet,self,garage,expensive,car,pay,fee,cost\n",
      "4: renovation,bathroom,air,shower,old,door,loud,water,dirty,need\n"
     ]
    }
   ],
   "source": [
    "\n",
    "for n in range(len(anchors)):\n",
    "    topic_words, _ = zip(*topic_model.get_topics(topic=n))\n",
    "    print('{}: '.format(n) + ','.join(topic_words))"
   ]
  },
  {
   "cell_type": "code",
   "execution_count": 36,
   "metadata": {},
   "outputs": [],
   "source": [
    "topic_df = pd.DataFrame(\n",
    "    topic_model.transform(doc_word),\n",
    "    columns =['T_{}'.format(anchors[i][0]) for i in range(len(anchors))]\n",
    "    ).astype(float)\n",
    "topic_df['data']=sents\n",
    "topic_df['date']= datess\n",
    "topic_df['score']= scoress"
   ]
  },
  {
   "cell_type": "code",
   "execution_count": 40,
   "metadata": {},
   "outputs": [
    {
     "data": {
      "text/html": [
       "<div>\n",
       "<style scoped>\n",
       "    .dataframe tbody tr th:only-of-type {\n",
       "        vertical-align: middle;\n",
       "    }\n",
       "\n",
       "    .dataframe tbody tr th {\n",
       "        vertical-align: top;\n",
       "    }\n",
       "\n",
       "    .dataframe thead th {\n",
       "        text-align: right;\n",
       "    }\n",
       "</style>\n",
       "<table border=\"1\" class=\"dataframe\">\n",
       "  <thead>\n",
       "    <tr style=\"text-align: right;\">\n",
       "      <th></th>\n",
       "      <th>T_room</th>\n",
       "      <th>T_meeting</th>\n",
       "      <th>T_restaurant</th>\n",
       "      <th>T_parking</th>\n",
       "      <th>T_renovation</th>\n",
       "      <th>data</th>\n",
       "      <th>date</th>\n",
       "      <th>score</th>\n",
       "    </tr>\n",
       "  </thead>\n",
       "  <tbody>\n",
       "    <tr>\n",
       "      <th>44858</th>\n",
       "      <td>0.0</td>\n",
       "      <td>0.0</td>\n",
       "      <td>0.0</td>\n",
       "      <td>0.0</td>\n",
       "      <td>1.0</td>\n",
       "      <td>someone vomited carpet hallway stayed day</td>\n",
       "      <td>2020-01-01 00:00:00</td>\n",
       "      <td>60</td>\n",
       "    </tr>\n",
       "    <tr>\n",
       "      <th>44859</th>\n",
       "      <td>0.0</td>\n",
       "      <td>0.0</td>\n",
       "      <td>0.0</td>\n",
       "      <td>0.0</td>\n",
       "      <td>0.0</td>\n",
       "      <td>cleaning pretty bad</td>\n",
       "      <td>2020-01-01 00:00:00</td>\n",
       "      <td>60</td>\n",
       "    </tr>\n",
       "    <tr>\n",
       "      <th>44860</th>\n",
       "      <td>0.0</td>\n",
       "      <td>0.0</td>\n",
       "      <td>0.0</td>\n",
       "      <td>0.0</td>\n",
       "      <td>0.0</td>\n",
       "      <td>location good</td>\n",
       "      <td>2020-01-02 00:00:00</td>\n",
       "      <td>90</td>\n",
       "    </tr>\n",
       "    <tr>\n",
       "      <th>44861</th>\n",
       "      <td>0.0</td>\n",
       "      <td>0.0</td>\n",
       "      <td>0.0</td>\n",
       "      <td>0.0</td>\n",
       "      <td>0.0</td>\n",
       "      <td>free wifi</td>\n",
       "      <td>2020-01-02 00:00:00</td>\n",
       "      <td>90</td>\n",
       "    </tr>\n",
       "    <tr>\n",
       "      <th>44862</th>\n",
       "      <td>1.0</td>\n",
       "      <td>0.0</td>\n",
       "      <td>0.0</td>\n",
       "      <td>0.0</td>\n",
       "      <td>1.0</td>\n",
       "      <td>also like change elevator get street level mai...</td>\n",
       "      <td>2020-01-02 00:00:00</td>\n",
       "      <td>90</td>\n",
       "    </tr>\n",
       "  </tbody>\n",
       "</table>\n",
       "</div>"
      ],
      "text/plain": [
       "       T_room  T_meeting  T_restaurant  T_parking  T_renovation  \\\n",
       "44858     0.0        0.0           0.0        0.0           1.0   \n",
       "44859     0.0        0.0           0.0        0.0           0.0   \n",
       "44860     0.0        0.0           0.0        0.0           0.0   \n",
       "44861     0.0        0.0           0.0        0.0           0.0   \n",
       "44862     1.0        0.0           0.0        0.0           1.0   \n",
       "\n",
       "                                                    data                 date  \\\n",
       "44858          someone vomited carpet hallway stayed day  2020-01-01 00:00:00   \n",
       "44859                                cleaning pretty bad  2020-01-01 00:00:00   \n",
       "44860                                      location good  2020-01-02 00:00:00   \n",
       "44861                                          free wifi  2020-01-02 00:00:00   \n",
       "44862  also like change elevator get street level mai...  2020-01-02 00:00:00   \n",
       "\n",
       "      score  \n",
       "44858    60  \n",
       "44859    60  \n",
       "44860    90  \n",
       "44861    90  \n",
       "44862    90  "
      ]
     },
     "execution_count": 40,
     "metadata": {},
     "output_type": "execute_result"
    }
   ],
   "source": [
    "topic_df.tail(5)"
   ]
  },
  {
   "cell_type": "code",
   "execution_count": 49,
   "metadata": {},
   "outputs": [
    {
     "name": "stderr",
     "output_type": "stream",
     "text": [
      "/home/yiyi/anaconda3/envs/cdp/lib/python3.7/site-packages/ipykernel_launcher.py:2: UserWarning: Boolean Series key will be reindexed to match DataFrame index.\n",
      "  \n"
     ]
    }
   ],
   "source": [
    "## check the score along the topic room/rennovation\n",
    "df = topic_df[topic_df['T_room']==1.0][topic_df['T_renovation']==1.0].sort_values('date')"
   ]
  },
  {
   "cell_type": "code",
   "execution_count": 95,
   "metadata": {},
   "outputs": [
    {
     "data": {
      "text/html": [
       "<div>\n",
       "<style scoped>\n",
       "    .dataframe tbody tr th:only-of-type {\n",
       "        vertical-align: middle;\n",
       "    }\n",
       "\n",
       "    .dataframe tbody tr th {\n",
       "        vertical-align: top;\n",
       "    }\n",
       "\n",
       "    .dataframe thead th {\n",
       "        text-align: right;\n",
       "    }\n",
       "</style>\n",
       "<table border=\"1\" class=\"dataframe\">\n",
       "  <thead>\n",
       "    <tr style=\"text-align: right;\">\n",
       "      <th></th>\n",
       "      <th>T_room</th>\n",
       "      <th>T_meeting</th>\n",
       "      <th>T_restaurant</th>\n",
       "      <th>T_parking</th>\n",
       "      <th>T_renovation</th>\n",
       "      <th>data</th>\n",
       "      <th>date</th>\n",
       "      <th>score</th>\n",
       "    </tr>\n",
       "  </thead>\n",
       "  <tbody>\n",
       "    <tr>\n",
       "      <th>1278</th>\n",
       "      <td>1.0</td>\n",
       "      <td>0.0</td>\n",
       "      <td>0.0</td>\n",
       "      <td>0.0</td>\n",
       "      <td>1.0</td>\n",
       "      <td>complaint room fan heater really work</td>\n",
       "      <td>2008-03-04 00:00:00</td>\n",
       "      <td>80</td>\n",
       "    </tr>\n",
       "    <tr>\n",
       "      <th>1570</th>\n",
       "      <td>1.0</td>\n",
       "      <td>1.0</td>\n",
       "      <td>0.0</td>\n",
       "      <td>0.0</td>\n",
       "      <td>1.0</td>\n",
       "      <td>receive non smoking room requested restroom clean</td>\n",
       "      <td>2008-03-18 00:00:00</td>\n",
       "      <td>80</td>\n",
       "    </tr>\n",
       "    <tr>\n",
       "      <th>2632</th>\n",
       "      <td>1.0</td>\n",
       "      <td>1.0</td>\n",
       "      <td>0.0</td>\n",
       "      <td>0.0</td>\n",
       "      <td>1.0</td>\n",
       "      <td>shut valve manually didnt bother repaired didn...</td>\n",
       "      <td>2008-03-23 00:00:00</td>\n",
       "      <td>40</td>\n",
       "    </tr>\n",
       "    <tr>\n",
       "      <th>4778</th>\n",
       "      <td>1.0</td>\n",
       "      <td>0.0</td>\n",
       "      <td>0.0</td>\n",
       "      <td>0.0</td>\n",
       "      <td>1.0</td>\n",
       "      <td>one thing note sounded like construction going...</td>\n",
       "      <td>2008-04-03 00:00:00</td>\n",
       "      <td>60</td>\n",
       "    </tr>\n",
       "    <tr>\n",
       "      <th>4206</th>\n",
       "      <td>1.0</td>\n",
       "      <td>0.0</td>\n",
       "      <td>0.0</td>\n",
       "      <td>0.0</td>\n",
       "      <td>1.0</td>\n",
       "      <td>little know next day would upgraded room size ...</td>\n",
       "      <td>2008-04-05 00:00:00</td>\n",
       "      <td>20</td>\n",
       "    </tr>\n",
       "    <tr>\n",
       "      <th>4209</th>\n",
       "      <td>1.0</td>\n",
       "      <td>1.0</td>\n",
       "      <td>0.0</td>\n",
       "      <td>0.0</td>\n",
       "      <td>1.0</td>\n",
       "      <td>saw someone else managing get internet asked r...</td>\n",
       "      <td>2008-04-05 00:00:00</td>\n",
       "      <td>20</td>\n",
       "    </tr>\n",
       "    <tr>\n",
       "      <th>3061</th>\n",
       "      <td>1.0</td>\n",
       "      <td>1.0</td>\n",
       "      <td>1.0</td>\n",
       "      <td>0.0</td>\n",
       "      <td>1.0</td>\n",
       "      <td>hilton downtown miami disaster recommend one r...</td>\n",
       "      <td>2008-04-07 00:00:00</td>\n",
       "      <td>20</td>\n",
       "    </tr>\n",
       "    <tr>\n",
       "      <th>3050</th>\n",
       "      <td>1.0</td>\n",
       "      <td>1.0</td>\n",
       "      <td>0.0</td>\n",
       "      <td>0.0</td>\n",
       "      <td>1.0</td>\n",
       "      <td>upon returning room first evening room door co...</td>\n",
       "      <td>2008-04-07 00:00:00</td>\n",
       "      <td>20</td>\n",
       "    </tr>\n",
       "    <tr>\n",
       "      <th>3048</th>\n",
       "      <td>1.0</td>\n",
       "      <td>1.0</td>\n",
       "      <td>0.0</td>\n",
       "      <td>0.0</td>\n",
       "      <td>1.0</td>\n",
       "      <td>told many unhappy customer would wait hour roo...</td>\n",
       "      <td>2008-04-07 00:00:00</td>\n",
       "      <td>20</td>\n",
       "    </tr>\n",
       "    <tr>\n",
       "      <th>3491</th>\n",
       "      <td>1.0</td>\n",
       "      <td>1.0</td>\n",
       "      <td>0.0</td>\n",
       "      <td>0.0</td>\n",
       "      <td>1.0</td>\n",
       "      <td>thirdly room booked available reason gave one ...</td>\n",
       "      <td>2008-04-15 00:00:00</td>\n",
       "      <td>60</td>\n",
       "    </tr>\n",
       "    <tr>\n",
       "      <th>4132</th>\n",
       "      <td>1.0</td>\n",
       "      <td>0.0</td>\n",
       "      <td>0.0</td>\n",
       "      <td>0.0</td>\n",
       "      <td>1.0</td>\n",
       "      <td>room average bedding clean tv look bathroom up...</td>\n",
       "      <td>2008-04-21 00:00:00</td>\n",
       "      <td>60</td>\n",
       "    </tr>\n",
       "    <tr>\n",
       "      <th>3468</th>\n",
       "      <td>1.0</td>\n",
       "      <td>0.0</td>\n",
       "      <td>0.0</td>\n",
       "      <td>0.0</td>\n",
       "      <td>1.0</td>\n",
       "      <td>sweet upgrade first room shower curtain</td>\n",
       "      <td>2008-04-24 00:00:00</td>\n",
       "      <td>80</td>\n",
       "    </tr>\n",
       "    <tr>\n",
       "      <th>2900</th>\n",
       "      <td>1.0</td>\n",
       "      <td>0.0</td>\n",
       "      <td>0.0</td>\n",
       "      <td>0.0</td>\n",
       "      <td>1.0</td>\n",
       "      <td>used urinal men room ballroom flushed urinal n...</td>\n",
       "      <td>2008-05-09 00:00:00</td>\n",
       "      <td>20</td>\n",
       "    </tr>\n",
       "    <tr>\n",
       "      <th>4748</th>\n",
       "      <td>1.0</td>\n",
       "      <td>0.0</td>\n",
       "      <td>0.0</td>\n",
       "      <td>0.0</td>\n",
       "      <td>1.0</td>\n",
       "      <td>add switch back front elevator lobby level two...</td>\n",
       "      <td>2008-05-12 00:00:00</td>\n",
       "      <td>60</td>\n",
       "    </tr>\n",
       "    <tr>\n",
       "      <th>2289</th>\n",
       "      <td>1.0</td>\n",
       "      <td>1.0</td>\n",
       "      <td>0.0</td>\n",
       "      <td>1.0</td>\n",
       "      <td>1.0</td>\n",
       "      <td>hiltons room bad annoyed though find toilet pa...</td>\n",
       "      <td>2008-07-08 00:00:00</td>\n",
       "      <td>80</td>\n",
       "    </tr>\n",
       "    <tr>\n",
       "      <th>2704</th>\n",
       "      <td>1.0</td>\n",
       "      <td>0.0</td>\n",
       "      <td>0.0</td>\n",
       "      <td>0.0</td>\n",
       "      <td>1.0</td>\n",
       "      <td>finally got room service okay although elevato...</td>\n",
       "      <td>2008-07-18 00:00:00</td>\n",
       "      <td>40</td>\n",
       "    </tr>\n",
       "    <tr>\n",
       "      <th>2715</th>\n",
       "      <td>1.0</td>\n",
       "      <td>0.0</td>\n",
       "      <td>0.0</td>\n",
       "      <td>0.0</td>\n",
       "      <td>1.0</td>\n",
       "      <td>diagnosed equipment room faulty needed switched</td>\n",
       "      <td>2008-07-21 00:00:00</td>\n",
       "      <td>40</td>\n",
       "    </tr>\n",
       "    <tr>\n",
       "      <th>1535</th>\n",
       "      <td>1.0</td>\n",
       "      <td>0.0</td>\n",
       "      <td>0.0</td>\n",
       "      <td>0.0</td>\n",
       "      <td>1.0</td>\n",
       "      <td>depends stayed night went cruise overall ok ho...</td>\n",
       "      <td>2008-08-07 00:00:00</td>\n",
       "      <td>80</td>\n",
       "    </tr>\n",
       "    <tr>\n",
       "      <th>2928</th>\n",
       "      <td>1.0</td>\n",
       "      <td>1.0</td>\n",
       "      <td>0.0</td>\n",
       "      <td>0.0</td>\n",
       "      <td>1.0</td>\n",
       "      <td>dining area clean room spacious pillow terribl...</td>\n",
       "      <td>2008-08-27 00:00:00</td>\n",
       "      <td>40</td>\n",
       "    </tr>\n",
       "    <tr>\n",
       "      <th>4069</th>\n",
       "      <td>1.0</td>\n",
       "      <td>1.0</td>\n",
       "      <td>0.0</td>\n",
       "      <td>0.0</td>\n",
       "      <td>1.0</td>\n",
       "      <td>made best room went street walgrens got candle...</td>\n",
       "      <td>2008-09-02 00:00:00</td>\n",
       "      <td>20</td>\n",
       "    </tr>\n",
       "  </tbody>\n",
       "</table>\n",
       "</div>"
      ],
      "text/plain": [
       "      T_room  T_meeting  T_restaurant  T_parking  T_renovation  \\\n",
       "1278     1.0        0.0           0.0        0.0           1.0   \n",
       "1570     1.0        1.0           0.0        0.0           1.0   \n",
       "2632     1.0        1.0           0.0        0.0           1.0   \n",
       "4778     1.0        0.0           0.0        0.0           1.0   \n",
       "4206     1.0        0.0           0.0        0.0           1.0   \n",
       "4209     1.0        1.0           0.0        0.0           1.0   \n",
       "3061     1.0        1.0           1.0        0.0           1.0   \n",
       "3050     1.0        1.0           0.0        0.0           1.0   \n",
       "3048     1.0        1.0           0.0        0.0           1.0   \n",
       "3491     1.0        1.0           0.0        0.0           1.0   \n",
       "4132     1.0        0.0           0.0        0.0           1.0   \n",
       "3468     1.0        0.0           0.0        0.0           1.0   \n",
       "2900     1.0        0.0           0.0        0.0           1.0   \n",
       "4748     1.0        0.0           0.0        0.0           1.0   \n",
       "2289     1.0        1.0           0.0        1.0           1.0   \n",
       "2704     1.0        0.0           0.0        0.0           1.0   \n",
       "2715     1.0        0.0           0.0        0.0           1.0   \n",
       "1535     1.0        0.0           0.0        0.0           1.0   \n",
       "2928     1.0        1.0           0.0        0.0           1.0   \n",
       "4069     1.0        1.0           0.0        0.0           1.0   \n",
       "\n",
       "                                                   data                 date  \\\n",
       "1278              complaint room fan heater really work  2008-03-04 00:00:00   \n",
       "1570  receive non smoking room requested restroom clean  2008-03-18 00:00:00   \n",
       "2632  shut valve manually didnt bother repaired didn...  2008-03-23 00:00:00   \n",
       "4778  one thing note sounded like construction going...  2008-04-03 00:00:00   \n",
       "4206  little know next day would upgraded room size ...  2008-04-05 00:00:00   \n",
       "4209  saw someone else managing get internet asked r...  2008-04-05 00:00:00   \n",
       "3061  hilton downtown miami disaster recommend one r...  2008-04-07 00:00:00   \n",
       "3050  upon returning room first evening room door co...  2008-04-07 00:00:00   \n",
       "3048  told many unhappy customer would wait hour roo...  2008-04-07 00:00:00   \n",
       "3491  thirdly room booked available reason gave one ...  2008-04-15 00:00:00   \n",
       "4132  room average bedding clean tv look bathroom up...  2008-04-21 00:00:00   \n",
       "3468            sweet upgrade first room shower curtain  2008-04-24 00:00:00   \n",
       "2900  used urinal men room ballroom flushed urinal n...  2008-05-09 00:00:00   \n",
       "4748  add switch back front elevator lobby level two...  2008-05-12 00:00:00   \n",
       "2289  hiltons room bad annoyed though find toilet pa...  2008-07-08 00:00:00   \n",
       "2704  finally got room service okay although elevato...  2008-07-18 00:00:00   \n",
       "2715    diagnosed equipment room faulty needed switched  2008-07-21 00:00:00   \n",
       "1535  depends stayed night went cruise overall ok ho...  2008-08-07 00:00:00   \n",
       "2928  dining area clean room spacious pillow terribl...  2008-08-27 00:00:00   \n",
       "4069  made best room went street walgrens got candle...  2008-09-02 00:00:00   \n",
       "\n",
       "     score  \n",
       "1278    80  \n",
       "1570    80  \n",
       "2632    40  \n",
       "4778    60  \n",
       "4206    20  \n",
       "4209    20  \n",
       "3061    20  \n",
       "3050    20  \n",
       "3048    20  \n",
       "3491    60  \n",
       "4132    60  \n",
       "3468    80  \n",
       "2900    20  \n",
       "4748    60  \n",
       "2289    80  \n",
       "2704    40  \n",
       "2715    40  \n",
       "1535    80  \n",
       "2928    40  \n",
       "4069    20  "
      ]
     },
     "execution_count": 95,
     "metadata": {},
     "output_type": "execute_result"
    }
   ],
   "source": [
    "df.head(20)"
   ]
  },
  {
   "cell_type": "code",
   "execution_count": 74,
   "metadata": {},
   "outputs": [
    {
     "data": {
      "text/plain": [
       "T_room                                                  1\n",
       "T_meeting                                               0\n",
       "T_restaurant                                            0\n",
       "T_parking                                               0\n",
       "T_renovation                                            1\n",
       "data            bedbug outside window crawling glass room\n",
       "date                                  2014-07-19 00:00:00\n",
       "score                                                    \n",
       "Name: 17595, dtype: object"
      ]
     },
     "execution_count": 74,
     "metadata": {},
     "output_type": "execute_result"
    }
   ],
   "source": [
    "df.iloc[588,:]"
   ]
  },
  {
   "cell_type": "code",
   "execution_count": 76,
   "metadata": {},
   "outputs": [],
   "source": [
    "df.drop(index=17595, inplace=True)"
   ]
  },
  {
   "cell_type": "code",
   "execution_count": null,
   "metadata": {},
   "outputs": [],
   "source": []
  },
  {
   "cell_type": "code",
   "execution_count": 78,
   "metadata": {},
   "outputs": [],
   "source": [
    "import pandas as pd\n",
    "import numpy as np\n",
    "import matplotlib.pylab as plt\n",
    "import ruptures as rpt\n",
    "import time\n",
    "\n",
    "\n",
    "%matplotlib inline\n",
    "def binseg(scores):\n",
    "    # fast\n",
    "    model = \"l2\"\n",
    "    n_samples = scores.shape[0]\n",
    "    algo = rpt.Binseg(model=model).fit(scores)\n",
    "    try:\n",
    "        my_bkps = algo.predict(n_bkps=5)\n",
    "        print('change points:', my_bkps)\n",
    "        # show results\n",
    "\n",
    "        rpt.show.display(scores, my_bkps, figsize=(10, 6))\n",
    "        plt.title('Change Point Detection: Binary Segmentation Search Method')\n",
    "        plt.show()\n",
    "    except Exception as msg:\n",
    "        print(msg)"
   ]
  },
  {
   "cell_type": "code",
   "execution_count": 77,
   "metadata": {},
   "outputs": [],
   "source": [
    "for idx, score in enumerate( df.score.to_list()):\n",
    "    try:\n",
    "        score= int(score)\n",
    "    except Exception:\n",
    "        print(idx, 'd')"
   ]
  },
  {
   "cell_type": "code",
   "execution_count": null,
   "metadata": {},
   "outputs": [],
   "source": []
  },
  {
   "cell_type": "code",
   "execution_count": 79,
   "metadata": {},
   "outputs": [],
   "source": [
    "scores= [int(score) for score in  df.score ]"
   ]
  },
  {
   "cell_type": "code",
   "execution_count": 80,
   "metadata": {},
   "outputs": [
    {
     "name": "stdout",
     "output_type": "stream",
     "text": [
      "change points: [40, 1110, 1190, 1295, 1345, 1551]\n"
     ]
    },
    {
     "data": {
      "image/png": "[encoded data removed]",
      "text/plain": [
       "<Figure size 720x432 with 1 Axes>"
      ]
     },
     "metadata": {
      "needs_background": "light"
     },
     "output_type": "display_data"
    }
   ],
   "source": [
    "binseg(np.array(df.score.astype('int')))"
   ]
  },
  {
   "cell_type": "code",
   "execution_count": 99,
   "metadata": {},
   "outputs": [
    {
     "data": {
      "text/plain": [
       "T_room                                          1\n",
       "T_meeting                                       0\n",
       "T_restaurant                                    0\n",
       "T_parking                                       0\n",
       "T_renovation                                    1\n",
       "data            air conditioner room cooling room\n",
       "date                          2017-06-01 00:00:00\n",
       "score                                          40\n",
       "Name: 31774, dtype: object"
      ]
     },
     "execution_count": 99,
     "metadata": {},
     "output_type": "execute_result"
    }
   ],
   "source": [
    "df.iloc[1146,:]"
   ]
  },
  {
   "cell_type": "code",
   "execution_count": 82,
   "metadata": {},
   "outputs": [
    {
     "data": {
      "text/plain": [
       "T_room                                                          1\n",
       "T_meeting                                                       1\n",
       "T_restaurant                                                    0\n",
       "T_parking                                                       0\n",
       "T_renovation                                                    1\n",
       "data            safe room work maintenance tried fix could cha...\n",
       "date                                          2018-06-24 00:00:00\n",
       "score                                                          83\n",
       "Name: 36729, dtype: object"
      ]
     },
     "execution_count": 82,
     "metadata": {},
     "output_type": "execute_result"
    }
   ],
   "source": [
    "df.iloc[1295,:]"
   ]
  },
  {
   "cell_type": "code",
   "execution_count": 98,
   "metadata": {},
   "outputs": [
    {
     "data": {
      "text/plain": [
       "T_room                                         1\n",
       "T_meeting                                      0\n",
       "T_restaurant                                   0\n",
       "T_parking                                      0\n",
       "T_renovation                                   1\n",
       "data            got room bit walk corridor issue\n",
       "date                         2017-12-28 00:00:00\n",
       "score                                        100\n",
       "Name: 34105, dtype: object"
      ]
     },
     "execution_count": 98,
     "metadata": {},
     "output_type": "execute_result"
    }
   ],
   "source": [
    "df.iloc[1210,:]"
   ]
  },
  {
   "cell_type": "code",
   "execution_count": 87,
   "metadata": {},
   "outputs": [
    {
     "data": {
      "text/plain": [
       "T_room                                                          1\n",
       "T_meeting                                                       0\n",
       "T_restaurant                                                    0\n",
       "T_parking                                                       1\n",
       "T_renovation                                                    1\n",
       "data            disapointed would apply gratuity self service ...\n",
       "date                                          2017-09-30 00:00:00\n",
       "score                                                          40\n",
       "Name: 33273, dtype: object"
      ]
     },
     "execution_count": 87,
     "metadata": {},
     "output_type": "execute_result"
    }
   ],
   "source": [
    "df.iloc[1190,:]"
   ]
  },
  {
   "cell_type": "code",
   "execution_count": 89,
   "metadata": {},
   "outputs": [
    {
     "data": {
      "text/plain": [
       "T_room                                                     1\n",
       "T_meeting                                                  0\n",
       "T_restaurant                                               0\n",
       "T_parking                                                  0\n",
       "T_renovation                                               1\n",
       "data            ac unit room noisy want change room complain\n",
       "date                                     2017-04-12 00:00:00\n",
       "score                                                     80\n",
       "Name: 31113, dtype: object"
      ]
     },
     "execution_count": 89,
     "metadata": {},
     "output_type": "execute_result"
    }
   ],
   "source": [
    "df.iloc[1120,:]"
   ]
  },
  {
   "cell_type": "code",
   "execution_count": 94,
   "metadata": {},
   "outputs": [],
   "source": [
    "df.to_csv('test.csv', index=False)"
   ]
  }
 ],
 "metadata": {
  "kernelspec": {
   "display_name": "cpd",
   "language": "python",
   "name": "cdp"
  },
  "language_info": {
   "codemirror_mode": {
    "name": "ipython",
    "version": 3
   },
   "file_extension": ".py",
   "mimetype": "text/x-python",
   "name": "python",
   "nbconvert_exporter": "python",
   "pygments_lexer": "ipython3",
   "version": "3.7.6"
  }
 },
 "nbformat": 4,
 "nbformat_minor": 4
}
