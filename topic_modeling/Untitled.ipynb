{
 "cells": [
  {
   "cell_type": "code",
   "execution_count": 3,
   "metadata": {},
   "outputs": [],
   "source": [
    "import regex\n",
    "import string\n",
    "from nltk.corpus import wordnet\n",
    "\n",
    "import numpy as np\n",
    "import pandas as pd\n",
    "from utils.contractions import contractions_dict\n",
    "from joblib import Parallel, delayed\n",
    "\n",
    "from nltk.corpus import stopwords\n",
    "from nltk.stem.wordnet import WordNetLemmatizer\n",
    "from nltk.tokenize import sent_tokenize, word_tokenize\n",
    "from utils.timer import Timer\n",
    "import regex"
   ]
  },
  {
   "cell_type": "code",
   "execution_count": 4,
   "metadata": {},
   "outputs": [],
   "source": [
    "import utils.preprocess as preprocess"
   ]
  },
  {
   "cell_type": "code",
   "execution_count": 5,
   "metadata": {},
   "outputs": [],
   "source": [
    "filepath ='/home/yiyi/Documents/masterthesis/CPD/data/cleand_query_output_csv/fc73c5ad-3748-4d31-8ab2-014c875b05d7'"
   ]
  },
  {
   "cell_type": "markdown",
   "metadata": {},
   "source": [
    "- Hilton miami downtown\n",
    "- 2018-01-17T16:25:00+02:00\n",
    "- 527 rooms\n",
    "- 35 million renovation\n",
    "- mammoth shopping complex, movie theater , \n",
    "- guest rooms, meeting space, restuarant, lobby, loading dock, park ,"
   ]
  },
  {
   "cell_type": "code",
   "execution_count": 6,
   "metadata": {},
   "outputs": [
    {
     "name": "stdout",
     "output_type": "stream",
     "text": [
      "Elapsed time: 27.0161 seconds\n"
     ]
    }
   ],
   "source": [
    "lemmas, sents, dates, scores = preprocess.get_data(filepath)"
   ]
  },
  {
   "cell_type": "code",
   "execution_count": 7,
   "metadata": {},
   "outputs": [],
   "source": [
    "sents_ =[]\n",
    "for sent in sents:\n",
    "    s = regex.sub(' +', ' ', sent).strip()\n",
    "    sents_.append(s)"
   ]
  },
  {
   "cell_type": "code",
   "execution_count": 8,
   "metadata": {},
   "outputs": [
    {
     "name": "stderr",
     "output_type": "stream",
     "text": [
      "Using TensorFlow backend.\n"
     ]
    }
   ],
   "source": [
    "\n",
    "import plac\n",
    "import random\n",
    "import pathlib\n",
    "import cytoolz\n",
    "import numpy\n",
    "from keras.models import Sequential, model_from_json\n",
    "from keras.layers import LSTM, Dense, Embedding, Bidirectional\n",
    "from keras.layers import TimeDistributed\n",
    "from keras.optimizers import Adam\n",
    "import thinc.extra.datasets\n",
    "from spacy.compat import pickle\n",
    "import spacy\n",
    "import pandas as pd"
   ]
  },
  {
   "cell_type": "code",
   "execution_count": 9,
   "metadata": {},
   "outputs": [],
   "source": [
    "from keras_spacy_SA import *"
   ]
  },
  {
   "cell_type": "code",
   "execution_count": 25,
   "metadata": {},
   "outputs": [],
   "source": [
    "connectives =\"and, also, besides, further, furthermore, too, moreover, in addition, then, of equal importance, equally important,\" +\\\n",
    "            \" another,next, afterward, finally, later, last, lastly, at last, now, subsequently, then, when, soon, thereafter,\"+\\\n",
    "            \" after a short time, the next week, the next month, the next day, a minute later, in the meantime, meanwhile, on the following day,\" +\\\n",
    "            \" at length, ultimately, presently, \" +\\\n",
    "            \"first, second, (etc.), finally, hence, next, then, from here on, to begin with, last of all, after, before, as soon as, in the end, gradually\" +\\\n",
    "            \"above, behind, below, beyond, here, there, to the right, to the left, nearby, opposite, on the other side, in the background, directly ahead, along the wall, as you turn right, at the top, across the hall, at this point, adjacent to\"+\\\n",
    "            \",for example, to illustrate, for instance, to be specific, such as, moreover, furthermore, just as important, similarly, in the same way ,\"+\\\n",
    "            \"as a result, hence, so, accordingly, as a consequence, consequently, thus, since, therefore, for this reason, because of this,\"+\\\n",
    "            \"to this end, for this purpose, with this in mind, for this reason, for these reasons,\" +\\\n",
    "            \"like, in the same manner, in the same manner way, as so, similarly,\"+\\\n",
    "            \"but, in contrast, conversely, however, still, nevertheless, nonetheless, yet, and yet, on the other hand, on the contrary, or, in spite of this, actually, in fact,\"\\\n",
    "            +\"in summary, to sum up, to repeat, briefly, in short, finally, on the whole, therefore, as I have said, in conclusion, as you can see\""
   ]
  },
  {
   "cell_type": "code",
   "execution_count": 26,
   "metadata": {},
   "outputs": [],
   "source": [
    "conns = [' '+x.replace(')','').replace('(','').strip()+' ' for x in connectives.split(',')] # the connectives in the middle"
   ]
  },
  {
   "cell_type": "code",
   "execution_count": null,
   "metadata": {},
   "outputs": [],
   "source": [
    "conns"
   ]
  },
  {
   "cell_type": "code",
   "execution_count": 23,
   "metadata": {},
   "outputs": [
    {
     "data": {
      "text/plain": [
       "['we stayed in one of the suites on the th floor',\n",
       " 'two kids and and two adults',\n",
       " 'the pool was really fantastic and i can not stress enough how much we all enjoyed it',\n",
       " 'it has a rubberized bottom and stairs so no scuffed knees or snagged bathing suits',\n",
       " 'the hotel is very close to all the family attractions we wanted to see sea aquarium jungle island but my daughter loved the pool so much she could not wait to leave the attractions to go swimming again',\n",
       " 'also a porter noticed one day that my daughter looked a little down as we were getting into the elevator and did a magic trick for her that she is still talking about if you have a family this is the hotel for you',\n",
       " 'my stay at the hilton in downtown miami was hell from day one',\n",
       " 'because they were overboked my friends and i had to wait and come back later to get the rooms we had reserved for weeks ahead of time',\n",
       " 'because the person who checked us in the manager at that messed up our confirmation numbers we had to check out the second day of our trip and then check back in and pay more fees',\n",
       " 'the bar tender was just plum rude or sexist because my friend and i sat at the bar for minutes while the bar tender completely ignored us and continued to wait on male customers']"
      ]
     },
     "execution_count": 23,
     "metadata": {},
     "output_type": "execute_result"
    }
   ],
   "source": [
    "sents_[:10]"
   ]
  },
  {
   "cell_type": "code",
   "execution_count": 33,
   "metadata": {},
   "outputs": [],
   "source": [
    "from itertools import chain"
   ]
  },
  {
   "cell_type": "code",
   "execution_count": 34,
   "metadata": {},
   "outputs": [],
   "source": [
    "s = []\n",
    "for sent in sents_:\n",
    "    phrase=[]\n",
    "    for conn in conns:\n",
    "        if conn in sent:\n",
    "            ph = [x.strip() for x in sent.split(conn) if x.strip()!='']\n",
    "            phrase.append(ph)\n",
    "    if phrase==[]:\n",
    "        s.append(sent)\n",
    "    else:\n",
    "        p = list(set(chain.from_iterable(phrase)))\n",
    "        s.append(p)"
   ]
  },
  {
   "cell_type": "code",
   "execution_count": null,
   "metadata": {},
   "outputs": [],
   "source": [
    "s"
   ]
  },
  {
   "cell_type": "code",
   "execution_count": null,
   "metadata": {},
   "outputs": [],
   "source": [
    "s"
   ]
  },
  {
   "cell_type": "code",
   "execution_count": null,
   "metadata": {},
   "outputs": [],
   "source": [
    "nlp = spacy.load(\"en_vectors_web_lg\")\n",
    "nlp.add_pipe(nlp.create_pipe(\"sentencizer\"))\n",
    "\n",
    "##### Applying Sentiment Analyser\n",
    "nlp.add_pipe(SentimentAnalyser.load('lstm_model/', nlp, max_length=128))\n",
    "##### Getting the Polarity Score\n",
    "# \"docs\" is a list which contains sentences we want to classify\n",
    "sentiments = []\n",
    "for doc in nlp.pipe(sents_):\n",
    "    sentiments.append(doc.sentiment)"
   ]
  },
  {
   "cell_type": "code",
   "execution_count": 16,
   "metadata": {},
   "outputs": [],
   "source": [
    "sent_df = pd.DataFrame(zip(lemmas, sents_, sentiments, dates, scores), columns=['lemma', 'sentence', 'sentiment', 'date', 'score' ])"
   ]
  },
  {
   "cell_type": "code",
   "execution_count": 17,
   "metadata": {},
   "outputs": [
    {
     "data": {
      "text/html": [
       "<div>\n",
       "<style scoped>\n",
       "    .dataframe tbody tr th:only-of-type {\n",
       "        vertical-align: middle;\n",
       "    }\n",
       "\n",
       "    .dataframe tbody tr th {\n",
       "        vertical-align: top;\n",
       "    }\n",
       "\n",
       "    .dataframe thead th {\n",
       "        text-align: right;\n",
       "    }\n",
       "</style>\n",
       "<table border=\"1\" class=\"dataframe\">\n",
       "  <thead>\n",
       "    <tr style=\"text-align: right;\">\n",
       "      <th></th>\n",
       "      <th>lemma</th>\n",
       "      <th>sentence</th>\n",
       "      <th>sentiment</th>\n",
       "      <th>date</th>\n",
       "      <th>score</th>\n",
       "    </tr>\n",
       "  </thead>\n",
       "  <tbody>\n",
       "    <tr>\n",
       "      <th>0</th>\n",
       "      <td>stayed one suite floor</td>\n",
       "      <td>we stayed in one of the suites on the th floor</td>\n",
       "      <td>-0.008772</td>\n",
       "      <td>2009-08-01 00:00:00</td>\n",
       "      <td>100</td>\n",
       "    </tr>\n",
       "    <tr>\n",
       "      <th>1</th>\n",
       "      <td>two kid two adult</td>\n",
       "      <td>two kids and and two adults</td>\n",
       "      <td>0.015965</td>\n",
       "      <td>2009-08-01 00:00:00</td>\n",
       "      <td>100</td>\n",
       "    </tr>\n",
       "    <tr>\n",
       "      <th>2</th>\n",
       "      <td>pool really fantastic stress enough much enjoyed</td>\n",
       "      <td>the pool was really fantastic and i can not st...</td>\n",
       "      <td>0.490455</td>\n",
       "      <td>2009-08-01 00:00:00</td>\n",
       "      <td>100</td>\n",
       "    </tr>\n",
       "    <tr>\n",
       "      <th>3</th>\n",
       "      <td>rubberized bottom stair scuffed knee snagged b...</td>\n",
       "      <td>it has a rubberized bottom and stairs so no sc...</td>\n",
       "      <td>-0.485606</td>\n",
       "      <td>2009-08-01 00:00:00</td>\n",
       "      <td>100</td>\n",
       "    </tr>\n",
       "    <tr>\n",
       "      <th>4</th>\n",
       "      <td>hotel close family attraction wanted see sea a...</td>\n",
       "      <td>the hotel is very close to all the family attr...</td>\n",
       "      <td>0.482819</td>\n",
       "      <td>2009-08-01 00:00:00</td>\n",
       "      <td>100</td>\n",
       "    </tr>\n",
       "  </tbody>\n",
       "</table>\n",
       "</div>"
      ],
      "text/plain": [
       "                                               lemma  \\\n",
       "0                             stayed one suite floor   \n",
       "1                                  two kid two adult   \n",
       "2   pool really fantastic stress enough much enjoyed   \n",
       "3  rubberized bottom stair scuffed knee snagged b...   \n",
       "4  hotel close family attraction wanted see sea a...   \n",
       "\n",
       "                                            sentence  sentiment  \\\n",
       "0     we stayed in one of the suites on the th floor  -0.008772   \n",
       "1                        two kids and and two adults   0.015965   \n",
       "2  the pool was really fantastic and i can not st...   0.490455   \n",
       "3  it has a rubberized bottom and stairs so no sc...  -0.485606   \n",
       "4  the hotel is very close to all the family attr...   0.482819   \n",
       "\n",
       "                  date score  \n",
       "0  2009-08-01 00:00:00   100  \n",
       "1  2009-08-01 00:00:00   100  \n",
       "2  2009-08-01 00:00:00   100  \n",
       "3  2009-08-01 00:00:00   100  \n",
       "4  2009-08-01 00:00:00   100  "
      ]
     },
     "execution_count": 17,
     "metadata": {},
     "output_type": "execute_result"
    }
   ],
   "source": [
    "sent_df.head()"
   ]
  },
  {
   "cell_type": "code",
   "execution_count": null,
   "metadata": {},
   "outputs": [],
   "source": []
  },
  {
   "cell_type": "code",
   "execution_count": 30,
   "metadata": {},
   "outputs": [
    {
     "name": "stdout",
     "output_type": "stream",
     "text": [
      "on the bright side the room was nice with a beautiful view of the islands and very comfortable but service like i mention here is very very poor 0.47164827585220337 40.0 2010-06-18 00:00:00\n",
      "the tv in the room was ancient 0.44547075033187866 20.0 2010-12-18 00:00:00\n",
      "we finally got to our room which looked nice when we walked in 0.48888856172561646 40.0 2008-09-24 00:00:00\n",
      "great room for the money first when we arrived our rooms were not ready then when we returned they had given them away 0.48932284116744995 20.0 2009-07-06 00:00:00\n",
      "the tv in the room was ancient 0.44547075033187866 20.0 2010-12-18 00:00:00\n",
      "this theme continues into the room 0.4307791590690613 20.0 2008-11-17 00:00:00\n",
      "the hotel room was clean 0.4981542229652405 20.0 2009-07-22 00:00:00\n",
      "when i returned my room was ready about minutes before 0.35833144187927246 20.0 2009-07-22 00:00:00\n",
      "terable housekeeping staff check in was very nice after being in the room for sometime my elderly mother in law reached under the pillow to discover a used prophylactic 0.3057854175567627 20.0 2009-04-23 00:00:00\n",
      "the good the room itself was nice 0.49959129095077515 40.0 2008-07-21 00:00:00\n",
      "bathroom and toiletries very nice 0.4974049925804138 40.0 2008-07-21 00:00:00\n",
      "we got what i feel to have been a good deal on the room or so we thought 0.30627572536468506 40.0 2010-05-09 00:00:00\n",
      "the room was nice 0.4984976053237915 40.0 2008-10-21 00:00:00\n",
      "the room was very spacious and nicely put together 0.4979907274246216 40.0 2008-10-21 00:00:00\n",
      "so we made the best of the room and went down the street to walgrens and got some candles febreze and lysol to disinfect the room and make it liveable for our stay 0.49964582920074463 20.0 2008-09-02 00:00:00\n",
      "i offered a solution quot tell you what you guys stay here and just move me to a room with a phone that works quot those guys sure thought that was funny 0.3859248757362366 20.0 2008-04-05 00:00:00\n",
      "we changed rooms again 0.40766751766204834 40.0 2010-01-19 00:00:00\n",
      "nice rooms everything else awful i recently stayed to attend a national conference 0.48984700441360474 20.0 2008-07-24 00:00:00\n",
      "the room was nice and the housekeeping was good 0.4995018243789673 20.0 2008-07-24 00:00:00\n",
      "the room was nice 0.4984976053237915 40.0 2008-12-01 00:00:00\n",
      "good location poor service noisy rooms i stay at hundreds of hotels per year for work 0.4147493243217468 20.0 2012-03-13 00:00:00\n",
      "kep driving by liked location disiked rooms 0.21116948127746582 20.0 2012-04-01 00:00:00\n",
      "she finally went to the back and came back five minutes later with josete who after typing into her computer for a good ten minutes told me that there were no rooms available with two beds and that she was going to give me a room with one king bed and a rolaway 0.4432704448699951 20.0 2012-04-02 00:00:00\n",
      "the rooms have a beautiful view of miami and the executive lounge is one of the nicest that i have been to 0.4943053126335144 20.0 2012-04-02 00:00:00\n",
      "i discover hair lots of hair all over the bathroom 0.4954219460487366 40.0 2012-08-10 00:00:00\n",
      "dirty room the service was decent the location great but the room itself was not clean 0.274109423160553 40.0 2012-10-07 00:00:00\n",
      "dirty room the service was decent the location great but the room itself was not clean 0.27410948276519775 40.0 2012-10-07 00:00:00\n",
      "when i got home i noticed that i had left my ipad in the hotel room along with some dvds from the convention 0.48622339963912964 40.0 2012-11-26 00:00:00\n",
      "they did the best the could given the hour and the situational in all we finally had rooms at in the morning 0.38709670305252075 20.0 2011-01-29 00:00:00\n",
      "on arrival i was told that we had been upgraded to a bay view room we have diamond honors vip membership 0.3513959050178528 40.0 2011-02-13 00:00:00\n",
      "checking was fine and the room view was outstanding that is the good 0.49857091903686523 40.0 2011-02-27 00:00:00\n",
      "i tried to explain to her that i wanted bed strip down and room throughly clean 0.4734650254249573 20.0 2011-02-21 00:00:00\n",
      "once inside the staff were very friendly they greeted us and gave us a corner room with a great view of the port 0.49991726875305176 40.0 2011-04-22 00:00:00\n",
      "the room was clean with a nice viewthere was a tv phone cable internet access 0.49863094091415405 40.0 2011-05-01 00:00:00\n",
      "the room was clean with a nice viewthere was a tv phone cable internet access 0.49863094091415405 40.0 2011-05-27 00:00:00\n",
      "i called and spoke with the hotel manager and she came to inspect the room as i was taking pictures of all the stains and hairs that were on the bed sheets 0.4682038426399231 20.0 2011-05-02 00:00:00\n",
      "the rooms size is good and views are nice but it ends here how good these rooms are housekeeping do not clean these rooms they quot tidy it up quot and that is it 0.4877726435661316 40.0 2011-07-23 00:00:00\n",
      "we arrived at the hotel hours prior to our check in time and the staff was very prompt about finding us a room and getting us situated 0.4919569492340088 40.0 2011-12-13 00:00:00\n",
      "on positive notes room did have a nice view of downtown miami 0.49583059549331665 40.0 2013-01-06 00:00:00\n",
      "on positive notes room did have a nice view of downtown miami 0.49583059549331665 40.0 2013-01-01 00:00:00\n",
      "bellmen watched us carry our luggage up to our room 0.4606594443321228 40.0 2013-01-20 00:00:00\n",
      "views from most of the rooms are great of the port and performance centers and financial district 0.4983293414115906 40.0 2013-03-05 00:00:00\n",
      "room was nicely arranged and comfortable 0.4991387128829956 40.0 2013-03-05 00:00:00\n",
      "good location but overall disappointing the hotel was clean but in need of guest room refurbishment and an ac upgrade having the ac on overnight is impossible as it is very loud a fact clearly recognized by the hotel who provide a helpful sign advising that auto is the quietness setting my wife and i did not really feel welcome here from our checkin where it was impossible to understand the staff member who spoke so quietly i had to ask to repeat everything to the concierge who seemed more interested in answering his personal cell and selling his own tours that answering our we have hours to see miami what would you recommend 0.21379882097244263 40.0 2013-06-02 00:00:00\n",
      "nice room and clean 0.49937206506729126 20.0 2013-04-30 00:00:00\n",
      "room service restauranthe food is good and they have good options 0.49549001455307007 40.0 2013-06-21 00:00:00\n",
      "the restaurant and the room service 0.2947680354118347 40.0 2013-06-21 00:00:00\n",
      "and when i arrived there they sent it to my room 0.29140639305114746 40.0 2013-06-21 00:00:00\n",
      "the room once we go into one that was not otherwise occupied was nice the bed was very comfortable and the view was lovely 0.4893607497215271 40.0 2013-07-16 00:00:00\n",
      "then i entered my room 0.2515484690666199 40.0 2013-07-14 00:00:00\n",
      "the only plus to this hotel and my room is that it had a great view 0.4778449535369873 40.0 2013-07-14 00:00:00\n",
      "first the good the location is excellent can walk from here to the home of the miami heat near the water and the view from hotel room is absolutely gorgeous the staff is nice 0.4999525547027588 40.0 2013-07-06 00:00:00\n",
      "yes they gave us a small credit to use around the hotel but i didnt pay almost to come to miami and sit around a hotel for a wek other then that the rooms are decent sized the view is good the pool is nice 0.424144446849823 20.0 2013-08-04 00:00:00\n",
      "the location and view is excellent and the common areas are very nice but the rooms 0.49972277879714966 40.0 2013-07-04 00:00:00\n",
      "we are in a junior suite which really is just a big room 0.23917627334594727 40.0 2013-07-04 00:00:00\n",
      "i was welcomed and told i had been upgrade to a corner deluxe room i am a hilton honors diamond card holder 0.49951767921447754 20.0 2014-01-15 00:00:00\n",
      "i choose my rooms with that at the front of my list 0.4072992205619812 20.0 2014-02-18 00:00:00\n",
      "once i explained everything again i was offered a free soda and water delivered to my room 0.49202054738998413 20.0 2014-02-18 00:00:00\n",
      "checkin went smoothly thanks to the lovely woman working at the front desk who checked us in early props to her for being one of the only good parts of our stay but problems arose as soon as we got to our room 0.4993508458137512 40.0 2014-01-24 00:00:00\n",
      "soon after getting to our room we ordered room service 0.2536574602127075 40.0 2014-01-24 00:00:00\n",
      "disapointingthe cherry on top was probably room servicemaids 0.30055028200149536 40.0 2014-01-24 00:00:00\n",
      "i just wanted to sleep and did not worry about a view so took the keys and went to the room which was right across from the gym 0.2446579933166504 40.0 2014-03-12 00:00:00\n",
      "the room was clean and tidy with nice big windows overlooking the stretoposite buildings 0.4991995692253113 40.0 2014-01-12 00:00:00\n",
      "the room was clean and i had a nice view big windows to the intracoastal waterway but rooms could need some touch up 0.4966673254966736 40.0 2014-04-01 00:00:00\n",
      "she agreed to move all of our rooms and apologized for the inconvenience 0.2442362904548645 40.0 2014-06-15 00:00:00\n",
      "when we returned she gave us new rooms and we moved 0.4713495969772339 40.0 2014-06-15 00:00:00\n",
      "mr diez called me to see if the room was suitable 0.4118865728378296 40.0 2014-06-15 00:00:00\n",
      "we were given an upgraded room on the th floor with a bay view 0.4762652516365051 40.0 2014-06-30 00:00:00\n",
      "when our room was finally cleaned the next day the towels where placed into swan shapes everything was organised and spotless and we where given bottles of water 0.4971522092819214 20.0 2014-08-04 00:00:00\n",
      "luckily soon the bellman showed up with keys to my new room 0.4521365761756897 40.0 2014-08-27 00:00:00\n",
      "other than that the room was very comfy and the staff was very delightful and very helpful 0.4965369701385498 40.0 2014-08-04 00:00:00\n",
      "it is in nice location the room is very big and with a nice view etc etc but some facts when staying there will make me change my selection when i ever go to miami again 0.49888092279434204 40.0 2014-08-15 00:00:00\n",
      "great staff nice room good bufethe hotel does not have any heat so in the rare case of very cold weather such as i experienced it is veryvery cold in the hotel the hotel offered extra blankets but should of offered some space heaters to those who really were cold 0.3115769028663635 40.0 2014-12-15 00:00:00\n",
      "all we wanted was a good quick evening meal a good nights sleep in a comfortable room 0.49902892112731934 20.0 2014-12-24 00:00:00\n",
      "i booked the bedroom suite bay view and it was a parlor with adjoining basic room 0.2701956033706665 20.0 2014-11-08 00:00:00\n",
      "if you are looking to weave an afgan out of real human hair grab a room there is plenty in the shower 0.48992669582366943 40.0 2015-01-11 00:00:00\n",
      "clean wellkept rooms nice view on the portthe service at this hotel was terrible due to a flight delay i arrived one day later 0.4368242025375366 42.0 2015-01-20 00:00:00\n",
      "this hotel looks very impressive from outside but the rooms decor really needs updating 0.4600343108177185 20.0 2015-01-23 00:00:00\n",
      "the rooms are clean the restaurant is good staff helpful 0.49937134981155396 40.0 2015-03-28 00:00:00\n",
      "anyway we stayed on the bay side and really loved the large window room that looked over the bay and the crumpled building next to it 0.4923689365386963 40.0 2015-02-04 00:00:00\n",
      "this is one of those hotels that needs a good room makeover and it would be really nice 0.2932758331298828 40.0 2015-01-19 00:00:00\n",
      "nice people dirty room the staff was very nice the location of the hotel is a little far from the beach for vacation but the hotel room was not up to par the shower was dirty and the ac unit in the room was very load 0.2680107355117798 40.0 2015-01-25 00:00:00\n",
      "the room was clean and the views were fabulous 0.49927979707717896 20.0 2015-04-14 00:00:00\n",
      "it felt very old and outdatedthe staff was nice and helpful but overall experience was not greatwe paid for a bay view room we could see the bay if we stood at the window and looked left 0.33163291215896606 40.0 2015-04-01 00:00:00\n",
      "thank god it was only one nightthe hotel room seemed to have hosted the taz 0.4835388660430908 20.0 2015-05-10 00:00:00\n",
      "nice hotel terrible service spent a night here with family great room with cool views of the beach 0.4966273903846741 40.0 2015-07-03 00:00:00\n",
      "upon my arrival at the hotel i told the customer rep that i wanted to upgrade my room per the offer i received through email 0.45746809244155884 20.0 2015-07-30 00:00:00\n",
      "i called the front desk and they were very gracious and moved us to another room and gave us complimentary bfast tickets 0.4931269884109497 40.0 2015-08-02 00:00:00\n",
      "my husband and i along with one of our sons went to our room around pm 0.34480875730514526 20.0 2015-12-15 00:00:00\n",
      "after back an forth the manager did offer to discount my room my family booked rooms and we all had dinner and drinks in this hotel and our room gets broke into and all they could do is 0.3644843101501465 20.0 2015-12-15 00:00:00\n",
      "btw i never even thought of ordering room service simply because although the room cleaning staff did their job well the overall feeling of the room was that i was not staying in a clean environment 0.36407041549682617 40.0 2015-12-15 00:00:00\n",
      "location nice view from room 0.4993840456008911 40.0 2015-12-14 00:00:00\n",
      "rooms are big but stay away until hotelwide renovations are complete 0.20792007446289062 40.0 2016-01-17 00:00:00\n",
      "almost everything went wrong the room – i was in a king suite 0.20694702863693237 20.0 2016-01-24 00:00:00\n",
      "good luck taking a showerthere is not mini bar or fridge in the room and the carpet could une a good cleaning or even be changedworst stay ever so far 0.35396820306777954 20.0 2016-01-24 00:00:00\n",
      "we stayed in a one bedroom suite 0.43247246742248535 40.0 2016-03-30 00:00:00\n",
      "great so why not give me a room that is not below the renovations area 0.3837957978248596 20.0 2016-04-21 00:00:00\n",
      "the restaurant had great food and serviceat check in the room was large and clean and had great views of downtown miaminow this is were the problems beganthe bad on sat i told housekeeping to do a full service on my room 0.49824947118759155 40.0 2016-05-05 00:00:00\n",
      "when i returned at around pm all they did was change towelsi went to the front desk and mr diaz was very nice and did send housekeeping back to the room to clean it 0.48826444149017334 40.0 2016-05-05 00:00:00\n",
      "noise room staf was nice 0.46031951904296875 40.0 2016-05-30 00:00:00\n",
      "staff is nice but when making the reservations for rooms they never mentioned renovations 0.4896606206893921 40.0 2016-06-28 00:00:00\n",
      "all the rooms above the th floor are an atrocity 0.22467291355133057 20.0 2016-07-13 00:00:00\n",
      "the staff at the hotel desk and the manager on duty were very good they understand the hotel is struggling at the moment but again the rooms are not up to hilton standards at all so spare yourself do not stay in this hotel if you are going to stay for more than one night 0.3226081132888794 20.0 2016-07-13 00:00:00\n",
      "excellent room very clean and confortable 0.49840646982192993 40.0 2016-08-03 00:00:00\n",
      "nice view light switch in bathroom broken carpets filthy and decor needs updating 0.20279353857040405 40.0 2016-08-14 00:00:00\n",
      "the room was nice 0.4984976053237915 20.0 2016-08-29 00:00:00\n",
      "room was lovely however we went out at am returned at pm the room had not been serviced 0.2536128759384155 42.0 2016-09-14 00:00:00\n",
      "the staff is very nice and friendly but they should not book rooms if they are not ready for clients to come in 0.4570937752723694 20.0 2016-09-25 00:00:00\n",
      "the staff is very nice and friendly but they should not book rooms if they are not ready for clients to come in 0.4570937752723694 40.0 2016-09-25 00:00:00\n",
      "the only good thing was the food we had as room service awesome tuna salad 0.49673622846603394 40.0 2016-09-30 00:00:00\n",
      "i stayed here in october of and my room took hours to be ready 0.3235124945640564 20.0 2016-11-06 00:00:00\n",
      "the restaurant is basically a converted hotel ballroom serving metingconference quality food 0.42767268419265747 40.0 2016-11-22 00:00:00\n",
      "the newly renovated rooms are small and dark creating a cave like experience that is at odds with the miami locale 0.38064807653427124 40.0 2016-11-22 00:00:00\n",
      "warm room checked into our room quickly got ready to go to a wedding and set the air conditioner on 0.3092462420463562 40.0 2016-11-21 00:00:00\n",
      "we came back around am to find the room very warm 0.40133076906204224 40.0 2016-11-21 00:00:00\n",
      "loud rooms good customer service good location so customer service location food blah blah blah if the room next doors tv feels like it is in your room 0.4873392581939697 40.0 2016-12-05 00:00:00\n",
      "staff is nice enough to move me to a room that felt like was under the mechanical room 0.4978519678115845 40.0 2016-12-05 00:00:00\n",
      "joining is free cardsign up nowthe hilton honors apwith hilton honors membership and the ap trip planning is easy• check in choose your room from a digital floor plan• book your stay with over hotels and resortsget it on google play download on the ap storestart building your travel vision boardrent save save up to rent a car with one of our partnersthe more your stay with us the better it gets 0.45041394233703613 20.0 2017-01-09 00:00:00\n",
      "the renovated rooms were nice 0.4984038472175598 40.0 2017-02-03 00:00:00\n",
      "the recently renovated the lobby and some of the rooms 0.2206331491470337 40.0 2017-02-09 00:00:00\n",
      "well guess what the restaurant bar and room service closes at 0.3272353410720825 20.0 2017-02-23 00:00:00\n",
      "good service nice room 0.4993588328361511 40.0 2017-03-22 00:00:00\n",
      "checkin welcome here is your room key 0.4916155934333801 20.0 2017-04-29 00:00:00\n",
      "recently stayed here and waited in the lobby with my family for hours to get our room key 0.4805891513824463 20.0 2017-07-29 00:00:00\n",
      "the rooms were nice 0.4983748197555542 40.0 2017-09-13 00:00:00\n",
      "even though i amor was a hilton honors memberthe room was clean and the beds were very comfortable but cold ambience 0.4960116147994995 40.0 2017-10-08 00:00:00\n",
      "disappointing the room was a nice sizethe bed was comfortable 0.34898096323013306 46.0 2017-10-02 00:00:00\n",
      "walked into the hotel room looking like this see pictures 0.44050586223602295 20.0 2017-12-30 00:00:00\n",
      "took hours to receive our suitcases the quality of the rooms were okay 0.2139095664024353 20.0 2017-12-29 00:00:00\n",
      "nice small room 0.48127466440200806 40.0 2018-01-02 00:00:00\n",
      "the room are pretty small and comfy 0.43783295154571533 40.0 2018-01-02 00:00:00\n",
      "the beds are the one great thing about the room 0.49737298488616943 20.0 2018-02-07 00:00:00\n",
      "did my stuff fly away from the room i lived 0.3348339796066284 20.0 2018-01-12 00:00:00\n",
      "room was alright and staff was very friendly but really not worth it compared to the mariot right next door 0.4651907682418823 40.0 2018-03-16 00:00:00\n",
      "clean and spacious room 0.4978686571121216 20.0 2018-04-14 00:00:00\n",
      "clean rooms quiet well located 0.49382245540618896 40.0 2018-04-17 00:00:00\n",
      "clean rooms quiet well located 0.49382245540618896 40.0 2018-04-20 00:00:00\n",
      "nice lobyfair sized conference rooms bayside market placebasketbal arena performing art frost museum grocery store mearby 0.49911993741989136 40.0 2018-05-09 00:00:00\n",
      "especially when raining rooms are nice 0.48809248208999634 20.0 2018-05-26 00:00:00\n",
      "the front desk staff and concierge desk where very helpful and nice just wish the rooms where clean 0.4997243285179138 40.0 2018-06-09 00:00:00\n",
      "the hotel rooms are nice and nice furnished and also the people who work there are friendly 0.4999053478240967 20.0 2018-06-17 00:00:00\n",
      "i found the front desk staff to be pleasant and professional and i had no issues with the room itself 0.359777569770813 40.0 2018-06-24 00:00:00\n",
      "we had a junior suite and while the room itself is huge the bathroom tiny 0.4031382203102112 40.0 2018-09-05 00:00:00\n",
      "the room was nice clean and comfortable 0.4995543360710144 40.0 2018-09-15 00:00:00\n",
      "upgraded room was nice with a view nd floor 0.4960101842880249 40.0 2018-10-02 00:00:00\n",
      "arrived on friday and departed on monday am from the moment we arrived until the morning we left we experienced nothing but problems with the guest room elevators 0.22144466638565063 40.0 2018-10-19 00:00:00\n",
      "note that in the end hilton discounted the from the cost of our room as a commercial gesture which was nice 0.2007758617401123 40.0 2018-11-05 00:00:00\n",
      "the staff wa friendly and the room wa clean but smelled a bit musty 0.26437199115753174 40.0 2018-11-18 00:00:00\n",
      "check in and you will get a sms from madam roxana asking if everything is good in the room 0.2911258935928345 20.0 2018-12-18 00:00:00\n",
      "the room had a nice view bay view 0.4982854723930359 40.0 2018-12-31 00:00:00\n",
      "positives rooms were clean and pretty spacious 0.4470328688621521 20.0 2019-01-06 00:00:00\n",
      "pretty nice views if you get a room on the right side 0.48991942405700684 20.0 2019-01-06 00:00:00\n",
      "the public restrooms were clean and frequently well maintained 0.4616844654083252 40.0 2019-01-16 00:00:00\n",
      "positives rooms were clean and pretty spacious 0.4470328688621521 20.0 2019-01-09 00:00:00\n",
      "pretty nice views if you get a room on the right side 0.48991942405700684 20.0 2019-01-09 00:00:00\n",
      "broken elevators stay away until the hotel prioritizes fixing the elevators keeping the rooms clean and air conditioning the workout room i recommend looking for other options in downtown miami 0.4668653607368469 40.0 2019-03-02 00:00:00\n",
      "it is a big room 0.4610622525215149 46.0 2019-02-23 00:00:00\n",
      "i enjoyed the locationthe service desk was one hour and a half late with our room apparently no one had a king size room available for anyone 0.23723483085632324 38.0 2019-02-28 00:00:00\n",
      "i really appreciated the refrigerator in the room 0.49406754970550537 20.0 2019-03-12 00:00:00\n",
      "my room was stunning loved the view 0.49920839071273804 40.0 2019-03-24 00:00:00\n",
      "the room had a beautiful view although it did not feel very clean 0.35094302892684937 20.0 2019-06-20 00:00:00\n",
      "the room service attendant was very pleasant 0.48058515787124634 20.0 2019-06-20 00:00:00\n",
      "there was someone else ’ s blood soaked in the sheets and on the mattress when i checked into my room and the manager offered free breakfast wow 0.43894755840301514 25.0 2019-06-10 00:00:00\n",
      "the hotel view from our room was great 0.49542325735092163 40.0 2019-05-11 00:00:00\n",
      "the room service was very good and the food delicious 0.49953413009643555 38.0 2019-05-04 00:00:00\n",
      "also the bathroom was a good sizethe room was run down and looking like it hadn ’ t been vacuumed in months 0.20673757791519165 38.0 2019-05-04 00:00:00\n",
      "the bed slept nice but the roaches made it not so nicethe roaches the bugs and the staff that cleans the room 0.4618016481399536 25.0 2019-05-10 00:00:00\n",
      "hopefully we get a room before we have to check out 0.26568686962127686 20.0 2019-04-05 00:00:00\n",
      "valet was helpful and the rooms were clean 0.499581515789032 40.0 2019-09-30 00:00:00\n",
      "the public restrooms were clean and frequently well maintained 0.4616844654083252 20.0 2019-09-01 00:00:00\n",
      "i had a quick look before i accepted the room and thought everything looked ok 0.393740177154541 20.0 2019-09-13 00:00:00\n",
      "i waited in the lobby along with all the other guests waiting for their rooms 0.46115291118621826 42.0 2019-08-16 00:00:00\n",
      "i stayed here this past weekend with a friend the room was ok and the check in check out process was fine 0.48217344284057617 40.0 2019-07-30 00:00:00\n",
      "the room gets an a though it was clean and the view bayside was beautiful 0.41835540533065796 40.0 2019-07-23 00:00:00\n",
      "was told room was ready 0.20273637771606445 20.0 2019-08-09 00:00:00\n",
      "she came back with the room ready 0.44825392961502075 20.0 2019-08-09 00:00:00\n",
      "i would like to say big thanks to carmen at the guest service line for being kind and helpful and did her best to make us happy and sent us an amazing in room breakfastcustomer service is really nice but there is only so much they can do to elevate a experience in a hotel in this situationmaybe housekeeping is to blame 0.485551118850708 20.0 2019-08-14 00:00:00\n",
      "the bathroom was the nicest part 0.49685221910476685 40.0 2019-07-31 00:00:00\n",
      "lets talk about the view this room had 0.3738848567008972 40.0 2019-07-31 00:00:00\n",
      "subpar hotel stay the location of the hotel was great and rooms were recently renovated 0.3862549662590027 40.0 2019-12-28 00:00:00\n",
      "it also happen in my other friends room 0.27647364139556885 20.0 2019-12-25 00:00:00\n",
      "nice placewaited mins just to check in and was told that my rooms were not available pm check in 0.4799189567565918 30.0 2019-12-17 00:00:00\n",
      "the room was clean and the staff was friendly 0.4994204044342041 40.0 2019-11-30 00:00:00\n",
      "i got to my room to find the ac set to and the thermostat read 0.4046623110771179 20.0 2019-11-08 00:00:00\n",
      "it is an excellent location nice room and friendly waitstaf 0.4998652935028076 40.0 2020-02-18 00:00:00\n",
      "and then the staff provided me with a wrong room 0.4727632999420166 40.0 2020-01-05 00:00:00\n"
     ]
    }
   ],
   "source": [
    "for sent, sentiment, score, date in zip(sents_, sentiments, scores, dates):\n",
    "    if sentiment >=0.2 and 'room' in sent and score <50:\n",
    "        print(sent,sentiment, score, date)"
   ]
  },
  {
   "cell_type": "code",
   "execution_count": null,
   "metadata": {},
   "outputs": [],
   "source": []
  }
 ],
 "metadata": {
  "kernelspec": {
   "display_name": "cpd\n",
   "language": "python",
   "name": "cpd"
  },
  "language_info": {
   "codemirror_mode": {
    "name": "ipython",
    "version": 3
   },
   "file_extension": ".py",
   "mimetype": "text/x-python",
   "name": "python",
   "nbconvert_exporter": "python",
   "pygments_lexer": "ipython3",
   "version": "3.7.6"
  }
 },
 "nbformat": 4,
 "nbformat_minor": 4
}
