{
 "cells": [
  {
   "cell_type": "code",
   "execution_count": 1,
   "metadata": {},
   "outputs": [],
   "source": [
    "import pandas as pd\n",
    "import os\n",
    "import csv\n",
    "from nltk.tokenize import sent_tokenize, word_tokenize\n",
    "import string\n",
    "from utils import data_preparation"
   ]
  },
  {
   "cell_type": "code",
   "execution_count": 2,
   "metadata": {},
   "outputs": [],
   "source": [
    "os.getcwd()\n",
    "repo = '/home/yiyi/Documents/masterthesis/CPD'"
   ]
  },
  {
   "cell_type": "code",
   "execution_count": 3,
   "metadata": {},
   "outputs": [],
   "source": [
    "data_dir = os.path.join(repo, 'data')\n",
    "file ='cleand_query_output_csv/019b8823-aa09-4d8f-8b8d-26433d76dff3'"
   ]
  },
  {
   "cell_type": "code",
   "execution_count": 4,
   "metadata": {},
   "outputs": [],
   "source": [
    "handler = data_preparation.TextHandler(os.path.join(data_dir, file))"
   ]
  },
  {
   "cell_type": "code",
   "execution_count": null,
   "metadata": {},
   "outputs": [],
   "source": [
    "handler.prepare()"
   ]
  },
  {
   "cell_type": "code",
   "execution_count": 6,
   "metadata": {},
   "outputs": [
    {
     "data": {
      "text/plain": [
       "56914"
      ]
     },
     "execution_count": 6,
     "metadata": {},
     "output_type": "execute_result"
    }
   ],
   "source": [
    "len(handler.data)"
   ]
  },
  {
   "cell_type": "code",
   "execution_count": 7,
   "metadata": {
    "scrolled": true
   },
   "outputs": [
    {
     "data": {
      "text/plain": [
       "['worth money',\n",
       " 'half closing door',\n",
       " 'light rain sound tv due satelite interfernece',\n",
       " 'small pool',\n",
       " 'strip house restaurant small menu',\n",
       " 'view le',\n",
       " 'staff friendly',\n",
       " 'activity site rip',\n",
       " 'fantastic time',\n",
       " 'excellent resort',\n",
       " 'aj man booking snorkling trip stacey also let u borrow car pick beverage service amazing',\n",
       " 'day loved every second',\n",
       " 'shared amenity casa marina next door real nice bonus',\n",
       " 'best place catch sunset malory square roof reach',\n",
       " 'probably best stay ever resort',\n",
       " 'despite two night could relax enjoy key west reach resort home base',\n",
       " 'hotel block away quiet end duval street parked car walked around everything wanted see',\n",
       " 'little pool patch beach quite young family',\n",
       " 'chaotic kindergarten room top floor slice view ocean nice since priced view',\n",
       " 'high ceiling may u lucky though think room clean neat someone mentioned whole place recently renovated new feel',\n",
       " 'bed amazingly good',\n",
       " 'oddly lot noise one afternoon due wedding party second floor ballroom understand quiet place spring break reviewer suggested',\n",
       " 'night peaceful quiet though',\n",
       " 'staff amazingly good first time ever feel completely ripped resort fee everyone started charging',\n",
       " 'staff courteous quick never hung around trying oversel begging tip',\n",
       " 'free wireless barely reached beach chair guess stretch ask anyway',\n",
       " 'room lobby pool area restaurant great reception wifi network run included price nice fresh fruit fresh croissant bread cold cut meat small selection hot food',\n",
       " 'coffee great one morning great highly recommend place',\n",
       " 'go back ever return key look cheapest closest bar genuine historical colonial look elsewhere',\n",
       " 'well run resort hotel private beach',\n",
       " 'check louies backyard around next street bistro despite name',\n",
       " 'beach friendly ocean view luxury suite smaller expexted resort fee suck',\n",
       " 'could float clear white sand beach day would stay season rate',\n",
       " 'stayed one night wow night',\n",
       " 'beautiful property',\n",
       " 'everything wanted quick nice clean room excellent bathroom nice balcony view beautiful pool fun thing like life size chess board piece beautiful private beach',\n",
       " 'staff friendly helpful good location little close enough duval street shape couple block kill ya',\n",
       " 'biggest negative dealt elevator',\n",
       " 'recommend give hotel shot regret',\n",
       " 'made reservation long time ago yet arrived given crappy room',\n",
       " 'ton room great view',\n",
       " 'get one',\n",
       " 'made give u different room',\n",
       " 'bad first still great',\n",
       " 'constantly motor running refrigerator bathroom even light even though set world need',\n",
       " 'drove u',\n",
       " 'asked pillow told yes told would next night',\n",
       " 'know silly normally would expected requested',\n",
       " 'know espresso thing cup',\n",
       " 'everything would',\n",
       " 'green seems limited water consumption',\n",
       " 'recycle bin anywhere found',\n",
       " 'availability astoundingly limited',\n",
       " 'could believe',\n",
       " 'trash hand popsicle cup ice cream beach provide trash bin',\n",
       " 'saw several guest throwing cigarette ocean',\n",
       " 'yes moron maybe trashcan two would given suggestion pollute',\n",
       " 'personally pulled several tin can ocean foot shore piled pier thinking employee would remove',\n",
       " 'glass collected placed pier',\n",
       " 'one came',\n",
       " 'ugly dangerous',\n",
       " 'hard know sound like terrible',\n",
       " 'enjoyed astounded lack timeliness attention',\n",
       " 'would return',\n",
       " 'like location check detail hotel beach access',\n",
       " 'great access duval street',\n",
       " 'left something ron called several time sent several email even return call email',\n",
       " 'guess hotel matter',\n",
       " 'also shower enclosed water get bathroom floor wet maid mop next day',\n",
       " 'modern convenience room tastfuly decorated modern convenience expreso machine docking station ipod',\n",
       " 'stayed honeymoon march',\n",
       " 'staff excellent helpful',\n",
       " 'excellent room decent view kind',\n",
       " 'real complaint neglected tell u part hotel still construction thus racket going day',\n",
       " 'real complaint go back boring old illinois',\n",
       " 'reach resort lovely hotel nestled beach key west',\n",
       " 'located opposite end island malory square fifteen minute stroll',\n",
       " 'arrived pm room available check early',\n",
       " 'self parking rate per day',\n",
       " 'room number top floor ocean view far enough away pool plenty privacy',\n",
       " 'noticed people complained amount child pool enjoyed lively family atmosphere',\n",
       " 'staff helpful pleasant',\n",
       " 'plentiful breakfast buffet provided much food skipped lunch day',\n",
       " 'room elegant nespreso machine small refridgerator large screen tv chair sofa sleeper safe plenty drawer closet space',\n",
       " 'beware construction new hotel side reach obtrusive room',\n",
       " 'small ant bathroom',\n",
       " 'however realize florida rainey season critter come indoors time',\n",
       " 'one rent bicycle per day hotel enjoyed seeing island mode transportation',\n",
       " 'little beach area key west always dirty smelly',\n",
       " 'fact one must deal visiting key',\n",
       " 'overall hotel pleasant experience good deal three star hotel',\n",
       " 'stayed several different property key west b b icon hotel',\n",
       " 'pleasant surprise everything look hotel well equipped fitness center large pool private ocean access beach pool attendant room refrigerator lcd tv ipod comaptible clock radio coffee safe hotel parking free subscriber',\n",
       " 'hotel staff real nice',\n",
       " 'try help direction place go restaurant service absolutely horrible',\n",
       " 'worst service ever',\n",
       " 'time key west',\n",
       " 'great price',\n",
       " 'room big clean',\n",
       " 'bad view']"
      ]
     },
     "execution_count": 7,
     "metadata": {},
     "output_type": "execute_result"
    }
   ],
   "source": [
    "handler.data[:100]"
   ]
  },
  {
   "cell_type": "code",
   "execution_count": 8,
   "metadata": {},
   "outputs": [],
   "source": [
    "# generate BERT data\n",
    "pretrained = 'roberta-base-nli-stsb-mean-tokens'\n",
    "training_bert = data_preparation.bert_embeddings_from_list(handler.data, pretrained)"
   ]
  },
  {
   "cell_type": "code",
   "execution_count": null,
   "metadata": {},
   "outputs": [],
   "source": [
    "bert_base = 'bert-base-nli-stsb-mean-tokens'\n",
    "training_bert = data_preparation.bert_embeddings_from_list(handler.data, bert_base)"
   ]
  },
  {
   "cell_type": "code",
   "execution_count": 9,
   "metadata": {},
   "outputs": [
    {
     "data": {
      "text/plain": [
       "(56914, 768)"
      ]
     },
     "execution_count": 9,
     "metadata": {},
     "output_type": "execute_result"
    }
   ],
   "source": [
    "training_bert.shape"
   ]
  },
  {
   "cell_type": "code",
   "execution_count": 10,
   "metadata": {},
   "outputs": [],
   "source": [
    "from contextualized_topic_models.models.ctm import CTM\n",
    "from contextualized_topic_models.datasets.dataset import CTMDataset"
   ]
  },
  {
   "cell_type": "code",
   "execution_count": 25,
   "metadata": {},
   "outputs": [
    {
     "name": "stdout",
     "output_type": "stream",
     "text": [
      "Settings: \n",
      "               N Components: 20\n",
      "               Topic Prior Mean: 0.0\n",
      "               Topic Prior Variance: 0.95\n",
      "               Model Type: prodLDA\n",
      "               Hidden Sizes: (100, 100)\n",
      "               Activation: softplus\n",
      "               Dropout: 0.2\n",
      "               Learn Priors: True\n",
      "               Learning Rate: 0.01\n",
      "               Momentum: 0.99\n",
      "               Reduce On Plateau: False\n",
      "               Save Dir: None\n",
      "Epoch: [1/100]\tSamples: [56914/5691400]\tTrain Loss: 74.97642041207801\tTime: 0:00:05.613520\n",
      "Epoch: [2/100]\tSamples: [113828/5691400]\tTrain Loss: 72.3603455183959\tTime: 0:00:05.508517\n",
      "Epoch: [3/100]\tSamples: [170742/5691400]\tTrain Loss: 71.78372893202902\tTime: 0:00:05.496876\n",
      "Epoch: [4/100]\tSamples: [227656/5691400]\tTrain Loss: 71.48978090633112\tTime: 0:00:05.519740\n",
      "Epoch: [5/100]\tSamples: [284570/5691400]\tTrain Loss: 71.33326870417291\tTime: 0:00:05.514778\n",
      "Epoch: [6/100]\tSamples: [341484/5691400]\tTrain Loss: 71.26361088917461\tTime: 0:00:05.504001\n",
      "Epoch: [7/100]\tSamples: [398398/5691400]\tTrain Loss: 71.14887804183587\tTime: 0:00:05.576989\n",
      "Epoch: [8/100]\tSamples: [455312/5691400]\tTrain Loss: 71.10865481861545\tTime: 0:00:05.535290\n",
      "Epoch: [9/100]\tSamples: [512226/5691400]\tTrain Loss: 71.0576160035591\tTime: 0:00:05.706527\n",
      "Epoch: [10/100]\tSamples: [569140/5691400]\tTrain Loss: 70.97383878818947\tTime: 0:00:05.617123\n",
      "Epoch: [11/100]\tSamples: [626054/5691400]\tTrain Loss: 70.96282841233732\tTime: 0:00:05.622756\n",
      "Epoch: [12/100]\tSamples: [682968/5691400]\tTrain Loss: 70.9584416732201\tTime: 0:00:05.652624\n",
      "Epoch: [13/100]\tSamples: [739882/5691400]\tTrain Loss: 70.91980194092869\tTime: 0:00:05.640252\n",
      "Epoch: [14/100]\tSamples: [796796/5691400]\tTrain Loss: 70.88477503432742\tTime: 0:00:05.568128\n",
      "Epoch: [15/100]\tSamples: [853710/5691400]\tTrain Loss: 70.82270555770685\tTime: 0:00:05.636729\n",
      "Epoch: [16/100]\tSamples: [910624/5691400]\tTrain Loss: 70.88084910130992\tTime: 0:00:05.658019\n",
      "Epoch: [17/100]\tSamples: [967538/5691400]\tTrain Loss: 70.83412714711972\tTime: 0:00:05.585868\n",
      "Epoch: [18/100]\tSamples: [1024452/5691400]\tTrain Loss: 70.84633092896671\tTime: 0:00:05.601848\n",
      "Epoch: [19/100]\tSamples: [1081366/5691400]\tTrain Loss: 70.83478530136856\tTime: 0:00:05.608317\n",
      "Epoch: [20/100]\tSamples: [1138280/5691400]\tTrain Loss: 70.78229786062222\tTime: 0:00:05.636777\n",
      "Epoch: [21/100]\tSamples: [1195194/5691400]\tTrain Loss: 70.78377265204958\tTime: 0:00:05.698947\n",
      "Epoch: [22/100]\tSamples: [1252108/5691400]\tTrain Loss: 70.78643273347109\tTime: 0:00:05.747067\n",
      "Epoch: [23/100]\tSamples: [1309022/5691400]\tTrain Loss: 70.73657564371725\tTime: 0:00:05.748168\n",
      "Epoch: [24/100]\tSamples: [1365936/5691400]\tTrain Loss: 70.73018213335031\tTime: 0:00:05.684044\n",
      "Epoch: [25/100]\tSamples: [1422850/5691400]\tTrain Loss: 70.70630748247561\tTime: 0:00:05.585870\n",
      "Epoch: [26/100]\tSamples: [1479764/5691400]\tTrain Loss: 70.73012736750431\tTime: 0:00:05.578796\n",
      "Epoch: [27/100]\tSamples: [1536678/5691400]\tTrain Loss: 70.67595230801214\tTime: 0:00:05.547899\n",
      "Epoch: [28/100]\tSamples: [1593592/5691400]\tTrain Loss: 70.73504729183298\tTime: 0:00:05.588651\n",
      "Epoch: [29/100]\tSamples: [1650506/5691400]\tTrain Loss: 70.71531826364738\tTime: 0:00:05.650536\n",
      "Epoch: [30/100]\tSamples: [1707420/5691400]\tTrain Loss: 70.68057338163514\tTime: 0:00:05.645483\n",
      "Epoch: [31/100]\tSamples: [1764334/5691400]\tTrain Loss: 70.70212644236604\tTime: 0:00:05.563669\n",
      "Epoch: [32/100]\tSamples: [1821248/5691400]\tTrain Loss: 70.69749789404368\tTime: 0:00:05.596356\n",
      "Epoch: [33/100]\tSamples: [1878162/5691400]\tTrain Loss: 70.67571312192244\tTime: 0:00:05.586200\n",
      "Epoch: [34/100]\tSamples: [1935076/5691400]\tTrain Loss: 70.68163118778992\tTime: 0:00:05.659126\n",
      "Epoch: [35/100]\tSamples: [1991990/5691400]\tTrain Loss: 70.65575719103398\tTime: 0:00:05.594377\n",
      "Epoch: [36/100]\tSamples: [2048904/5691400]\tTrain Loss: 70.64745197429524\tTime: 0:00:05.623967\n",
      "Epoch: [37/100]\tSamples: [2105818/5691400]\tTrain Loss: 70.62915710820273\tTime: 0:00:05.689707\n",
      "Epoch: [38/100]\tSamples: [2162732/5691400]\tTrain Loss: 70.61396834323908\tTime: 0:00:05.728212\n",
      "Epoch: [39/100]\tSamples: [2219646/5691400]\tTrain Loss: 70.63983854151796\tTime: 0:00:05.745559\n",
      "Epoch: [40/100]\tSamples: [2276560/5691400]\tTrain Loss: 70.62421075754098\tTime: 0:00:05.614478\n",
      "Epoch: [41/100]\tSamples: [2333474/5691400]\tTrain Loss: 70.60756490878782\tTime: 0:00:05.870345\n",
      "Epoch: [42/100]\tSamples: [2390388/5691400]\tTrain Loss: 70.64535606645141\tTime: 0:00:05.604470\n",
      "Epoch: [43/100]\tSamples: [2447302/5691400]\tTrain Loss: 70.59913324630281\tTime: 0:00:05.665713\n",
      "Epoch: [44/100]\tSamples: [2504216/5691400]\tTrain Loss: 70.62253938473783\tTime: 0:00:05.808663\n",
      "Epoch: [45/100]\tSamples: [2561130/5691400]\tTrain Loss: 70.57626030165854\tTime: 0:00:05.652099\n",
      "Epoch: [46/100]\tSamples: [2618044/5691400]\tTrain Loss: 70.60430554522229\tTime: 0:00:05.687191\n",
      "Epoch: [47/100]\tSamples: [2674958/5691400]\tTrain Loss: 70.58634094931058\tTime: 0:00:05.645403\n",
      "Epoch: [48/100]\tSamples: [2731872/5691400]\tTrain Loss: 70.57823235684404\tTime: 0:00:05.664754\n",
      "Epoch: [49/100]\tSamples: [2788786/5691400]\tTrain Loss: 70.54017142795078\tTime: 0:00:05.749683\n",
      "Epoch: [50/100]\tSamples: [2845700/5691400]\tTrain Loss: 70.58395230564426\tTime: 0:00:05.873029\n",
      "Epoch: [51/100]\tSamples: [2902614/5691400]\tTrain Loss: 70.56647158981094\tTime: 0:00:05.883318\n",
      "Epoch: [52/100]\tSamples: [2959528/5691400]\tTrain Loss: 70.56059136286629\tTime: 0:00:05.809202\n",
      "Epoch: [53/100]\tSamples: [3016442/5691400]\tTrain Loss: 70.58827019387941\tTime: 0:00:05.865432\n",
      "Epoch: [54/100]\tSamples: [3073356/5691400]\tTrain Loss: 70.54733431330467\tTime: 0:00:05.888383\n",
      "Epoch: [55/100]\tSamples: [3130270/5691400]\tTrain Loss: 70.57182469709645\tTime: 0:00:05.734606\n",
      "Epoch: [56/100]\tSamples: [3187184/5691400]\tTrain Loss: 70.55459349680824\tTime: 0:00:05.772636\n",
      "Epoch: [57/100]\tSamples: [3244098/5691400]\tTrain Loss: 70.54451412317954\tTime: 0:00:05.709318\n",
      "Epoch: [58/100]\tSamples: [3301012/5691400]\tTrain Loss: 70.53278074550391\tTime: 0:00:05.660107\n",
      "Epoch: [59/100]\tSamples: [3357926/5691400]\tTrain Loss: 70.5941713006514\tTime: 0:00:05.615291\n",
      "Epoch: [60/100]\tSamples: [3414840/5691400]\tTrain Loss: 70.54160875365409\tTime: 0:00:05.659247\n",
      "Epoch: [61/100]\tSamples: [3471754/5691400]\tTrain Loss: 70.52215153856723\tTime: 0:00:05.650661\n",
      "Epoch: [62/100]\tSamples: [3528668/5691400]\tTrain Loss: 70.54778628917849\tTime: 0:00:05.659517\n",
      "Epoch: [63/100]\tSamples: [3585582/5691400]\tTrain Loss: 70.54308713980056\tTime: 0:00:05.618752\n",
      "Epoch: [64/100]\tSamples: [3642496/5691400]\tTrain Loss: 70.53917314485383\tTime: 0:00:05.660295\n",
      "Epoch: [65/100]\tSamples: [3699410/5691400]\tTrain Loss: 70.58892003158685\tTime: 0:00:05.973660\n",
      "Epoch: [66/100]\tSamples: [3756324/5691400]\tTrain Loss: 70.5102342961564\tTime: 0:00:06.571383\n",
      "Epoch: [67/100]\tSamples: [3813238/5691400]\tTrain Loss: 70.54345874710638\tTime: 0:00:05.824044\n",
      "Epoch: [68/100]\tSamples: [3870152/5691400]\tTrain Loss: 70.52520032151374\tTime: 0:00:05.777432\n",
      "Epoch: [69/100]\tSamples: [3927066/5691400]\tTrain Loss: 70.55395035951996\tTime: 0:00:05.659849\n",
      "Epoch: [70/100]\tSamples: [3983980/5691400]\tTrain Loss: 70.55281849485903\tTime: 0:00:05.944860\n",
      "Epoch: [71/100]\tSamples: [4040894/5691400]\tTrain Loss: 70.50738234552969\tTime: 0:00:05.588819\n",
      "Epoch: [72/100]\tSamples: [4097808/5691400]\tTrain Loss: 70.52029311168084\tTime: 0:00:05.749897\n",
      "Epoch: [73/100]\tSamples: [4154722/5691400]\tTrain Loss: 70.50173639303584\tTime: 0:00:05.643836\n",
      "Epoch: [74/100]\tSamples: [4211636/5691400]\tTrain Loss: 70.5089387559554\tTime: 0:00:05.604165\n",
      "Epoch: [75/100]\tSamples: [4268550/5691400]\tTrain Loss: 70.50809320552446\tTime: 0:00:05.583989\n",
      "Epoch: [76/100]\tSamples: [4325464/5691400]\tTrain Loss: 70.54246088224943\tTime: 0:00:05.632938\n",
      "Epoch: [77/100]\tSamples: [4382378/5691400]\tTrain Loss: 70.49087589723845\tTime: 0:00:05.621292\n",
      "Epoch: [78/100]\tSamples: [4439292/5691400]\tTrain Loss: 70.49862760659174\tTime: 0:00:05.644062\n",
      "Epoch: [79/100]\tSamples: [4496206/5691400]\tTrain Loss: 70.48213677259358\tTime: 0:00:05.606811\n",
      "Epoch: [80/100]\tSamples: [4553120/5691400]\tTrain Loss: 70.5280132771594\tTime: 0:00:05.597393\n",
      "Epoch: [81/100]\tSamples: [4610034/5691400]\tTrain Loss: 70.48748711520548\tTime: 0:00:05.656482\n",
      "Epoch: [82/100]\tSamples: [4666948/5691400]\tTrain Loss: 70.46952415150216\tTime: 0:00:05.618201\n",
      "Epoch: [83/100]\tSamples: [4723862/5691400]\tTrain Loss: 70.52930892031179\tTime: 0:00:05.606531\n",
      "Epoch: [84/100]\tSamples: [4780776/5691400]\tTrain Loss: 70.5037182264579\tTime: 0:00:05.591461\n",
      "Epoch: [85/100]\tSamples: [4837690/5691400]\tTrain Loss: 70.46522986916115\tTime: 0:00:05.618040\n",
      "Epoch: [86/100]\tSamples: [4894604/5691400]\tTrain Loss: 70.46444269430907\tTime: 0:00:05.638634\n",
      "Epoch: [87/100]\tSamples: [4951518/5691400]\tTrain Loss: 70.48191142274075\tTime: 0:00:05.591567\n",
      "Epoch: [88/100]\tSamples: [5008432/5691400]\tTrain Loss: 70.47400890677025\tTime: 0:00:05.640106\n",
      "Epoch: [89/100]\tSamples: [5065346/5691400]\tTrain Loss: 70.4847402886647\tTime: 0:00:05.594453\n",
      "Epoch: [90/100]\tSamples: [5122260/5691400]\tTrain Loss: 70.46751950791435\tTime: 0:00:05.619413\n",
      "Epoch: [91/100]\tSamples: [5179174/5691400]\tTrain Loss: 70.46828971723647\tTime: 0:00:05.599345\n",
      "Epoch: [92/100]\tSamples: [5236088/5691400]\tTrain Loss: 70.44693283679996\tTime: 0:00:05.614716\n",
      "Epoch: [93/100]\tSamples: [5293002/5691400]\tTrain Loss: 70.46665649649992\tTime: 0:00:05.624740\n",
      "Epoch: [94/100]\tSamples: [5349916/5691400]\tTrain Loss: 70.51685497947355\tTime: 0:00:05.626131\n",
      "Epoch: [95/100]\tSamples: [5406830/5691400]\tTrain Loss: 70.45793029010876\tTime: 0:00:05.595192\n",
      "Epoch: [96/100]\tSamples: [5463744/5691400]\tTrain Loss: 70.51186105025921\tTime: 0:00:05.609531\n",
      "Epoch: [97/100]\tSamples: [5520658/5691400]\tTrain Loss: 70.44407674666972\tTime: 0:00:05.596910\n",
      "Epoch: [98/100]\tSamples: [5577572/5691400]\tTrain Loss: 70.46549564244546\tTime: 0:00:05.635128\n",
      "Epoch: [99/100]\tSamples: [5634486/5691400]\tTrain Loss: 70.49876704137081\tTime: 0:00:05.616171\n",
      "Epoch: [100/100]\tSamples: [5691400/5691400]\tTrain Loss: 70.46497906886857\tTime: 0:00:05.613437\n"
     ]
    }
   ],
   "source": [
    "training_dataset = CTMDataset(handler.bow, training_bert, handler.idx2token)\n",
    "ctm = CTM(input_size=len(handler.vocab), bert_input_size=768, lr=0.01, inference_type=\"contextual\", n_components=20)\n",
    "\n",
    "ctm.fit(training_dataset)"
   ]
  },
  {
   "cell_type": "code",
   "execution_count": null,
   "metadata": {},
   "outputs": [],
   "source": [
    "\n",
    "\n",
    "training_dataset = CTMDataset(handler.bow, training_bert, handler.idx2token)\n",
    "\n",
    "ctm = CTM(input_size=len(handler.vocab), bert_input_size=768, inference_type=\"combined\", n_components=20)\n",
    "\n",
    "ctm.fit(training_dataset) # run the model"
   ]
  },
  {
   "cell_type": "code",
   "execution_count": 26,
   "metadata": {},
   "outputs": [
    {
     "data": {
      "text/plain": [
       "[['pleasant', 'accommodating', 'friendly', 'attentive', 'professional'],\n",
       " ['casa', 'marina', 'sister', 'better', 'nicer'],\n",
       " ['key', 'west', 'best', 'visit', 'place'],\n",
       " ['waldorf', 'astoria', 'hilton', 'name', 'expect'],\n",
       " ['towel', 'ice', 'set', 'fresh', 'afternoon'],\n",
       " ['incredible', 'fabulous', 'ideal', 'atmosphere', 'absolutely'],\n",
       " ['street', 'close', 'walking', 'quiet', 'easy'],\n",
       " ['negative', 'read', 'reading', 'management', 'concern'],\n",
       " ['highly', 'somewhere', 'anyone', 'definitely', 'elsewhere'],\n",
       " ['fee', 'charge', 'per', 'parking', 'park'],\n",
       " ['weekend', 'week', 'wife', 'wedding', 'husband'],\n",
       " ['hotel', 'nice', 'good', 'service', 'great'],\n",
       " ['food', 'buffet', 'breakfast', 'strip', 'house'],\n",
       " ['comfortable', 'modern', 'nicely', 'tv', 'machine'],\n",
       " ['called', 'said', 'call', 'ready', 'told'],\n",
       " ['make', 'sure', 'tour', 'care', 'made'],\n",
       " ['dirty', 'elevator', 'loud', 'air', 'wall'],\n",
       " ['become', 'waste', 'whilst', 'according', 'familiar'],\n",
       " ['sand', 'pier', 'private', 'swimming', 'sandy'],\n",
       " ['view', 'ocean', 'suite', 'upgraded', 'courtyard']]"
      ]
     },
     "execution_count": 26,
     "metadata": {},
     "output_type": "execute_result"
    }
   ],
   "source": [
    "ctm.get_topic_lists(5)\n"
   ]
  },
  {
   "cell_type": "code",
   "execution_count": 19,
   "metadata": {},
   "outputs": [
    {
     "data": {
      "text/plain": [
       "0.918"
      ]
     },
     "execution_count": 19,
     "metadata": {},
     "output_type": "execute_result"
    }
   ],
   "source": [
    "from contextualized_topic_models.evaluation.measures import TopicDiversity, CoherenceNPMI,\\\n",
    "    CoherenceWordEmbeddings, InvertedRBO\n",
    "\n",
    "\n",
    "td = TopicDiversity(ctm.get_topic_lists(25))\n",
    "td.score(topk=25)"
   ]
  },
  {
   "cell_type": "code",
   "execution_count": 27,
   "metadata": {},
   "outputs": [
    {
     "data": {
      "text/plain": [
       "0.9993871527758647"
      ]
     },
     "execution_count": 27,
     "metadata": {},
     "output_type": "execute_result"
    }
   ],
   "source": [
    "\n",
    "rbo = InvertedRBO(ctm.get_topic_lists(10))\n",
    "rbo.score()"
   ]
  },
  {
   "cell_type": "code",
   "execution_count": 28,
   "metadata": {},
   "outputs": [],
   "source": [
    "texts = [doc.split() for doc in handler.data]"
   ]
  },
  {
   "cell_type": "code",
   "execution_count": 29,
   "metadata": {},
   "outputs": [],
   "source": [
    "npmi = CoherenceNPMI(texts =texts, topics= ctm.get_topic_lists(10))"
   ]
  },
  {
   "cell_type": "code",
   "execution_count": 30,
   "metadata": {},
   "outputs": [
    {
     "data": {
      "text/plain": [
       "0.07307711813893471"
      ]
     },
     "execution_count": 30,
     "metadata": {},
     "output_type": "execute_result"
    }
   ],
   "source": [
    "npmi.score()"
   ]
  }
 ],
 "metadata": {
  "kernelspec": {
   "display_name": "cpd\n",
   "language": "python",
   "name": "cpd"
  },
  "language_info": {
   "codemirror_mode": {
    "name": "ipython",
    "version": 3
   },
   "file_extension": ".py",
   "mimetype": "text/x-python",
   "name": "python",
   "nbconvert_exporter": "python",
   "pygments_lexer": "ipython3",
   "version": "3.7.6"
  }
 },
 "nbformat": 4,
 "nbformat_minor": 4
}
